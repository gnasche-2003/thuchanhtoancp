{
  "nbformat": 4,
  "nbformat_minor": 0,
  "metadata": {
    "colab": {
      "name": "Chương 5.ipynb",
      "provenance": [],
      "authorship_tag": "ABX9TyOYl0XwkBjw8gDU7wY/sRTr",
      "include_colab_link": true
    },
    "kernelspec": {
      "name": "python3",
      "display_name": "Python 3"
    },
    "language_info": {
      "name": "python"
    }
  },
  "cells": [
    {
      "cell_type": "markdown",
      "metadata": {
        "id": "view-in-github",
        "colab_type": "text"
      },
      "source": [
        "<a href=\"https://colab.research.google.com/github/gnasche-2003/thuchanhtoancp/blob/main/Ch%C6%B0%C6%A1ng_5.ipynb\" target=\"_parent\"><img src=\"https://colab.research.google.com/assets/colab-badge.svg\" alt=\"Open In Colab\"/></a>"
      ]
    },
    {
      "cell_type": "markdown",
      "source": [
        "#Chương 5\n"
      ],
      "metadata": {
        "id": "CxRbQbd1TZoe"
      }
    },
    {
      "cell_type": "markdown",
      "source": [
        "#Thực hành 1: Lặp để tìm nghiệm"
      ],
      "metadata": {
        "id": "R13ChVBhV7EK"
      }
    },
    {
      "cell_type": "code",
      "source": [
        "x = 3\n",
        "print(x)"
      ],
      "metadata": {
        "colab": {
          "base_uri": "https://localhost:8080/",
          "height": 0
        },
        "id": "bhQZlLjvWF-4",
        "outputId": "063882a4-ed68-40fb-a7b3-faad058b3914"
      },
      "execution_count": 7,
      "outputs": [
        {
          "output_type": "stream",
          "name": "stdout",
          "text": [
            "3\n"
          ]
        }
      ]
    },
    {
      "cell_type": "code",
      "source": [
        "import math\n",
        "x = math.sqrt(1+x)\n",
        "print(x)"
      ],
      "metadata": {
        "colab": {
          "base_uri": "https://localhost:8080/",
          "height": 0
        },
        "id": "tx9Z-1CKWOXf",
        "outputId": "c03b72f1-6965-4312-e856-93c5de224c2b"
      },
      "execution_count": 8,
      "outputs": [
        {
          "output_type": "stream",
          "name": "stdout",
          "text": [
            "2.0\n"
          ]
        }
      ]
    },
    {
      "cell_type": "code",
      "source": [
        "import math\n",
        "x = math.sqrt(1+x)\n",
        "print(x)"
      ],
      "metadata": {
        "colab": {
          "base_uri": "https://localhost:8080/",
          "height": 0
        },
        "id": "eNGvoORdWdGW",
        "outputId": "63c5307c-43f7-4cec-c0ee-0d4a96b7ea7b"
      },
      "execution_count": 9,
      "outputs": [
        {
          "output_type": "stream",
          "name": "stdout",
          "text": [
            "1.7320508075688772\n"
          ]
        }
      ]
    },
    {
      "cell_type": "code",
      "source": [
        "import math\n",
        "x = math.sqrt(1+x)\n",
        "print(x)"
      ],
      "metadata": {
        "colab": {
          "base_uri": "https://localhost:8080/",
          "height": 0
        },
        "id": "9O21kpPSW0gj",
        "outputId": "acb487bd-25d4-4f62-a19d-b7f97bd8edc3"
      },
      "execution_count": 10,
      "outputs": [
        {
          "output_type": "stream",
          "name": "stdout",
          "text": [
            "1.6528916502810695\n"
          ]
        }
      ]
    },
    {
      "cell_type": "code",
      "source": [
        "import math\n",
        "x = math.sqrt(x)\n",
        "print(x)"
      ],
      "metadata": {
        "colab": {
          "base_uri": "https://localhost:8080/",
          "height": 0
        },
        "id": "l0cOznoIXbjq",
        "outputId": "2d76cb0f-3d83-4839-beed-1a52b5fbbf88"
      },
      "execution_count": 11,
      "outputs": [
        {
          "output_type": "stream",
          "name": "stdout",
          "text": [
            "1.2856483384973783\n"
          ]
        }
      ]
    },
    {
      "cell_type": "markdown",
      "source": [
        ""
      ],
      "metadata": {
        "id": "sIBja5iuX9B2"
      }
    },
    {
      "cell_type": "markdown",
      "source": [
        "#Thực hành 2: Lặp trình whlie để tìm nghiệm\n"
      ],
      "metadata": {
        "id": "z1Gcx4DZX9Dk"
      }
    },
    {
      "cell_type": "code",
      "source": [
        "import math\n",
        "x = 3\n",
        "lap = 1\n",
        "while (x != math.sqrt(x + 1)):\n",
        "  x = math.sqrt(x + 1)\n",
        "  lap += 1\n",
        "x"
      ],
      "metadata": {
        "colab": {
          "base_uri": "https://localhost:8080/",
          "height": 0
        },
        "id": "pwJSnzX6YGPE",
        "outputId": "1bf9f6de-d34a-4ff2-badf-0a04c7afce06"
      },
      "execution_count": 12,
      "outputs": [
        {
          "output_type": "execute_result",
          "data": {
            "text/plain": [
              "1.618033988749895"
            ]
          },
          "metadata": {},
          "execution_count": 12
        }
      ]
    },
    {
      "cell_type": "code",
      "source": [
        "lap "
      ],
      "metadata": {
        "colab": {
          "base_uri": "https://localhost:8080/",
          "height": 0
        },
        "id": "E12OcKngYX8U",
        "outputId": "a7f197ce-155c-4395-f8a5-0528b8623550"
      },
      "execution_count": 13,
      "outputs": [
        {
          "output_type": "execute_result",
          "data": {
            "text/plain": [
              "32"
            ]
          },
          "metadata": {},
          "execution_count": 13
        }
      ]
    },
    {
      "cell_type": "markdown",
      "source": [
        "#Thực hành 3: Giải phương trình bằng hàm solve trong sympy\n"
      ],
      "metadata": {
        "id": "xU24nR6XYbH0"
      }
    },
    {
      "cell_type": "code",
      "source": [
        "import sympy as sp\n",
        "from sympy import Symbol\n",
        "x = Symbol('x')\n",
        "sp.solve(x-sp.sqrt(1 + x), x)"
      ],
      "metadata": {
        "colab": {
          "base_uri": "https://localhost:8080/",
          "height": 0
        },
        "id": "0KewmdH7YmKC",
        "outputId": "5f269018-04b3-465a-8aa7-e7c6d022a7d0"
      },
      "execution_count": 14,
      "outputs": [
        {
          "output_type": "execute_result",
          "data": {
            "text/plain": [
              "[1/2 + sqrt(5)/2]"
            ]
          },
          "metadata": {},
          "execution_count": 14
        }
      ]
    },
    {
      "cell_type": "markdown",
      "source": [
        "#Thực hành 4:Các phép toán trên vector\n"
      ],
      "metadata": {
        "id": "fFBEYB7FZQbe"
      }
    },
    {
      "cell_type": "code",
      "source": [
        "import numpy as np\n",
        "v1 = np.array([1.,2.,3.]) # tao vector 3 chieu\n",
        "v2 = np.array([2.,1.,0.])\n",
        "v3 = v1 + v2 # cong vector\n",
        "v3"
      ],
      "metadata": {
        "colab": {
          "base_uri": "https://localhost:8080/",
          "height": 0
        },
        "id": "ym6TNhiBZMpe",
        "outputId": "cdecf9d1-cf01-4867-eb4d-47f249d953d4"
      },
      "execution_count": 15,
      "outputs": [
        {
          "output_type": "execute_result",
          "data": {
            "text/plain": [
              "array([3., 3., 3.])"
            ]
          },
          "metadata": {},
          "execution_count": 15
        }
      ]
    },
    {
      "cell_type": "markdown",
      "source": [
        "Thực hiện phép toán trên vector"
      ],
      "metadata": {
        "id": "SKW5ptCQamP7"
      }
    },
    {
      "cell_type": "code",
      "source": [
        "3*v1 + 2*v2"
      ],
      "metadata": {
        "colab": {
          "base_uri": "https://localhost:8080/",
          "height": 0
        },
        "id": "GM7wI3aOaD6_",
        "outputId": "5d6d0947-a1da-4134-98f1-f7fadb10668d"
      },
      "execution_count": 16,
      "outputs": [
        {
          "output_type": "execute_result",
          "data": {
            "text/plain": [
              "array([7., 8., 9.])"
            ]
          },
          "metadata": {},
          "execution_count": 16
        }
      ]
    },
    {
      "cell_type": "markdown",
      "source": [
        "So sánh numpy.array với list trong python"
      ],
      "metadata": {
        "id": "7XSBJk1daxrg"
      }
    },
    {
      "cell_type": "code",
      "source": [
        "[1,2,3] + [2,1,0]"
      ],
      "metadata": {
        "colab": {
          "base_uri": "https://localhost:8080/",
          "height": 0
        },
        "id": "Nocu0NwxaHsK",
        "outputId": "aa08cb61-fa58-4cd2-be16-f65b00694cd2"
      },
      "execution_count": 17,
      "outputs": [
        {
          "output_type": "execute_result",
          "data": {
            "text/plain": [
              "[1, 2, 3, 2, 1, 0]"
            ]
          },
          "metadata": {},
          "execution_count": 17
        }
      ]
    },
    {
      "cell_type": "code",
      "source": [
        "3*[1,2,3] + 2*[2,1,0]"
      ],
      "metadata": {
        "colab": {
          "base_uri": "https://localhost:8080/",
          "height": 0
        },
        "id": "QetcYZE_aP8P",
        "outputId": "da0363a9-18c1-42b6-ab02-d8db438803a1"
      },
      "execution_count": 18,
      "outputs": [
        {
          "output_type": "execute_result",
          "data": {
            "text/plain": [
              "[1, 2, 3, 1, 2, 3, 1, 2, 3, 2, 1, 0, 2, 1, 0]"
            ]
          },
          "metadata": {},
          "execution_count": 18
        }
      ]
    },
    {
      "cell_type": "markdown",
      "source": [
        "Ghép nối(Concatenating) 2 hoặc nhiều vector"
      ],
      "metadata": {
        "id": "Kj1TNBRdbBtG"
      }
    },
    {
      "cell_type": "code",
      "source": [
        "v4 = np.hstack([v1, v2])\n",
        "v4"
      ],
      "metadata": {
        "colab": {
          "base_uri": "https://localhost:8080/",
          "height": 0
        },
        "id": "ZICLJrScaUIf",
        "outputId": "ffdc1127-1c7f-4266-c0fd-c61c95ae15cc"
      },
      "execution_count": 19,
      "outputs": [
        {
          "output_type": "execute_result",
          "data": {
            "text/plain": [
              "array([1., 2., 3., 2., 1., 0.])"
            ]
          },
          "metadata": {},
          "execution_count": 19
        }
      ]
    },
    {
      "cell_type": "markdown",
      "source": [
        "Phép nhân vô hướng 2 vector:\n"
      ],
      "metadata": {
        "id": "SSarWfg3bbaQ"
      }
    },
    {
      "cell_type": "code",
      "source": [
        "np.dot(v1,v2)"
      ],
      "metadata": {
        "colab": {
          "base_uri": "https://localhost:8080/",
          "height": 0
        },
        "id": "Fl4EnI3WbqFK",
        "outputId": "69f5c0e6-754c-4fc8-b84d-004f68d1d5be"
      },
      "execution_count": 20,
      "outputs": [
        {
          "output_type": "execute_result",
          "data": {
            "text/plain": [
              "4.0"
            ]
          },
          "metadata": {},
          "execution_count": 20
        }
      ]
    },
    {
      "cell_type": "markdown",
      "source": [
        "Tính toán giá trị sin của vector"
      ],
      "metadata": {
        "id": "TSUBtu9lbyvC"
      }
    },
    {
      "cell_type": "code",
      "source": [
        "angles = np.linspace(0, np.pi/2, 5)\n",
        "angles"
      ],
      "metadata": {
        "colab": {
          "base_uri": "https://localhost:8080/",
          "height": 0
        },
        "id": "f-uqB7Rdb2Yq",
        "outputId": "8a7991ff-c13b-47bf-f1f5-3710243438cb"
      },
      "execution_count": 21,
      "outputs": [
        {
          "output_type": "execute_result",
          "data": {
            "text/plain": [
              "array([0.        , 0.39269908, 0.78539816, 1.17809725, 1.57079633])"
            ]
          },
          "metadata": {},
          "execution_count": 21
        }
      ]
    },
    {
      "cell_type": "code",
      "source": [
        "np.sin(angles)"
      ],
      "metadata": {
        "colab": {
          "base_uri": "https://localhost:8080/",
          "height": 0
        },
        "id": "TDnhD0I8cHBb",
        "outputId": "6782d136-7a39-486d-cbb4-c2c24cf140f1"
      },
      "execution_count": 22,
      "outputs": [
        {
          "output_type": "execute_result",
          "data": {
            "text/plain": [
              "array([0.        , 0.38268343, 0.70710678, 0.92387953, 1.        ])"
            ]
          },
          "metadata": {},
          "execution_count": 22
        }
      ]
    },
    {
      "cell_type": "markdown",
      "source": [
        "Hàm xử lý sin trong gói sympy sẽ không hỗ trợ tính toán toàn bộ vector chứa dữ liêu"
      ],
      "metadata": {
        "id": "ibwEOzqvcjGd"
      }
    },
    {
      "cell_type": "code",
      "source": [
        "import sympy as sy\n",
        "sy.sin(angles[0])"
      ],
      "metadata": {
        "colab": {
          "base_uri": "https://localhost:8080/",
          "height": 38
        },
        "id": "7TfIPcmXcfOd",
        "outputId": "f6f3a920-c944-490f-9624-e5a8e7532da5"
      },
      "execution_count": 23,
      "outputs": [
        {
          "output_type": "execute_result",
          "data": {
            "text/latex": "$\\displaystyle 0$",
            "text/plain": [
              "0"
            ]
          },
          "metadata": {},
          "execution_count": 23
        }
      ]
    },
    {
      "cell_type": "markdown",
      "source": [
        "TypeError: unhashable type:\"numpy.ndarray\""
      ],
      "metadata": {
        "id": "2hKMAdHYdUTy"
      }
    },
    {
      "cell_type": "markdown",
      "source": [
        "Chương trình lặp vector mới được xây dựng sẵn tạm thời:\n"
      ],
      "metadata": {
        "id": "yCkp2f1cdqSO"
      }
    },
    {
      "cell_type": "code",
      "source": [
        "from sympy import sin as sysin\n",
        "angles = np.linspace(0, np.pi/2, 5)\n",
        "sinangle = np.zeros(5)   #tuong duong sinangle = np.array([0.0, 0.0, 0.0, 0.0, 0.0])\n",
        "len(angles) #kiem tra kich thuoc/ so chieu cua vector angles.\n",
        "for i in range(len(angles)):\n",
        "  sinangle[i] = sysin(angles[i])    #luu y: o day phai enter 2 lan de thoat khoi vong lap for\n",
        "sinangle"
      ],
      "metadata": {
        "colab": {
          "base_uri": "https://localhost:8080/",
          "height": 0
        },
        "id": "zTwzUMT3dpjl",
        "outputId": "196b76f2-99f0-4779-f842-d578ad18de8a"
      },
      "execution_count": 24,
      "outputs": [
        {
          "output_type": "execute_result",
          "data": {
            "text/plain": [
              "array([0.        , 0.38268343, 0.70710678, 0.92387953, 1.        ])"
            ]
          },
          "metadata": {},
          "execution_count": 24
        }
      ]
    },
    {
      "cell_type": "markdown",
      "source": [
        "#Thực hành 5: Tính tổng các tích giữa ma trận và vector. Gỉa định gói thư viện numpy được đưa vào hê thống có tên là np. Dạng:"
      ],
      "metadata": {
        "id": "dzjQSVEygDNX"
      }
    },
    {
      "cell_type": "code",
      "source": [
        "import numpy as np\n",
        "goc = np.pi/3\n",
        "A = np.array([ [np.cos(goc), -np.sin(goc)], [np.sin(goc), np.cos(goc)] ])\n",
        "V = np.array([1., 0.])\n",
        "Y = np.dot(A, V)\n",
        "Y"
      ],
      "metadata": {
        "colab": {
          "base_uri": "https://localhost:8080/",
          "height": 0
        },
        "id": "bMxJKmYhgkCV",
        "outputId": "cfd5f07c-494d-4054-ba22-f2f8fc7ce18e"
      },
      "execution_count": 25,
      "outputs": [
        {
          "output_type": "execute_result",
          "data": {
            "text/plain": [
              "array([0.5      , 0.8660254])"
            ]
          },
          "metadata": {},
          "execution_count": 25
        }
      ]
    },
    {
      "cell_type": "markdown",
      "source": [
        "#Thực hành 6: Tính toán đạo hàm trên 1 vector dữ liệu\n"
      ],
      "metadata": {
        "id": "q752-nvCju0z"
      }
    },
    {
      "cell_type": "markdown",
      "source": [
        "+Trường hợp dx cố định:\n"
      ],
      "metadata": {
        "id": "zuCufwBvj6JG"
      }
    },
    {
      "cell_type": "code",
      "source": [
        "from numpy import diff\n",
        "dx = 0.1\n",
        "y = [1, 2, 3, 4, 4, 5, 6]\n",
        "dy = diff(y)/dx\n",
        "dy"
      ],
      "metadata": {
        "colab": {
          "base_uri": "https://localhost:8080/",
          "height": 0
        },
        "id": "-4u_AtKAhpx0",
        "outputId": "b1bf4f4b-f13f-48ab-ddff-5373eaa0ddc1"
      },
      "execution_count": 26,
      "outputs": [
        {
          "output_type": "execute_result",
          "data": {
            "text/plain": [
              "array([10., 10., 10.,  0., 10., 10.])"
            ]
          },
          "metadata": {},
          "execution_count": 26
        }
      ]
    },
    {
      "cell_type": "code",
      "source": [
        "z = np.array([1,2,3,4,4,5,6])\n",
        "dz = diff(z)/dx\n",
        "dz"
      ],
      "metadata": {
        "colab": {
          "base_uri": "https://localhost:8080/",
          "height": 0
        },
        "id": "9Oi3sEjDkSRP",
        "outputId": "de7b8259-87a2-402a-b218-113bf7dd5e55"
      },
      "execution_count": 27,
      "outputs": [
        {
          "output_type": "execute_result",
          "data": {
            "text/plain": [
              "array([10., 10., 10.,  0., 10., 10.])"
            ]
          },
          "metadata": {},
          "execution_count": 27
        }
      ]
    },
    {
      "cell_type": "markdown",
      "source": [
        "+ Trong trường hợp dx là một dãy số:\n"
      ],
      "metadata": {
        "id": "81MttGTm5KC-"
      }
    },
    {
      "cell_type": "code",
      "source": [
        "from numpy import diff\n",
        "x = [.1, .2, .5, .6, .7, .8, .9]\n",
        "y = [1,2,3,4,4,5,6]\n",
        "dydx = diff(y)/diff(x)\n",
        "print(dydx)"
      ],
      "metadata": {
        "id": "Ea9ixZDI5YOc",
        "outputId": "21417aea-7528-4292-e82d-da1d185b04f8",
        "colab": {
          "base_uri": "https://localhost:8080/",
          "height": 0
        }
      },
      "execution_count": 28,
      "outputs": [
        {
          "output_type": "stream",
          "name": "stdout",
          "text": [
            "[10.          3.33333333 10.          0.         10.         10.        ]\n"
          ]
        }
      ]
    },
    {
      "cell_type": "markdown",
      "source": [
        "#Thực hành 7: Một số hàm xử lý phẳng(Không gian Euclide)"
      ],
      "metadata": {
        "id": "1uYGQow26Fc1"
      }
    },
    {
      "cell_type": "code",
      "source": [
        "from sympy.geometry import *"
      ],
      "metadata": {
        "id": "7ZAPUvs_6Z00"
      },
      "execution_count": 29,
      "outputs": []
    },
    {
      "cell_type": "code",
      "source": [
        "#Tạo các điểm P1, P2, P3 và P4\n",
        "P1 = Point(0,0)\n",
        "P2 = Point(3,4)\n",
        "P3 = Point(2,-1)\n",
        "P4 = Point(-1,-5)"
      ],
      "metadata": {
        "id": "L3Amby5f6jTG"
      },
      "execution_count": 30,
      "outputs": []
    },
    {
      "cell_type": "code",
      "source": [
        "# Tạo 2 đoạn đường S1 và S2:\n",
        "S1 = Segment(P1,P2)\n",
        "S2 = Segment(P3,P4)"
      ],
      "metadata": {
        "id": "czhJC6hd6_G_"
      },
      "execution_count": 31,
      "outputs": []
    },
    {
      "cell_type": "code",
      "source": [
        "# Kiểm 3 điểm thẳng hàng:\n",
        "Point.is_collinear(P1,P2,P3)"
      ],
      "metadata": {
        "id": "FxZxnGKp7Orj",
        "outputId": "d46b1df1-6fc6-4d19-e034-a50ff2031a1b",
        "colab": {
          "base_uri": "https://localhost:8080/",
          "height": 0
        }
      },
      "execution_count": 32,
      "outputs": [
        {
          "output_type": "execute_result",
          "data": {
            "text/plain": [
              "False"
            ]
          },
          "metadata": {},
          "execution_count": 32
        }
      ]
    },
    {
      "cell_type": "code",
      "source": [
        "# Độ dài của đoạn đường S1\n",
        "S1.length"
      ],
      "metadata": {
        "id": "1RS5tQ_L7TrX",
        "outputId": "96a5e3b6-3a30-4b33-da2c-9a9cebf83526",
        "colab": {
          "base_uri": "https://localhost:8080/",
          "height": 38
        }
      },
      "execution_count": 33,
      "outputs": [
        {
          "output_type": "execute_result",
          "data": {
            "text/latex": "$\\displaystyle 5$",
            "text/plain": [
              "5"
            ]
          },
          "metadata": {},
          "execution_count": 33
        }
      ]
    },
    {
      "cell_type": "code",
      "source": [
        "# Lấy trung bình của đoạn 2:\n",
        "S2.midpoint"
      ],
      "metadata": {
        "id": "XwtDtXy17mOd",
        "outputId": "7afa674a-276d-43d8-fac9-426cec0ac195",
        "colab": {
          "base_uri": "https://localhost:8080/",
          "height": 58
        }
      },
      "execution_count": 34,
      "outputs": [
        {
          "output_type": "execute_result",
          "data": {
            "text/latex": "$\\displaystyle Point2D\\left(\\frac{1}{2}, -3\\right)$",
            "text/plain": [
              "Point2D(1/2, -3)"
            ]
          },
          "metadata": {},
          "execution_count": 34
        }
      ]
    },
    {
      "cell_type": "code",
      "source": [
        "# Tính độ dốc của đường S1\n",
        "S1.slope"
      ],
      "metadata": {
        "id": "8-PGQ6nx7yVP",
        "outputId": "0b62a009-b3b9-4b3e-ff91-19258a471702",
        "colab": {
          "base_uri": "https://localhost:8080/",
          "height": 51
        }
      },
      "execution_count": 35,
      "outputs": [
        {
          "output_type": "execute_result",
          "data": {
            "text/latex": "$\\displaystyle \\frac{4}{3}$",
            "text/plain": [
              "4/3"
            ]
          },
          "metadata": {},
          "execution_count": 35
        }
      ]
    },
    {
      "cell_type": "code",
      "source": [
        "# Tìm vị trí giao nhau giữa hai đoạn đường\n",
        "S1.intersection(S2)"
      ],
      "metadata": {
        "id": "mm3n2VBY7-8C",
        "outputId": "bca6d0cb-5aa9-4790-b5aa-5f0835d54ec0",
        "colab": {
          "base_uri": "https://localhost:8080/",
          "height": 0
        }
      },
      "execution_count": 36,
      "outputs": [
        {
          "output_type": "execute_result",
          "data": {
            "text/plain": [
              "[]"
            ]
          },
          "metadata": {},
          "execution_count": 36
        }
      ]
    },
    {
      "cell_type": "code",
      "source": [
        "# Góc giữa hai đoạn đường\n",
        "Segment.angle_between(S1,S2)"
      ],
      "metadata": {
        "id": "Lv5VWmVR8KVn",
        "outputId": "e5b95670-8d19-4855-efe2-5bcca6e2c1b6",
        "colab": {
          "base_uri": "https://localhost:8080/",
          "height": 39
        }
      },
      "execution_count": 37,
      "outputs": [
        {
          "output_type": "execute_result",
          "data": {
            "text/latex": "$\\displaystyle \\pi$",
            "text/plain": [
              "pi"
            ]
          },
          "metadata": {},
          "execution_count": 37
        }
      ]
    },
    {
      "cell_type": "code",
      "source": [
        "# Kiểm đoạn đường S1 có chứa điểm P3 hay không?\n",
        "S1.contains(P3)"
      ],
      "metadata": {
        "id": "Q6qKI70-8efH",
        "outputId": "8c980a9b-92c4-4597-bec5-5179e101074f",
        "colab": {
          "base_uri": "https://localhost:8080/",
          "height": 0
        }
      },
      "execution_count": 38,
      "outputs": [
        {
          "output_type": "execute_result",
          "data": {
            "text/plain": [
              "False"
            ]
          },
          "metadata": {},
          "execution_count": 38
        }
      ]
    },
    {
      "cell_type": "code",
      "source": [
        "# Lập và xem chương trình đường thẳng L1 đi qua 2 điểm P1 và P2:\n",
        "L1 = Line(P1,P2)\n",
        "L1.equation()"
      ],
      "metadata": {
        "id": "kVCje8sh8rLX",
        "outputId": "c28c57fb-c36d-4b14-a8ff-6f91cc8fd42a",
        "colab": {
          "base_uri": "https://localhost:8080/",
          "height": 39
        }
      },
      "execution_count": 39,
      "outputs": [
        {
          "output_type": "execute_result",
          "data": {
            "text/latex": "$\\displaystyle - 4 x + 3 y$",
            "text/plain": [
              "-4*x + 3*y"
            ]
          },
          "metadata": {},
          "execution_count": 39
        }
      ]
    },
    {
      "cell_type": "code",
      "source": [
        "# Kiểm tính song song:\n",
        "L1.is_parallel(S1)"
      ],
      "metadata": {
        "id": "GrnXZTC-86-U",
        "outputId": "68d43394-0c65-4356-bb32-1fddec5996e3",
        "colab": {
          "base_uri": "https://localhost:8080/",
          "height": 0
        }
      },
      "execution_count": 40,
      "outputs": [
        {
          "output_type": "execute_result",
          "data": {
            "text/plain": [
              "True"
            ]
          },
          "metadata": {},
          "execution_count": 40
        }
      ]
    },
    {
      "cell_type": "code",
      "source": [
        "L1.is_parallel(S2)"
      ],
      "metadata": {
        "id": "h0ZXW-2c9cCW",
        "outputId": "b52fd13b-e5e9-4368-f967-4704d30ebd96",
        "colab": {
          "base_uri": "https://localhost:8080/",
          "height": 0
        }
      },
      "execution_count": 41,
      "outputs": [
        {
          "output_type": "execute_result",
          "data": {
            "text/plain": [
              "True"
            ]
          },
          "metadata": {},
          "execution_count": 41
        }
      ]
    },
    {
      "cell_type": "markdown",
      "source": [
        "# Thực hành 8: Bằng phương pháp đồ thị, hãy cho biết giới hạn của hàm số sau\n"
      ],
      "metadata": {
        "id": "C1K64QG59ouH"
      }
    },
    {
      "cell_type": "code",
      "source": [
        "import sympy\n",
        "from sympy import *"
      ],
      "metadata": {
        "id": "fe_8qW6S-Wss"
      },
      "execution_count": 42,
      "outputs": []
    },
    {
      "cell_type": "code",
      "source": [
        "x = Symbol('x')\n",
        "f = x*sin(1/x)\n",
        "c = Symbol('c')\n",
        "delta = Symbol('delta')\n",
        "c = 0\n",
        "delta = 1/4\n",
        "sympy.plot(f,(x, c - delta, c + delta))\n"
      ],
      "metadata": {
        "id": "uD4TenDy-vtv",
        "outputId": "6974c2b8-5655-4705-d6a0-cf2e9caecad6",
        "colab": {
          "base_uri": "https://localhost:8080/",
          "height": 314
        }
      },
      "execution_count": 43,
      "outputs": [
        {
          "output_type": "display_data",
          "data": {
            "image/png": "[encoded data removed]",
            "text/plain": [
              "<Figure size 432x288 with 1 Axes>"
            ]
          },
          "metadata": {
            "needs_background": "light"
          }
        },
        {
          "output_type": "execute_result",
          "data": {
            "text/plain": [
              "<sympy.plotting.plot.Plot at 0x7f33cda1ead0>"
            ]
          },
          "metadata": {},
          "execution_count": 43
        }
      ]
    },
    {
      "cell_type": "code",
      "source": [
        "sympy.plot(f,abs(x), -abs(x), (x, c - delta, c + delta))"
      ],
      "metadata": {
        "id": "WP45c7OTHLVw",
        "outputId": "1a1a9bf9-371e-45aa-d6d2-ea422c5e338c",
        "colab": {
          "base_uri": "https://localhost:8080/",
          "height": 314
        }
      },
      "execution_count": 44,
      "outputs": [
        {
          "output_type": "display_data",
          "data": {
            "image/png": "[encoded data removed]",
            "text/plain": [
              "<Figure size 432x288 with 1 Axes>"
            ]
          },
          "metadata": {
            "needs_background": "light"
          }
        },
        {
          "output_type": "execute_result",
          "data": {
            "text/plain": [
              "<sympy.plotting.plot.Plot at 0x7f33cd9bb310>"
            ]
          },
          "metadata": {},
          "execution_count": 44
        }
      ]
    },
    {
      "cell_type": "markdown",
      "source": [
        "# Thực hành 9: Tìm giá trị cực đại của hàm\n"
      ],
      "metadata": {
        "id": "xsuqYETgHjym"
      }
    },
    {
      "cell_type": "code",
      "source": [
        "from sympy import Symbol, solve, Derivative"
      ],
      "metadata": {
        "id": "w2DzMflgH5BI"
      },
      "execution_count": 45,
      "outputs": []
    },
    {
      "cell_type": "code",
      "source": [
        "x = Symbol('x')\n",
        "f = -x**2 + 4*x - 3\n",
        "d1 = Derivative(f,x).doit()\n",
        "d1"
      ],
      "metadata": {
        "id": "HeybEWYTIJZB",
        "outputId": "08b9460f-ee1a-45ff-b5bc-c2a5f7201d02",
        "colab": {
          "base_uri": "https://localhost:8080/",
          "height": 39
        }
      },
      "execution_count": 46,
      "outputs": [
        {
          "output_type": "execute_result",
          "data": {
            "text/latex": "$\\displaystyle 4 - 2 x$",
            "text/plain": [
              "4 - 2*x"
            ]
          },
          "metadata": {},
          "execution_count": 46
        }
      ]
    },
    {
      "cell_type": "code",
      "source": [
        "cuctri = solve(d1)\n",
        "cuctri"
      ],
      "metadata": {
        "id": "46MC02q_IYXe",
        "outputId": "1aec6571-9916-4e34-e445-215f7df86075",
        "colab": {
          "base_uri": "https://localhost:8080/",
          "height": 0
        }
      },
      "execution_count": 47,
      "outputs": [
        {
          "output_type": "execute_result",
          "data": {
            "text/plain": [
              "[2]"
            ]
          },
          "metadata": {},
          "execution_count": 47
        }
      ]
    },
    {
      "cell_type": "code",
      "source": [
        "A = cuctri[0]\n",
        "d2 = Derivative(d1, x).doit()\n",
        "d2.subs({x:A}).evalf()"
      ],
      "metadata": {
        "id": "NqlK2vynIiV3",
        "outputId": "9876fda0-4dc8-4d3c-9de3-9681fcb9357b",
        "colab": {
          "base_uri": "https://localhost:8080/",
          "height": 38
        }
      },
      "execution_count": 48,
      "outputs": [
        {
          "output_type": "execute_result",
          "data": {
            "text/latex": "$\\displaystyle -2.0$",
            "text/plain": [
              "-2.00000000000000"
            ]
          },
          "metadata": {},
          "execution_count": 48
        }
      ]
    },
    {
      "cell_type": "code",
      "source": [
        "x_min = 0\n",
        "x_max = 4\n",
        "f.subs({x:A}).evalf()"
      ],
      "metadata": {
        "id": "v_P5z70TI7ZX",
        "outputId": "aa39b35f-9a90-4bca-d7f7-667f4063b42a",
        "colab": {
          "base_uri": "https://localhost:8080/",
          "height": 38
        }
      },
      "execution_count": 49,
      "outputs": [
        {
          "output_type": "execute_result",
          "data": {
            "text/latex": "$\\displaystyle 1.0$",
            "text/plain": [
              "1.00000000000000"
            ]
          },
          "metadata": {},
          "execution_count": 49
        }
      ]
    },
    {
      "cell_type": "code",
      "source": [
        "f.subs({x:x_min}).evalf()"
      ],
      "metadata": {
        "id": "N6OoaH0NJN8X",
        "outputId": "c23894ba-398c-47f0-f01b-7c3e20d8f9fb",
        "colab": {
          "base_uri": "https://localhost:8080/",
          "height": 38
        }
      },
      "execution_count": 50,
      "outputs": [
        {
          "output_type": "execute_result",
          "data": {
            "text/latex": "$\\displaystyle -3.0$",
            "text/plain": [
              "-3.00000000000000"
            ]
          },
          "metadata": {},
          "execution_count": 50
        }
      ]
    },
    {
      "cell_type": "code",
      "source": [
        "f.subs({x:x_max}).evalf()"
      ],
      "metadata": {
        "id": "O1Dui2t-JTBG",
        "outputId": "ff34197d-00c9-4efc-b9ab-e292f6729052",
        "colab": {
          "base_uri": "https://localhost:8080/",
          "height": 38
        }
      },
      "execution_count": 51,
      "outputs": [
        {
          "output_type": "execute_result",
          "data": {
            "text/latex": "$\\displaystyle -3.0$",
            "text/plain": [
              "-3.00000000000000"
            ]
          },
          "metadata": {},
          "execution_count": 51
        }
      ]
    },
    {
      "cell_type": "markdown",
      "source": [
        "# Thực hành 10: Tìm diện tích cực đại để lắp các tấm pin mặt trời trên một sân phăng có hình parabol\n"
      ],
      "metadata": {
        "id": "9HiVXUsmJjYk"
      }
    },
    {
      "cell_type": "markdown",
      "source": [
        "# Thực hành 11: Bài toán Black Friday - Tìm giá tốt cho đợt giảm giá điện thoại iPhone 11 cuối năm\n"
      ],
      "metadata": {
        "id": "MxioMXckKYJb"
      }
    },
    {
      "cell_type": "markdown",
      "source": [
        "# Thực hành 12: Bài toán Cung - Cầu"
      ],
      "metadata": {
        "id": "-rBDBlFCKqFU"
      }
    },
    {
      "cell_type": "markdown",
      "source": [
        "# Thực hành 13: Bài toán lợi nhuận đầu tư"
      ],
      "metadata": {
        "id": "kDWWnSjBK3ff"
      }
    }
  ]
}
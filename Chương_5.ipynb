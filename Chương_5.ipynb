{
  "nbformat": 4,
  "nbformat_minor": 0,
  "metadata": {
    "colab": {
      "name": "Chương 5.ipynb",
      "provenance": [],
      "authorship_tag": "ABX9TyMPyZEzS0unjNEerM/4HdRl",
      "include_colab_link": true
    },
    "kernelspec": {
      "name": "python3",
      "display_name": "Python 3"
    },
    "language_info": {
      "name": "python"
    }
  },
  "cells": [
    {
      "cell_type": "markdown",
      "metadata": {
        "id": "view-in-github",
        "colab_type": "text"
      },
      "source": [
        "<a href=\"https://colab.research.google.com/github/gnasche-2003/thuchanhtoancp/blob/main/Ch%C6%B0%C6%A1ng_5.ipynb\" target=\"_parent\"><img src=\"https://colab.research.google.com/assets/colab-badge.svg\" alt=\"Open In Colab\"/></a>"
      ]
    },
    {
      "cell_type": "markdown",
      "source": [
        "#Chương 5\n"
      ],
      "metadata": {
        "id": "CxRbQbd1TZoe"
      }
    },
    {
      "cell_type": "markdown",
      "source": [
        "#Thực hành 1: Lặp để tìm nghiệm"
      ],
      "metadata": {
        "id": "R13ChVBhV7EK"
      }
    },
    {
      "cell_type": "code",
      "source": [
        "x = 3\n",
        "print(x)"
      ],
      "metadata": {
        "colab": {
          "base_uri": "https://localhost:8080/"
        },
        "id": "bhQZlLjvWF-4",
        "outputId": "3752d40e-cf81-435a-c35c-fd28f9c55fb0"
      },
      "execution_count": 80,
      "outputs": [
        {
          "output_type": "stream",
          "name": "stdout",
          "text": [
            "3\n"
          ]
        }
      ]
    },
    {
      "cell_type": "code",
      "source": [
        "import math\n",
        "x = math.sqrt(1+x)\n",
        "print(x)"
      ],
      "metadata": {
        "colab": {
          "base_uri": "https://localhost:8080/"
        },
        "id": "tx9Z-1CKWOXf",
        "outputId": "4f24115c-ee00-4403-b0a3-86bb9acf684a"
      },
      "execution_count": 81,
      "outputs": [
        {
          "output_type": "stream",
          "name": "stdout",
          "text": [
            "2.0\n"
          ]
        }
      ]
    },
    {
      "cell_type": "code",
      "source": [
        "import math\n",
        "x = math.sqrt(1+x)\n",
        "print(x)"
      ],
      "metadata": {
        "colab": {
          "base_uri": "https://localhost:8080/"
        },
        "id": "eNGvoORdWdGW",
        "outputId": "e073ae04-9a18-4724-ed8e-62f00d49fb89"
      },
      "execution_count": 82,
      "outputs": [
        {
          "output_type": "stream",
          "name": "stdout",
          "text": [
            "1.7320508075688772\n"
          ]
        }
      ]
    },
    {
      "cell_type": "code",
      "source": [
        "import math\n",
        "x = math.sqrt(1+x)\n",
        "print(x)"
      ],
      "metadata": {
        "colab": {
          "base_uri": "https://localhost:8080/"
        },
        "id": "9O21kpPSW0gj",
        "outputId": "63baedc6-2f4f-4031-ce5b-6f5c7469c4a3"
      },
      "execution_count": 83,
      "outputs": [
        {
          "output_type": "stream",
          "name": "stdout",
          "text": [
            "1.6528916502810695\n"
          ]
        }
      ]
    },
    {
      "cell_type": "code",
      "source": [
        "import math\n",
        "x = math.sqrt(x)\n",
        "print(x)"
      ],
      "metadata": {
        "colab": {
          "base_uri": "https://localhost:8080/"
        },
        "id": "l0cOznoIXbjq",
        "outputId": "29bd29ac-6bb7-4924-97b6-e645120f1d85"
      },
      "execution_count": 84,
      "outputs": [
        {
          "output_type": "stream",
          "name": "stdout",
          "text": [
            "1.2856483384973783\n"
          ]
        }
      ]
    },
    {
      "cell_type": "markdown",
      "source": [
        "#Thực hành 2: Lặp trình whlie để tìm nghiệm\n"
      ],
      "metadata": {
        "id": "z1Gcx4DZX9Dk"
      }
    },
    {
      "cell_type": "code",
      "source": [
        "import math\n",
        "x = 3\n",
        "lap = 1\n",
        "while (x != math.sqrt(x + 1)):\n",
        "  x = math.sqrt(x + 1)\n",
        "  lap += 1\n",
        "x"
      ],
      "metadata": {
        "colab": {
          "base_uri": "https://localhost:8080/"
        },
        "id": "pwJSnzX6YGPE",
        "outputId": "54706965-99a8-4e15-baca-ffb7d7fb76e8"
      },
      "execution_count": 85,
      "outputs": [
        {
          "output_type": "execute_result",
          "data": {
            "text/plain": [
              "1.618033988749895"
            ]
          },
          "metadata": {},
          "execution_count": 85
        }
      ]
    },
    {
      "cell_type": "code",
      "source": [
        "lap "
      ],
      "metadata": {
        "colab": {
          "base_uri": "https://localhost:8080/"
        },
        "id": "E12OcKngYX8U",
        "outputId": "ecbf7fe7-09de-4679-e365-a7d886784f07"
      },
      "execution_count": 86,
      "outputs": [
        {
          "output_type": "execute_result",
          "data": {
            "text/plain": [
              "32"
            ]
          },
          "metadata": {},
          "execution_count": 86
        }
      ]
    },
    {
      "cell_type": "markdown",
      "source": [
        "#Thực hành 3: Giải phương trình bằng hàm solve trong sympy\n"
      ],
      "metadata": {
        "id": "xU24nR6XYbH0"
      }
    },
    {
      "cell_type": "code",
      "source": [
        "import sympy as sp\n",
        "from sympy import Symbol\n",
        "x = Symbol('x')\n",
        "sp.solve(x-sp.sqrt(1 + x), x)"
      ],
      "metadata": {
        "colab": {
          "base_uri": "https://localhost:8080/"
        },
        "id": "0KewmdH7YmKC",
        "outputId": "4a4fd3e4-9f4a-412a-bb00-274e6267fc25"
      },
      "execution_count": 87,
      "outputs": [
        {
          "output_type": "execute_result",
          "data": {
            "text/plain": [
              "[1/2 + sqrt(5)/2]"
            ]
          },
          "metadata": {},
          "execution_count": 87
        }
      ]
    },
    {
      "cell_type": "markdown",
      "source": [
        "#Thực hành 4:Các phép toán trên vector\n"
      ],
      "metadata": {
        "id": "fFBEYB7FZQbe"
      }
    },
    {
      "cell_type": "code",
      "source": [
        "import numpy as np\n",
        "v1 = np.array([1.,2.,3.]) # tao vector 3 chieu\n",
        "v2 = np.array([2.,1.,0.])\n",
        "v3 = v1 + v2 # cong vector\n",
        "v3"
      ],
      "metadata": {
        "colab": {
          "base_uri": "https://localhost:8080/"
        },
        "id": "ym6TNhiBZMpe",
        "outputId": "3146c885-a39d-4bff-aa23-debacc85608b"
      },
      "execution_count": 88,
      "outputs": [
        {
          "output_type": "execute_result",
          "data": {
            "text/plain": [
              "array([3., 3., 3.])"
            ]
          },
          "metadata": {},
          "execution_count": 88
        }
      ]
    },
    {
      "cell_type": "markdown",
      "source": [
        "Thực hiện phép toán trên vector"
      ],
      "metadata": {
        "id": "SKW5ptCQamP7"
      }
    },
    {
      "cell_type": "code",
      "source": [
        "3*v1 + 2*v2"
      ],
      "metadata": {
        "colab": {
          "base_uri": "https://localhost:8080/"
        },
        "id": "GM7wI3aOaD6_",
        "outputId": "9b60490b-a109-4135-a27a-c5d3b9009f18"
      },
      "execution_count": 89,
      "outputs": [
        {
          "output_type": "execute_result",
          "data": {
            "text/plain": [
              "array([7., 8., 9.])"
            ]
          },
          "metadata": {},
          "execution_count": 89
        }
      ]
    },
    {
      "cell_type": "markdown",
      "source": [
        "So sánh numpy.array với list trong python"
      ],
      "metadata": {
        "id": "7XSBJk1daxrg"
      }
    },
    {
      "cell_type": "code",
      "source": [
        "[1,2,3] + [2,1,0]"
      ],
      "metadata": {
        "colab": {
          "base_uri": "https://localhost:8080/"
        },
        "id": "Nocu0NwxaHsK",
        "outputId": "f3f1fa58-98d1-43ec-8d46-78fff04d630e"
      },
      "execution_count": 90,
      "outputs": [
        {
          "output_type": "execute_result",
          "data": {
            "text/plain": [
              "[1, 2, 3, 2, 1, 0]"
            ]
          },
          "metadata": {},
          "execution_count": 90
        }
      ]
    },
    {
      "cell_type": "code",
      "source": [
        "3*[1,2,3] + 2*[2,1,0]"
      ],
      "metadata": {
        "colab": {
          "base_uri": "https://localhost:8080/"
        },
        "id": "QetcYZE_aP8P",
        "outputId": "888fa2ab-e98a-4b03-a1ee-6689c9568e5c"
      },
      "execution_count": 91,
      "outputs": [
        {
          "output_type": "execute_result",
          "data": {
            "text/plain": [
              "[1, 2, 3, 1, 2, 3, 1, 2, 3, 2, 1, 0, 2, 1, 0]"
            ]
          },
          "metadata": {},
          "execution_count": 91
        }
      ]
    },
    {
      "cell_type": "markdown",
      "source": [
        "Ghép nối(Concatenating) 2 hoặc nhiều vector"
      ],
      "metadata": {
        "id": "Kj1TNBRdbBtG"
      }
    },
    {
      "cell_type": "code",
      "source": [
        "v4 = np.hstack([v1, v2])\n",
        "v4"
      ],
      "metadata": {
        "colab": {
          "base_uri": "https://localhost:8080/"
        },
        "id": "ZICLJrScaUIf",
        "outputId": "f9e3600a-5ac0-48cd-a1d0-c36537943820"
      },
      "execution_count": 92,
      "outputs": [
        {
          "output_type": "execute_result",
          "data": {
            "text/plain": [
              "array([1., 2., 3., 2., 1., 0.])"
            ]
          },
          "metadata": {},
          "execution_count": 92
        }
      ]
    },
    {
      "cell_type": "markdown",
      "source": [
        "Phép nhân vô hướng 2 vector:\n"
      ],
      "metadata": {
        "id": "SSarWfg3bbaQ"
      }
    },
    {
      "cell_type": "code",
      "source": [
        "np.dot(v1,v2)"
      ],
      "metadata": {
        "colab": {
          "base_uri": "https://localhost:8080/"
        },
        "id": "Fl4EnI3WbqFK",
        "outputId": "ddf21c78-ec70-4816-f2f1-3dc143f38cb3"
      },
      "execution_count": 93,
      "outputs": [
        {
          "output_type": "execute_result",
          "data": {
            "text/plain": [
              "4.0"
            ]
          },
          "metadata": {},
          "execution_count": 93
        }
      ]
    },
    {
      "cell_type": "markdown",
      "source": [
        "Tính toán giá trị sin của vector"
      ],
      "metadata": {
        "id": "TSUBtu9lbyvC"
      }
    },
    {
      "cell_type": "code",
      "source": [
        "angles = np.linspace(0, np.pi/2, 5)\n",
        "angles"
      ],
      "metadata": {
        "colab": {
          "base_uri": "https://localhost:8080/"
        },
        "id": "f-uqB7Rdb2Yq",
        "outputId": "d421d52f-d329-4a31-9aaa-8773ce8224d3"
      },
      "execution_count": 94,
      "outputs": [
        {
          "output_type": "execute_result",
          "data": {
            "text/plain": [
              "array([0.        , 0.39269908, 0.78539816, 1.17809725, 1.57079633])"
            ]
          },
          "metadata": {},
          "execution_count": 94
        }
      ]
    },
    {
      "cell_type": "code",
      "source": [
        "np.sin(angles)"
      ],
      "metadata": {
        "colab": {
          "base_uri": "https://localhost:8080/"
        },
        "id": "TDnhD0I8cHBb",
        "outputId": "6cbe9ef3-9a15-4879-d29a-3e5e210e09d0"
      },
      "execution_count": 95,
      "outputs": [
        {
          "output_type": "execute_result",
          "data": {
            "text/plain": [
              "array([0.        , 0.38268343, 0.70710678, 0.92387953, 1.        ])"
            ]
          },
          "metadata": {},
          "execution_count": 95
        }
      ]
    },
    {
      "cell_type": "markdown",
      "source": [
        "Hàm xử lý sin trong gói sympy sẽ không hỗ trợ tính toán toàn bộ vector chứa dữ liêu"
      ],
      "metadata": {
        "id": "ibwEOzqvcjGd"
      }
    },
    {
      "cell_type": "code",
      "source": [
        "import sympy as sy\n",
        "sy.sin(angles[0])"
      ],
      "metadata": {
        "colab": {
          "base_uri": "https://localhost:8080/",
          "height": 38
        },
        "id": "7TfIPcmXcfOd",
        "outputId": "719d5ee4-58de-4482-8bb1-2c273b5e54c4"
      },
      "execution_count": 96,
      "outputs": [
        {
          "output_type": "execute_result",
          "data": {
            "text/plain": [
              "0"
            ],
            "text/latex": "$\\displaystyle 0$"
          },
          "metadata": {},
          "execution_count": 96
        }
      ]
    },
    {
      "cell_type": "markdown",
      "source": [
        "TypeError: unhashable type:\"numpy.ndarray\""
      ],
      "metadata": {
        "id": "2hKMAdHYdUTy"
      }
    },
    {
      "cell_type": "markdown",
      "source": [
        "Chương trình lặp vector mới được xây dựng sẵn tạm thời:\n"
      ],
      "metadata": {
        "id": "yCkp2f1cdqSO"
      }
    },
    {
      "cell_type": "code",
      "source": [
        "from sympy import sin as sysin\n",
        "angles = np.linspace(0, np.pi/2, 5)\n",
        "sinangle = np.zeros(5)   #tuong duong sinangle = np.array([0.0, 0.0, 0.0, 0.0, 0.0])\n",
        "len(angles) #kiem tra kich thuoc/ so chieu cua vector angles.\n",
        "for i in range(len(angles)):\n",
        "  sinangle[i] = sysin(angles[i])    #luu y: o day phai enter 2 lan de thoat khoi vong lap for\n",
        "sinangle"
      ],
      "metadata": {
        "colab": {
          "base_uri": "https://localhost:8080/"
        },
        "id": "zTwzUMT3dpjl",
        "outputId": "77b6dac1-05fb-40b5-93dc-9db393c60819"
      },
      "execution_count": 97,
      "outputs": [
        {
          "output_type": "execute_result",
          "data": {
            "text/plain": [
              "array([0.        , 0.38268343, 0.70710678, 0.92387953, 1.        ])"
            ]
          },
          "metadata": {},
          "execution_count": 97
        }
      ]
    },
    {
      "cell_type": "markdown",
      "source": [
        "#Thực hành 5: Tính tổng các tích giữa ma trận và vector. Gỉa định gói thư viện numpy được đưa vào hê thống có tên là np. Dạng:"
      ],
      "metadata": {
        "id": "dzjQSVEygDNX"
      }
    },
    {
      "cell_type": "code",
      "source": [
        "import numpy as np\n",
        "goc = np.pi/3\n",
        "A = np.array([ [np.cos(goc), -np.sin(goc)], [np.sin(goc), np.cos(goc)] ])\n",
        "V = np.array([1., 0.])\n",
        "Y = np.dot(A, V)\n",
        "Y"
      ],
      "metadata": {
        "colab": {
          "base_uri": "https://localhost:8080/"
        },
        "id": "bMxJKmYhgkCV",
        "outputId": "d3c3765b-f188-4f90-a140-2e65b1459e8b"
      },
      "execution_count": 98,
      "outputs": [
        {
          "output_type": "execute_result",
          "data": {
            "text/plain": [
              "array([0.5      , 0.8660254])"
            ]
          },
          "metadata": {},
          "execution_count": 98
        }
      ]
    },
    {
      "cell_type": "markdown",
      "source": [
        "#Thực hành 6: Tính toán đạo hàm trên 1 vector dữ liệu\n"
      ],
      "metadata": {
        "id": "q752-nvCju0z"
      }
    },
    {
      "cell_type": "markdown",
      "source": [
        "+Trường hợp dx cố định:\n"
      ],
      "metadata": {
        "id": "zuCufwBvj6JG"
      }
    },
    {
      "cell_type": "code",
      "source": [
        "from numpy import diff\n",
        "dx = 0.1\n",
        "y = [1, 2, 3, 4, 4, 5, 6]\n",
        "dy = diff(y)/dx\n",
        "dy"
      ],
      "metadata": {
        "colab": {
          "base_uri": "https://localhost:8080/"
        },
        "id": "-4u_AtKAhpx0",
        "outputId": "4e0cac9e-a59e-4c96-85cb-f29e5ea8057c"
      },
      "execution_count": 99,
      "outputs": [
        {
          "output_type": "execute_result",
          "data": {
            "text/plain": [
              "array([10., 10., 10.,  0., 10., 10.])"
            ]
          },
          "metadata": {},
          "execution_count": 99
        }
      ]
    },
    {
      "cell_type": "code",
      "source": [
        "z = np.array([1,2,3,4,4,5,6])\n",
        "dz = diff(z)/dx\n",
        "dz"
      ],
      "metadata": {
        "colab": {
          "base_uri": "https://localhost:8080/"
        },
        "id": "9Oi3sEjDkSRP",
        "outputId": "3a15563b-719e-4a4c-b86e-8e143477c019"
      },
      "execution_count": 100,
      "outputs": [
        {
          "output_type": "execute_result",
          "data": {
            "text/plain": [
              "array([10., 10., 10.,  0., 10., 10.])"
            ]
          },
          "metadata": {},
          "execution_count": 100
        }
      ]
    },
    {
      "cell_type": "markdown",
      "source": [
        "+ Trong trường hợp dx là một dãy số:\n"
      ],
      "metadata": {
        "id": "81MttGTm5KC-"
      }
    },
    {
      "cell_type": "code",
      "source": [
        "from numpy import diff\n",
        "x = [.1, .2, .5, .6, .7, .8, .9]\n",
        "y = [1,2,3,4,4,5,6]\n",
        "dydx = diff(y)/diff(x)\n",
        "print(dydx)"
      ],
      "metadata": {
        "id": "Ea9ixZDI5YOc",
        "outputId": "da316352-dcdb-4578-ea1c-1bb24af11a04",
        "colab": {
          "base_uri": "https://localhost:8080/"
        }
      },
      "execution_count": 101,
      "outputs": [
        {
          "output_type": "stream",
          "name": "stdout",
          "text": [
            "[10.          3.33333333 10.          0.         10.         10.        ]\n"
          ]
        }
      ]
    },
    {
      "cell_type": "markdown",
      "source": [
        "#Thực hành 7: Một số hàm xử lý phẳng(Không gian Euclide)"
      ],
      "metadata": {
        "id": "1uYGQow26Fc1"
      }
    },
    {
      "cell_type": "code",
      "source": [
        "from sympy.geometry import *"
      ],
      "metadata": {
        "id": "7ZAPUvs_6Z00"
      },
      "execution_count": 102,
      "outputs": []
    },
    {
      "cell_type": "code",
      "source": [
        "#Tạo các điểm P1, P2, P3 và P4\n",
        "P1 = Point(0,0)\n",
        "P2 = Point(3,4)\n",
        "P3 = Point(2,-1)\n",
        "P4 = Point(-1,-5)"
      ],
      "metadata": {
        "id": "L3Amby5f6jTG"
      },
      "execution_count": 103,
      "outputs": []
    },
    {
      "cell_type": "code",
      "source": [
        "# Tạo 2 đoạn đường S1 và S2:\n",
        "S1 = Segment(P1,P2)\n",
        "S2 = Segment(P3,P4)"
      ],
      "metadata": {
        "id": "czhJC6hd6_G_"
      },
      "execution_count": 104,
      "outputs": []
    },
    {
      "cell_type": "code",
      "source": [
        "# Kiểm 3 điểm thẳng hàng:\n",
        "Point.is_collinear(P1,P2,P3)"
      ],
      "metadata": {
        "id": "FxZxnGKp7Orj",
        "outputId": "293da496-b91b-4bb6-f431-a64863cc7281",
        "colab": {
          "base_uri": "https://localhost:8080/"
        }
      },
      "execution_count": 105,
      "outputs": [
        {
          "output_type": "execute_result",
          "data": {
            "text/plain": [
              "False"
            ]
          },
          "metadata": {},
          "execution_count": 105
        }
      ]
    },
    {
      "cell_type": "code",
      "source": [
        "# Độ dài của đoạn đường S1\n",
        "S1.length"
      ],
      "metadata": {
        "id": "1RS5tQ_L7TrX",
        "outputId": "c8877636-cfd6-4037-b4ec-efe687e411a9",
        "colab": {
          "base_uri": "https://localhost:8080/",
          "height": 38
        }
      },
      "execution_count": 106,
      "outputs": [
        {
          "output_type": "execute_result",
          "data": {
            "text/plain": [
              "5"
            ],
            "text/latex": "$\\displaystyle 5$"
          },
          "metadata": {},
          "execution_count": 106
        }
      ]
    },
    {
      "cell_type": "code",
      "source": [
        "# Lấy trung bình của đoạn 2:\n",
        "S2.midpoint"
      ],
      "metadata": {
        "id": "XwtDtXy17mOd",
        "outputId": "2b086973-6604-4e70-da10-605e6bbb7f1f",
        "colab": {
          "base_uri": "https://localhost:8080/",
          "height": 58
        }
      },
      "execution_count": 107,
      "outputs": [
        {
          "output_type": "execute_result",
          "data": {
            "text/plain": [
              "Point2D(1/2, -3)"
            ],
            "text/latex": "$\\displaystyle Point2D\\left(\\frac{1}{2}, -3\\right)$"
          },
          "metadata": {},
          "execution_count": 107
        }
      ]
    },
    {
      "cell_type": "code",
      "source": [
        "# Tính độ dốc của đường S1\n",
        "S1.slope"
      ],
      "metadata": {
        "id": "8-PGQ6nx7yVP",
        "outputId": "31055cd7-3b17-49e1-9cfd-cee70e1b32c7",
        "colab": {
          "base_uri": "https://localhost:8080/",
          "height": 51
        }
      },
      "execution_count": 108,
      "outputs": [
        {
          "output_type": "execute_result",
          "data": {
            "text/plain": [
              "4/3"
            ],
            "text/latex": "$\\displaystyle \\frac{4}{3}$"
          },
          "metadata": {},
          "execution_count": 108
        }
      ]
    },
    {
      "cell_type": "code",
      "source": [
        "# Tìm vị trí giao nhau giữa hai đoạn đường\n",
        "S1.intersection(S2)"
      ],
      "metadata": {
        "id": "mm3n2VBY7-8C",
        "outputId": "9efc8972-e2ba-4df6-b8ab-fabae55dabfb",
        "colab": {
          "base_uri": "https://localhost:8080/"
        }
      },
      "execution_count": 109,
      "outputs": [
        {
          "output_type": "execute_result",
          "data": {
            "text/plain": [
              "[]"
            ]
          },
          "metadata": {},
          "execution_count": 109
        }
      ]
    },
    {
      "cell_type": "code",
      "source": [
        "# Góc giữa hai đoạn đường\n",
        "Segment.angle_between(S1,S2)"
      ],
      "metadata": {
        "id": "Lv5VWmVR8KVn",
        "outputId": "808b8f8b-3c10-45a4-d952-e9d856dbbf50",
        "colab": {
          "base_uri": "https://localhost:8080/",
          "height": 39
        }
      },
      "execution_count": 110,
      "outputs": [
        {
          "output_type": "execute_result",
          "data": {
            "text/plain": [
              "pi"
            ],
            "text/latex": "$\\displaystyle \\pi$"
          },
          "metadata": {},
          "execution_count": 110
        }
      ]
    },
    {
      "cell_type": "code",
      "source": [
        "# Kiểm đoạn đường S1 có chứa điểm P3 hay không?\n",
        "S1.contains(P3)"
      ],
      "metadata": {
        "id": "Q6qKI70-8efH",
        "outputId": "3a6de608-779c-4e81-e2b1-902b41f5cd3a",
        "colab": {
          "base_uri": "https://localhost:8080/"
        }
      },
      "execution_count": 111,
      "outputs": [
        {
          "output_type": "execute_result",
          "data": {
            "text/plain": [
              "False"
            ]
          },
          "metadata": {},
          "execution_count": 111
        }
      ]
    },
    {
      "cell_type": "code",
      "source": [
        "# Lập và xem chương trình đường thẳng L1 đi qua 2 điểm P1 và P2:\n",
        "L1 = Line(P1,P2)\n",
        "L1.equation()"
      ],
      "metadata": {
        "id": "kVCje8sh8rLX",
        "outputId": "60a11f2c-8cc5-4772-cdb7-7c537e60b144",
        "colab": {
          "base_uri": "https://localhost:8080/",
          "height": 39
        }
      },
      "execution_count": 112,
      "outputs": [
        {
          "output_type": "execute_result",
          "data": {
            "text/plain": [
              "-4*x + 3*y"
            ],
            "text/latex": "$\\displaystyle - 4 x + 3 y$"
          },
          "metadata": {},
          "execution_count": 112
        }
      ]
    },
    {
      "cell_type": "code",
      "source": [
        "# Kiểm tính song song:\n",
        "L1.is_parallel(S1)"
      ],
      "metadata": {
        "id": "GrnXZTC-86-U",
        "outputId": "8f2dd477-e853-4c85-a3c6-3c0b33d69b1d",
        "colab": {
          "base_uri": "https://localhost:8080/"
        }
      },
      "execution_count": 113,
      "outputs": [
        {
          "output_type": "execute_result",
          "data": {
            "text/plain": [
              "True"
            ]
          },
          "metadata": {},
          "execution_count": 113
        }
      ]
    },
    {
      "cell_type": "code",
      "source": [
        "L1.is_parallel(S2)"
      ],
      "metadata": {
        "id": "h0ZXW-2c9cCW",
        "outputId": "abbbcca5-8901-44a0-d557-b46469176221",
        "colab": {
          "base_uri": "https://localhost:8080/"
        }
      },
      "execution_count": 114,
      "outputs": [
        {
          "output_type": "execute_result",
          "data": {
            "text/plain": [
              "True"
            ]
          },
          "metadata": {},
          "execution_count": 114
        }
      ]
    },
    {
      "cell_type": "markdown",
      "source": [
        "# Thực hành 8: Bằng phương pháp đồ thị, hãy cho biết giới hạn của hàm số sau\n"
      ],
      "metadata": {
        "id": "C1K64QG59ouH"
      }
    },
    {
      "cell_type": "code",
      "source": [
        "import sympy\n",
        "from sympy import *"
      ],
      "metadata": {
        "id": "fe_8qW6S-Wss"
      },
      "execution_count": 115,
      "outputs": []
    },
    {
      "cell_type": "code",
      "source": [
        "x = Symbol('x')\n",
        "f = x*sin(1/x)\n",
        "c = Symbol('c')\n",
        "delta = Symbol('delta')\n",
        "c = 0\n",
        "delta = 1/4\n",
        "sympy.plot(f,(x, c - delta, c + delta))\n"
      ],
      "metadata": {
        "id": "uD4TenDy-vtv",
        "outputId": "0af5bf39-b62a-4ba5-cfdf-5e77d15ec981",
        "colab": {
          "base_uri": "https://localhost:8080/",
          "height": 314
        }
      },
      "execution_count": 116,
      "outputs": [
        {
          "output_type": "display_data",
          "data": {
            "text/plain": [
              "<Figure size 432x288 with 1 Axes>"
            ],
            "image/png": "[encoded data removed]"
          },
          "metadata": {
            "needs_background": "light"
          }
        },
        {
          "output_type": "execute_result",
          "data": {
            "text/plain": [
              "<sympy.plotting.plot.Plot at 0x7fd29587bbd0>"
            ]
          },
          "metadata": {},
          "execution_count": 116
        }
      ]
    },
    {
      "cell_type": "code",
      "source": [
        "sympy.plot(f,abs(x), -abs(x), (x, c - delta, c + delta))"
      ],
      "metadata": {
        "id": "WP45c7OTHLVw",
        "outputId": "72de82c5-eaf0-4cf3-9851-8a955b8ce743",
        "colab": {
          "base_uri": "https://localhost:8080/",
          "height": 314
        }
      },
      "execution_count": 117,
      "outputs": [
        {
          "output_type": "display_data",
          "data": {
            "text/plain": [
              "<Figure size 432x288 with 1 Axes>"
            ],
            "image/png": "[encoded data removed]"
          },
          "metadata": {
            "needs_background": "light"
          }
        },
        {
          "output_type": "execute_result",
          "data": {
            "text/plain": [
              "<sympy.plotting.plot.Plot at 0x7fd295712cd0>"
            ]
          },
          "metadata": {},
          "execution_count": 117
        }
      ]
    },
    {
      "cell_type": "markdown",
      "source": [
        "# Thực hành 9: Tìm giá trị cực đại của hàm\n"
      ],
      "metadata": {
        "id": "xsuqYETgHjym"
      }
    },
    {
      "cell_type": "code",
      "source": [
        "from sympy import Symbol, solve, Derivative"
      ],
      "metadata": {
        "id": "w2DzMflgH5BI"
      },
      "execution_count": 118,
      "outputs": []
    },
    {
      "cell_type": "code",
      "source": [
        "x = Symbol('x')\n",
        "f = -x**2 + 4*x - 3\n",
        "d1 = Derivative(f,x).doit()\n",
        "d1"
      ],
      "metadata": {
        "id": "HeybEWYTIJZB",
        "outputId": "60cd56bd-882d-445d-b8d3-cb47f7ea7f17",
        "colab": {
          "base_uri": "https://localhost:8080/",
          "height": 39
        }
      },
      "execution_count": 119,
      "outputs": [
        {
          "output_type": "execute_result",
          "data": {
            "text/plain": [
              "4 - 2*x"
            ],
            "text/latex": "$\\displaystyle 4 - 2 x$"
          },
          "metadata": {},
          "execution_count": 119
        }
      ]
    },
    {
      "cell_type": "code",
      "source": [
        "cuctri = solve(d1)\n",
        "cuctri"
      ],
      "metadata": {
        "id": "46MC02q_IYXe",
        "outputId": "17d6f274-9d21-4d78-bc49-9410fdb61e91",
        "colab": {
          "base_uri": "https://localhost:8080/"
        }
      },
      "execution_count": 120,
      "outputs": [
        {
          "output_type": "execute_result",
          "data": {
            "text/plain": [
              "[2]"
            ]
          },
          "metadata": {},
          "execution_count": 120
        }
      ]
    },
    {
      "cell_type": "code",
      "source": [
        "A = cuctri[0]\n",
        "d2 = Derivative(d1, x).doit()\n",
        "d2.subs({x:A}).evalf()"
      ],
      "metadata": {
        "id": "NqlK2vynIiV3",
        "outputId": "4d66ba93-5b86-46e2-9a0b-82e1a8f3cdce",
        "colab": {
          "base_uri": "https://localhost:8080/",
          "height": 38
        }
      },
      "execution_count": 121,
      "outputs": [
        {
          "output_type": "execute_result",
          "data": {
            "text/plain": [
              "-2.00000000000000"
            ],
            "text/latex": "$\\displaystyle -2.0$"
          },
          "metadata": {},
          "execution_count": 121
        }
      ]
    },
    {
      "cell_type": "code",
      "source": [
        "x_min = 0\n",
        "x_max = 4\n",
        "f.subs({x:A}).evalf()"
      ],
      "metadata": {
        "id": "v_P5z70TI7ZX",
        "outputId": "fcb39282-123b-454f-e666-a571b595e191",
        "colab": {
          "base_uri": "https://localhost:8080/",
          "height": 38
        }
      },
      "execution_count": 122,
      "outputs": [
        {
          "output_type": "execute_result",
          "data": {
            "text/plain": [
              "1.00000000000000"
            ],
            "text/latex": "$\\displaystyle 1.0$"
          },
          "metadata": {},
          "execution_count": 122
        }
      ]
    },
    {
      "cell_type": "code",
      "source": [
        "f.subs({x:x_min}).evalf()"
      ],
      "metadata": {
        "id": "N6OoaH0NJN8X",
        "outputId": "e9c569ed-1bd2-493c-ea27-2df4ee128c55",
        "colab": {
          "base_uri": "https://localhost:8080/",
          "height": 38
        }
      },
      "execution_count": 123,
      "outputs": [
        {
          "output_type": "execute_result",
          "data": {
            "text/plain": [
              "-3.00000000000000"
            ],
            "text/latex": "$\\displaystyle -3.0$"
          },
          "metadata": {},
          "execution_count": 123
        }
      ]
    },
    {
      "cell_type": "code",
      "source": [
        "f.subs({x:x_max}).evalf()"
      ],
      "metadata": {
        "id": "O1Dui2t-JTBG",
        "outputId": "da1fc649-9502-45b8-9c8c-dd1c6aff44df",
        "colab": {
          "base_uri": "https://localhost:8080/",
          "height": 38
        }
      },
      "execution_count": 124,
      "outputs": [
        {
          "output_type": "execute_result",
          "data": {
            "text/plain": [
              "-3.00000000000000"
            ],
            "text/latex": "$\\displaystyle -3.0$"
          },
          "metadata": {},
          "execution_count": 124
        }
      ]
    },
    {
      "cell_type": "markdown",
      "source": [
        "# Thực hành 10: Tìm diện tích cực đại để lắp các tấm pin mặt trời trên một sân phăng có hình parabol\n"
      ],
      "metadata": {
        "id": "9HiVXUsmJjYk"
      }
    },
    {
      "cell_type": "code",
      "source": [
        "from sympy import *"
      ],
      "metadata": {
        "id": "y3c51ExgO3_E"
      },
      "execution_count": 146,
      "outputs": []
    },
    {
      "cell_type": "code",
      "source": [
        "x = Symbol('x')\n",
        "a = Symbol('a')\n",
        "A = -2*x**3 + 2*a*x\n",
        "A"
      ],
      "metadata": {
        "id": "5cF7qZ3SPHjs",
        "outputId": "c7814ac5-89cb-4b26-aa93-f2f2c99fb556",
        "colab": {
          "base_uri": "https://localhost:8080/",
          "height": 39
        }
      },
      "execution_count": 147,
      "outputs": [
        {
          "output_type": "execute_result",
          "data": {
            "text/plain": [
              "2*a*x - 2*x**3"
            ],
            "text/latex": "$\\displaystyle 2 a x - 2 x^{3}$"
          },
          "metadata": {},
          "execution_count": 147
        }
      ]
    },
    {
      "cell_type": "code",
      "source": [
        "d1 = Derivative(A,x).doit()\n",
        "d1"
      ],
      "metadata": {
        "id": "nHmPyZ-tWP1F",
        "outputId": "abbc0b68-def6-46c3-c4f7-e41daa2b0f45",
        "colab": {
          "base_uri": "https://localhost:8080/",
          "height": 39
        }
      },
      "execution_count": 148,
      "outputs": [
        {
          "output_type": "execute_result",
          "data": {
            "text/plain": [
              "2*a - 6*x**2"
            ],
            "text/latex": "$\\displaystyle 2 a - 6 x^{2}$"
          },
          "metadata": {},
          "execution_count": 148
        }
      ]
    },
    {
      "cell_type": "code",
      "source": [
        "cuctri = solve(d1,x)\n",
        "cuctri"
      ],
      "metadata": {
        "id": "bB0mqsRfQWqz",
        "outputId": "5b53a779-1784-476f-9f85-92a5cfbc9fa8",
        "colab": {
          "base_uri": "https://localhost:8080/"
        }
      },
      "execution_count": 149,
      "outputs": [
        {
          "output_type": "execute_result",
          "data": {
            "text/plain": [
              "[-sqrt(3)*sqrt(a)/3, sqrt(3)*sqrt(a)/3]"
            ]
          },
          "metadata": {},
          "execution_count": 149
        }
      ]
    },
    {
      "cell_type": "code",
      "source": [
        "B = cuctri\n",
        "d2 = Derivative(d1, x).doit()\n",
        "d2.subs({x:B}).evalf()"
      ],
      "metadata": {
        "id": "IzuJBSnSQ3MN",
        "outputId": "466edcde-56fa-47e4-990e-bb21daa8940d",
        "colab": {
          "base_uri": "https://localhost:8080/",
          "height": 39
        }
      },
      "execution_count": 150,
      "outputs": [
        {
          "output_type": "execute_result",
          "data": {
            "text/plain": [
              "-12.0*x"
            ],
            "text/latex": "$\\displaystyle - 12.0 x$"
          },
          "metadata": {},
          "execution_count": 150
        }
      ]
    },
    {
      "cell_type": "code",
      "source": [
        "x_1 = 0\n",
        "A.subs({x:x_1}).evalf()"
      ],
      "metadata": {
        "id": "4-xpda4RaluY",
        "outputId": "0c326d0e-8311-4ed7-a91f-4ee235856626",
        "colab": {
          "base_uri": "https://localhost:8080/",
          "height": 38
        }
      },
      "execution_count": 151,
      "outputs": [
        {
          "output_type": "execute_result",
          "data": {
            "text/plain": [
              "0"
            ],
            "text/latex": "$\\displaystyle 0$"
          },
          "metadata": {},
          "execution_count": 151
        }
      ]
    },
    {
      "cell_type": "code",
      "source": [
        "x_2 = sqrt(a)\n",
        "A.subs({x:x_2}).evalf()"
      ],
      "metadata": {
        "id": "o2vXA0KCV_Al",
        "outputId": "14f38767-9211-4509-8c30-6cffaf4684e6",
        "colab": {
          "base_uri": "https://localhost:8080/",
          "height": 38
        }
      },
      "execution_count": 152,
      "outputs": [
        {
          "output_type": "execute_result",
          "data": {
            "text/plain": [
              "0"
            ],
            "text/latex": "$\\displaystyle 0$"
          },
          "metadata": {},
          "execution_count": 152
        }
      ]
    },
    {
      "cell_type": "code",
      "source": [
        "x_max = cuctri[1]\n",
        "x_max"
      ],
      "metadata": {
        "id": "HYhd8y07jXeA",
        "outputId": "12f94104-45a4-4b38-97a3-5b797f393285",
        "colab": {
          "base_uri": "https://localhost:8080/",
          "height": 55
        }
      },
      "execution_count": 155,
      "outputs": [
        {
          "output_type": "execute_result",
          "data": {
            "text/plain": [
              "sqrt(3)*sqrt(a)/3"
            ],
            "text/latex": "$\\displaystyle \\frac{\\sqrt{3} \\sqrt{a}}{3}$"
          },
          "metadata": {},
          "execution_count": 155
        }
      ]
    },
    {
      "cell_type": "markdown",
      "source": [
        "# Thực hành 11: Bài toán Black Friday - Tìm giá tốt cho đợt giảm giá điện thoại iPhone 11 cuối năm"
      ],
      "metadata": {
        "id": "kRagKMcqtQMJ"
      }
    },
    {
      "cell_type": "code",
      "source": [
        ""
      ],
      "metadata": {
        "id": "836aPBDciTrt"
      },
      "execution_count": null,
      "outputs": []
    },
    {
      "cell_type": "markdown",
      "source": [
        "# Thực hành 12: Bài toán Cung - Cầu"
      ],
      "metadata": {
        "id": "-rBDBlFCKqFU"
      }
    },
    {
      "cell_type": "code",
      "source": [
        "from sympy import Symbol, solve, Derivative, Integral"
      ],
      "metadata": {
        "id": "l6zQ8CnCSGRi"
      },
      "execution_count": 133,
      "outputs": []
    },
    {
      "cell_type": "code",
      "source": [
        "q = Symbol('q')\n",
        "# Quy luat cau: p = d(q) = -0.8q + 150\n",
        "p1 = -0.8*q + 150\n",
        "# Quy luat cung: p = s(q) = 5.2q\n",
        "p2 = 5.2*q\n",
        "# Phuong trinh\n",
        "Q = 6*q - 150 # p = d(q) = s(q)"
      ],
      "metadata": {
        "id": "FtGC_ahzSQ6P"
      },
      "execution_count": 134,
      "outputs": []
    },
    {
      "cell_type": "code",
      "source": [
        "A = solve(Q,q)\n",
        "A[0]"
      ],
      "metadata": {
        "id": "PxH5ISkJTspn",
        "outputId": "09318dc3-3165-4fea-e2ec-d96690482366",
        "colab": {
          "base_uri": "https://localhost:8080/",
          "height": 38
        }
      },
      "execution_count": 135,
      "outputs": [
        {
          "output_type": "execute_result",
          "data": {
            "text/plain": [
              "25"
            ],
            "text/latex": "$\\displaystyle 25$"
          },
          "metadata": {},
          "execution_count": 135
        }
      ]
    },
    {
      "cell_type": "code",
      "source": [
        "p1.subs({q:A[0]}).evalf() # moi thang ban duoc 25 xe voi q"
      ],
      "metadata": {
        "id": "U37UAlKSU-Le",
        "outputId": "090e3d83-a040-440c-f954-506dfe4f2da3",
        "colab": {
          "base_uri": "https://localhost:8080/",
          "height": 38
        }
      },
      "execution_count": 136,
      "outputs": [
        {
          "output_type": "execute_result",
          "data": {
            "text/plain": [
              "130.000000000000"
            ],
            "text/latex": "$\\displaystyle 130.0$"
          },
          "metadata": {},
          "execution_count": 136
        }
      ]
    },
    {
      "cell_type": "code",
      "source": [
        "from pylab import plot, show\n",
        "import matplotlib.pyplot as plt\n",
        "\n",
        "y1 = [5, 10, 15, 25]\n",
        "y2 = [4, 8, 16, 25]\n",
        "\n",
        "plt.plot(y1, marker = 'p', color='green')\n",
        "plt.plot(y2, marker = 'h', color='purple')\n",
        "\n",
        "plt.show()"
      ],
      "metadata": {
        "id": "QlSdi0avdQH_",
        "outputId": "8d13f445-cefc-455d-c4cc-e0e9636f5ad1",
        "colab": {
          "base_uri": "https://localhost:8080/",
          "height": 265
        }
      },
      "execution_count": 137,
      "outputs": [
        {
          "output_type": "display_data",
          "data": {
            "text/plain": [
              "<Figure size 432x288 with 1 Axes>"
            ],
            "image/png": "[encoded data removed]"
          },
          "metadata": {
            "needs_background": "light"
          }
        }
      ]
    },
    {
      "cell_type": "code",
      "source": [
        "# Tong so tien nguoi mua phai tra du/ cao hon(consumer surplus):\n",
        "Cs = Integral(p1, (q, 0, 25)).doit() - 130*25\n",
        "Cs"
      ],
      "metadata": {
        "id": "5dKJl4q0WePu",
        "outputId": "95bc3b0d-e0ff-4f90-f066-b2b72cae49c2",
        "colab": {
          "base_uri": "https://localhost:8080/",
          "height": 38
        }
      },
      "execution_count": 138,
      "outputs": [
        {
          "output_type": "execute_result",
          "data": {
            "text/plain": [
              "250.000000000000"
            ],
            "text/latex": "$\\displaystyle 250.0$"
          },
          "metadata": {},
          "execution_count": 138
        }
      ]
    },
    {
      "cell_type": "code",
      "source": [
        "# Tong so tien mà san pham thu du duoc (producer surplus):\n",
        "Ps = 130*25 - Integral(p2, (q, 0, 25)).doit()\n",
        "Ps"
      ],
      "metadata": {
        "id": "FV8J-WcDch4M",
        "outputId": "b7ada62f-63f2-4ba6-93ad-8f2d06be59ee",
        "colab": {
          "base_uri": "https://localhost:8080/",
          "height": 38
        }
      },
      "execution_count": 139,
      "outputs": [
        {
          "output_type": "execute_result",
          "data": {
            "text/plain": [
              "1625.00000000000"
            ],
            "text/latex": "$\\displaystyle 1625.0$"
          },
          "metadata": {},
          "execution_count": 139
        }
      ]
    },
    {
      "cell_type": "markdown",
      "source": [
        "# Thực hành 13: Bài toán lợi nhuận đầu tư"
      ],
      "metadata": {
        "id": "WxNC-0AnJZHs"
      }
    },
    {
      "cell_type": "code",
      "source": [
        "from sympy import Symbol, Integral, exp"
      ],
      "metadata": {
        "id": "u1PxBcMGl8k8"
      },
      "execution_count": 140,
      "outputs": []
    },
    {
      "cell_type": "code",
      "source": [
        "t = Symbol(\"t\")\n",
        "\n",
        "F = 62 + 8*t # hàm tính theo thu nhập các năm tiếp theo sẽ tăng thêm 8 đồng\n",
        "m = float(input('nhap gia tri thu lai nam dau: '))\n",
        "\n",
        "# lợi nhuận của nhóm khởi nghiệp\n",
        "a = m*exp(-0.017*t)\n",
        "b = F*exp(-0.017*t)\n",
        "pf = Integral(a, (t, 0, 1)).doit() + Integral(b, (t, 1, 8)).doit()\n",
        "pf "
      ],
      "metadata": {
        "id": "dgNHGid-nSHW",
        "outputId": "1344afbb-4920-4459-af93-a9f34978a8cf",
        "colab": {
          "base_uri": "https://localhost:8080/",
          "height": 54
        }
      },
      "execution_count": 141,
      "outputs": [
        {
          "name": "stdout",
          "output_type": "stream",
          "text": [
            "nhap gia tri thu lai nam dau: 70\n"
          ]
        },
        {
          "output_type": "execute_result",
          "data": {
            "text/plain": [
              "701.659163940087"
            ],
            "text/latex": "$\\displaystyle 701.659163940087$"
          },
          "metadata": {},
          "execution_count": 141
        }
      ]
    }
  ]
}
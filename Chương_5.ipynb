{
  "nbformat": 4,
  "nbformat_minor": 0,
  "metadata": {
    "colab": {
      "name": "Chương 5.ipynb",
      "provenance": [],
      "authorship_tag": "ABX9TyNtsceROxtXRev0lIC1jLwg",
      "include_colab_link": true
    },
    "kernelspec": {
      "name": "python3",
      "display_name": "Python 3"
    },
    "language_info": {
      "name": "python"
    }
  },
  "cells": [
    {
      "cell_type": "markdown",
      "metadata": {
        "id": "view-in-github",
        "colab_type": "text"
      },
      "source": [
        "<a href=\"https://colab.research.google.com/github/gnasche-2003/thuchanhtoancp/blob/main/Ch%C6%B0%C6%A1ng_5.ipynb\" target=\"_parent\"><img src=\"https://colab.research.google.com/assets/colab-badge.svg\" alt=\"Open In Colab\"/></a>"
      ]
    },
    {
      "cell_type": "markdown",
      "source": [
        "#Chương 5\n"
      ],
      "metadata": {
        "id": "CxRbQbd1TZoe"
      }
    },
    {
      "cell_type": "markdown",
      "source": [
        "#Thực hành 1: Lặp để tìm nghiệm"
      ],
      "metadata": {
        "id": "R13ChVBhV7EK"
      }
    },
    {
      "cell_type": "code",
      "source": [
        "x = 3\n",
        "print(x)"
      ],
      "metadata": {
        "colab": {
          "base_uri": "https://localhost:8080/"
        },
        "id": "bhQZlLjvWF-4",
        "outputId": "8d924e2e-32ab-4d1e-c1e2-19409a513142"
      },
      "execution_count": 4,
      "outputs": [
        {
          "output_type": "stream",
          "name": "stdout",
          "text": [
            "3\n"
          ]
        }
      ]
    },
    {
      "cell_type": "code",
      "source": [
        "import math\n",
        "x = math.sqrt(1+x)\n",
        "print(x)"
      ],
      "metadata": {
        "colab": {
          "base_uri": "https://localhost:8080/"
        },
        "id": "tx9Z-1CKWOXf",
        "outputId": "7fb05f61-a2f6-43ed-d425-f336666b613e"
      },
      "execution_count": 5,
      "outputs": [
        {
          "output_type": "stream",
          "name": "stdout",
          "text": [
            "2.0\n"
          ]
        }
      ]
    },
    {
      "cell_type": "code",
      "source": [
        "import math\n",
        "x = math.sqrt(1+x)\n",
        "print(x)"
      ],
      "metadata": {
        "colab": {
          "base_uri": "https://localhost:8080/"
        },
        "id": "eNGvoORdWdGW",
        "outputId": "7b1a9dd5-2cd3-44c0-f98b-8fc8807f0156"
      },
      "execution_count": 6,
      "outputs": [
        {
          "output_type": "stream",
          "name": "stdout",
          "text": [
            "1.7320508075688772\n"
          ]
        }
      ]
    },
    {
      "cell_type": "code",
      "source": [
        "import math\n",
        "x = math.sqrt(1+x)\n",
        "print(x)"
      ],
      "metadata": {
        "colab": {
          "base_uri": "https://localhost:8080/"
        },
        "id": "9O21kpPSW0gj",
        "outputId": "ae348ed5-9fa0-4702-8742-9c1d11d05657"
      },
      "execution_count": 7,
      "outputs": [
        {
          "output_type": "stream",
          "name": "stdout",
          "text": [
            "1.6528916502810695\n"
          ]
        }
      ]
    },
    {
      "cell_type": "code",
      "source": [
        "import math\n",
        "x = math.sqrt(x)\n",
        "print(x)"
      ],
      "metadata": {
        "colab": {
          "base_uri": "https://localhost:8080/"
        },
        "id": "l0cOznoIXbjq",
        "outputId": "3b43f03b-308b-40b0-fce4-845188200a9e"
      },
      "execution_count": 8,
      "outputs": [
        {
          "output_type": "stream",
          "name": "stdout",
          "text": [
            "1.2856483384973783\n"
          ]
        }
      ]
    },
    {
      "cell_type": "markdown",
      "source": [
        "#Thực hành 2: Lặp trình whlie để tìm nghiệm\n"
      ],
      "metadata": {
        "id": "z1Gcx4DZX9Dk"
      }
    },
    {
      "cell_type": "code",
      "source": [
        "import math\n",
        "x = 3\n",
        "lap = 1\n",
        "while (x != math.sqrt(x + 1)):\n",
        "  x = math.sqrt(x + 1)\n",
        "  lap += 1\n",
        "x"
      ],
      "metadata": {
        "colab": {
          "base_uri": "https://localhost:8080/"
        },
        "id": "pwJSnzX6YGPE",
        "outputId": "e6a9d3e1-7db6-4626-d0b2-af2654f7b4ed"
      },
      "execution_count": 9,
      "outputs": [
        {
          "output_type": "execute_result",
          "data": {
            "text/plain": [
              "1.618033988749895"
            ]
          },
          "metadata": {},
          "execution_count": 9
        }
      ]
    },
    {
      "cell_type": "code",
      "source": [
        "lap "
      ],
      "metadata": {
        "colab": {
          "base_uri": "https://localhost:8080/"
        },
        "id": "E12OcKngYX8U",
        "outputId": "c25892db-9d9f-4997-8afe-922c3b089ddb"
      },
      "execution_count": 10,
      "outputs": [
        {
          "output_type": "execute_result",
          "data": {
            "text/plain": [
              "32"
            ]
          },
          "metadata": {},
          "execution_count": 10
        }
      ]
    },
    {
      "cell_type": "markdown",
      "source": [
        "#Thực hành 3: Giải phương trình bằng hàm solve trong sympy\n"
      ],
      "metadata": {
        "id": "xU24nR6XYbH0"
      }
    },
    {
      "cell_type": "code",
      "source": [
        "import sympy as sp\n",
        "from sympy import Symbol\n",
        "x = Symbol('x')\n",
        "sp.solve(x-sp.sqrt(1 + x), x)"
      ],
      "metadata": {
        "colab": {
          "base_uri": "https://localhost:8080/"
        },
        "id": "0KewmdH7YmKC",
        "outputId": "684c585a-55eb-4ee0-c6be-85209833f31c"
      },
      "execution_count": 11,
      "outputs": [
        {
          "output_type": "execute_result",
          "data": {
            "text/plain": [
              "[1/2 + sqrt(5)/2]"
            ]
          },
          "metadata": {},
          "execution_count": 11
        }
      ]
    },
    {
      "cell_type": "markdown",
      "source": [
        "#Thực hành 4:Các phép toán trên vector\n"
      ],
      "metadata": {
        "id": "fFBEYB7FZQbe"
      }
    },
    {
      "cell_type": "code",
      "source": [
        "import numpy as np\n",
        "v1 = np.array([1.,2.,3.]) # tao vector 3 chieu\n",
        "v2 = np.array([2.,1.,0.])\n",
        "v3 = v1 + v2 # cong vector\n",
        "v3"
      ],
      "metadata": {
        "colab": {
          "base_uri": "https://localhost:8080/"
        },
        "id": "ym6TNhiBZMpe",
        "outputId": "bfd009d5-7497-4c18-c9bb-0dfa9ee44483"
      },
      "execution_count": 12,
      "outputs": [
        {
          "output_type": "execute_result",
          "data": {
            "text/plain": [
              "array([3., 3., 3.])"
            ]
          },
          "metadata": {},
          "execution_count": 12
        }
      ]
    },
    {
      "cell_type": "markdown",
      "source": [
        "Thực hiện phép toán trên vector"
      ],
      "metadata": {
        "id": "SKW5ptCQamP7"
      }
    },
    {
      "cell_type": "code",
      "source": [
        "3*v1 + 2*v2"
      ],
      "metadata": {
        "colab": {
          "base_uri": "https://localhost:8080/"
        },
        "id": "GM7wI3aOaD6_",
        "outputId": "c1cbe375-713e-4adc-eea3-46e6bf314643"
      },
      "execution_count": 13,
      "outputs": [
        {
          "output_type": "execute_result",
          "data": {
            "text/plain": [
              "array([7., 8., 9.])"
            ]
          },
          "metadata": {},
          "execution_count": 13
        }
      ]
    },
    {
      "cell_type": "markdown",
      "source": [
        "So sánh numpy.array với list trong python"
      ],
      "metadata": {
        "id": "7XSBJk1daxrg"
      }
    },
    {
      "cell_type": "code",
      "source": [
        "[1,2,3] + [2,1,0]"
      ],
      "metadata": {
        "colab": {
          "base_uri": "https://localhost:8080/"
        },
        "id": "Nocu0NwxaHsK",
        "outputId": "f09c246f-dca0-4a45-ae67-6d638896a049"
      },
      "execution_count": 14,
      "outputs": [
        {
          "output_type": "execute_result",
          "data": {
            "text/plain": [
              "[1, 2, 3, 2, 1, 0]"
            ]
          },
          "metadata": {},
          "execution_count": 14
        }
      ]
    },
    {
      "cell_type": "code",
      "source": [
        "3*[1,2,3] + 2*[2,1,0]"
      ],
      "metadata": {
        "colab": {
          "base_uri": "https://localhost:8080/"
        },
        "id": "QetcYZE_aP8P",
        "outputId": "e6747fc6-b216-4b08-de1a-7871b93afc99"
      },
      "execution_count": 15,
      "outputs": [
        {
          "output_type": "execute_result",
          "data": {
            "text/plain": [
              "[1, 2, 3, 1, 2, 3, 1, 2, 3, 2, 1, 0, 2, 1, 0]"
            ]
          },
          "metadata": {},
          "execution_count": 15
        }
      ]
    },
    {
      "cell_type": "markdown",
      "source": [
        "Ghép nối(Concatenating) 2 hoặc nhiều vector"
      ],
      "metadata": {
        "id": "Kj1TNBRdbBtG"
      }
    },
    {
      "cell_type": "code",
      "source": [
        "v4 = np.hstack([v1, v2])\n",
        "v4"
      ],
      "metadata": {
        "colab": {
          "base_uri": "https://localhost:8080/"
        },
        "id": "ZICLJrScaUIf",
        "outputId": "c36b8818-bd6a-4dcd-b8fc-9cb543908742"
      },
      "execution_count": 16,
      "outputs": [
        {
          "output_type": "execute_result",
          "data": {
            "text/plain": [
              "array([1., 2., 3., 2., 1., 0.])"
            ]
          },
          "metadata": {},
          "execution_count": 16
        }
      ]
    },
    {
      "cell_type": "markdown",
      "source": [
        "Phép nhân vô hướng 2 vector:\n"
      ],
      "metadata": {
        "id": "SSarWfg3bbaQ"
      }
    },
    {
      "cell_type": "code",
      "source": [
        "np.dot(v1,v2)"
      ],
      "metadata": {
        "colab": {
          "base_uri": "https://localhost:8080/"
        },
        "id": "Fl4EnI3WbqFK",
        "outputId": "55edc2c5-327c-4433-bed9-97704e5ec122"
      },
      "execution_count": 17,
      "outputs": [
        {
          "output_type": "execute_result",
          "data": {
            "text/plain": [
              "4.0"
            ]
          },
          "metadata": {},
          "execution_count": 17
        }
      ]
    },
    {
      "cell_type": "markdown",
      "source": [
        "Tính toán giá trị sin của vector"
      ],
      "metadata": {
        "id": "TSUBtu9lbyvC"
      }
    },
    {
      "cell_type": "code",
      "source": [
        "angles = np.linspace(0, np.pi/2, 5)\n",
        "angles"
      ],
      "metadata": {
        "colab": {
          "base_uri": "https://localhost:8080/"
        },
        "id": "f-uqB7Rdb2Yq",
        "outputId": "5c176210-beed-485d-c2da-e16171b3d29b"
      },
      "execution_count": 18,
      "outputs": [
        {
          "output_type": "execute_result",
          "data": {
            "text/plain": [
              "array([0.        , 0.39269908, 0.78539816, 1.17809725, 1.57079633])"
            ]
          },
          "metadata": {},
          "execution_count": 18
        }
      ]
    },
    {
      "cell_type": "code",
      "source": [
        "np.sin(angles)"
      ],
      "metadata": {
        "colab": {
          "base_uri": "https://localhost:8080/"
        },
        "id": "TDnhD0I8cHBb",
        "outputId": "e60dd5e1-8e99-4602-97a1-60fe2571395b"
      },
      "execution_count": 19,
      "outputs": [
        {
          "output_type": "execute_result",
          "data": {
            "text/plain": [
              "array([0.        , 0.38268343, 0.70710678, 0.92387953, 1.        ])"
            ]
          },
          "metadata": {},
          "execution_count": 19
        }
      ]
    },
    {
      "cell_type": "markdown",
      "source": [
        "Hàm xử lý sin trong gói sympy sẽ không hỗ trợ tính toán toàn bộ vector chứa dữ liêu"
      ],
      "metadata": {
        "id": "ibwEOzqvcjGd"
      }
    },
    {
      "cell_type": "code",
      "source": [
        "import sympy as sy\n",
        "sy.sin(angles[0])"
      ],
      "metadata": {
        "colab": {
          "base_uri": "https://localhost:8080/",
          "height": 38
        },
        "id": "7TfIPcmXcfOd",
        "outputId": "4708cd2e-684c-4dc0-f525-772aa4903a2b"
      },
      "execution_count": 20,
      "outputs": [
        {
          "output_type": "execute_result",
          "data": {
            "text/plain": [
              "0"
            ],
            "text/latex": "$\\displaystyle 0$"
          },
          "metadata": {},
          "execution_count": 20
        }
      ]
    },
    {
      "cell_type": "markdown",
      "source": [
        "TypeError: unhashable type:\"numpy.ndarray\""
      ],
      "metadata": {
        "id": "2hKMAdHYdUTy"
      }
    },
    {
      "cell_type": "markdown",
      "source": [
        "Chương trình lặp vector mới được xây dựng sẵn tạm thời:\n"
      ],
      "metadata": {
        "id": "yCkp2f1cdqSO"
      }
    },
    {
      "cell_type": "code",
      "source": [
        "from sympy import sin as sysin\n",
        "angles = np.linspace(0, np.pi/2, 5)\n",
        "sinangle = np.zeros(5)   #tuong duong sinangle = np.array([0.0, 0.0, 0.0, 0.0, 0.0])\n",
        "len(angles) #kiem tra kich thuoc/ so chieu cua vector angles.\n",
        "for i in range(len(angles)):\n",
        "  sinangle[i] = sysin(angles[i])    #luu y: o day phai enter 2 lan de thoat khoi vong lap for\n",
        "sinangle"
      ],
      "metadata": {
        "colab": {
          "base_uri": "https://localhost:8080/"
        },
        "id": "zTwzUMT3dpjl",
        "outputId": "de054c3b-abc4-4e17-cb2e-9fcab1e01a50"
      },
      "execution_count": 21,
      "outputs": [
        {
          "output_type": "execute_result",
          "data": {
            "text/plain": [
              "array([0.        , 0.38268343, 0.70710678, 0.92387953, 1.        ])"
            ]
          },
          "metadata": {},
          "execution_count": 21
        }
      ]
    },
    {
      "cell_type": "markdown",
      "source": [
        "#Thực hành 5: Tính tổng các tích giữa ma trận và vector. Gỉa định gói thư viện numpy được đưa vào hê thống có tên là np. Dạng:"
      ],
      "metadata": {
        "id": "dzjQSVEygDNX"
      }
    },
    {
      "cell_type": "code",
      "source": [
        "import numpy as np\n",
        "goc = np.pi/3\n",
        "A = np.array([ [np.cos(goc), -np.sin(goc)], [np.sin(goc), np.cos(goc)] ])\n",
        "V = np.array([1., 0.])\n",
        "Y = np.dot(A, V)\n",
        "Y"
      ],
      "metadata": {
        "colab": {
          "base_uri": "https://localhost:8080/"
        },
        "id": "bMxJKmYhgkCV",
        "outputId": "4e085bb3-3b43-400d-f124-cd3be6441f04"
      },
      "execution_count": 22,
      "outputs": [
        {
          "output_type": "execute_result",
          "data": {
            "text/plain": [
              "array([0.5      , 0.8660254])"
            ]
          },
          "metadata": {},
          "execution_count": 22
        }
      ]
    },
    {
      "cell_type": "markdown",
      "source": [
        "#Thực hành 6: Tính toán đạo hàm trên 1 vector dữ liệu\n"
      ],
      "metadata": {
        "id": "q752-nvCju0z"
      }
    },
    {
      "cell_type": "markdown",
      "source": [
        "+Trường hợp dx cố định:\n"
      ],
      "metadata": {
        "id": "zuCufwBvj6JG"
      }
    },
    {
      "cell_type": "code",
      "source": [
        "from numpy import diff\n",
        "dx = 0.1\n",
        "y = [1, 2, 3, 4, 4, 5, 6]\n",
        "dy = diff(y)/dx\n",
        "dy"
      ],
      "metadata": {
        "colab": {
          "base_uri": "https://localhost:8080/"
        },
        "id": "-4u_AtKAhpx0",
        "outputId": "1042bccd-9f84-4824-86a1-2e3c6def76bb"
      },
      "execution_count": 23,
      "outputs": [
        {
          "output_type": "execute_result",
          "data": {
            "text/plain": [
              "array([10., 10., 10.,  0., 10., 10.])"
            ]
          },
          "metadata": {},
          "execution_count": 23
        }
      ]
    },
    {
      "cell_type": "code",
      "source": [
        "z = np.array([1,2,3,4,4,5,6])\n",
        "dz = diff(z)/dx\n",
        "dz"
      ],
      "metadata": {
        "colab": {
          "base_uri": "https://localhost:8080/"
        },
        "id": "9Oi3sEjDkSRP",
        "outputId": "26f5ccaf-5fb2-47bf-9753-5cffa9cec7cf"
      },
      "execution_count": 24,
      "outputs": [
        {
          "output_type": "execute_result",
          "data": {
            "text/plain": [
              "array([10., 10., 10.,  0., 10., 10.])"
            ]
          },
          "metadata": {},
          "execution_count": 24
        }
      ]
    },
    {
      "cell_type": "markdown",
      "source": [
        "+ Trong trường hợp dx là một dãy số:\n"
      ],
      "metadata": {
        "id": "81MttGTm5KC-"
      }
    },
    {
      "cell_type": "code",
      "source": [
        "from numpy import diff\n",
        "x = [.1, .2, .5, .6, .7, .8, .9]\n",
        "y = [1,2,3,4,4,5,6]\n",
        "dydx = diff(y)/diff(x)\n",
        "print(dydx)"
      ],
      "metadata": {
        "id": "Ea9ixZDI5YOc",
        "outputId": "6012ed4a-8f8e-47e9-af85-fd524e051c15",
        "colab": {
          "base_uri": "https://localhost:8080/"
        }
      },
      "execution_count": 25,
      "outputs": [
        {
          "output_type": "stream",
          "name": "stdout",
          "text": [
            "[10.          3.33333333 10.          0.         10.         10.        ]\n"
          ]
        }
      ]
    },
    {
      "cell_type": "markdown",
      "source": [
        "#Thực hành 7: Một số hàm xử lý phẳng(Không gian Euclide)"
      ],
      "metadata": {
        "id": "1uYGQow26Fc1"
      }
    },
    {
      "cell_type": "code",
      "source": [
        "from sympy.geometry import *"
      ],
      "metadata": {
        "id": "7ZAPUvs_6Z00"
      },
      "execution_count": 26,
      "outputs": []
    },
    {
      "cell_type": "code",
      "source": [
        "#Tạo các điểm P1, P2, P3 và P4\n",
        "P1 = Point(0,0)\n",
        "P2 = Point(3,4)\n",
        "P3 = Point(2,-1)\n",
        "P4 = Point(-1,-5)"
      ],
      "metadata": {
        "id": "L3Amby5f6jTG"
      },
      "execution_count": 27,
      "outputs": []
    },
    {
      "cell_type": "code",
      "source": [
        "# Tạo 2 đoạn đường S1 và S2:\n",
        "S1 = Segment(P1,P2)\n",
        "S2 = Segment(P3,P4)"
      ],
      "metadata": {
        "id": "czhJC6hd6_G_"
      },
      "execution_count": 28,
      "outputs": []
    },
    {
      "cell_type": "code",
      "source": [
        "# Kiểm 3 điểm thẳng hàng:\n",
        "Point.is_collinear(P1,P2,P3)"
      ],
      "metadata": {
        "id": "FxZxnGKp7Orj",
        "outputId": "913c6f98-b0c8-4950-d21c-31a596eec419",
        "colab": {
          "base_uri": "https://localhost:8080/"
        }
      },
      "execution_count": 29,
      "outputs": [
        {
          "output_type": "execute_result",
          "data": {
            "text/plain": [
              "False"
            ]
          },
          "metadata": {},
          "execution_count": 29
        }
      ]
    },
    {
      "cell_type": "code",
      "source": [
        "# Độ dài của đoạn đường S1\n",
        "S1.length"
      ],
      "metadata": {
        "id": "1RS5tQ_L7TrX",
        "outputId": "3b99c662-71e3-4fd0-803e-afb4e05c7267",
        "colab": {
          "base_uri": "https://localhost:8080/",
          "height": 0
        }
      },
      "execution_count": 30,
      "outputs": [
        {
          "output_type": "execute_result",
          "data": {
            "text/plain": [
              "5"
            ],
            "text/latex": "$\\displaystyle 5$"
          },
          "metadata": {},
          "execution_count": 30
        }
      ]
    },
    {
      "cell_type": "code",
      "source": [
        "# Lấy trung bình của đoạn 2:\n",
        "S2.midpoint"
      ],
      "metadata": {
        "id": "XwtDtXy17mOd",
        "outputId": "b7b79f2d-7321-481a-d696-043283635da4",
        "colab": {
          "base_uri": "https://localhost:8080/",
          "height": 0
        }
      },
      "execution_count": 31,
      "outputs": [
        {
          "output_type": "execute_result",
          "data": {
            "text/plain": [
              "Point2D(1/2, -3)"
            ],
            "text/latex": "$\\displaystyle Point2D\\left(\\frac{1}{2}, -3\\right)$"
          },
          "metadata": {},
          "execution_count": 31
        }
      ]
    },
    {
      "cell_type": "code",
      "source": [
        "# Tính độ dốc của đường S1\n",
        "S1.slope"
      ],
      "metadata": {
        "id": "8-PGQ6nx7yVP",
        "outputId": "bafa7787-1843-43d1-95a7-fa4bd1aaa3dd",
        "colab": {
          "base_uri": "https://localhost:8080/",
          "height": 0
        }
      },
      "execution_count": 32,
      "outputs": [
        {
          "output_type": "execute_result",
          "data": {
            "text/plain": [
              "4/3"
            ],
            "text/latex": "$\\displaystyle \\frac{4}{3}$"
          },
          "metadata": {},
          "execution_count": 32
        }
      ]
    },
    {
      "cell_type": "code",
      "source": [
        "# Tìm vị trí giao nhau giữa hai đoạn đường\n",
        "S1.intersection(S2)"
      ],
      "metadata": {
        "id": "mm3n2VBY7-8C",
        "outputId": "15cf1897-be2b-4396-e05a-8dcc679a8c49",
        "colab": {
          "base_uri": "https://localhost:8080/"
        }
      },
      "execution_count": 33,
      "outputs": [
        {
          "output_type": "execute_result",
          "data": {
            "text/plain": [
              "[]"
            ]
          },
          "metadata": {},
          "execution_count": 33
        }
      ]
    },
    {
      "cell_type": "code",
      "source": [
        "# Góc giữa hai đoạn đường\n",
        "Segment.angle_between(S1,S2)"
      ],
      "metadata": {
        "id": "Lv5VWmVR8KVn",
        "outputId": "098c647f-ef37-44e8-bd45-2e890cfa74f4",
        "colab": {
          "base_uri": "https://localhost:8080/",
          "height": 0
        }
      },
      "execution_count": 34,
      "outputs": [
        {
          "output_type": "execute_result",
          "data": {
            "text/plain": [
              "pi"
            ],
            "text/latex": "$\\displaystyle \\pi$"
          },
          "metadata": {},
          "execution_count": 34
        }
      ]
    },
    {
      "cell_type": "code",
      "source": [
        "# Kiểm đoạn đường S1 có chứa điểm P3 hay không?\n",
        "S1.contains(P3)"
      ],
      "metadata": {
        "id": "Q6qKI70-8efH",
        "outputId": "632c8463-67f3-4439-f4b9-5adb89a76220",
        "colab": {
          "base_uri": "https://localhost:8080/"
        }
      },
      "execution_count": 35,
      "outputs": [
        {
          "output_type": "execute_result",
          "data": {
            "text/plain": [
              "False"
            ]
          },
          "metadata": {},
          "execution_count": 35
        }
      ]
    },
    {
      "cell_type": "code",
      "source": [
        "# Lập và xem chương trình đường thẳng L1 đi qua 2 điểm P1 và P2:\n",
        "L1 = Line(P1,P2)\n",
        "L1.equation()"
      ],
      "metadata": {
        "id": "kVCje8sh8rLX",
        "outputId": "14ee3176-2a5a-41bb-af38-5d99fa74af17",
        "colab": {
          "base_uri": "https://localhost:8080/",
          "height": 0
        }
      },
      "execution_count": 36,
      "outputs": [
        {
          "output_type": "execute_result",
          "data": {
            "text/plain": [
              "-4*x + 3*y"
            ],
            "text/latex": "$\\displaystyle - 4 x + 3 y$"
          },
          "metadata": {},
          "execution_count": 36
        }
      ]
    },
    {
      "cell_type": "code",
      "source": [
        "# Kiểm tính song song:\n",
        "L1.is_parallel(S1)"
      ],
      "metadata": {
        "id": "GrnXZTC-86-U",
        "outputId": "64bf7031-fe3e-46dc-9b5a-faeb37062b32",
        "colab": {
          "base_uri": "https://localhost:8080/"
        }
      },
      "execution_count": 37,
      "outputs": [
        {
          "output_type": "execute_result",
          "data": {
            "text/plain": [
              "True"
            ]
          },
          "metadata": {},
          "execution_count": 37
        }
      ]
    },
    {
      "cell_type": "code",
      "source": [
        "L1.is_parallel(S2)"
      ],
      "metadata": {
        "id": "h0ZXW-2c9cCW",
        "outputId": "788a792b-1277-44c0-d0ea-7117689b5c93",
        "colab": {
          "base_uri": "https://localhost:8080/"
        }
      },
      "execution_count": 38,
      "outputs": [
        {
          "output_type": "execute_result",
          "data": {
            "text/plain": [
              "True"
            ]
          },
          "metadata": {},
          "execution_count": 38
        }
      ]
    },
    {
      "cell_type": "markdown",
      "source": [
        "# Thực hành 8: Bằng phương pháp đồ thị, hãy cho biết giới hạn của hàm số sau\n"
      ],
      "metadata": {
        "id": "C1K64QG59ouH"
      }
    },
    {
      "cell_type": "code",
      "source": [
        "import sympy\n",
        "from sympy import *"
      ],
      "metadata": {
        "id": "fe_8qW6S-Wss"
      },
      "execution_count": 39,
      "outputs": []
    },
    {
      "cell_type": "code",
      "source": [
        "x = Symbol('x')\n",
        "f = x*sin(1/x)\n",
        "c = Symbol('c')\n",
        "delta = Symbol('delta')\n",
        "c = 0\n",
        "delta = 1/4\n",
        "sympy.plot(f,(x, c - delta, c + delta))\n"
      ],
      "metadata": {
        "id": "uD4TenDy-vtv",
        "outputId": "b1581af8-21fc-4f25-f1f5-27311ac57e1e",
        "colab": {
          "base_uri": "https://localhost:8080/",
          "height": 0
        }
      },
      "execution_count": 40,
      "outputs": [
        {
          "output_type": "display_data",
          "data": {
            "text/plain": [
              "<Figure size 432x288 with 1 Axes>"
            ],
            "image/png": "[encoded data removed]"
          },
          "metadata": {
            "needs_background": "light"
          }
        },
        {
          "output_type": "execute_result",
          "data": {
            "text/plain": [
              "<sympy.plotting.plot.Plot at 0x7f10c3130a50>"
            ]
          },
          "metadata": {},
          "execution_count": 40
        }
      ]
    },
    {
      "cell_type": "code",
      "source": [
        "sympy.plot(f,abs(x), -abs(x), (x, c - delta, c + delta))"
      ],
      "metadata": {
        "id": "WP45c7OTHLVw",
        "outputId": "370ceb8d-c6a4-499e-b708-7eac92d7ddd6",
        "colab": {
          "base_uri": "https://localhost:8080/",
          "height": 0
        }
      },
      "execution_count": 41,
      "outputs": [
        {
          "output_type": "display_data",
          "data": {
            "text/plain": [
              "<Figure size 432x288 with 1 Axes>"
            ],
            "image/png": "[encoded data removed]"
          },
          "metadata": {
            "needs_background": "light"
          }
        },
        {
          "output_type": "execute_result",
          "data": {
            "text/plain": [
              "<sympy.plotting.plot.Plot at 0x7f10c2fd7dd0>"
            ]
          },
          "metadata": {},
          "execution_count": 41
        }
      ]
    },
    {
      "cell_type": "markdown",
      "source": [
        "# Thực hành 9: Tìm giá trị cực đại của hàm\n"
      ],
      "metadata": {
        "id": "xsuqYETgHjym"
      }
    },
    {
      "cell_type": "code",
      "source": [
        "from sympy import Symbol, solve, Derivative"
      ],
      "metadata": {
        "id": "w2DzMflgH5BI"
      },
      "execution_count": 42,
      "outputs": []
    },
    {
      "cell_type": "code",
      "source": [
        "x = Symbol('x')\n",
        "f = -x**2 + 4*x - 3\n",
        "d1 = Derivative(f,x).doit()\n",
        "d1"
      ],
      "metadata": {
        "id": "HeybEWYTIJZB",
        "outputId": "482771b8-1ead-4518-f9fd-7fdf943330c6",
        "colab": {
          "base_uri": "https://localhost:8080/",
          "height": 0
        }
      },
      "execution_count": 43,
      "outputs": [
        {
          "output_type": "execute_result",
          "data": {
            "text/plain": [
              "4 - 2*x"
            ],
            "text/latex": "$\\displaystyle 4 - 2 x$"
          },
          "metadata": {},
          "execution_count": 43
        }
      ]
    },
    {
      "cell_type": "code",
      "source": [
        "cuctri = solve(d1)\n",
        "cuctri"
      ],
      "metadata": {
        "id": "46MC02q_IYXe",
        "outputId": "413cb108-73f3-4b62-d860-4aaa40edde60",
        "colab": {
          "base_uri": "https://localhost:8080/"
        }
      },
      "execution_count": 44,
      "outputs": [
        {
          "output_type": "execute_result",
          "data": {
            "text/plain": [
              "[2]"
            ]
          },
          "metadata": {},
          "execution_count": 44
        }
      ]
    },
    {
      "cell_type": "code",
      "source": [
        "A = cuctri[0]\n",
        "d2 = Derivative(d1, x).doit()\n",
        "d2.subs({x:A}).evalf()"
      ],
      "metadata": {
        "id": "NqlK2vynIiV3",
        "outputId": "19bf9f12-4451-47a4-c512-b42c11d5f811",
        "colab": {
          "base_uri": "https://localhost:8080/",
          "height": 0
        }
      },
      "execution_count": 45,
      "outputs": [
        {
          "output_type": "execute_result",
          "data": {
            "text/plain": [
              "-2.00000000000000"
            ],
            "text/latex": "$\\displaystyle -2.0$"
          },
          "metadata": {},
          "execution_count": 45
        }
      ]
    },
    {
      "cell_type": "code",
      "source": [
        "x_min = 0\n",
        "x_max = 4\n",
        "f.subs({x:A}).evalf()"
      ],
      "metadata": {
        "id": "v_P5z70TI7ZX",
        "outputId": "34bac7ef-0232-4bda-bc22-26182aedc22f",
        "colab": {
          "base_uri": "https://localhost:8080/",
          "height": 0
        }
      },
      "execution_count": 46,
      "outputs": [
        {
          "output_type": "execute_result",
          "data": {
            "text/plain": [
              "1.00000000000000"
            ],
            "text/latex": "$\\displaystyle 1.0$"
          },
          "metadata": {},
          "execution_count": 46
        }
      ]
    },
    {
      "cell_type": "code",
      "source": [
        "f.subs({x:x_min}).evalf()"
      ],
      "metadata": {
        "id": "N6OoaH0NJN8X",
        "outputId": "f1534a4d-62dd-49e8-b8d2-a7ab1f9d5d13",
        "colab": {
          "base_uri": "https://localhost:8080/",
          "height": 0
        }
      },
      "execution_count": 47,
      "outputs": [
        {
          "output_type": "execute_result",
          "data": {
            "text/plain": [
              "-3.00000000000000"
            ],
            "text/latex": "$\\displaystyle -3.0$"
          },
          "metadata": {},
          "execution_count": 47
        }
      ]
    },
    {
      "cell_type": "code",
      "source": [
        "f.subs({x:x_max}).evalf()"
      ],
      "metadata": {
        "id": "O1Dui2t-JTBG",
        "outputId": "f28c8e8e-4bb6-460f-ba14-0677da7ae8d7",
        "colab": {
          "base_uri": "https://localhost:8080/",
          "height": 0
        }
      },
      "execution_count": 48,
      "outputs": [
        {
          "output_type": "execute_result",
          "data": {
            "text/plain": [
              "-3.00000000000000"
            ],
            "text/latex": "$\\displaystyle -3.0$"
          },
          "metadata": {},
          "execution_count": 48
        }
      ]
    },
    {
      "cell_type": "markdown",
      "source": [
        "# Thực hành 10: Tìm diện tích cực đại để lắp các tấm pin mặt trời trên một sân phăng có hình parabol\n"
      ],
      "metadata": {
        "id": "9HiVXUsmJjYk"
      }
    },
    {
      "cell_type": "code",
      "source": [
        "from sympy import *"
      ],
      "metadata": {
        "id": "y3c51ExgO3_E"
      },
      "execution_count": 49,
      "outputs": []
    },
    {
      "cell_type": "code",
      "source": [
        "x = Symbol('x')\n",
        "a = Symbol('a')\n",
        "A = -2*x**3 + 2*a*x\n",
        "A"
      ],
      "metadata": {
        "id": "5cF7qZ3SPHjs",
        "outputId": "cf383572-a9de-4a20-8edf-d33353f8d333",
        "colab": {
          "base_uri": "https://localhost:8080/",
          "height": 39
        }
      },
      "execution_count": 50,
      "outputs": [
        {
          "output_type": "execute_result",
          "data": {
            "text/plain": [
              "2*a*x - 2*x**3"
            ],
            "text/latex": "$\\displaystyle 2 a x - 2 x^{3}$"
          },
          "metadata": {},
          "execution_count": 50
        }
      ]
    },
    {
      "cell_type": "code",
      "source": [
        "d1 = Derivative(A,x).doit()\n",
        "d1"
      ],
      "metadata": {
        "id": "nHmPyZ-tWP1F",
        "outputId": "b3c076f8-dbf7-40d3-e803-c654bad6af75",
        "colab": {
          "base_uri": "https://localhost:8080/",
          "height": 39
        }
      },
      "execution_count": 51,
      "outputs": [
        {
          "output_type": "execute_result",
          "data": {
            "text/plain": [
              "2*a - 6*x**2"
            ],
            "text/latex": "$\\displaystyle 2 a - 6 x^{2}$"
          },
          "metadata": {},
          "execution_count": 51
        }
      ]
    },
    {
      "cell_type": "code",
      "source": [
        "cuctri = solve(d1,x)\n",
        "cuctri"
      ],
      "metadata": {
        "id": "bB0mqsRfQWqz",
        "outputId": "ea2b056c-ae74-49d7-8e6c-36b78f021220",
        "colab": {
          "base_uri": "https://localhost:8080/"
        }
      },
      "execution_count": 52,
      "outputs": [
        {
          "output_type": "execute_result",
          "data": {
            "text/plain": [
              "[-sqrt(3)*sqrt(a)/3, sqrt(3)*sqrt(a)/3]"
            ]
          },
          "metadata": {},
          "execution_count": 52
        }
      ]
    },
    {
      "cell_type": "code",
      "source": [
        "B = cuctri\n",
        "d2 = Derivative(d1, x).doit()\n",
        "d2.subs({x:B}).evalf()"
      ],
      "metadata": {
        "id": "IzuJBSnSQ3MN",
        "outputId": "49c622a3-ecbd-4840-8a3a-f249508e5183",
        "colab": {
          "base_uri": "https://localhost:8080/",
          "height": 39
        }
      },
      "execution_count": 53,
      "outputs": [
        {
          "output_type": "execute_result",
          "data": {
            "text/plain": [
              "-12.0*x"
            ],
            "text/latex": "$\\displaystyle - 12.0 x$"
          },
          "metadata": {},
          "execution_count": 53
        }
      ]
    },
    {
      "cell_type": "code",
      "source": [
        "x_1 = 0\n",
        "A.subs({x:x_1}).evalf()"
      ],
      "metadata": {
        "id": "4-xpda4RaluY",
        "outputId": "9727c295-e09c-435a-f341-ef2b601cf242",
        "colab": {
          "base_uri": "https://localhost:8080/",
          "height": 38
        }
      },
      "execution_count": 54,
      "outputs": [
        {
          "output_type": "execute_result",
          "data": {
            "text/plain": [
              "0"
            ],
            "text/latex": "$\\displaystyle 0$"
          },
          "metadata": {},
          "execution_count": 54
        }
      ]
    },
    {
      "cell_type": "code",
      "source": [
        "x_2 = sqrt(a)\n",
        "A.subs({x:x_2}).evalf()"
      ],
      "metadata": {
        "id": "o2vXA0KCV_Al",
        "outputId": "14b53fbf-9792-49ad-b30c-dc1227f0e254",
        "colab": {
          "base_uri": "https://localhost:8080/",
          "height": 38
        }
      },
      "execution_count": 55,
      "outputs": [
        {
          "output_type": "execute_result",
          "data": {
            "text/plain": [
              "0"
            ],
            "text/latex": "$\\displaystyle 0$"
          },
          "metadata": {},
          "execution_count": 55
        }
      ]
    },
    {
      "cell_type": "code",
      "source": [
        "x_3 = cuctri[1] # do x nam trong doan [0, sqrt(a)]\n",
        "x_3"
      ],
      "metadata": {
        "id": "QHpSn3qukEJJ",
        "outputId": "f5f92d62-142d-4753-dcb9-e47c4880ed03",
        "colab": {
          "base_uri": "https://localhost:8080/",
          "height": 55
        }
      },
      "execution_count": 56,
      "outputs": [
        {
          "output_type": "execute_result",
          "data": {
            "text/plain": [
              "sqrt(3)*sqrt(a)/3"
            ],
            "text/latex": "$\\displaystyle \\frac{\\sqrt{3} \\sqrt{a}}{3}$"
          },
          "metadata": {},
          "execution_count": 56
        }
      ]
    },
    {
      "cell_type": "code",
      "source": [
        "A.subs({x:x_3}).evalf()"
      ],
      "metadata": {
        "id": "VetrfcQ_kY0K",
        "outputId": "c0293afe-e2f6-49b2-80b2-dc3da4c2d089",
        "colab": {
          "base_uri": "https://localhost:8080/",
          "height": 39
        }
      },
      "execution_count": 57,
      "outputs": [
        {
          "output_type": "execute_result",
          "data": {
            "text/plain": [
              "0.769800358919501*a**1.5"
            ],
            "text/latex": "$\\displaystyle 0.769800358919501 a^{1.5}$"
          },
          "metadata": {},
          "execution_count": 57
        }
      ]
    },
    {
      "cell_type": "markdown",
      "source": [
        "# Thực hành 11: Bài toán Black Friday - Tìm giá tốt cho đợt giảm giá điện thoại iPhone 11 cuối năm"
      ],
      "metadata": {
        "id": "kRagKMcqtQMJ"
      }
    },
    {
      "cell_type": "code",
      "source": [
        "from sympy import *"
      ],
      "metadata": {
        "id": "qH0f6AOWod-a"
      },
      "execution_count": 67,
      "outputs": []
    },
    {
      "cell_type": "code",
      "source": [
        "x = Symbol('x')\n",
        "n = 5000 + 1000*((1500 - x)/100)\n",
        "n"
      ],
      "metadata": {
        "id": "tv3FyqZeojLF",
        "outputId": "85f6469b-8913-4b2a-854a-d09f87bb6c6a",
        "colab": {
          "base_uri": "https://localhost:8080/",
          "height": 39
        }
      },
      "execution_count": 77,
      "outputs": [
        {
          "output_type": "execute_result",
          "data": {
            "text/plain": [
              "20000 - 10*x"
            ],
            "text/latex": "$\\displaystyle 20000 - 10 x$"
          },
          "metadata": {},
          "execution_count": 77
        }
      ]
    },
    {
      "cell_type": "code",
      "source": [
        "P = n*x - 2000000 - 500*n\n",
        "P"
      ],
      "metadata": {
        "id": "9xf9lAQZpAt7",
        "outputId": "e6dc2e61-3e69-4a21-a5ec-a918e211338b",
        "colab": {
          "base_uri": "https://localhost:8080/",
          "height": 39
        }
      },
      "execution_count": 78,
      "outputs": [
        {
          "output_type": "execute_result",
          "data": {
            "text/plain": [
              "x*(20000 - 10*x) + 5000*x - 12000000"
            ],
            "text/latex": "$\\displaystyle x \\left(20000 - 10 x\\right) + 5000 x - 12000000$"
          },
          "metadata": {},
          "execution_count": 78
        }
      ]
    },
    {
      "cell_type": "code",
      "source": [
        "P1 = Derivative(P,x).doit()\n",
        "P1"
      ],
      "metadata": {
        "id": "4VLeQBStprcc",
        "outputId": "7c534087-c5f5-41f7-a56d-87236efb6846",
        "colab": {
          "base_uri": "https://localhost:8080/",
          "height": 39
        }
      },
      "execution_count": 79,
      "outputs": [
        {
          "output_type": "execute_result",
          "data": {
            "text/plain": [
              "25000 - 20*x"
            ],
            "text/latex": "$\\displaystyle 25000 - 20 x$"
          },
          "metadata": {},
          "execution_count": 79
        }
      ]
    },
    {
      "cell_type": "code",
      "source": [
        "cuctri = solve(P1)\n",
        "cuctri"
      ],
      "metadata": {
        "id": "qPJtglEQp2Lm",
        "outputId": "801823ff-67cd-48da-8a94-e7cce5150ae0",
        "colab": {
          "base_uri": "https://localhost:8080/"
        }
      },
      "execution_count": 84,
      "outputs": [
        {
          "output_type": "execute_result",
          "data": {
            "text/plain": [
              "[1250]"
            ]
          },
          "metadata": {},
          "execution_count": 84
        }
      ]
    },
    {
      "cell_type": "code",
      "source": [
        "x_P = cuctri[0]\n",
        "x_P"
      ],
      "metadata": {
        "id": "Us7txk4gqGDL",
        "outputId": "18a98ae1-14bb-4530-8cad-940c79515d67",
        "colab": {
          "base_uri": "https://localhost:8080/",
          "height": 38
        }
      },
      "execution_count": 86,
      "outputs": [
        {
          "output_type": "execute_result",
          "data": {
            "text/plain": [
              "1250"
            ],
            "text/latex": "$\\displaystyle 1250$"
          },
          "metadata": {},
          "execution_count": 86
        }
      ]
    },
    {
      "cell_type": "code",
      "source": [
        "P2 = Derivative(P1,x).doit()\n",
        "P2"
      ],
      "metadata": {
        "id": "H1FBXBsRqcxp",
        "outputId": "16e883ea-f301-4bc1-9a3c-75b94ef3088b",
        "colab": {
          "base_uri": "https://localhost:8080/",
          "height": 38
        }
      },
      "execution_count": 87,
      "outputs": [
        {
          "output_type": "execute_result",
          "data": {
            "text/plain": [
              "-20"
            ],
            "text/latex": "$\\displaystyle -20$"
          },
          "metadata": {},
          "execution_count": 87
        }
      ]
    },
    {
      "cell_type": "markdown",
      "source": [
        "![image.png](data:image/png;base64,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)"
      ],
      "metadata": {
        "id": "IW6ES23JqoO6"
      }
    },
    {
      "cell_type": "code",
      "source": [
        "P.subs({x:0}).evalf()"
      ],
      "metadata": {
        "id": "h_jeOfCMqrTP",
        "outputId": "2e37ca63-6427-4002-c4ef-cf775449a365",
        "colab": {
          "base_uri": "https://localhost:8080/",
          "height": 38
        }
      },
      "execution_count": 88,
      "outputs": [
        {
          "output_type": "execute_result",
          "data": {
            "text/plain": [
              "-12000000.0000000"
            ],
            "text/latex": "$\\displaystyle -12000000.0$"
          },
          "metadata": {},
          "execution_count": 88
        }
      ]
    },
    {
      "cell_type": "code",
      "source": [
        "lnh = P.subs({x:1250}).evalf()\n",
        "lnh"
      ],
      "metadata": {
        "id": "6xHYxUXUqzS2",
        "outputId": "15e81244-b043-452c-d2b1-792854e5933c",
        "colab": {
          "base_uri": "https://localhost:8080/",
          "height": 38
        }
      },
      "execution_count": 91,
      "outputs": [
        {
          "output_type": "execute_result",
          "data": {
            "text/plain": [
              "3625000.00000000"
            ],
            "text/latex": "$\\displaystyle 3625000.0$"
          },
          "metadata": {},
          "execution_count": 91
        }
      ]
    },
    {
      "cell_type": "code",
      "source": [
        "P.subs({x:1500}).evalf()"
      ],
      "metadata": {
        "id": "7F21YPTOq4iC",
        "outputId": "6b962734-049b-4433-a535-2541c82b29f7",
        "colab": {
          "base_uri": "https://localhost:8080/",
          "height": 38
        }
      },
      "execution_count": 90,
      "outputs": [
        {
          "output_type": "execute_result",
          "data": {
            "text/plain": [
              "3000000.00000000"
            ],
            "text/latex": "$\\displaystyle 3000000.0$"
          },
          "metadata": {},
          "execution_count": 90
        }
      ]
    },
    {
      "cell_type": "code",
      "source": [
        "print(f'loi nhuan toi da: ${lnh}')"
      ],
      "metadata": {
        "id": "mqeUg9CRrBEt",
        "outputId": "2fd77f4e-e809-43d7-b534-715a1d8449b2",
        "colab": {
          "base_uri": "https://localhost:8080/"
        }
      },
      "execution_count": 92,
      "outputs": [
        {
          "output_type": "stream",
          "name": "stdout",
          "text": [
            "loi nhuan toi da: $3625000.00000000\n"
          ]
        }
      ]
    },
    {
      "cell_type": "markdown",
      "source": [
        "# Thực hành 12: Bài toán Cung - Cầu"
      ],
      "metadata": {
        "id": "-rBDBlFCKqFU"
      }
    },
    {
      "cell_type": "code",
      "source": [
        "from sympy import Symbol, solve, Derivative, Integral"
      ],
      "metadata": {
        "id": "l6zQ8CnCSGRi"
      },
      "execution_count": 58,
      "outputs": []
    },
    {
      "cell_type": "code",
      "source": [
        "q = Symbol('q')\n",
        "# Quy luat cau: p = d(q) = -0.8q + 150\n",
        "p1 = -0.8*q + 150\n",
        "# Quy luat cung: p = s(q) = 5.2q\n",
        "p2 = 5.2*q\n",
        "# Phuong trinh\n",
        "Q = 6*q - 150 # p = d(q) = s(q)"
      ],
      "metadata": {
        "id": "FtGC_ahzSQ6P"
      },
      "execution_count": 59,
      "outputs": []
    },
    {
      "cell_type": "code",
      "source": [
        "A = solve(Q,q)\n",
        "A[0]"
      ],
      "metadata": {
        "id": "PxH5ISkJTspn",
        "outputId": "f1983578-7343-4663-ab14-8e2aca29758c",
        "colab": {
          "base_uri": "https://localhost:8080/",
          "height": 38
        }
      },
      "execution_count": 60,
      "outputs": [
        {
          "output_type": "execute_result",
          "data": {
            "text/plain": [
              "25"
            ],
            "text/latex": "$\\displaystyle 25$"
          },
          "metadata": {},
          "execution_count": 60
        }
      ]
    },
    {
      "cell_type": "code",
      "source": [
        "p1.subs({q:A[0]}).evalf() # moi thang ban duoc 25 xe voi q"
      ],
      "metadata": {
        "id": "U37UAlKSU-Le",
        "outputId": "39e63173-bc83-4d96-cea2-15e9422639f2",
        "colab": {
          "base_uri": "https://localhost:8080/",
          "height": 38
        }
      },
      "execution_count": 61,
      "outputs": [
        {
          "output_type": "execute_result",
          "data": {
            "text/plain": [
              "130.000000000000"
            ],
            "text/latex": "$\\displaystyle 130.0$"
          },
          "metadata": {},
          "execution_count": 61
        }
      ]
    },
    {
      "cell_type": "code",
      "source": [
        "from pylab import plot, show\n",
        "import matplotlib.pyplot as plt\n",
        "\n",
        "y1 = [5, 10, 15, 25]\n",
        "y2 = [4, 8, 16, 25]\n",
        "\n",
        "plt.plot(y1, marker = 'p', color='green')\n",
        "plt.plot(y2, marker = 'h', color='purple')\n",
        "\n",
        "plt.show()"
      ],
      "metadata": {
        "id": "QlSdi0avdQH_",
        "outputId": "310841a1-d45a-4de0-e9f2-b4e4421eec7b",
        "colab": {
          "base_uri": "https://localhost:8080/",
          "height": 265
        }
      },
      "execution_count": 62,
      "outputs": [
        {
          "output_type": "display_data",
          "data": {
            "text/plain": [
              "<Figure size 432x288 with 1 Axes>"
            ],
            "image/png": "[encoded data removed]"
          },
          "metadata": {
            "needs_background": "light"
          }
        }
      ]
    },
    {
      "cell_type": "code",
      "source": [
        "# Tong so tien nguoi mua phai tra du/ cao hon(consumer surplus):\n",
        "Cs = Integral(p1, (q, 0, 25)).doit() - 130*25\n",
        "Cs"
      ],
      "metadata": {
        "id": "5dKJl4q0WePu",
        "outputId": "377478e0-b075-4d62-b1d0-9d0f64f06412",
        "colab": {
          "base_uri": "https://localhost:8080/",
          "height": 38
        }
      },
      "execution_count": 63,
      "outputs": [
        {
          "output_type": "execute_result",
          "data": {
            "text/plain": [
              "250.000000000000"
            ],
            "text/latex": "$\\displaystyle 250.0$"
          },
          "metadata": {},
          "execution_count": 63
        }
      ]
    },
    {
      "cell_type": "code",
      "source": [
        "# Tong so tien mà san pham thu du duoc (producer surplus):\n",
        "Ps = 130*25 - Integral(p2, (q, 0, 25)).doit()\n",
        "Ps"
      ],
      "metadata": {
        "id": "FV8J-WcDch4M",
        "outputId": "538e8355-b10b-4722-c291-1ed409077e16",
        "colab": {
          "base_uri": "https://localhost:8080/",
          "height": 38
        }
      },
      "execution_count": 64,
      "outputs": [
        {
          "output_type": "execute_result",
          "data": {
            "text/plain": [
              "1625.00000000000"
            ],
            "text/latex": "$\\displaystyle 1625.0$"
          },
          "metadata": {},
          "execution_count": 64
        }
      ]
    },
    {
      "cell_type": "markdown",
      "source": [
        "# Thực hành 13: Bài toán lợi nhuận đầu tư"
      ],
      "metadata": {
        "id": "WxNC-0AnJZHs"
      }
    },
    {
      "cell_type": "code",
      "source": [
        "from sympy import Symbol, Integral, exp"
      ],
      "metadata": {
        "id": "u1PxBcMGl8k8"
      },
      "execution_count": 65,
      "outputs": []
    },
    {
      "cell_type": "code",
      "source": [
        "t = Symbol(\"t\")\n",
        "\n",
        "F = 62 + 8*t # hàm tính theo thu nhập các năm tiếp theo sẽ tăng thêm 8 đồng\n",
        "m = float(input('nhap gia tri thu lai nam dau: '))\n",
        "\n",
        "# lợi nhuận của nhóm khởi nghiệp\n",
        "a = m*exp(-0.017*t)\n",
        "b = F*exp(-0.017*t)\n",
        "pf = Integral(a, (t, 0, 1)).doit() + Integral(b, (t, 1, 8)).doit()\n",
        "pf "
      ],
      "metadata": {
        "id": "dgNHGid-nSHW",
        "outputId": "0dabaa07-9b41-48ef-d5c3-1f73b5b19f52",
        "colab": {
          "base_uri": "https://localhost:8080/",
          "height": 54
        }
      },
      "execution_count": 66,
      "outputs": [
        {
          "name": "stdout",
          "output_type": "stream",
          "text": [
            "nhap gia tri thu lai nam dau: 70\n"
          ]
        },
        {
          "output_type": "execute_result",
          "data": {
            "text/plain": [
              "701.659163940087"
            ],
            "text/latex": "$\\displaystyle 701.659163940087$"
          },
          "metadata": {},
          "execution_count": 66
        }
      ]
    }
  ]
}
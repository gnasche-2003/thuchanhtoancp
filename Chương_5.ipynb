{
  "nbformat": 4,
  "nbformat_minor": 0,
  "metadata": {
    "colab": {
      "name": "Chương 5.ipynb",
      "provenance": [],
      "authorship_tag": "ABX9TyM7f8uYJV/cItjBw9/isNQB",
      "include_colab_link": true
    },
    "kernelspec": {
      "name": "python3",
      "display_name": "Python 3"
    },
    "language_info": {
      "name": "python"
    }
  },
  "cells": [
    {
      "cell_type": "markdown",
      "metadata": {
        "id": "view-in-github",
        "colab_type": "text"
      },
      "source": [
        "<a href=\"https://colab.research.google.com/github/gnasche-2003/thuchanhtoancp/blob/main/Ch%C6%B0%C6%A1ng_5.ipynb\" target=\"_parent\"><img src=\"https://colab.research.google.com/assets/colab-badge.svg\" alt=\"Open In Colab\"/></a>"
      ]
    },
    {
      "cell_type": "markdown",
      "source": [
        "#Chương 5\n"
      ],
      "metadata": {
        "id": "CxRbQbd1TZoe"
      }
    },
    {
      "cell_type": "markdown",
      "source": [
        "#Thực hành 1: Lặp để tìm nghiệm"
      ],
      "metadata": {
        "id": "R13ChVBhV7EK"
      }
    },
    {
      "cell_type": "code",
      "source": [
        "x = 3\n",
        "print(x)"
      ],
      "metadata": {
        "colab": {
          "base_uri": "https://localhost:8080/"
        },
        "id": "bhQZlLjvWF-4",
        "outputId": "bf727118-1c3a-456d-fc56-9b57dc3ed87a"
      },
      "execution_count": 91,
      "outputs": [
        {
          "output_type": "stream",
          "name": "stdout",
          "text": [
            "3\n"
          ]
        }
      ]
    },
    {
      "cell_type": "code",
      "source": [
        "import math\n",
        "x = math.sqrt(1+x)\n",
        "print(x)"
      ],
      "metadata": {
        "colab": {
          "base_uri": "https://localhost:8080/"
        },
        "id": "tx9Z-1CKWOXf",
        "outputId": "8c21de2b-d766-46c2-d929-0cbf26197f38"
      },
      "execution_count": 92,
      "outputs": [
        {
          "output_type": "stream",
          "name": "stdout",
          "text": [
            "2.0\n"
          ]
        }
      ]
    },
    {
      "cell_type": "code",
      "source": [
        "import math\n",
        "x = math.sqrt(1+x)\n",
        "print(x)"
      ],
      "metadata": {
        "colab": {
          "base_uri": "https://localhost:8080/"
        },
        "id": "eNGvoORdWdGW",
        "outputId": "7d050ee2-3a57-44bb-ee7b-2cc1fa191db8"
      },
      "execution_count": 93,
      "outputs": [
        {
          "output_type": "stream",
          "name": "stdout",
          "text": [
            "1.7320508075688772\n"
          ]
        }
      ]
    },
    {
      "cell_type": "code",
      "source": [
        "import math\n",
        "x = math.sqrt(1+x)\n",
        "print(x)"
      ],
      "metadata": {
        "colab": {
          "base_uri": "https://localhost:8080/"
        },
        "id": "9O21kpPSW0gj",
        "outputId": "2cbcd80b-d074-47c2-96ee-cbd505e7ea67"
      },
      "execution_count": 94,
      "outputs": [
        {
          "output_type": "stream",
          "name": "stdout",
          "text": [
            "1.6528916502810695\n"
          ]
        }
      ]
    },
    {
      "cell_type": "code",
      "source": [
        "import math\n",
        "x = math.sqrt(x)\n",
        "print(x)"
      ],
      "metadata": {
        "colab": {
          "base_uri": "https://localhost:8080/"
        },
        "id": "l0cOznoIXbjq",
        "outputId": "addeeffc-9201-4cfa-9c9c-b84ecc91d9a5"
      },
      "execution_count": 95,
      "outputs": [
        {
          "output_type": "stream",
          "name": "stdout",
          "text": [
            "1.2856483384973783\n"
          ]
        }
      ]
    },
    {
      "cell_type": "markdown",
      "source": [
        "#Thực hành 2: Lặp trình whlie để tìm nghiệm\n"
      ],
      "metadata": {
        "id": "z1Gcx4DZX9Dk"
      }
    },
    {
      "cell_type": "code",
      "source": [
        "import math\n",
        "x = 3\n",
        "lap = 1\n",
        "while (x != math.sqrt(x + 1)):\n",
        "  x = math.sqrt(x + 1)\n",
        "  lap += 1\n",
        "x"
      ],
      "metadata": {
        "colab": {
          "base_uri": "https://localhost:8080/"
        },
        "id": "pwJSnzX6YGPE",
        "outputId": "ea5e91d7-9b9e-451a-83c6-7290ed75393d"
      },
      "execution_count": 96,
      "outputs": [
        {
          "output_type": "execute_result",
          "data": {
            "text/plain": [
              "1.618033988749895"
            ]
          },
          "metadata": {},
          "execution_count": 96
        }
      ]
    },
    {
      "cell_type": "code",
      "source": [
        "lap "
      ],
      "metadata": {
        "colab": {
          "base_uri": "https://localhost:8080/"
        },
        "id": "E12OcKngYX8U",
        "outputId": "9698c236-4d2f-4936-e23e-33eba510b63c"
      },
      "execution_count": 97,
      "outputs": [
        {
          "output_type": "execute_result",
          "data": {
            "text/plain": [
              "32"
            ]
          },
          "metadata": {},
          "execution_count": 97
        }
      ]
    },
    {
      "cell_type": "markdown",
      "source": [
        "#Thực hành 3: Giải phương trình bằng hàm solve trong sympy\n"
      ],
      "metadata": {
        "id": "xU24nR6XYbH0"
      }
    },
    {
      "cell_type": "code",
      "source": [
        "import sympy as sp\n",
        "from sympy import Symbol\n",
        "x = Symbol('x')\n",
        "sp.solve(x-sp.sqrt(1 + x), x)"
      ],
      "metadata": {
        "colab": {
          "base_uri": "https://localhost:8080/"
        },
        "id": "0KewmdH7YmKC",
        "outputId": "f9a5198c-d378-4368-a879-477a3d4e4815"
      },
      "execution_count": 98,
      "outputs": [
        {
          "output_type": "execute_result",
          "data": {
            "text/plain": [
              "[1/2 + sqrt(5)/2]"
            ]
          },
          "metadata": {},
          "execution_count": 98
        }
      ]
    },
    {
      "cell_type": "markdown",
      "source": [
        "#Thực hành 4:Các phép toán trên vector\n"
      ],
      "metadata": {
        "id": "fFBEYB7FZQbe"
      }
    },
    {
      "cell_type": "code",
      "source": [
        "import numpy as np\n",
        "v1 = np.array([1.,2.,3.]) # tao vector 3 chieu\n",
        "v2 = np.array([2.,1.,0.])\n",
        "v3 = v1 + v2 # cong vector\n",
        "v3"
      ],
      "metadata": {
        "colab": {
          "base_uri": "https://localhost:8080/"
        },
        "id": "ym6TNhiBZMpe",
        "outputId": "91caad9d-6ab3-4a1b-ec8b-7a3d67b7fce6"
      },
      "execution_count": 99,
      "outputs": [
        {
          "output_type": "execute_result",
          "data": {
            "text/plain": [
              "array([3., 3., 3.])"
            ]
          },
          "metadata": {},
          "execution_count": 99
        }
      ]
    },
    {
      "cell_type": "markdown",
      "source": [
        "Thực hiện phép toán trên vector"
      ],
      "metadata": {
        "id": "SKW5ptCQamP7"
      }
    },
    {
      "cell_type": "code",
      "source": [
        "3*v1 + 2*v2"
      ],
      "metadata": {
        "colab": {
          "base_uri": "https://localhost:8080/"
        },
        "id": "GM7wI3aOaD6_",
        "outputId": "d25935d0-4f3c-408f-9dcb-4c471fc84085"
      },
      "execution_count": 100,
      "outputs": [
        {
          "output_type": "execute_result",
          "data": {
            "text/plain": [
              "array([7., 8., 9.])"
            ]
          },
          "metadata": {},
          "execution_count": 100
        }
      ]
    },
    {
      "cell_type": "markdown",
      "source": [
        "So sánh numpy.array với list trong python"
      ],
      "metadata": {
        "id": "7XSBJk1daxrg"
      }
    },
    {
      "cell_type": "code",
      "source": [
        "[1,2,3] + [2,1,0]"
      ],
      "metadata": {
        "colab": {
          "base_uri": "https://localhost:8080/"
        },
        "id": "Nocu0NwxaHsK",
        "outputId": "f159a74f-1d12-4521-9e3b-af07a1a0a417"
      },
      "execution_count": 101,
      "outputs": [
        {
          "output_type": "execute_result",
          "data": {
            "text/plain": [
              "[1, 2, 3, 2, 1, 0]"
            ]
          },
          "metadata": {},
          "execution_count": 101
        }
      ]
    },
    {
      "cell_type": "code",
      "source": [
        "3*[1,2,3] + 2*[2,1,0]"
      ],
      "metadata": {
        "colab": {
          "base_uri": "https://localhost:8080/"
        },
        "id": "QetcYZE_aP8P",
        "outputId": "3eca5262-38d8-41c5-ddaa-f490ef8cffbf"
      },
      "execution_count": 102,
      "outputs": [
        {
          "output_type": "execute_result",
          "data": {
            "text/plain": [
              "[1, 2, 3, 1, 2, 3, 1, 2, 3, 2, 1, 0, 2, 1, 0]"
            ]
          },
          "metadata": {},
          "execution_count": 102
        }
      ]
    },
    {
      "cell_type": "markdown",
      "source": [
        "Ghép nối(Concatenating) 2 hoặc nhiều vector"
      ],
      "metadata": {
        "id": "Kj1TNBRdbBtG"
      }
    },
    {
      "cell_type": "code",
      "source": [
        "v4 = np.hstack([v1, v2])\n",
        "v4"
      ],
      "metadata": {
        "colab": {
          "base_uri": "https://localhost:8080/"
        },
        "id": "ZICLJrScaUIf",
        "outputId": "41755455-f9cd-4f29-b0ee-e9fe00622ee7"
      },
      "execution_count": 103,
      "outputs": [
        {
          "output_type": "execute_result",
          "data": {
            "text/plain": [
              "array([1., 2., 3., 2., 1., 0.])"
            ]
          },
          "metadata": {},
          "execution_count": 103
        }
      ]
    },
    {
      "cell_type": "markdown",
      "source": [
        "Phép nhân vô hướng 2 vector:\n"
      ],
      "metadata": {
        "id": "SSarWfg3bbaQ"
      }
    },
    {
      "cell_type": "code",
      "source": [
        "np.dot(v1,v2)"
      ],
      "metadata": {
        "colab": {
          "base_uri": "https://localhost:8080/"
        },
        "id": "Fl4EnI3WbqFK",
        "outputId": "5ee720a0-e740-4322-b23d-49ec2ac483f4"
      },
      "execution_count": 104,
      "outputs": [
        {
          "output_type": "execute_result",
          "data": {
            "text/plain": [
              "4.0"
            ]
          },
          "metadata": {},
          "execution_count": 104
        }
      ]
    },
    {
      "cell_type": "markdown",
      "source": [
        "Tính toán giá trị sin của vector"
      ],
      "metadata": {
        "id": "TSUBtu9lbyvC"
      }
    },
    {
      "cell_type": "code",
      "source": [
        "angles = np.linspace(0, np.pi/2, 5)\n",
        "angles"
      ],
      "metadata": {
        "colab": {
          "base_uri": "https://localhost:8080/"
        },
        "id": "f-uqB7Rdb2Yq",
        "outputId": "0df0c32a-f390-4ff9-c29f-646573ab18f6"
      },
      "execution_count": 105,
      "outputs": [
        {
          "output_type": "execute_result",
          "data": {
            "text/plain": [
              "array([0.        , 0.39269908, 0.78539816, 1.17809725, 1.57079633])"
            ]
          },
          "metadata": {},
          "execution_count": 105
        }
      ]
    },
    {
      "cell_type": "code",
      "source": [
        "np.sin(angles)"
      ],
      "metadata": {
        "colab": {
          "base_uri": "https://localhost:8080/"
        },
        "id": "TDnhD0I8cHBb",
        "outputId": "23bb4ece-3cf2-4cd1-9862-e8b67363e269"
      },
      "execution_count": 106,
      "outputs": [
        {
          "output_type": "execute_result",
          "data": {
            "text/plain": [
              "array([0.        , 0.38268343, 0.70710678, 0.92387953, 1.        ])"
            ]
          },
          "metadata": {},
          "execution_count": 106
        }
      ]
    },
    {
      "cell_type": "markdown",
      "source": [
        "Hàm xử lý sin trong gói sympy sẽ không hỗ trợ tính toán toàn bộ vector chứa dữ liêu"
      ],
      "metadata": {
        "id": "ibwEOzqvcjGd"
      }
    },
    {
      "cell_type": "code",
      "source": [
        "import sympy as sy\n",
        "sy.sin(angles[0])"
      ],
      "metadata": {
        "colab": {
          "base_uri": "https://localhost:8080/",
          "height": 38
        },
        "id": "7TfIPcmXcfOd",
        "outputId": "cf56391a-c3aa-4828-fddf-9ca6188471c2"
      },
      "execution_count": 107,
      "outputs": [
        {
          "output_type": "execute_result",
          "data": {
            "text/plain": [
              "0"
            ],
            "text/latex": "$\\displaystyle 0$"
          },
          "metadata": {},
          "execution_count": 107
        }
      ]
    },
    {
      "cell_type": "markdown",
      "source": [
        "TypeError: unhashable type:\"numpy.ndarray\""
      ],
      "metadata": {
        "id": "2hKMAdHYdUTy"
      }
    },
    {
      "cell_type": "markdown",
      "source": [
        "Chương trình lặp vector mới được xây dựng sẵn tạm thời:\n"
      ],
      "metadata": {
        "id": "yCkp2f1cdqSO"
      }
    },
    {
      "cell_type": "code",
      "source": [
        "from sympy import sin as sysin\n",
        "angles = np.linspace(0, np.pi/2, 5)\n",
        "sinangle = np.zeros(5)   #tuong duong sinangle = np.array([0.0, 0.0, 0.0, 0.0, 0.0])\n",
        "len(angles) #kiem tra kich thuoc/ so chieu cua vector angles.\n",
        "for i in range(len(angles)):\n",
        "  sinangle[i] = sysin(angles[i])    #luu y: o day phai enter 2 lan de thoat khoi vong lap for\n",
        "sinangle"
      ],
      "metadata": {
        "colab": {
          "base_uri": "https://localhost:8080/"
        },
        "id": "zTwzUMT3dpjl",
        "outputId": "73deb4fa-2445-48d5-812c-e8b9d5ecd735"
      },
      "execution_count": 108,
      "outputs": [
        {
          "output_type": "execute_result",
          "data": {
            "text/plain": [
              "array([0.        , 0.38268343, 0.70710678, 0.92387953, 1.        ])"
            ]
          },
          "metadata": {},
          "execution_count": 108
        }
      ]
    },
    {
      "cell_type": "markdown",
      "source": [
        "#Thực hành 5: Tính tổng các tích giữa ma trận và vector. Gỉa định gói thư viện numpy được đưa vào hê thống có tên là np. Dạng:"
      ],
      "metadata": {
        "id": "dzjQSVEygDNX"
      }
    },
    {
      "cell_type": "code",
      "source": [
        "import numpy as np\n",
        "goc = np.pi/3\n",
        "A = np.array([ [np.cos(goc), -np.sin(goc)], [np.sin(goc), np.cos(goc)] ])\n",
        "V = np.array([1., 0.])\n",
        "Y = np.dot(A, V)\n",
        "Y"
      ],
      "metadata": {
        "colab": {
          "base_uri": "https://localhost:8080/"
        },
        "id": "bMxJKmYhgkCV",
        "outputId": "3f95a079-211a-4b9e-ba4b-cf8e20cbd686"
      },
      "execution_count": 109,
      "outputs": [
        {
          "output_type": "execute_result",
          "data": {
            "text/plain": [
              "array([0.5      , 0.8660254])"
            ]
          },
          "metadata": {},
          "execution_count": 109
        }
      ]
    },
    {
      "cell_type": "markdown",
      "source": [
        "#Thực hành 6: Tính toán đạo hàm trên 1 vector dữ liệu\n"
      ],
      "metadata": {
        "id": "q752-nvCju0z"
      }
    },
    {
      "cell_type": "markdown",
      "source": [
        "+Trường hợp dx cố định:\n"
      ],
      "metadata": {
        "id": "zuCufwBvj6JG"
      }
    },
    {
      "cell_type": "code",
      "source": [
        "from numpy import diff\n",
        "dx = 0.1\n",
        "y = [1, 2, 3, 4, 4, 5, 6]\n",
        "dy = diff(y)/dx\n",
        "dy"
      ],
      "metadata": {
        "colab": {
          "base_uri": "https://localhost:8080/"
        },
        "id": "-4u_AtKAhpx0",
        "outputId": "4faa015a-7cd9-4078-a3ff-318f9de05ac8"
      },
      "execution_count": 110,
      "outputs": [
        {
          "output_type": "execute_result",
          "data": {
            "text/plain": [
              "array([10., 10., 10.,  0., 10., 10.])"
            ]
          },
          "metadata": {},
          "execution_count": 110
        }
      ]
    },
    {
      "cell_type": "code",
      "source": [
        "z = np.array([1,2,3,4,4,5,6])\n",
        "dz = diff(z)/dx\n",
        "dz"
      ],
      "metadata": {
        "colab": {
          "base_uri": "https://localhost:8080/"
        },
        "id": "9Oi3sEjDkSRP",
        "outputId": "02e7e3d3-3daa-4520-b607-06e1b651c664"
      },
      "execution_count": 111,
      "outputs": [
        {
          "output_type": "execute_result",
          "data": {
            "text/plain": [
              "array([10., 10., 10.,  0., 10., 10.])"
            ]
          },
          "metadata": {},
          "execution_count": 111
        }
      ]
    },
    {
      "cell_type": "markdown",
      "source": [
        "+ Trong trường hợp dx là một dãy số:\n"
      ],
      "metadata": {
        "id": "81MttGTm5KC-"
      }
    },
    {
      "cell_type": "code",
      "source": [
        "from numpy import diff\n",
        "x = [.1, .2, .5, .6, .7, .8, .9]\n",
        "y = [1,2,3,4,4,5,6]\n",
        "dydx = diff(y)/diff(x)\n",
        "print(dydx)"
      ],
      "metadata": {
        "id": "Ea9ixZDI5YOc",
        "outputId": "f44bab29-0079-48ea-81dd-cb65639bffba",
        "colab": {
          "base_uri": "https://localhost:8080/"
        }
      },
      "execution_count": 112,
      "outputs": [
        {
          "output_type": "stream",
          "name": "stdout",
          "text": [
            "[10.          3.33333333 10.          0.         10.         10.        ]\n"
          ]
        }
      ]
    },
    {
      "cell_type": "markdown",
      "source": [
        "#Thực hành 7: Một số hàm xử lý phẳng(Không gian Euclide)"
      ],
      "metadata": {
        "id": "1uYGQow26Fc1"
      }
    },
    {
      "cell_type": "code",
      "source": [
        "from sympy.geometry import *"
      ],
      "metadata": {
        "id": "7ZAPUvs_6Z00"
      },
      "execution_count": 113,
      "outputs": []
    },
    {
      "cell_type": "code",
      "source": [
        "#Tạo các điểm P1, P2, P3 và P4\n",
        "P1 = Point(0,0)\n",
        "P2 = Point(3,4)\n",
        "P3 = Point(2,-1)\n",
        "P4 = Point(-1,-5)"
      ],
      "metadata": {
        "id": "L3Amby5f6jTG"
      },
      "execution_count": 114,
      "outputs": []
    },
    {
      "cell_type": "code",
      "source": [
        "# Tạo 2 đoạn đường S1 và S2:\n",
        "S1 = Segment(P1,P2)\n",
        "S2 = Segment(P3,P4)"
      ],
      "metadata": {
        "id": "czhJC6hd6_G_"
      },
      "execution_count": 115,
      "outputs": []
    },
    {
      "cell_type": "code",
      "source": [
        "# Kiểm 3 điểm thẳng hàng:\n",
        "Point.is_collinear(P1,P2,P3)"
      ],
      "metadata": {
        "id": "FxZxnGKp7Orj",
        "outputId": "9e761bcb-3162-4154-b2e1-041535e679e3",
        "colab": {
          "base_uri": "https://localhost:8080/"
        }
      },
      "execution_count": 116,
      "outputs": [
        {
          "output_type": "execute_result",
          "data": {
            "text/plain": [
              "False"
            ]
          },
          "metadata": {},
          "execution_count": 116
        }
      ]
    },
    {
      "cell_type": "code",
      "source": [
        "# Độ dài của đoạn đường S1\n",
        "S1.length"
      ],
      "metadata": {
        "id": "1RS5tQ_L7TrX",
        "outputId": "5f894560-bf12-44c3-a714-d7b26004ddfb",
        "colab": {
          "base_uri": "https://localhost:8080/",
          "height": 38
        }
      },
      "execution_count": 117,
      "outputs": [
        {
          "output_type": "execute_result",
          "data": {
            "text/plain": [
              "5"
            ],
            "text/latex": "$\\displaystyle 5$"
          },
          "metadata": {},
          "execution_count": 117
        }
      ]
    },
    {
      "cell_type": "code",
      "source": [
        "# Lấy trung bình của đoạn 2:\n",
        "S2.midpoint"
      ],
      "metadata": {
        "id": "XwtDtXy17mOd",
        "outputId": "81ea9067-1eab-4e4e-99f2-3e84e9883fdd",
        "colab": {
          "base_uri": "https://localhost:8080/",
          "height": 58
        }
      },
      "execution_count": 118,
      "outputs": [
        {
          "output_type": "execute_result",
          "data": {
            "text/plain": [
              "Point2D(1/2, -3)"
            ],
            "text/latex": "$\\displaystyle Point2D\\left(\\frac{1}{2}, -3\\right)$"
          },
          "metadata": {},
          "execution_count": 118
        }
      ]
    },
    {
      "cell_type": "code",
      "source": [
        "# Tính độ dốc của đường S1\n",
        "S1.slope"
      ],
      "metadata": {
        "id": "8-PGQ6nx7yVP",
        "outputId": "0749c426-781b-4c24-92f4-adf973131e4e",
        "colab": {
          "base_uri": "https://localhost:8080/",
          "height": 51
        }
      },
      "execution_count": 119,
      "outputs": [
        {
          "output_type": "execute_result",
          "data": {
            "text/plain": [
              "4/3"
            ],
            "text/latex": "$\\displaystyle \\frac{4}{3}$"
          },
          "metadata": {},
          "execution_count": 119
        }
      ]
    },
    {
      "cell_type": "code",
      "source": [
        "# Tìm vị trí giao nhau giữa hai đoạn đường\n",
        "S1.intersection(S2)"
      ],
      "metadata": {
        "id": "mm3n2VBY7-8C",
        "outputId": "0f9be8e7-d523-452f-ad76-2f0545702454",
        "colab": {
          "base_uri": "https://localhost:8080/"
        }
      },
      "execution_count": 120,
      "outputs": [
        {
          "output_type": "execute_result",
          "data": {
            "text/plain": [
              "[]"
            ]
          },
          "metadata": {},
          "execution_count": 120
        }
      ]
    },
    {
      "cell_type": "code",
      "source": [
        "# Góc giữa hai đoạn đường\n",
        "Segment.angle_between(S1,S2)"
      ],
      "metadata": {
        "id": "Lv5VWmVR8KVn",
        "outputId": "ec2872d6-88c3-4f17-f61b-0b8186ad2128",
        "colab": {
          "base_uri": "https://localhost:8080/",
          "height": 39
        }
      },
      "execution_count": 121,
      "outputs": [
        {
          "output_type": "execute_result",
          "data": {
            "text/plain": [
              "pi"
            ],
            "text/latex": "$\\displaystyle \\pi$"
          },
          "metadata": {},
          "execution_count": 121
        }
      ]
    },
    {
      "cell_type": "code",
      "source": [
        "# Kiểm đoạn đường S1 có chứa điểm P3 hay không?\n",
        "S1.contains(P3)"
      ],
      "metadata": {
        "id": "Q6qKI70-8efH",
        "outputId": "505ab78a-550e-4bf4-91d2-5fe8534ac44b",
        "colab": {
          "base_uri": "https://localhost:8080/"
        }
      },
      "execution_count": 122,
      "outputs": [
        {
          "output_type": "execute_result",
          "data": {
            "text/plain": [
              "False"
            ]
          },
          "metadata": {},
          "execution_count": 122
        }
      ]
    },
    {
      "cell_type": "code",
      "source": [
        "# Lập và xem chương trình đường thẳng L1 đi qua 2 điểm P1 và P2:\n",
        "L1 = Line(P1,P2)\n",
        "L1.equation()"
      ],
      "metadata": {
        "id": "kVCje8sh8rLX",
        "outputId": "54a556c4-5836-440e-d86d-d0eaee449d8d",
        "colab": {
          "base_uri": "https://localhost:8080/",
          "height": 39
        }
      },
      "execution_count": 123,
      "outputs": [
        {
          "output_type": "execute_result",
          "data": {
            "text/plain": [
              "-4*x + 3*y"
            ],
            "text/latex": "$\\displaystyle - 4 x + 3 y$"
          },
          "metadata": {},
          "execution_count": 123
        }
      ]
    },
    {
      "cell_type": "code",
      "source": [
        "# Kiểm tính song song:\n",
        "L1.is_parallel(S1)"
      ],
      "metadata": {
        "id": "GrnXZTC-86-U",
        "outputId": "69de3ab6-25ef-44e8-b6ff-f994d3654a4c",
        "colab": {
          "base_uri": "https://localhost:8080/"
        }
      },
      "execution_count": 124,
      "outputs": [
        {
          "output_type": "execute_result",
          "data": {
            "text/plain": [
              "True"
            ]
          },
          "metadata": {},
          "execution_count": 124
        }
      ]
    },
    {
      "cell_type": "code",
      "source": [
        "L1.is_parallel(S2)"
      ],
      "metadata": {
        "id": "h0ZXW-2c9cCW",
        "outputId": "9463ee25-f1bd-4655-cd40-a80904c7dd69",
        "colab": {
          "base_uri": "https://localhost:8080/"
        }
      },
      "execution_count": 125,
      "outputs": [
        {
          "output_type": "execute_result",
          "data": {
            "text/plain": [
              "True"
            ]
          },
          "metadata": {},
          "execution_count": 125
        }
      ]
    },
    {
      "cell_type": "markdown",
      "source": [
        "# Thực hành 8: Bằng phương pháp đồ thị, hãy cho biết giới hạn của hàm số sau\n"
      ],
      "metadata": {
        "id": "C1K64QG59ouH"
      }
    },
    {
      "cell_type": "code",
      "source": [
        "import sympy\n",
        "from sympy import *"
      ],
      "metadata": {
        "id": "fe_8qW6S-Wss"
      },
      "execution_count": 126,
      "outputs": []
    },
    {
      "cell_type": "code",
      "source": [
        "x = Symbol('x')\n",
        "f = x*sin(1/x)\n",
        "c = Symbol('c')\n",
        "delta = Symbol('delta')\n",
        "c = 0\n",
        "delta = 1/4\n",
        "sympy.plot(f,(x, c - delta, c + delta))\n"
      ],
      "metadata": {
        "id": "uD4TenDy-vtv",
        "outputId": "b0915fd5-4ee5-4a13-aecf-b2af01f6ac8a",
        "colab": {
          "base_uri": "https://localhost:8080/",
          "height": 314
        }
      },
      "execution_count": 127,
      "outputs": [
        {
          "output_type": "display_data",
          "data": {
            "text/plain": [
              "<Figure size 432x288 with 1 Axes>"
            ],
            "image/png": "[encoded data removed]"
          },
          "metadata": {
            "needs_background": "light"
          }
        },
        {
          "output_type": "execute_result",
          "data": {
            "text/plain": [
              "<sympy.plotting.plot.Plot at 0x7fc9c79230d0>"
            ]
          },
          "metadata": {},
          "execution_count": 127
        }
      ]
    },
    {
      "cell_type": "code",
      "source": [
        "sympy.plot(f,abs(x), -abs(x), (x, c - delta, c + delta))"
      ],
      "metadata": {
        "id": "WP45c7OTHLVw",
        "outputId": "c32d2640-c70f-4460-f35b-103a9657d19e",
        "colab": {
          "base_uri": "https://localhost:8080/",
          "height": 314
        }
      },
      "execution_count": 128,
      "outputs": [
        {
          "output_type": "display_data",
          "data": {
            "text/plain": [
              "<Figure size 432x288 with 1 Axes>"
            ],
            "image/png": "[encoded data removed]"
          },
          "metadata": {
            "needs_background": "light"
          }
        },
        {
          "output_type": "execute_result",
          "data": {
            "text/plain": [
              "<sympy.plotting.plot.Plot at 0x7fc9c78af5d0>"
            ]
          },
          "metadata": {},
          "execution_count": 128
        }
      ]
    },
    {
      "cell_type": "markdown",
      "source": [
        "# Thực hành 9: Tìm giá trị cực đại của hàm\n"
      ],
      "metadata": {
        "id": "xsuqYETgHjym"
      }
    },
    {
      "cell_type": "code",
      "source": [
        "from sympy import Symbol, solve, Derivative"
      ],
      "metadata": {
        "id": "w2DzMflgH5BI"
      },
      "execution_count": 129,
      "outputs": []
    },
    {
      "cell_type": "code",
      "source": [
        "x = Symbol('x')\n",
        "f = -x**2 + 4*x - 3\n",
        "d1 = Derivative(f,x).doit()\n",
        "d1"
      ],
      "metadata": {
        "id": "HeybEWYTIJZB",
        "outputId": "518d84dd-e82f-454c-c0f5-4743865085da",
        "colab": {
          "base_uri": "https://localhost:8080/",
          "height": 39
        }
      },
      "execution_count": 130,
      "outputs": [
        {
          "output_type": "execute_result",
          "data": {
            "text/plain": [
              "4 - 2*x"
            ],
            "text/latex": "$\\displaystyle 4 - 2 x$"
          },
          "metadata": {},
          "execution_count": 130
        }
      ]
    },
    {
      "cell_type": "code",
      "source": [
        "cuctri = solve(d1)\n",
        "cuctri"
      ],
      "metadata": {
        "id": "46MC02q_IYXe",
        "outputId": "361d8a3c-42ec-4f90-bf2e-2c4f413f2dbd",
        "colab": {
          "base_uri": "https://localhost:8080/"
        }
      },
      "execution_count": 131,
      "outputs": [
        {
          "output_type": "execute_result",
          "data": {
            "text/plain": [
              "[2]"
            ]
          },
          "metadata": {},
          "execution_count": 131
        }
      ]
    },
    {
      "cell_type": "code",
      "source": [
        "A = cuctri[0]\n",
        "d2 = Derivative(d1, x).doit()\n",
        "d2.subs({x:A}).evalf()"
      ],
      "metadata": {
        "id": "NqlK2vynIiV3",
        "outputId": "f3cabd0d-7c1c-452a-8c00-98733179284b",
        "colab": {
          "base_uri": "https://localhost:8080/",
          "height": 38
        }
      },
      "execution_count": 132,
      "outputs": [
        {
          "output_type": "execute_result",
          "data": {
            "text/plain": [
              "-2.00000000000000"
            ],
            "text/latex": "$\\displaystyle -2.0$"
          },
          "metadata": {},
          "execution_count": 132
        }
      ]
    },
    {
      "cell_type": "code",
      "source": [
        "x_min = 0\n",
        "x_max = 4\n",
        "f.subs({x:A}).evalf()"
      ],
      "metadata": {
        "id": "v_P5z70TI7ZX",
        "outputId": "d97a56e1-3190-42a9-9260-11295a206291",
        "colab": {
          "base_uri": "https://localhost:8080/",
          "height": 38
        }
      },
      "execution_count": 133,
      "outputs": [
        {
          "output_type": "execute_result",
          "data": {
            "text/plain": [
              "1.00000000000000"
            ],
            "text/latex": "$\\displaystyle 1.0$"
          },
          "metadata": {},
          "execution_count": 133
        }
      ]
    },
    {
      "cell_type": "code",
      "source": [
        "f.subs({x:x_min}).evalf()"
      ],
      "metadata": {
        "id": "N6OoaH0NJN8X",
        "outputId": "ab8dcef0-84f7-4196-c78a-566c671ef064",
        "colab": {
          "base_uri": "https://localhost:8080/",
          "height": 38
        }
      },
      "execution_count": 134,
      "outputs": [
        {
          "output_type": "execute_result",
          "data": {
            "text/plain": [
              "-3.00000000000000"
            ],
            "text/latex": "$\\displaystyle -3.0$"
          },
          "metadata": {},
          "execution_count": 134
        }
      ]
    },
    {
      "cell_type": "code",
      "source": [
        "f.subs({x:x_max}).evalf()"
      ],
      "metadata": {
        "id": "O1Dui2t-JTBG",
        "outputId": "edc47da3-5ecd-47b7-b9cf-abd362f026ad",
        "colab": {
          "base_uri": "https://localhost:8080/",
          "height": 38
        }
      },
      "execution_count": 135,
      "outputs": [
        {
          "output_type": "execute_result",
          "data": {
            "text/plain": [
              "-3.00000000000000"
            ],
            "text/latex": "$\\displaystyle -3.0$"
          },
          "metadata": {},
          "execution_count": 135
        }
      ]
    },
    {
      "cell_type": "markdown",
      "source": [
        "# Thực hành 10: Tìm diện tích cực đại để lắp các tấm pin mặt trời trên một sân phăng có hình parabol\n"
      ],
      "metadata": {
        "id": "9HiVXUsmJjYk"
      }
    },
    {
      "cell_type": "code",
      "source": [
        "from sympy import *"
      ],
      "metadata": {
        "id": "y3c51ExgO3_E"
      },
      "execution_count": 136,
      "outputs": []
    },
    {
      "cell_type": "code",
      "source": [
        "x = Symbol('x')\n",
        "a = Symbol('a')\n",
        "A = -2*x**3 + 2*a*x\n",
        "A"
      ],
      "metadata": {
        "id": "5cF7qZ3SPHjs",
        "outputId": "5cab6830-d2fb-4e2f-ed02-f366b56a6447",
        "colab": {
          "base_uri": "https://localhost:8080/",
          "height": 39
        }
      },
      "execution_count": 137,
      "outputs": [
        {
          "output_type": "execute_result",
          "data": {
            "text/plain": [
              "2*a*x - 2*x**3"
            ],
            "text/latex": "$\\displaystyle 2 a x - 2 x^{3}$"
          },
          "metadata": {},
          "execution_count": 137
        }
      ]
    },
    {
      "cell_type": "code",
      "source": [
        "d1 = Derivative(A,x).doit()\n",
        "d1"
      ],
      "metadata": {
        "id": "nHmPyZ-tWP1F",
        "outputId": "0a2432ba-8c67-4d3d-9e43-a9f262215ddf",
        "colab": {
          "base_uri": "https://localhost:8080/",
          "height": 39
        }
      },
      "execution_count": 138,
      "outputs": [
        {
          "output_type": "execute_result",
          "data": {
            "text/plain": [
              "2*a - 6*x**2"
            ],
            "text/latex": "$\\displaystyle 2 a - 6 x^{2}$"
          },
          "metadata": {},
          "execution_count": 138
        }
      ]
    },
    {
      "cell_type": "code",
      "source": [
        "cuctri = solve(d1,x)\n",
        "cuctri"
      ],
      "metadata": {
        "id": "bB0mqsRfQWqz",
        "outputId": "0c5346b5-c7b1-4565-8036-d19796f82a2f",
        "colab": {
          "base_uri": "https://localhost:8080/"
        }
      },
      "execution_count": 139,
      "outputs": [
        {
          "output_type": "execute_result",
          "data": {
            "text/plain": [
              "[-sqrt(3)*sqrt(a)/3, sqrt(3)*sqrt(a)/3]"
            ]
          },
          "metadata": {},
          "execution_count": 139
        }
      ]
    },
    {
      "cell_type": "code",
      "source": [
        "B = cuctri\n",
        "d2 = Derivative(d1, x).doit()\n",
        "d2.subs({x:B}).evalf()"
      ],
      "metadata": {
        "id": "IzuJBSnSQ3MN",
        "outputId": "02d93a41-7dc0-46a5-a792-ab3146aa0881",
        "colab": {
          "base_uri": "https://localhost:8080/",
          "height": 39
        }
      },
      "execution_count": 142,
      "outputs": [
        {
          "output_type": "execute_result",
          "data": {
            "text/plain": [
              "-12.0*x"
            ],
            "text/latex": "$\\displaystyle - 12.0 x$"
          },
          "metadata": {},
          "execution_count": 142
        }
      ]
    },
    {
      "cell_type": "code",
      "source": [
        "x_1 = 0\n",
        "A.subs({x:x_1}).evalf()"
      ],
      "metadata": {
        "id": "4-xpda4RaluY",
        "outputId": "726a81cb-ccd9-42c1-fdf0-c76831c512b1",
        "colab": {
          "base_uri": "https://localhost:8080/",
          "height": 38
        }
      },
      "execution_count": 143,
      "outputs": [
        {
          "output_type": "execute_result",
          "data": {
            "text/plain": [
              "0"
            ],
            "text/latex": "$\\displaystyle 0$"
          },
          "metadata": {},
          "execution_count": 143
        }
      ]
    },
    {
      "cell_type": "code",
      "source": [
        "x_2 = sqrt(a)\n",
        "A.subs({x:x_2}).evalf()"
      ],
      "metadata": {
        "id": "o2vXA0KCV_Al",
        "outputId": "b022db6b-179a-4646-cfc3-ec8447c26dcb",
        "colab": {
          "base_uri": "https://localhost:8080/",
          "height": 38
        }
      },
      "execution_count": 144,
      "outputs": [
        {
          "output_type": "execute_result",
          "data": {
            "text/plain": [
              "0"
            ],
            "text/latex": "$\\displaystyle 0$"
          },
          "metadata": {},
          "execution_count": 144
        }
      ]
    },
    {
      "cell_type": "code",
      "source": [
        "A.subs({x:}).evalf()"
      ],
      "metadata": {
        "id": "0Q0VU2TjXaZZ",
        "outputId": "fcd05c4d-712d-49de-ece6-2b98632357b6",
        "colab": {
          "base_uri": "https://localhost:8080/",
          "height": 165
        }
      },
      "execution_count": 168,
      "outputs": [
        {
          "output_type": "error",
          "ename": "AttributeError",
          "evalue": "ignored",
          "traceback": [
            "\u001b[0;31m---------------------------------------------------------------------------\u001b[0m",
            "\u001b[0;31mAttributeError\u001b[0m                            Traceback (most recent call last)",
            "\u001b[0;32m<ipython-input-168-87357d52a4df>\u001b[0m in \u001b[0;36m<module>\u001b[0;34m()\u001b[0m\n\u001b[0;32m----> 1\u001b[0;31m \u001b[0mA\u001b[0m\u001b[0;34m.\u001b[0m\u001b[0msubs\u001b[0m\u001b[0;34m(\u001b[0m\u001b[0;34m{\u001b[0m\u001b[0mx\u001b[0m\u001b[0;34m:\u001b[0m\u001b[0mcuctri\u001b[0m\u001b[0;34m[\u001b[0m\u001b[0;36m1\u001b[0m\u001b[0;34m]\u001b[0m\u001b[0;34m}\u001b[0m\u001b[0;34m.\u001b[0m\u001b[0mevalf\u001b[0m\u001b[0;34m)\u001b[0m\u001b[0;34m\u001b[0m\u001b[0;34m\u001b[0m\u001b[0m\n\u001b[0m",
            "\u001b[0;31mAttributeError\u001b[0m: 'list' object has no attribute 'subs'"
          ]
        }
      ]
    },
    {
      "cell_type": "markdown",
      "source": [
        "# Thực hành 11: Bài toán Black Friday - Tìm giá tốt cho đợt giảm giá điện thoại iPhone 11 cuối năm"
      ],
      "metadata": {
        "id": "kRagKMcqtQMJ"
      }
    },
    {
      "cell_type": "code",
      "source": [
        "from sympy import Derivative, solve, Symbol"
      ],
      "metadata": {
        "id": "4p93A9jYEr9F"
      },
      "execution_count": 145,
      "outputs": []
    },
    {
      "cell_type": "code",
      "source": [
        "x = Symbol('x')\n",
        "n = 5000 + 1000 * ( (1500 - x) /  100)\n",
        "P = n*x - 2000000 - 500*n"
      ],
      "metadata": {
        "id": "8fnW8MRPP0D8"
      },
      "execution_count": 146,
      "outputs": []
    },
    {
      "cell_type": "code",
      "source": [
        "Q = P.subs({n:x}).evalf()\n",
        "Q"
      ],
      "metadata": {
        "id": "h4tMdAD1ZW8u",
        "outputId": "7092c0eb-05b0-4257-e7dd-111d326fec58",
        "colab": {
          "base_uri": "https://localhost:8080/",
          "height": 39
        }
      },
      "execution_count": 147,
      "outputs": [
        {
          "output_type": "execute_result",
          "data": {
            "text/plain": [
              "x**2 + 5000.0*x - 12000000.0"
            ],
            "text/latex": "$\\displaystyle x^{2} + 5000.0 x - 12000000.0$"
          },
          "metadata": {},
          "execution_count": 147
        }
      ]
    },
    {
      "cell_type": "code",
      "source": [
        "d1 = Derivative(Q, x).doit()\n",
        "d1"
      ],
      "metadata": {
        "id": "hGQoUTdfoNri",
        "outputId": "5c9870b0-707d-4995-e6d4-ca100a550ab8",
        "colab": {
          "base_uri": "https://localhost:8080/",
          "height": 39
        }
      },
      "execution_count": 148,
      "outputs": [
        {
          "output_type": "execute_result",
          "data": {
            "text/plain": [
              "2*x + 5000.0"
            ],
            "text/latex": "$\\displaystyle 2 x + 5000.0$"
          },
          "metadata": {},
          "execution_count": 148
        }
      ]
    },
    {
      "cell_type": "code",
      "source": [
        "cuctri = solve(d1)\n",
        "cuctri"
      ],
      "metadata": {
        "id": "3r8pSHwWpoEQ",
        "outputId": "06bca5f9-2b61-4ad1-ab21-64a3012736f4",
        "colab": {
          "base_uri": "https://localhost:8080/"
        }
      },
      "execution_count": 149,
      "outputs": [
        {
          "output_type": "execute_result",
          "data": {
            "text/plain": [
              "[-2500.00000000000]"
            ]
          },
          "metadata": {},
          "execution_count": 149
        }
      ]
    },
    {
      "cell_type": "code",
      "source": [
        "cuctri[0]"
      ],
      "metadata": {
        "id": "Hvl8SOllp7dh",
        "outputId": "c54862f6-335e-4785-bbfc-35e41a3a3b53",
        "colab": {
          "base_uri": "https://localhost:8080/",
          "height": 38
        }
      },
      "execution_count": 150,
      "outputs": [
        {
          "output_type": "execute_result",
          "data": {
            "text/plain": [
              "-2500.00000000000"
            ],
            "text/latex": "$\\displaystyle -2500.0$"
          },
          "metadata": {},
          "execution_count": 150
        }
      ]
    },
    {
      "cell_type": "code",
      "source": [
        "f = -10*x**2 + 25000*x - 12000000\n",
        "d3 = Derivative(f,x).doit()\n",
        "d3"
      ],
      "metadata": {
        "id": "_6GzzgvZGXbf",
        "outputId": "6b7c3d1f-051a-45ac-bf7f-a2fad52c3562",
        "colab": {
          "base_uri": "https://localhost:8080/",
          "height": 39
        }
      },
      "execution_count": 151,
      "outputs": [
        {
          "output_type": "execute_result",
          "data": {
            "text/plain": [
              "25000 - 20*x"
            ],
            "text/latex": "$\\displaystyle 25000 - 20 x$"
          },
          "metadata": {},
          "execution_count": 151
        }
      ]
    },
    {
      "cell_type": "code",
      "source": [
        "A = solve(d3)\n",
        "A"
      ],
      "metadata": {
        "id": "HG6J642HG5Pm",
        "outputId": "e0683dd8-c348-40db-a5bb-bb61ce480c96",
        "colab": {
          "base_uri": "https://localhost:8080/"
        }
      },
      "execution_count": 152,
      "outputs": [
        {
          "output_type": "execute_result",
          "data": {
            "text/plain": [
              "[1250]"
            ]
          },
          "metadata": {},
          "execution_count": 152
        }
      ]
    },
    {
      "cell_type": "code",
      "source": [
        "d4 = Derivative(d3,x).doit()\n",
        "d4"
      ],
      "metadata": {
        "id": "ORfxIa1PHDvF",
        "outputId": "670cff0a-59ae-4e69-f95c-c89f1069382e",
        "colab": {
          "base_uri": "https://localhost:8080/",
          "height": 38
        }
      },
      "execution_count": 153,
      "outputs": [
        {
          "output_type": "execute_result",
          "data": {
            "text/plain": [
              "-20"
            ],
            "text/latex": "$\\displaystyle -20$"
          },
          "metadata": {},
          "execution_count": 153
        }
      ]
    },
    {
      "cell_type": "markdown",
      "source": [
        "# Vì f′′(x) = −20 < 0 nên tại đây, hàm đạt cực đại địa phương."
      ],
      "metadata": {
        "id": "kZbZj92aHNhf"
      }
    },
    {
      "cell_type": "code",
      "source": [
        "f.subs({x:0}).evalf()"
      ],
      "metadata": {
        "id": "cIouT-GMHZYH",
        "outputId": "b5a06370-bd6f-4d04-95ce-04e997e00b98",
        "colab": {
          "base_uri": "https://localhost:8080/",
          "height": 38
        }
      },
      "execution_count": 154,
      "outputs": [
        {
          "output_type": "execute_result",
          "data": {
            "text/plain": [
              "-12000000.0000000"
            ],
            "text/latex": "$\\displaystyle -12000000.0$"
          },
          "metadata": {},
          "execution_count": 154
        }
      ]
    },
    {
      "cell_type": "code",
      "source": [
        "f.subs({x:1250}).evalf()  # Do đó, cực đại địa phương chính là cực đại toàn cục tại x = 12501250"
      ],
      "metadata": {
        "id": "wDiWd7K7HmSq",
        "outputId": "67f3c216-c673-495e-9384-05ef9ab9c96b",
        "colab": {
          "base_uri": "https://localhost:8080/",
          "height": 38
        }
      },
      "execution_count": 155,
      "outputs": [
        {
          "output_type": "execute_result",
          "data": {
            "text/plain": [
              "3625000.00000000"
            ],
            "text/latex": "$\\displaystyle 3625000.0$"
          },
          "metadata": {},
          "execution_count": 155
        }
      ]
    },
    {
      "cell_type": "code",
      "source": [
        "f.subs({x:1500}).evalf()"
      ],
      "metadata": {
        "id": "pAsnYSjVHmrI",
        "outputId": "6c2625c0-c70d-4f29-fb2d-511ef424d52a",
        "colab": {
          "base_uri": "https://localhost:8080/",
          "height": 38
        }
      },
      "execution_count": 156,
      "outputs": [
        {
          "output_type": "execute_result",
          "data": {
            "text/plain": [
              "3000000.00000000"
            ],
            "text/latex": "$\\displaystyle 3000000.0$"
          },
          "metadata": {},
          "execution_count": 156
        }
      ]
    },
    {
      "cell_type": "markdown",
      "source": [
        "# Thực hành 12: Bài toán Cung - Cầu"
      ],
      "metadata": {
        "id": "-rBDBlFCKqFU"
      }
    },
    {
      "cell_type": "code",
      "source": [
        "from sympy import Symbol, solve, Derivative, Integral"
      ],
      "metadata": {
        "id": "l6zQ8CnCSGRi"
      },
      "execution_count": 157,
      "outputs": []
    },
    {
      "cell_type": "code",
      "source": [
        "q = Symbol('q')\n",
        "# Quy luat cau: p = d(q) = -0.8q + 150\n",
        "p1 = -0.8*q + 150\n",
        "# Quy luat cung: p = s(q) = 5.2q\n",
        "p2 = 5.2*q\n",
        "# Phuong trinh\n",
        "Q = 6*q - 150 # p = d(q) = s(q)"
      ],
      "metadata": {
        "id": "FtGC_ahzSQ6P"
      },
      "execution_count": 158,
      "outputs": []
    },
    {
      "cell_type": "code",
      "source": [
        "A = solve(Q,q)\n",
        "A[0]"
      ],
      "metadata": {
        "id": "PxH5ISkJTspn",
        "outputId": "a175ae72-72d2-4a71-9d9a-0fddded23228",
        "colab": {
          "base_uri": "https://localhost:8080/",
          "height": 38
        }
      },
      "execution_count": 159,
      "outputs": [
        {
          "output_type": "execute_result",
          "data": {
            "text/plain": [
              "25"
            ],
            "text/latex": "$\\displaystyle 25$"
          },
          "metadata": {},
          "execution_count": 159
        }
      ]
    },
    {
      "cell_type": "code",
      "source": [
        "p1.subs({q:A[0]}).evalf() # moi thang ban duoc 25 xe voi q"
      ],
      "metadata": {
        "id": "U37UAlKSU-Le",
        "outputId": "8dfffa8a-1b26-4393-f8cb-9bad4b03278b",
        "colab": {
          "base_uri": "https://localhost:8080/",
          "height": 38
        }
      },
      "execution_count": 160,
      "outputs": [
        {
          "output_type": "execute_result",
          "data": {
            "text/plain": [
              "130.000000000000"
            ],
            "text/latex": "$\\displaystyle 130.0$"
          },
          "metadata": {},
          "execution_count": 160
        }
      ]
    },
    {
      "cell_type": "code",
      "source": [
        "from pylab import plot, show\n",
        "import matplotlib.pyplot as plt\n",
        "\n",
        "y1 = [5, 10, 15, 25]\n",
        "y2 = [4, 8, 16, 25]\n",
        "\n",
        "plt.plot(y1, marker = 'p', color='green')\n",
        "plt.plot(y2, marker = 'h', color='purple')\n",
        "\n",
        "plt.show()"
      ],
      "metadata": {
        "id": "QlSdi0avdQH_",
        "outputId": "8d0f3c4f-e2a9-4970-d0c3-ef0075deba1c",
        "colab": {
          "base_uri": "https://localhost:8080/",
          "height": 265
        }
      },
      "execution_count": 161,
      "outputs": [
        {
          "output_type": "display_data",
          "data": {
            "text/plain": [
              "<Figure size 432x288 with 1 Axes>"
            ],
            "image/png": "[encoded data removed]"
          },
          "metadata": {
            "needs_background": "light"
          }
        }
      ]
    },
    {
      "cell_type": "code",
      "source": [
        "# Tong so tien nguoi mua phai tra du/ cao hon(consumer surplus):\n",
        "Cs = Integral(p1, (q, 0, 25)).doit() - 130*25\n",
        "Cs"
      ],
      "metadata": {
        "id": "5dKJl4q0WePu",
        "outputId": "3544532a-e634-4cef-da27-2dba5aaa890b",
        "colab": {
          "base_uri": "https://localhost:8080/",
          "height": 38
        }
      },
      "execution_count": 162,
      "outputs": [
        {
          "output_type": "execute_result",
          "data": {
            "text/plain": [
              "250.000000000000"
            ],
            "text/latex": "$\\displaystyle 250.0$"
          },
          "metadata": {},
          "execution_count": 162
        }
      ]
    },
    {
      "cell_type": "code",
      "source": [
        "# Tong so tien mà san pham thu du duoc (producer surplus):\n",
        "Ps = 130*25 - Integral(p2, (q, 0, 25)).doit()\n",
        "Ps"
      ],
      "metadata": {
        "id": "FV8J-WcDch4M",
        "outputId": "29f98fad-e9c8-4dbd-964f-927950ee53ff",
        "colab": {
          "base_uri": "https://localhost:8080/",
          "height": 38
        }
      },
      "execution_count": 163,
      "outputs": [
        {
          "output_type": "execute_result",
          "data": {
            "text/plain": [
              "1625.00000000000"
            ],
            "text/latex": "$\\displaystyle 1625.0$"
          },
          "metadata": {},
          "execution_count": 163
        }
      ]
    },
    {
      "cell_type": "markdown",
      "source": [
        "# Thực hành 13: Bài toán lợi nhuận đầu tư"
      ],
      "metadata": {
        "id": "WxNC-0AnJZHs"
      }
    },
    {
      "cell_type": "code",
      "source": [
        "from sympy import Symbol, Integral, exp"
      ],
      "metadata": {
        "id": "u1PxBcMGl8k8"
      },
      "execution_count": 164,
      "outputs": []
    },
    {
      "cell_type": "code",
      "source": [
        "t = Symbol(\"t\")\n",
        "\n",
        "F = 62 + 8*t # hàm tính theo thu nhập các năm tiếp theo sẽ tăng thêm 8 đồng\n",
        "m = float(input('nhap gia tri thu lai nam dau: '))\n",
        "\n",
        "# lợi nhuận của nhóm khởi nghiệp\n",
        "a = m*exp(-0.017*t)\n",
        "b = F*exp(-0.017*t)\n",
        "pf = Integral(a, (t, 0, 1)).doit() + Integral(b, (t, 1, 8)).doit()\n",
        "pf "
      ],
      "metadata": {
        "id": "dgNHGid-nSHW",
        "outputId": "0038041a-4ba9-4341-a0b5-5f70487e143b",
        "colab": {
          "base_uri": "https://localhost:8080/",
          "height": 54
        }
      },
      "execution_count": 165,
      "outputs": [
        {
          "name": "stdout",
          "output_type": "stream",
          "text": [
            "nhap gia tri thu lai nam dau: 70\n"
          ]
        },
        {
          "output_type": "execute_result",
          "data": {
            "text/plain": [
              "701.659163940087"
            ],
            "text/latex": "$\\displaystyle 701.659163940087$"
          },
          "metadata": {},
          "execution_count": 165
        }
      ]
    }
  ]
}
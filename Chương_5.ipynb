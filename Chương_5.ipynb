{
  "nbformat": 4,
  "nbformat_minor": 0,
  "metadata": {
    "colab": {
      "name": "Chương 5.ipynb",
      "provenance": [],
      "authorship_tag": "ABX9TyNm4xAy2wFOrN/yhSJPpeXz",
      "include_colab_link": true
    },
    "kernelspec": {
      "name": "python3",
      "display_name": "Python 3"
    },
    "language_info": {
      "name": "python"
    }
  },
  "cells": [
    {
      "cell_type": "markdown",
      "metadata": {
        "id": "view-in-github",
        "colab_type": "text"
      },
      "source": [
        "<a href=\"https://colab.research.google.com/github/gnasche-2003/thuchanhtoancp/blob/main/Ch%C6%B0%C6%A1ng_5.ipynb\" target=\"_parent\"><img src=\"https://colab.research.google.com/assets/colab-badge.svg\" alt=\"Open In Colab\"/></a>"
      ]
    },
    {
      "cell_type": "markdown",
      "source": [
        "#Chương 5\n"
      ],
      "metadata": {
        "id": "CxRbQbd1TZoe"
      }
    },
    {
      "cell_type": "markdown",
      "source": [
        "#Thực hành 1: Lặp để tìm nghiệm"
      ],
      "metadata": {
        "id": "R13ChVBhV7EK"
      }
    },
    {
      "cell_type": "code",
      "source": [
        "x = 3\n",
        "print(x)"
      ],
      "metadata": {
        "colab": {
          "base_uri": "https://localhost:8080/"
        },
        "id": "bhQZlLjvWF-4",
        "outputId": "8ca5872e-5516-47c0-efec-31110f18fe21"
      },
      "execution_count": 1,
      "outputs": [
        {
          "output_type": "stream",
          "name": "stdout",
          "text": [
            "3\n"
          ]
        }
      ]
    },
    {
      "cell_type": "code",
      "source": [
        "import math\n",
        "x = math.sqrt(1+x)\n",
        "print(x)"
      ],
      "metadata": {
        "colab": {
          "base_uri": "https://localhost:8080/"
        },
        "id": "tx9Z-1CKWOXf",
        "outputId": "1beca203-77ee-4d8d-822a-f3ee69746c9e"
      },
      "execution_count": 2,
      "outputs": [
        {
          "output_type": "stream",
          "name": "stdout",
          "text": [
            "2.0\n"
          ]
        }
      ]
    },
    {
      "cell_type": "code",
      "source": [
        "import math\n",
        "x = math.sqrt(1+x)\n",
        "print(x)"
      ],
      "metadata": {
        "colab": {
          "base_uri": "https://localhost:8080/"
        },
        "id": "eNGvoORdWdGW",
        "outputId": "422fccee-1813-4384-8d10-120b5d4bc09e"
      },
      "execution_count": 3,
      "outputs": [
        {
          "output_type": "stream",
          "name": "stdout",
          "text": [
            "1.7320508075688772\n"
          ]
        }
      ]
    },
    {
      "cell_type": "code",
      "source": [
        "import math\n",
        "x = math.sqrt(1+x)\n",
        "print(x)"
      ],
      "metadata": {
        "colab": {
          "base_uri": "https://localhost:8080/"
        },
        "id": "9O21kpPSW0gj",
        "outputId": "ff76a8e6-e1e6-4acb-a7ad-ade44ff557a2"
      },
      "execution_count": 4,
      "outputs": [
        {
          "output_type": "stream",
          "name": "stdout",
          "text": [
            "1.6528916502810695\n"
          ]
        }
      ]
    },
    {
      "cell_type": "code",
      "source": [
        "import math\n",
        "x = math.sqrt(x)\n",
        "print(x)"
      ],
      "metadata": {
        "colab": {
          "base_uri": "https://localhost:8080/"
        },
        "id": "l0cOznoIXbjq",
        "outputId": "fd7ae3a3-4637-4d7f-bba1-4767c271a214"
      },
      "execution_count": 5,
      "outputs": [
        {
          "output_type": "stream",
          "name": "stdout",
          "text": [
            "1.2856483384973783\n"
          ]
        }
      ]
    },
    {
      "cell_type": "markdown",
      "source": [
        "#Thực hành 2: Lặp trình whlie để tìm nghiệm\n"
      ],
      "metadata": {
        "id": "z1Gcx4DZX9Dk"
      }
    },
    {
      "cell_type": "code",
      "source": [
        "import math\n",
        "x = 3\n",
        "lap = 1\n",
        "while (x != math.sqrt(x + 1)):\n",
        "  x = math.sqrt(x + 1)\n",
        "  lap += 1\n",
        "x"
      ],
      "metadata": {
        "colab": {
          "base_uri": "https://localhost:8080/"
        },
        "id": "pwJSnzX6YGPE",
        "outputId": "43f2a3e9-72d8-440b-c039-1d35de925b21"
      },
      "execution_count": 6,
      "outputs": [
        {
          "output_type": "execute_result",
          "data": {
            "text/plain": [
              "1.618033988749895"
            ]
          },
          "metadata": {},
          "execution_count": 6
        }
      ]
    },
    {
      "cell_type": "code",
      "source": [
        "lap "
      ],
      "metadata": {
        "colab": {
          "base_uri": "https://localhost:8080/"
        },
        "id": "E12OcKngYX8U",
        "outputId": "1573a545-cadc-4b0d-efea-de4bf9c95624"
      },
      "execution_count": 7,
      "outputs": [
        {
          "output_type": "execute_result",
          "data": {
            "text/plain": [
              "32"
            ]
          },
          "metadata": {},
          "execution_count": 7
        }
      ]
    },
    {
      "cell_type": "markdown",
      "source": [
        "#Thực hành 3: Giải phương trình bằng hàm solve trong sympy\n"
      ],
      "metadata": {
        "id": "xU24nR6XYbH0"
      }
    },
    {
      "cell_type": "code",
      "source": [
        "import sympy as sp\n",
        "from sympy import Symbol\n",
        "x = Symbol('x')\n",
        "sp.solve(x-sp.sqrt(1 + x), x)"
      ],
      "metadata": {
        "colab": {
          "base_uri": "https://localhost:8080/"
        },
        "id": "0KewmdH7YmKC",
        "outputId": "6162a724-0242-44ca-f2ab-5d574cfbc2de"
      },
      "execution_count": 8,
      "outputs": [
        {
          "output_type": "execute_result",
          "data": {
            "text/plain": [
              "[1/2 + sqrt(5)/2]"
            ]
          },
          "metadata": {},
          "execution_count": 8
        }
      ]
    },
    {
      "cell_type": "markdown",
      "source": [
        "#Thực hành 4:Các phép toán trên vector\n"
      ],
      "metadata": {
        "id": "fFBEYB7FZQbe"
      }
    },
    {
      "cell_type": "code",
      "source": [
        "import numpy as np\n",
        "v1 = np.array([1.,2.,3.]) # tao vector 3 chieu\n",
        "v2 = np.array([2.,1.,0.])\n",
        "v3 = v1 + v2 # cong vector\n",
        "v3"
      ],
      "metadata": {
        "colab": {
          "base_uri": "https://localhost:8080/"
        },
        "id": "ym6TNhiBZMpe",
        "outputId": "84c2f90a-a55e-444f-8df6-9a98cec1546e"
      },
      "execution_count": 9,
      "outputs": [
        {
          "output_type": "execute_result",
          "data": {
            "text/plain": [
              "array([3., 3., 3.])"
            ]
          },
          "metadata": {},
          "execution_count": 9
        }
      ]
    },
    {
      "cell_type": "markdown",
      "source": [
        "Thực hiện phép toán trên vector"
      ],
      "metadata": {
        "id": "SKW5ptCQamP7"
      }
    },
    {
      "cell_type": "code",
      "source": [
        "3*v1 + 2*v2"
      ],
      "metadata": {
        "colab": {
          "base_uri": "https://localhost:8080/"
        },
        "id": "GM7wI3aOaD6_",
        "outputId": "51e65df1-8bf4-42fd-dee5-47df39f3a46b"
      },
      "execution_count": 10,
      "outputs": [
        {
          "output_type": "execute_result",
          "data": {
            "text/plain": [
              "array([7., 8., 9.])"
            ]
          },
          "metadata": {},
          "execution_count": 10
        }
      ]
    },
    {
      "cell_type": "markdown",
      "source": [
        "So sánh numpy.array với list trong python"
      ],
      "metadata": {
        "id": "7XSBJk1daxrg"
      }
    },
    {
      "cell_type": "code",
      "source": [
        "[1,2,3] + [2,1,0]"
      ],
      "metadata": {
        "colab": {
          "base_uri": "https://localhost:8080/"
        },
        "id": "Nocu0NwxaHsK",
        "outputId": "3f59d7fa-a941-41de-dae0-7da62fd07704"
      },
      "execution_count": 11,
      "outputs": [
        {
          "output_type": "execute_result",
          "data": {
            "text/plain": [
              "[1, 2, 3, 2, 1, 0]"
            ]
          },
          "metadata": {},
          "execution_count": 11
        }
      ]
    },
    {
      "cell_type": "code",
      "source": [
        "3*[1,2,3] + 2*[2,1,0]"
      ],
      "metadata": {
        "colab": {
          "base_uri": "https://localhost:8080/"
        },
        "id": "QetcYZE_aP8P",
        "outputId": "a6bf8ca2-19fd-4afe-ac3f-fb0fc5f2bfed"
      },
      "execution_count": 12,
      "outputs": [
        {
          "output_type": "execute_result",
          "data": {
            "text/plain": [
              "[1, 2, 3, 1, 2, 3, 1, 2, 3, 2, 1, 0, 2, 1, 0]"
            ]
          },
          "metadata": {},
          "execution_count": 12
        }
      ]
    },
    {
      "cell_type": "markdown",
      "source": [
        "Ghép nối(Concatenating) 2 hoặc nhiều vector"
      ],
      "metadata": {
        "id": "Kj1TNBRdbBtG"
      }
    },
    {
      "cell_type": "code",
      "source": [
        "v4 = np.hstack([v1, v2])\n",
        "v4"
      ],
      "metadata": {
        "colab": {
          "base_uri": "https://localhost:8080/"
        },
        "id": "ZICLJrScaUIf",
        "outputId": "79e96d46-b029-4f1a-e0c1-2243a97200db"
      },
      "execution_count": 13,
      "outputs": [
        {
          "output_type": "execute_result",
          "data": {
            "text/plain": [
              "array([1., 2., 3., 2., 1., 0.])"
            ]
          },
          "metadata": {},
          "execution_count": 13
        }
      ]
    },
    {
      "cell_type": "markdown",
      "source": [
        "Phép nhân vô hướng 2 vector:\n"
      ],
      "metadata": {
        "id": "SSarWfg3bbaQ"
      }
    },
    {
      "cell_type": "code",
      "source": [
        "np.dot(v1,v2)"
      ],
      "metadata": {
        "colab": {
          "base_uri": "https://localhost:8080/"
        },
        "id": "Fl4EnI3WbqFK",
        "outputId": "76c69123-3b9f-4805-989b-8c2c2c94e15f"
      },
      "execution_count": 14,
      "outputs": [
        {
          "output_type": "execute_result",
          "data": {
            "text/plain": [
              "4.0"
            ]
          },
          "metadata": {},
          "execution_count": 14
        }
      ]
    },
    {
      "cell_type": "markdown",
      "source": [
        "Tính toán giá trị sin của vector"
      ],
      "metadata": {
        "id": "TSUBtu9lbyvC"
      }
    },
    {
      "cell_type": "code",
      "source": [
        "angles = np.linspace(0, np.pi/2, 5)\n",
        "angles"
      ],
      "metadata": {
        "colab": {
          "base_uri": "https://localhost:8080/"
        },
        "id": "f-uqB7Rdb2Yq",
        "outputId": "d1abb1ad-0fae-4001-8d9e-a793879fe971"
      },
      "execution_count": 15,
      "outputs": [
        {
          "output_type": "execute_result",
          "data": {
            "text/plain": [
              "array([0.        , 0.39269908, 0.78539816, 1.17809725, 1.57079633])"
            ]
          },
          "metadata": {},
          "execution_count": 15
        }
      ]
    },
    {
      "cell_type": "code",
      "source": [
        "np.sin(angles)"
      ],
      "metadata": {
        "colab": {
          "base_uri": "https://localhost:8080/"
        },
        "id": "TDnhD0I8cHBb",
        "outputId": "615fa873-c79c-4414-cbba-e967c9136a4e"
      },
      "execution_count": 16,
      "outputs": [
        {
          "output_type": "execute_result",
          "data": {
            "text/plain": [
              "array([0.        , 0.38268343, 0.70710678, 0.92387953, 1.        ])"
            ]
          },
          "metadata": {},
          "execution_count": 16
        }
      ]
    },
    {
      "cell_type": "markdown",
      "source": [
        "Hàm xử lý sin trong gói sympy sẽ không hỗ trợ tính toán toàn bộ vector chứa dữ liêu"
      ],
      "metadata": {
        "id": "ibwEOzqvcjGd"
      }
    },
    {
      "cell_type": "code",
      "source": [
        "import sympy as sy\n",
        "sy.sin(angles[0])"
      ],
      "metadata": {
        "colab": {
          "base_uri": "https://localhost:8080/",
          "height": 38
        },
        "id": "7TfIPcmXcfOd",
        "outputId": "7d225425-d985-4827-f776-59059640f745"
      },
      "execution_count": 17,
      "outputs": [
        {
          "output_type": "execute_result",
          "data": {
            "text/plain": [
              "0"
            ],
            "text/latex": "$\\displaystyle 0$"
          },
          "metadata": {},
          "execution_count": 17
        }
      ]
    },
    {
      "cell_type": "markdown",
      "source": [
        "TypeError: unhashable type:\"numpy.ndarray\""
      ],
      "metadata": {
        "id": "2hKMAdHYdUTy"
      }
    },
    {
      "cell_type": "markdown",
      "source": [
        "Chương trình lặp vector mới được xây dựng sẵn tạm thời:\n"
      ],
      "metadata": {
        "id": "yCkp2f1cdqSO"
      }
    },
    {
      "cell_type": "code",
      "source": [
        "from sympy import sin as sysin\n",
        "angles = np.linspace(0, np.pi/2, 5)\n",
        "sinangle = np.zeros(5)   #tuong duong sinangle = np.array([0.0, 0.0, 0.0, 0.0, 0.0])\n",
        "len(angles) #kiem tra kich thuoc/ so chieu cua vector angles.\n",
        "for i in range(len(angles)):\n",
        "  sinangle[i] = sysin(angles[i])    #luu y: o day phai enter 2 lan de thoat khoi vong lap for\n",
        "sinangle"
      ],
      "metadata": {
        "colab": {
          "base_uri": "https://localhost:8080/"
        },
        "id": "zTwzUMT3dpjl",
        "outputId": "13fe79c6-ea05-4286-e37d-ae1d2748e3b1"
      },
      "execution_count": 18,
      "outputs": [
        {
          "output_type": "execute_result",
          "data": {
            "text/plain": [
              "array([0.        , 0.38268343, 0.70710678, 0.92387953, 1.        ])"
            ]
          },
          "metadata": {},
          "execution_count": 18
        }
      ]
    },
    {
      "cell_type": "markdown",
      "source": [
        "#Thực hành 5: Tính tổng các tích giữa ma trận và vector. Gỉa định gói thư viện numpy được đưa vào hê thống có tên là np. Dạng:"
      ],
      "metadata": {
        "id": "dzjQSVEygDNX"
      }
    },
    {
      "cell_type": "code",
      "source": [
        "import numpy as np\n",
        "goc = np.pi/3\n",
        "A = np.array([ [np.cos(goc), -np.sin(goc)], [np.sin(goc), np.cos(goc)] ])\n",
        "V = np.array([1., 0.])\n",
        "Y = np.dot(A, V)\n",
        "Y"
      ],
      "metadata": {
        "colab": {
          "base_uri": "https://localhost:8080/"
        },
        "id": "bMxJKmYhgkCV",
        "outputId": "c14d1675-c0e2-49c0-fa69-c6f766fddadb"
      },
      "execution_count": 19,
      "outputs": [
        {
          "output_type": "execute_result",
          "data": {
            "text/plain": [
              "array([0.5      , 0.8660254])"
            ]
          },
          "metadata": {},
          "execution_count": 19
        }
      ]
    },
    {
      "cell_type": "markdown",
      "source": [
        "#Thực hành 6: Tính toán đạo hàm trên 1 vector dữ liệu\n"
      ],
      "metadata": {
        "id": "q752-nvCju0z"
      }
    },
    {
      "cell_type": "markdown",
      "source": [
        "+Trường hợp dx cố định:\n"
      ],
      "metadata": {
        "id": "zuCufwBvj6JG"
      }
    },
    {
      "cell_type": "code",
      "source": [
        "from numpy import diff\n",
        "dx = 0.1\n",
        "y = [1, 2, 3, 4, 4, 5, 6]\n",
        "dy = diff(y)/dx\n",
        "dy"
      ],
      "metadata": {
        "colab": {
          "base_uri": "https://localhost:8080/"
        },
        "id": "-4u_AtKAhpx0",
        "outputId": "fc635ef9-5dd7-4564-892e-db8bc90744c8"
      },
      "execution_count": 20,
      "outputs": [
        {
          "output_type": "execute_result",
          "data": {
            "text/plain": [
              "array([10., 10., 10.,  0., 10., 10.])"
            ]
          },
          "metadata": {},
          "execution_count": 20
        }
      ]
    },
    {
      "cell_type": "code",
      "source": [
        "z = np.array([1,2,3,4,4,5,6])\n",
        "dz = diff(z)/dx\n",
        "dz"
      ],
      "metadata": {
        "colab": {
          "base_uri": "https://localhost:8080/"
        },
        "id": "9Oi3sEjDkSRP",
        "outputId": "fd6fc53c-e70a-43e0-b63e-808fa3ad5219"
      },
      "execution_count": 21,
      "outputs": [
        {
          "output_type": "execute_result",
          "data": {
            "text/plain": [
              "array([10., 10., 10.,  0., 10., 10.])"
            ]
          },
          "metadata": {},
          "execution_count": 21
        }
      ]
    },
    {
      "cell_type": "markdown",
      "source": [
        "+ Trong trường hợp dx là một dãy số:\n"
      ],
      "metadata": {
        "id": "81MttGTm5KC-"
      }
    },
    {
      "cell_type": "code",
      "source": [
        "from numpy import diff\n",
        "x = [.1, .2, .5, .6, .7, .8, .9]\n",
        "y = [1,2,3,4,4,5,6]\n",
        "dydx = diff(y)/diff(x)\n",
        "print(dydx)"
      ],
      "metadata": {
        "id": "Ea9ixZDI5YOc",
        "outputId": "12854460-947c-4cc0-a572-e10a82af5b1a",
        "colab": {
          "base_uri": "https://localhost:8080/"
        }
      },
      "execution_count": 22,
      "outputs": [
        {
          "output_type": "stream",
          "name": "stdout",
          "text": [
            "[10.          3.33333333 10.          0.         10.         10.        ]\n"
          ]
        }
      ]
    },
    {
      "cell_type": "markdown",
      "source": [
        "#Thực hành 7: Một số hàm xử lý phẳng(Không gian Euclide)"
      ],
      "metadata": {
        "id": "1uYGQow26Fc1"
      }
    },
    {
      "cell_type": "code",
      "source": [
        "from sympy.geometry import *"
      ],
      "metadata": {
        "id": "7ZAPUvs_6Z00"
      },
      "execution_count": 23,
      "outputs": []
    },
    {
      "cell_type": "code",
      "source": [
        "#Tạo các điểm P1, P2, P3 và P4\n",
        "P1 = Point(0,0)\n",
        "P2 = Point(3,4)\n",
        "P3 = Point(2,-1)\n",
        "P4 = Point(-1,-5)"
      ],
      "metadata": {
        "id": "L3Amby5f6jTG"
      },
      "execution_count": 24,
      "outputs": []
    },
    {
      "cell_type": "code",
      "source": [
        "# Tạo 2 đoạn đường S1 và S2:\n",
        "S1 = Segment(P1,P2)\n",
        "S2 = Segment(P3,P4)"
      ],
      "metadata": {
        "id": "czhJC6hd6_G_"
      },
      "execution_count": 25,
      "outputs": []
    },
    {
      "cell_type": "code",
      "source": [
        "# Kiểm 3 điểm thẳng hàng:\n",
        "Point.is_collinear(P1,P2,P3)"
      ],
      "metadata": {
        "id": "FxZxnGKp7Orj",
        "outputId": "65adc521-23d9-475d-ab0f-bec40f19ce94",
        "colab": {
          "base_uri": "https://localhost:8080/"
        }
      },
      "execution_count": 26,
      "outputs": [
        {
          "output_type": "execute_result",
          "data": {
            "text/plain": [
              "False"
            ]
          },
          "metadata": {},
          "execution_count": 26
        }
      ]
    },
    {
      "cell_type": "code",
      "source": [
        "# Độ dài của đoạn đường S1\n",
        "S1.length"
      ],
      "metadata": {
        "id": "1RS5tQ_L7TrX",
        "outputId": "b0faf12d-e680-4d8e-97bc-20c1cb8d2b87",
        "colab": {
          "base_uri": "https://localhost:8080/",
          "height": 0
        }
      },
      "execution_count": 27,
      "outputs": [
        {
          "output_type": "execute_result",
          "data": {
            "text/plain": [
              "5"
            ],
            "text/latex": "$\\displaystyle 5$"
          },
          "metadata": {},
          "execution_count": 27
        }
      ]
    },
    {
      "cell_type": "code",
      "source": [
        "# Lấy trung bình của đoạn 2:\n",
        "S2.midpoint"
      ],
      "metadata": {
        "id": "XwtDtXy17mOd",
        "outputId": "8b96bcd4-12f4-4a1e-8206-85caddadccf3",
        "colab": {
          "base_uri": "https://localhost:8080/",
          "height": 0
        }
      },
      "execution_count": 28,
      "outputs": [
        {
          "output_type": "execute_result",
          "data": {
            "text/plain": [
              "Point2D(1/2, -3)"
            ],
            "text/latex": "$\\displaystyle Point2D\\left(\\frac{1}{2}, -3\\right)$"
          },
          "metadata": {},
          "execution_count": 28
        }
      ]
    },
    {
      "cell_type": "code",
      "source": [
        "# Tính độ dốc của đường S1\n",
        "S1.slope"
      ],
      "metadata": {
        "id": "8-PGQ6nx7yVP",
        "outputId": "0975696b-f63a-4d04-b4b1-d7a275981273",
        "colab": {
          "base_uri": "https://localhost:8080/",
          "height": 0
        }
      },
      "execution_count": 29,
      "outputs": [
        {
          "output_type": "execute_result",
          "data": {
            "text/plain": [
              "4/3"
            ],
            "text/latex": "$\\displaystyle \\frac{4}{3}$"
          },
          "metadata": {},
          "execution_count": 29
        }
      ]
    },
    {
      "cell_type": "code",
      "source": [
        "# Tìm vị trí giao nhau giữa hai đoạn đường\n",
        "S1.intersection(S2)"
      ],
      "metadata": {
        "id": "mm3n2VBY7-8C",
        "outputId": "a812356e-8f94-417e-ddcb-7889566d98ed",
        "colab": {
          "base_uri": "https://localhost:8080/"
        }
      },
      "execution_count": 30,
      "outputs": [
        {
          "output_type": "execute_result",
          "data": {
            "text/plain": [
              "[]"
            ]
          },
          "metadata": {},
          "execution_count": 30
        }
      ]
    },
    {
      "cell_type": "code",
      "source": [
        "# Góc giữa hai đoạn đường\n",
        "Segment.angle_between(S1,S2)"
      ],
      "metadata": {
        "id": "Lv5VWmVR8KVn",
        "outputId": "b55460c2-59b8-45d2-d658-67c280a87d32",
        "colab": {
          "base_uri": "https://localhost:8080/",
          "height": 0
        }
      },
      "execution_count": 31,
      "outputs": [
        {
          "output_type": "execute_result",
          "data": {
            "text/plain": [
              "pi"
            ],
            "text/latex": "$\\displaystyle \\pi$"
          },
          "metadata": {},
          "execution_count": 31
        }
      ]
    },
    {
      "cell_type": "code",
      "source": [
        "# Kiểm đoạn đường S1 có chứa điểm P3 hay không?\n",
        "S1.contains(P3)"
      ],
      "metadata": {
        "id": "Q6qKI70-8efH",
        "outputId": "aa15a58f-7ccc-4996-86b8-d2128abc2de5",
        "colab": {
          "base_uri": "https://localhost:8080/"
        }
      },
      "execution_count": 32,
      "outputs": [
        {
          "output_type": "execute_result",
          "data": {
            "text/plain": [
              "False"
            ]
          },
          "metadata": {},
          "execution_count": 32
        }
      ]
    },
    {
      "cell_type": "code",
      "source": [
        "# Lập và xem chương trình đường thẳng L1 đi qua 2 điểm P1 và P2:\n",
        "L1 = Line(P1,P2)\n",
        "L1.equation()"
      ],
      "metadata": {
        "id": "kVCje8sh8rLX",
        "outputId": "d6262fed-c61c-4183-b9e7-66577b5f4825",
        "colab": {
          "base_uri": "https://localhost:8080/",
          "height": 0
        }
      },
      "execution_count": 33,
      "outputs": [
        {
          "output_type": "execute_result",
          "data": {
            "text/plain": [
              "-4*x + 3*y"
            ],
            "text/latex": "$\\displaystyle - 4 x + 3 y$"
          },
          "metadata": {},
          "execution_count": 33
        }
      ]
    },
    {
      "cell_type": "code",
      "source": [
        "# Kiểm tính song song:\n",
        "L1.is_parallel(S1)"
      ],
      "metadata": {
        "id": "GrnXZTC-86-U",
        "outputId": "a211b845-d2bb-4649-b261-e57b5c3c1bfe",
        "colab": {
          "base_uri": "https://localhost:8080/"
        }
      },
      "execution_count": 34,
      "outputs": [
        {
          "output_type": "execute_result",
          "data": {
            "text/plain": [
              "True"
            ]
          },
          "metadata": {},
          "execution_count": 34
        }
      ]
    },
    {
      "cell_type": "code",
      "source": [
        "L1.is_parallel(S2)"
      ],
      "metadata": {
        "id": "h0ZXW-2c9cCW",
        "outputId": "79d5f7ea-c22d-4f16-b318-8c9c8f367554",
        "colab": {
          "base_uri": "https://localhost:8080/"
        }
      },
      "execution_count": 35,
      "outputs": [
        {
          "output_type": "execute_result",
          "data": {
            "text/plain": [
              "True"
            ]
          },
          "metadata": {},
          "execution_count": 35
        }
      ]
    },
    {
      "cell_type": "markdown",
      "source": [
        "# Thực hành 8: Bằng phương pháp đồ thị, hãy cho biết giới hạn của hàm số sau\n"
      ],
      "metadata": {
        "id": "C1K64QG59ouH"
      }
    },
    {
      "cell_type": "code",
      "source": [
        "import sympy\n",
        "from sympy import *"
      ],
      "metadata": {
        "id": "fe_8qW6S-Wss"
      },
      "execution_count": 36,
      "outputs": []
    },
    {
      "cell_type": "code",
      "source": [
        "x = Symbol('x')\n",
        "f = x*sin(1/x)\n",
        "c = Symbol('c')\n",
        "delta = Symbol('delta')\n",
        "c = 0\n",
        "delta = 1/4\n",
        "sympy.plot(f,(x, c - delta, c + delta))\n"
      ],
      "metadata": {
        "id": "uD4TenDy-vtv",
        "outputId": "134b2b46-fa97-4de0-89d6-bc13df64d579",
        "colab": {
          "base_uri": "https://localhost:8080/",
          "height": 0
        }
      },
      "execution_count": 37,
      "outputs": [
        {
          "output_type": "display_data",
          "data": {
            "text/plain": [
              "<Figure size 432x288 with 1 Axes>"
            ],
            "image/png": "[encoded data removed]"
          },
          "metadata": {
            "needs_background": "light"
          }
        },
        {
          "output_type": "execute_result",
          "data": {
            "text/plain": [
              "<sympy.plotting.plot.Plot at 0x7fd2989f2310>"
            ]
          },
          "metadata": {},
          "execution_count": 37
        }
      ]
    },
    {
      "cell_type": "code",
      "source": [
        "sympy.plot(f,abs(x), -abs(x), (x, c - delta, c + delta))"
      ],
      "metadata": {
        "id": "WP45c7OTHLVw",
        "outputId": "18ca7def-c4ea-4e54-e307-b3d18a5973fc",
        "colab": {
          "base_uri": "https://localhost:8080/",
          "height": 0
        }
      },
      "execution_count": 38,
      "outputs": [
        {
          "output_type": "display_data",
          "data": {
            "text/plain": [
              "<Figure size 432x288 with 1 Axes>"
            ],
            "image/png": "[encoded data removed]"
          },
          "metadata": {
            "needs_background": "light"
          }
        },
        {
          "output_type": "execute_result",
          "data": {
            "text/plain": [
              "<sympy.plotting.plot.Plot at 0x7fd2989fa850>"
            ]
          },
          "metadata": {},
          "execution_count": 38
        }
      ]
    },
    {
      "cell_type": "markdown",
      "source": [
        "# Thực hành 9: Tìm giá trị cực đại của hàm\n"
      ],
      "metadata": {
        "id": "xsuqYETgHjym"
      }
    },
    {
      "cell_type": "code",
      "source": [
        "from sympy import Symbol, solve, Derivative"
      ],
      "metadata": {
        "id": "w2DzMflgH5BI"
      },
      "execution_count": 39,
      "outputs": []
    },
    {
      "cell_type": "code",
      "source": [
        "x = Symbol('x')\n",
        "f = -x**2 + 4*x - 3\n",
        "d1 = Derivative(f,x).doit()\n",
        "d1"
      ],
      "metadata": {
        "id": "HeybEWYTIJZB",
        "outputId": "31b138b2-1d32-4946-fa3a-a89e049fc146",
        "colab": {
          "base_uri": "https://localhost:8080/",
          "height": 0
        }
      },
      "execution_count": 40,
      "outputs": [
        {
          "output_type": "execute_result",
          "data": {
            "text/plain": [
              "4 - 2*x"
            ],
            "text/latex": "$\\displaystyle 4 - 2 x$"
          },
          "metadata": {},
          "execution_count": 40
        }
      ]
    },
    {
      "cell_type": "code",
      "source": [
        "cuctri = solve(d1)\n",
        "cuctri"
      ],
      "metadata": {
        "id": "46MC02q_IYXe",
        "outputId": "93eacebf-846c-4a8d-f41f-e33bf295edf4",
        "colab": {
          "base_uri": "https://localhost:8080/"
        }
      },
      "execution_count": 41,
      "outputs": [
        {
          "output_type": "execute_result",
          "data": {
            "text/plain": [
              "[2]"
            ]
          },
          "metadata": {},
          "execution_count": 41
        }
      ]
    },
    {
      "cell_type": "code",
      "source": [
        "A = cuctri[0]\n",
        "d2 = Derivative(d1, x).doit()\n",
        "d2.subs({x:A}).evalf()"
      ],
      "metadata": {
        "id": "NqlK2vynIiV3",
        "outputId": "2d9b5c19-b111-47c7-8081-ece28b4611ef",
        "colab": {
          "base_uri": "https://localhost:8080/",
          "height": 0
        }
      },
      "execution_count": 42,
      "outputs": [
        {
          "output_type": "execute_result",
          "data": {
            "text/plain": [
              "-2.00000000000000"
            ],
            "text/latex": "$\\displaystyle -2.0$"
          },
          "metadata": {},
          "execution_count": 42
        }
      ]
    },
    {
      "cell_type": "code",
      "source": [
        "x_min = 0\n",
        "x_max = 4\n",
        "f.subs({x:A}).evalf()"
      ],
      "metadata": {
        "id": "v_P5z70TI7ZX",
        "outputId": "3d3a2e6b-91cf-4eb9-d25f-749fde56d7f2",
        "colab": {
          "base_uri": "https://localhost:8080/",
          "height": 0
        }
      },
      "execution_count": 43,
      "outputs": [
        {
          "output_type": "execute_result",
          "data": {
            "text/plain": [
              "1.00000000000000"
            ],
            "text/latex": "$\\displaystyle 1.0$"
          },
          "metadata": {},
          "execution_count": 43
        }
      ]
    },
    {
      "cell_type": "code",
      "source": [
        "f.subs({x:x_min}).evalf()"
      ],
      "metadata": {
        "id": "N6OoaH0NJN8X",
        "outputId": "bf59086e-8a8a-4b7b-ba0b-ae54f4f82f0f",
        "colab": {
          "base_uri": "https://localhost:8080/",
          "height": 0
        }
      },
      "execution_count": 44,
      "outputs": [
        {
          "output_type": "execute_result",
          "data": {
            "text/plain": [
              "-3.00000000000000"
            ],
            "text/latex": "$\\displaystyle -3.0$"
          },
          "metadata": {},
          "execution_count": 44
        }
      ]
    },
    {
      "cell_type": "code",
      "source": [
        "f.subs({x:x_max}).evalf()"
      ],
      "metadata": {
        "id": "O1Dui2t-JTBG",
        "outputId": "d727d575-d70f-4cf3-d81c-7b170e4d90ab",
        "colab": {
          "base_uri": "https://localhost:8080/",
          "height": 0
        }
      },
      "execution_count": 45,
      "outputs": [
        {
          "output_type": "execute_result",
          "data": {
            "text/plain": [
              "-3.00000000000000"
            ],
            "text/latex": "$\\displaystyle -3.0$"
          },
          "metadata": {},
          "execution_count": 45
        }
      ]
    },
    {
      "cell_type": "markdown",
      "source": [
        "# Thực hành 10: Tìm diện tích cực đại để lắp các tấm pin mặt trời trên một sân phăng có hình parabol\n"
      ],
      "metadata": {
        "id": "9HiVXUsmJjYk"
      }
    },
    {
      "cell_type": "code",
      "source": [
        "from sympy import *"
      ],
      "metadata": {
        "id": "y3c51ExgO3_E"
      },
      "execution_count": 46,
      "outputs": []
    },
    {
      "cell_type": "code",
      "source": [
        "x = Symbol('x')\n",
        "a = Symbol('a')\n",
        "A = -2*x**3 + 2*a*x\n",
        "A"
      ],
      "metadata": {
        "id": "5cF7qZ3SPHjs",
        "outputId": "0b871575-eba1-4776-efaf-19e93bf57221",
        "colab": {
          "base_uri": "https://localhost:8080/",
          "height": 39
        }
      },
      "execution_count": 47,
      "outputs": [
        {
          "output_type": "execute_result",
          "data": {
            "text/plain": [
              "2*a*x - 2*x**3"
            ],
            "text/latex": "$\\displaystyle 2 a x - 2 x^{3}$"
          },
          "metadata": {},
          "execution_count": 47
        }
      ]
    },
    {
      "cell_type": "code",
      "source": [
        "d1 = Derivative(A,x).doit()\n",
        "d1"
      ],
      "metadata": {
        "id": "nHmPyZ-tWP1F",
        "outputId": "12ddbd32-4123-41e7-8512-e117ac0fa8bd",
        "colab": {
          "base_uri": "https://localhost:8080/",
          "height": 39
        }
      },
      "execution_count": 48,
      "outputs": [
        {
          "output_type": "execute_result",
          "data": {
            "text/plain": [
              "2*a - 6*x**2"
            ],
            "text/latex": "$\\displaystyle 2 a - 6 x^{2}$"
          },
          "metadata": {},
          "execution_count": 48
        }
      ]
    },
    {
      "cell_type": "code",
      "source": [
        "cuctri = solve(d1,x)\n",
        "cuctri"
      ],
      "metadata": {
        "id": "bB0mqsRfQWqz",
        "outputId": "73c46cc5-6391-451b-aac2-998928520493",
        "colab": {
          "base_uri": "https://localhost:8080/"
        }
      },
      "execution_count": 49,
      "outputs": [
        {
          "output_type": "execute_result",
          "data": {
            "text/plain": [
              "[-sqrt(3)*sqrt(a)/3, sqrt(3)*sqrt(a)/3]"
            ]
          },
          "metadata": {},
          "execution_count": 49
        }
      ]
    },
    {
      "cell_type": "code",
      "source": [
        "B = cuctri\n",
        "d2 = Derivative(d1, x).doit()\n",
        "d2.subs({x:B}).evalf()"
      ],
      "metadata": {
        "id": "IzuJBSnSQ3MN",
        "outputId": "0b7720ea-9a5d-47fb-9b8d-ff095d88f8fb",
        "colab": {
          "base_uri": "https://localhost:8080/",
          "height": 39
        }
      },
      "execution_count": 50,
      "outputs": [
        {
          "output_type": "execute_result",
          "data": {
            "text/plain": [
              "-12.0*x"
            ],
            "text/latex": "$\\displaystyle - 12.0 x$"
          },
          "metadata": {},
          "execution_count": 50
        }
      ]
    },
    {
      "cell_type": "code",
      "source": [
        "x_1 = 0\n",
        "A.subs({x:x_1}).evalf()"
      ],
      "metadata": {
        "id": "4-xpda4RaluY",
        "outputId": "91644ea5-4325-46ce-dd36-9c4623d42e75",
        "colab": {
          "base_uri": "https://localhost:8080/",
          "height": 38
        }
      },
      "execution_count": 51,
      "outputs": [
        {
          "output_type": "execute_result",
          "data": {
            "text/plain": [
              "0"
            ],
            "text/latex": "$\\displaystyle 0$"
          },
          "metadata": {},
          "execution_count": 51
        }
      ]
    },
    {
      "cell_type": "code",
      "source": [
        "x_2 = sqrt(a)\n",
        "A.subs({x:x_2}).evalf()"
      ],
      "metadata": {
        "id": "o2vXA0KCV_Al",
        "outputId": "4050485e-2c54-4603-dcb2-e57769cb1c5f",
        "colab": {
          "base_uri": "https://localhost:8080/",
          "height": 38
        }
      },
      "execution_count": 52,
      "outputs": [
        {
          "output_type": "execute_result",
          "data": {
            "text/plain": [
              "0"
            ],
            "text/latex": "$\\displaystyle 0$"
          },
          "metadata": {},
          "execution_count": 52
        }
      ]
    },
    {
      "cell_type": "code",
      "source": [
        "A.subs({x:}).evalf()"
      ],
      "metadata": {
        "id": "0Q0VU2TjXaZZ",
        "outputId": "31659161-d525-488c-f9cb-0bb1f4f4cf99",
        "colab": {
          "base_uri": "https://localhost:8080/",
          "height": 130
        }
      },
      "execution_count": 53,
      "outputs": [
        {
          "output_type": "error",
          "ename": "SyntaxError",
          "evalue": "ignored",
          "traceback": [
            "\u001b[0;36m  File \u001b[0;32m\"<ipython-input-53-9c523380a99e>\"\u001b[0;36m, line \u001b[0;32m1\u001b[0m\n\u001b[0;31m    A.subs({x:}).evalf()\u001b[0m\n\u001b[0m              ^\u001b[0m\n\u001b[0;31mSyntaxError\u001b[0m\u001b[0;31m:\u001b[0m invalid syntax\n"
          ]
        }
      ]
    },
    {
      "cell_type": "markdown",
      "source": [
        "# Thực hành 11: Bài toán Black Friday - Tìm giá tốt cho đợt giảm giá điện thoại iPhone 11 cuối năm"
      ],
      "metadata": {
        "id": "kRagKMcqtQMJ"
      }
    },
    {
      "cell_type": "markdown",
      "source": [
        "# Thực hành 12: Bài toán Cung - Cầu"
      ],
      "metadata": {
        "id": "-rBDBlFCKqFU"
      }
    },
    {
      "cell_type": "code",
      "source": [
        "from sympy import Symbol, solve, Derivative, Integral"
      ],
      "metadata": {
        "id": "l6zQ8CnCSGRi"
      },
      "execution_count": 66,
      "outputs": []
    },
    {
      "cell_type": "code",
      "source": [
        "q = Symbol('q')\n",
        "# Quy luat cau: p = d(q) = -0.8q + 150\n",
        "p1 = -0.8*q + 150\n",
        "# Quy luat cung: p = s(q) = 5.2q\n",
        "p2 = 5.2*q\n",
        "# Phuong trinh\n",
        "Q = 6*q - 150 # p = d(q) = s(q)"
      ],
      "metadata": {
        "id": "FtGC_ahzSQ6P"
      },
      "execution_count": 67,
      "outputs": []
    },
    {
      "cell_type": "code",
      "source": [
        "A = solve(Q,q)\n",
        "A[0]"
      ],
      "metadata": {
        "id": "PxH5ISkJTspn",
        "outputId": "b55615b9-d9f5-4292-d3e2-ee3fe41dd8e0",
        "colab": {
          "base_uri": "https://localhost:8080/",
          "height": 38
        }
      },
      "execution_count": 68,
      "outputs": [
        {
          "output_type": "execute_result",
          "data": {
            "text/plain": [
              "25"
            ],
            "text/latex": "$\\displaystyle 25$"
          },
          "metadata": {},
          "execution_count": 68
        }
      ]
    },
    {
      "cell_type": "code",
      "source": [
        "p1.subs({q:A[0]}).evalf() # moi thang ban duoc 25 xe voi q"
      ],
      "metadata": {
        "id": "U37UAlKSU-Le",
        "outputId": "619e2d7f-7c87-4508-921a-e7ceaa6ce618",
        "colab": {
          "base_uri": "https://localhost:8080/",
          "height": 38
        }
      },
      "execution_count": 69,
      "outputs": [
        {
          "output_type": "execute_result",
          "data": {
            "text/plain": [
              "130.000000000000"
            ],
            "text/latex": "$\\displaystyle 130.0$"
          },
          "metadata": {},
          "execution_count": 69
        }
      ]
    },
    {
      "cell_type": "code",
      "source": [
        "from pylab import plot, show\n",
        "import matplotlib.pyplot as plt\n",
        "\n",
        "y1 = [5, 10, 15, 25]\n",
        "y2 = [4, 8, 16, 25]\n",
        "\n",
        "plt.plot(y1, marker = 'p', color='green')\n",
        "plt.plot(y2, marker = 'h', color='purple')\n",
        "\n",
        "plt.show()"
      ],
      "metadata": {
        "id": "QlSdi0avdQH_",
        "outputId": "ba19dce3-fe69-49ba-adc9-b618ac0ae047",
        "colab": {
          "base_uri": "https://localhost:8080/",
          "height": 265
        }
      },
      "execution_count": 70,
      "outputs": [
        {
          "output_type": "display_data",
          "data": {
            "text/plain": [
              "<Figure size 432x288 with 1 Axes>"
            ],
            "image/png": "[encoded data removed]"
          },
          "metadata": {
            "needs_background": "light"
          }
        }
      ]
    },
    {
      "cell_type": "code",
      "source": [
        "# Tong so tien nguoi mua phai tra du/ cao hon(consumer surplus):\n",
        "Cs = Integral(p1, (q, 0, 25)).doit() - 130*25\n",
        "Cs"
      ],
      "metadata": {
        "id": "5dKJl4q0WePu",
        "outputId": "435c1436-2954-4bae-c88f-73dacb8d8283",
        "colab": {
          "base_uri": "https://localhost:8080/",
          "height": 38
        }
      },
      "execution_count": 71,
      "outputs": [
        {
          "output_type": "execute_result",
          "data": {
            "text/plain": [
              "250.000000000000"
            ],
            "text/latex": "$\\displaystyle 250.0$"
          },
          "metadata": {},
          "execution_count": 71
        }
      ]
    },
    {
      "cell_type": "code",
      "source": [
        "# Tong so tien mà san pham thu du duoc (producer surplus):\n",
        "Ps = 130*25 - Integral(p2, (q, 0, 25)).doit()\n",
        "Ps"
      ],
      "metadata": {
        "id": "FV8J-WcDch4M",
        "outputId": "2e8ca35c-a0d6-4646-aec0-ec8c2526c90c",
        "colab": {
          "base_uri": "https://localhost:8080/",
          "height": 38
        }
      },
      "execution_count": 72,
      "outputs": [
        {
          "output_type": "execute_result",
          "data": {
            "text/plain": [
              "1625.00000000000"
            ],
            "text/latex": "$\\displaystyle 1625.0$"
          },
          "metadata": {},
          "execution_count": 72
        }
      ]
    },
    {
      "cell_type": "markdown",
      "source": [
        "# Thực hành 13: Bài toán lợi nhuận đầu tư"
      ],
      "metadata": {
        "id": "WxNC-0AnJZHs"
      }
    },
    {
      "cell_type": "code",
      "source": [
        "from sympy import Symbol, Integral, exp"
      ],
      "metadata": {
        "id": "u1PxBcMGl8k8"
      },
      "execution_count": 73,
      "outputs": []
    },
    {
      "cell_type": "code",
      "source": [
        "t = Symbol(\"t\")\n",
        "\n",
        "F = 62 + 8*t # hàm tính theo thu nhập các năm tiếp theo sẽ tăng thêm 8 đồng\n",
        "m = float(input('nhap gia tri thu lai nam dau: '))\n",
        "\n",
        "# lợi nhuận của nhóm khởi nghiệp\n",
        "a = m*exp(-0.017*t)\n",
        "b = F*exp(-0.017*t)\n",
        "pf = Integral(a, (t, 0, 1)).doit() + Integral(b, (t, 1, 8)).doit()\n",
        "pf "
      ],
      "metadata": {
        "id": "dgNHGid-nSHW",
        "outputId": "a31f3f99-52a8-4634-e9d8-355e39b82f96",
        "colab": {
          "base_uri": "https://localhost:8080/",
          "height": 54
        }
      },
      "execution_count": 74,
      "outputs": [
        {
          "name": "stdout",
          "output_type": "stream",
          "text": [
            "nhap gia tri thu lai nam dau: 70\n"
          ]
        },
        {
          "output_type": "execute_result",
          "data": {
            "text/plain": [
              "701.659163940087"
            ],
            "text/latex": "$\\displaystyle 701.659163940087$"
          },
          "metadata": {},
          "execution_count": 74
        }
      ]
    }
  ]
}
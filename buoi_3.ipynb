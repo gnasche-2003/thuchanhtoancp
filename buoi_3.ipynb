{
  "nbformat": 4,
  "nbformat_minor": 0,
  "metadata": {
    "colab": {
      "name": "buoi_3.ipynb",
      "provenance": [],
      "authorship_tag": "ABX9TyM9gts54OQ/8nFGvC+iyPo+",
      "include_colab_link": true
    },
    "kernelspec": {
      "name": "python3",
      "display_name": "Python 3"
    },
    "language_info": {
      "name": "python"
    }
  },
  "cells": [
    {
      "cell_type": "markdown",
      "metadata": {
        "id": "view-in-github",
        "colab_type": "text"
      },
      "source": [
        "<a href=\"https://colab.research.google.com/github/gnasche-2003/thuchanhtoancp/blob/main/buoi_3.ipynb\" target=\"_parent\"><img src=\"https://colab.research.google.com/assets/colab-badge.svg\" alt=\"Open In Colab\"/></a>"
      ]
    },
    {
      "cell_type": "markdown",
      "source": [
        "CHƯƠNG 3: ĐẠO HÀM VÀ ỨNG DỤNG"
      ],
      "metadata": {
        "id": "i_lRlR5g2LHt"
      }
    },
    {
      "cell_type": "markdown",
      "source": [
        "Thực hành 1: Viết hàm"
      ],
      "metadata": {
        "id": "Cbffyayb2iUj"
      }
    },
    {
      "cell_type": "code",
      "source": [
        "def luythua(x,n):\n",
        "  ketqua = 1\n",
        "  for i in range(n):\n",
        "    ketqua *= x\n",
        "  return ketqua"
      ],
      "metadata": {
        "id": "PiaHr-YkLCZA"
      },
      "execution_count": 1,
      "outputs": []
    },
    {
      "cell_type": "code",
      "source": [
        "luythua(2,1)"
      ],
      "metadata": {
        "id": "iHxHN0ftMWyZ",
        "outputId": "59ef6d9f-cf9e-4a25-e841-0947f6aa75e1",
        "colab": {
          "base_uri": "https://localhost:8080/"
        }
      },
      "execution_count": 2,
      "outputs": [
        {
          "output_type": "execute_result",
          "data": {
            "text/plain": [
              "2"
            ]
          },
          "metadata": {},
          "execution_count": 2
        }
      ]
    },
    {
      "cell_type": "code",
      "source": [
        "luythua(2,0)"
      ],
      "metadata": {
        "id": "lVq9tWsjMXJE",
        "outputId": "a4ec1947-a838-4a87-9846-b78f62f2bd32",
        "colab": {
          "base_uri": "https://localhost:8080/"
        }
      },
      "execution_count": 3,
      "outputs": [
        {
          "output_type": "execute_result",
          "data": {
            "text/plain": [
              "1"
            ]
          },
          "metadata": {},
          "execution_count": 3
        }
      ]
    },
    {
      "cell_type": "markdown",
      "source": [
        "Thực hành 2: Lỗi và cơ chế bắt lỗi"
      ],
      "metadata": {
        "id": "A5slfdXF2iiS"
      }
    },
    {
      "cell_type": "code",
      "source": [
        "while 1 = 2:"
      ],
      "metadata": {
        "id": "rq1B_hn8M7qa",
        "outputId": "f31d59c7-bcc4-4577-b242-7e57ea80424f",
        "colab": {
          "base_uri": "https://localhost:8080/",
          "height": 130
        }
      },
      "execution_count": 4,
      "outputs": [
        {
          "output_type": "error",
          "ename": "SyntaxError",
          "evalue": "ignored",
          "traceback": [
            "\u001b[0;36m  File \u001b[0;32m\"<ipython-input-4-03efd44ee389>\"\u001b[0;36m, line \u001b[0;32m1\u001b[0m\n\u001b[0;31m    while 1 = 2:\u001b[0m\n\u001b[0m            ^\u001b[0m\n\u001b[0;31mSyntaxError\u001b[0m\u001b[0;31m:\u001b[0m invalid syntax\n"
          ]
        }
      ]
    },
    {
      "cell_type": "markdown",
      "source": [
        "Lỗi cú pháp, chuyển '=' thành '=='"
      ],
      "metadata": {
        "id": "R8T3lLuWNCSg"
      }
    },
    {
      "cell_type": "code",
      "source": [
        "10 * (1/0)"
      ],
      "metadata": {
        "id": "YQp6xrKrNTXZ",
        "outputId": "13b3efe3-1944-49bc-acc3-4e97273a0e48",
        "colab": {
          "base_uri": "https://localhost:8080/",
          "height": 165
        }
      },
      "execution_count": 5,
      "outputs": [
        {
          "ename": "ZeroDivisionError",
          "evalue": "ignored",
          "output_type": "error",
          "traceback": [
            "\u001b[0;31m---------------------------------------------------------------------------\u001b[0m",
            "\u001b[0;31mZeroDivisionError\u001b[0m                         Traceback (most recent call last)",
            "\u001b[0;32m<ipython-input-5-0b280f36835c>\u001b[0m in \u001b[0;36m<module>\u001b[0;34m()\u001b[0m\n\u001b[0;32m----> 1\u001b[0;31m \u001b[0;36m10\u001b[0m \u001b[0;34m*\u001b[0m \u001b[0;34m(\u001b[0m\u001b[0;36m1\u001b[0m\u001b[0;34m/\u001b[0m\u001b[0;36m0\u001b[0m\u001b[0;34m)\u001b[0m\u001b[0;34m\u001b[0m\u001b[0;34m\u001b[0m\u001b[0m\n\u001b[0m",
            "\u001b[0;31mZeroDivisionError\u001b[0m: division by zero"
          ]
        }
      ]
    },
    {
      "cell_type": "markdown",
      "source": [
        "lỗi phép tính (1/0)"
      ],
      "metadata": {
        "id": "J7LIttS4Nsih"
      }
    },
    {
      "cell_type": "code",
      "source": [
        "3 * bien_chua_khai_bao / 4"
      ],
      "metadata": {
        "id": "AJy40tl5N3Jl",
        "outputId": "049d16cf-6301-47a3-cca8-ef9f1b813d6a",
        "colab": {
          "base_uri": "https://localhost:8080/",
          "height": 165
        }
      },
      "execution_count": 6,
      "outputs": [
        {
          "output_type": "error",
          "ename": "NameError",
          "evalue": "ignored",
          "traceback": [
            "\u001b[0;31m---------------------------------------------------------------------------\u001b[0m",
            "\u001b[0;31mNameError\u001b[0m                                 Traceback (most recent call last)",
            "\u001b[0;32m<ipython-input-6-a849e0ab995e>\u001b[0m in \u001b[0;36m<module>\u001b[0;34m()\u001b[0m\n\u001b[0;32m----> 1\u001b[0;31m \u001b[0;36m3\u001b[0m \u001b[0;34m*\u001b[0m \u001b[0mbien_chua_khai_bao\u001b[0m \u001b[0;34m/\u001b[0m \u001b[0;36m4\u001b[0m\u001b[0;34m\u001b[0m\u001b[0;34m\u001b[0m\u001b[0m\n\u001b[0m",
            "\u001b[0;31mNameError\u001b[0m: name 'bien_chua_khai_bao' is not defined"
          ]
        }
      ]
    },
    {
      "cell_type": "markdown",
      "source": [
        "Lỗi chưa khai báo biến"
      ],
      "metadata": {
        "id": "ZbTkH7S6O3E5"
      }
    },
    {
      "cell_type": "code",
      "source": [
        "\"ba\" + 7"
      ],
      "metadata": {
        "id": "9inmz94bO8Zf",
        "outputId": "793d58a7-b1d2-4633-8a6d-339c1b170d35",
        "colab": {
          "base_uri": "https://localhost:8080/",
          "height": 165
        }
      },
      "execution_count": 7,
      "outputs": [
        {
          "output_type": "error",
          "ename": "TypeError",
          "evalue": "ignored",
          "traceback": [
            "\u001b[0;31m---------------------------------------------------------------------------\u001b[0m",
            "\u001b[0;31mTypeError\u001b[0m                                 Traceback (most recent call last)",
            "\u001b[0;32m<ipython-input-7-af4ae7e09f61>\u001b[0m in \u001b[0;36m<module>\u001b[0;34m()\u001b[0m\n\u001b[0;32m----> 1\u001b[0;31m \u001b[0;34m\"ba\"\u001b[0m \u001b[0;34m+\u001b[0m \u001b[0;36m7\u001b[0m\u001b[0;34m\u001b[0m\u001b[0;34m\u001b[0m\u001b[0m\n\u001b[0m",
            "\u001b[0;31mTypeError\u001b[0m: can only concatenate str (not \"int\") to str"
          ]
        }
      ]
    },
    {
      "cell_type": "markdown",
      "source": [
        "Lỗi hai biến không cùng 1 kiểu dữ kiệu, nó chỉ thực hiện được khi chúng cùng kiểu dữ liệu với nhau"
      ],
      "metadata": {
        "id": "5hg9kzrWPCMm"
      }
    },
    {
      "cell_type": "code",
      "source": [
        "'ba' + (1/0)"
      ],
      "metadata": {
        "id": "D-cjA8yYPYMf",
        "outputId": "bff792a6-7321-4606-84e6-9df7e596194c",
        "colab": {
          "base_uri": "https://localhost:8080/",
          "height": 165
        }
      },
      "execution_count": 8,
      "outputs": [
        {
          "output_type": "error",
          "ename": "ZeroDivisionError",
          "evalue": "ignored",
          "traceback": [
            "\u001b[0;31m---------------------------------------------------------------------------\u001b[0m",
            "\u001b[0;31mZeroDivisionError\u001b[0m                         Traceback (most recent call last)",
            "\u001b[0;32m<ipython-input-8-98f7ce08daf8>\u001b[0m in \u001b[0;36m<module>\u001b[0;34m()\u001b[0m\n\u001b[0;32m----> 1\u001b[0;31m \u001b[0;34m'ba'\u001b[0m \u001b[0;34m+\u001b[0m \u001b[0;34m(\u001b[0m\u001b[0;36m1\u001b[0m\u001b[0;34m/\u001b[0m\u001b[0;36m0\u001b[0m\u001b[0;34m)\u001b[0m\u001b[0;34m\u001b[0m\u001b[0;34m\u001b[0m\u001b[0m\n\u001b[0m",
            "\u001b[0;31mZeroDivisionError\u001b[0m: division by zero"
          ]
        }
      ]
    },
    {
      "cell_type": "markdown",
      "source": [
        "Lỗi phép tính (1/0)"
      ],
      "metadata": {
        "id": "lXbVH4ojRAqy"
      }
    },
    {
      "cell_type": "code",
      "source": [
        "'ba' + 7 + (1/0)"
      ],
      "metadata": {
        "id": "QW29n6Z2Qyx6",
        "outputId": "cee9e27e-8ab0-41e1-95f3-18e91efb3cbc",
        "colab": {
          "base_uri": "https://localhost:8080/",
          "height": 165
        }
      },
      "execution_count": 11,
      "outputs": [
        {
          "output_type": "error",
          "ename": "TypeError",
          "evalue": "ignored",
          "traceback": [
            "\u001b[0;31m---------------------------------------------------------------------------\u001b[0m",
            "\u001b[0;31mTypeError\u001b[0m                                 Traceback (most recent call last)",
            "\u001b[0;32m<ipython-input-11-0baa66ecc6d5>\u001b[0m in \u001b[0;36m<module>\u001b[0;34m()\u001b[0m\n\u001b[0;32m----> 1\u001b[0;31m \u001b[0;34m'ba'\u001b[0m \u001b[0;34m+\u001b[0m \u001b[0;36m7\u001b[0m \u001b[0;34m+\u001b[0m \u001b[0;34m(\u001b[0m\u001b[0;36m1\u001b[0m\u001b[0;34m/\u001b[0m\u001b[0;36m0\u001b[0m\u001b[0;34m)\u001b[0m\u001b[0;34m\u001b[0m\u001b[0;34m\u001b[0m\u001b[0m\n\u001b[0m",
            "\u001b[0;31mTypeError\u001b[0m: can only concatenate str (not \"int\") to str"
          ]
        }
      ]
    },
    {
      "cell_type": "markdown",
      "source": [
        "Do tính toán trong Python là từ trái qua phải và có ưu tiên các phép toán. Nên khi tính bỏ qua phần tử (1/0) nhưng 2 phần tử lại không cùng 1 kiểu dữ liệu"
      ],
      "metadata": {
        "id": "r4LJ3YhsRHKc"
      }
    },
    {
      "cell_type": "markdown",
      "source": [
        "Thực hành 3: Xử lý ngoại lệ với cơ chế try .. except"
      ],
      "metadata": {
        "id": "e6nqwufc2ix6"
      }
    },
    {
      "cell_type": "code",
      "source": [
        "x = int(input(\"Vui long nhap so: \"))"
      ],
      "metadata": {
        "id": "Foa_qg28VnQi",
        "outputId": "3e2b223b-ae33-4e7a-9b0a-a2cd52653334",
        "colab": {
          "base_uri": "https://localhost:8080/",
          "height": 182
        }
      },
      "execution_count": 12,
      "outputs": [
        {
          "name": "stdout",
          "output_type": "stream",
          "text": [
            "Vui long nhap so: a\n"
          ]
        },
        {
          "output_type": "error",
          "ename": "ValueError",
          "evalue": "ignored",
          "traceback": [
            "\u001b[0;31m---------------------------------------------------------------------------\u001b[0m",
            "\u001b[0;31mValueError\u001b[0m                                Traceback (most recent call last)",
            "\u001b[0;32m<ipython-input-12-ef90143849cd>\u001b[0m in \u001b[0;36m<module>\u001b[0;34m()\u001b[0m\n\u001b[0;32m----> 1\u001b[0;31m \u001b[0mx\u001b[0m \u001b[0;34m=\u001b[0m \u001b[0mint\u001b[0m\u001b[0;34m(\u001b[0m\u001b[0minput\u001b[0m\u001b[0;34m(\u001b[0m\u001b[0;34m\"Vui long nhap so: \"\u001b[0m\u001b[0;34m)\u001b[0m\u001b[0;34m)\u001b[0m\u001b[0;34m\u001b[0m\u001b[0;34m\u001b[0m\u001b[0m\n\u001b[0m",
            "\u001b[0;31mValueError\u001b[0m: invalid literal for int() with base 10: 'a'"
          ]
        }
      ]
    },
    {
      "cell_type": "code",
      "source": [
        "while True:\n",
        "    try:\n",
        "      x = int(input(\"Vui long nhap so: \"))\n",
        "      break\n",
        "    except:\n",
        "      print(\"Vui long nhap so. Khong nhap chu!\")"
      ],
      "metadata": {
        "id": "shsgV5TTV8ta",
        "outputId": "dc0ab809-2101-47df-b621-e1e2f4691122",
        "colab": {
          "base_uri": "https://localhost:8080/"
        }
      },
      "execution_count": 14,
      "outputs": [
        {
          "name": "stdout",
          "output_type": "stream",
          "text": [
            "Vui long nhap so: 10\n"
          ]
        }
      ]
    },
    {
      "cell_type": "markdown",
      "source": [
        "Thực hành 4: Xử lý ngoại lệ với cơ chế try .. except .. else .. finally"
      ],
      "metadata": {
        "id": "_aiVMU_F2i9b"
      }
    },
    {
      "cell_type": "code",
      "source": [
        "while True:\n",
        "  try: \n",
        "      x = int(input(\"Vui long nhap so: \"))\n",
        "  except:\n",
        "      print(\"So vua nhap sai\")\n",
        "  else:\n",
        "      print(\"so vua nhap la: \" + str(x))\n",
        "      break\n",
        "  finally:\n",
        "      print(\"Da hoan thanh chuong trinh\")"
      ],
      "metadata": {
        "id": "4rbrOyqTrIGq",
        "outputId": "3013dacd-4775-4584-a636-3dd25494d2e9",
        "colab": {
          "base_uri": "https://localhost:8080/"
        }
      },
      "execution_count": 16,
      "outputs": [
        {
          "output_type": "stream",
          "name": "stdout",
          "text": [
            "Vui long nhap so: a\n",
            "So vua nhap sai\n",
            "Da hoan thanh chuong trinh\n",
            "Vui long nhap so: 1\n",
            "so vua nhap la: 1\n",
            "Da hoan thanh chuong trinh\n"
          ]
        }
      ]
    },
    {
      "cell_type": "markdown",
      "source": [
        "Thưc hành 5: Tạo hàm phát sinh trên dãy số thực hiện đều"
      ],
      "metadata": {
        "id": "V5FdfoXo2jVl"
      }
    },
    {
      "cell_type": "code",
      "source": [
        "def frange(batdau,ketthuc,buocnhay):\n",
        "  day_ketqua =[]\n",
        "  while batdau < ketthuc:\n",
        "    day_ketqua.append(batdau)\n",
        "    batdau += buocnhay\n",
        "  return day_ketqua"
      ],
      "metadata": {
        "id": "lfdqoZN4vLpf"
      },
      "execution_count": 17,
      "outputs": []
    },
    {
      "cell_type": "code",
      "source": [
        "tu0den2 = frange(0,2,0.2)\n",
        "tu0den2"
      ],
      "metadata": {
        "id": "XpsiQZE8yB4x",
        "outputId": "be76493c-6fe7-4eee-d1f0-95900beceb55",
        "colab": {
          "base_uri": "https://localhost:8080/"
        }
      },
      "execution_count": 18,
      "outputs": [
        {
          "output_type": "execute_result",
          "data": {
            "text/plain": [
              "[0,\n",
              " 0.2,\n",
              " 0.4,\n",
              " 0.6000000000000001,\n",
              " 0.8,\n",
              " 1.0,\n",
              " 1.2,\n",
              " 1.4,\n",
              " 1.5999999999999999,\n",
              " 1.7999999999999998,\n",
              " 1.9999999999999998]"
            ]
          },
          "metadata": {},
          "execution_count": 18
        }
      ]
    },
    {
      "cell_type": "code",
      "source": [
        "tu0den2 = frange(0,2,0.5)\n",
        "tu0den2"
      ],
      "metadata": {
        "id": "-DM2-hwuyO10",
        "outputId": "e41d1f56-893f-47d8-b7b3-f4ce9bed360f",
        "colab": {
          "base_uri": "https://localhost:8080/"
        }
      },
      "execution_count": 19,
      "outputs": [
        {
          "output_type": "execute_result",
          "data": {
            "text/plain": [
              "[0, 0.5, 1.0, 1.5]"
            ]
          },
          "metadata": {},
          "execution_count": 19
        }
      ]
    },
    {
      "cell_type": "code",
      "source": [
        "x = frange(0,5,0.25)\n",
        "x"
      ],
      "metadata": {
        "id": "b8FOpINUyaVE",
        "outputId": "ea161db9-b69b-448e-877f-b3edea0f639a",
        "colab": {
          "base_uri": "https://localhost:8080/"
        }
      },
      "execution_count": 20,
      "outputs": [
        {
          "output_type": "execute_result",
          "data": {
            "text/plain": [
              "[0,\n",
              " 0.25,\n",
              " 0.5,\n",
              " 0.75,\n",
              " 1.0,\n",
              " 1.25,\n",
              " 1.5,\n",
              " 1.75,\n",
              " 2.0,\n",
              " 2.25,\n",
              " 2.5,\n",
              " 2.75,\n",
              " 3.0,\n",
              " 3.25,\n",
              " 3.5,\n",
              " 3.75,\n",
              " 4.0,\n",
              " 4.25,\n",
              " 4.5,\n",
              " 4.75]"
            ]
          },
          "metadata": {},
          "execution_count": 20
        }
      ]
    },
    {
      "cell_type": "markdown",
      "source": [
        "Thực hành 6: Vẽ quỹ đạo bay của vật được ném lên"
      ],
      "metadata": {
        "id": "m51zILx-2jha"
      }
    },
    {
      "cell_type": "markdown",
      "source": [
        "Phân đoạn 1: Nhập các thư viện quản lý"
      ],
      "metadata": {
        "id": "NgOgaHxoyzFN"
      }
    },
    {
      "cell_type": "code",
      "source": [
        "from matplotlib import pyplot as plt\n",
        "import math"
      ],
      "metadata": {
        "id": "NztHuqg_zB5K"
      },
      "execution_count": 22,
      "outputs": []
    },
    {
      "cell_type": "markdown",
      "source": [
        "Phân đoạn 2: Xây dựng các hàm xử lý"
      ],
      "metadata": {
        "id": "g4DnPWl3y6Jd"
      }
    },
    {
      "cell_type": "markdown",
      "source": [
        "+ Hàm 1: Hàm vẽ đồ thị"
      ],
      "metadata": {
        "id": "VN8bzu5gzezd"
      }
    },
    {
      "cell_type": "code",
      "source": [
        "def draw_graph(x,y):\n",
        "  plt.plot(x,y)\n",
        "  plt.xlabel('Truc X')\n",
        "  plt.ylabel('Truc Y')\n",
        "  plt.title('Do thi bai toan nem bong')"
      ],
      "metadata": {
        "id": "6KCA7Wl5znCb"
      },
      "execution_count": 23,
      "outputs": []
    },
    {
      "cell_type": "markdown",
      "source": [
        "+ Hàm 2: Hàm xử lý về tạo các khoảng số thực đều nhau"
      ],
      "metadata": {
        "id": "Wexl76030S2q"
      }
    },
    {
      "cell_type": "code",
      "source": [
        ""
      ],
      "metadata": {
        "id": "ExuPtXvv6bby"
      },
      "execution_count": null,
      "outputs": []
    },
    {
      "cell_type": "markdown",
      "source": [
        "+ Hàm 3: Hàm tính toán các dãy X,Y để vẽ đồ thị tương ứng với hàm đạn đạo"
      ],
      "metadata": {
        "id": "9Xh8PrwJ0gdL"
      }
    },
    {
      "cell_type": "markdown",
      "source": [
        "Phân đoạn 3: Xây dựng hàm main"
      ],
      "metadata": {
        "id": "NKhLMb-y0zgM"
      }
    },
    {
      "cell_type": "markdown",
      "source": [
        "Thực hành 7: Vẽ nhiều quỹ đạo trên cùng 1 đồ thị"
      ],
      "metadata": {
        "id": "BcoYWZ3r2j4O"
      }
    },
    {
      "cell_type": "markdown",
      "source": [
        "Thực hành 8: Xây dựng chương trình tính đạo hàm"
      ],
      "metadata": {
        "id": "btBW76WD2kHR"
      }
    },
    {
      "cell_type": "markdown",
      "source": [
        "Thực hành 9: Vẽ đồ thị hàm R để thấy được khoảng cách bay của \"đạn\" theo góc bắn."
      ],
      "metadata": {
        "id": "eWHv0MHz4TRI"
      }
    },
    {
      "cell_type": "markdown",
      "source": [
        "Thực hành 10: Tìm giá trị cực đại của hàm bằng phương pháp Gradient Ascent"
      ],
      "metadata": {
        "id": "tLx_jk4B4s3X"
      }
    }
  ]
}
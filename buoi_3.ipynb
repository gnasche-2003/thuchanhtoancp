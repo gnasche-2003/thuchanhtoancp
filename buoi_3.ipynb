{
  "nbformat": 4,
  "nbformat_minor": 0,
  "metadata": {
    "colab": {
      "name": "buoi_3.ipynb",
      "provenance": [],
      "authorship_tag": "ABX9TyPj7b/oTc2AhLQbsvW7d/jO",
      "include_colab_link": true
    },
    "kernelspec": {
      "name": "python3",
      "display_name": "Python 3"
    },
    "language_info": {
      "name": "python"
    }
  },
  "cells": [
    {
      "cell_type": "markdown",
      "metadata": {
        "id": "view-in-github",
        "colab_type": "text"
      },
      "source": [
        "<a href=\"https://colab.research.google.com/github/gnasche-2003/thuchanhtoancp/blob/main/buoi_3.ipynb\" target=\"_parent\"><img src=\"https://colab.research.google.com/assets/colab-badge.svg\" alt=\"Open In Colab\"/></a>"
      ]
    },
    {
      "cell_type": "markdown",
      "source": [
        "CHƯƠNG 3: ĐẠO HÀM VÀ ỨNG DỤNG"
      ],
      "metadata": {
        "id": "i_lRlR5g2LHt"
      }
    },
    {
      "cell_type": "markdown",
      "source": [
        "Thực hành 1: Viết hàm"
      ],
      "metadata": {
        "id": "Cbffyayb2iUj"
      }
    },
    {
      "cell_type": "markdown",
      "source": [
        "Thực hành 2: Lỗi và cơ chế bắt lỗi"
      ],
      "metadata": {
        "id": "A5slfdXF2iiS"
      }
    },
    {
      "cell_type": "markdown",
      "source": [
        "Thực hành 3: Xử lý ngoại lệ với cơ chế try .. except"
      ],
      "metadata": {
        "id": "e6nqwufc2ix6"
      }
    },
    {
      "cell_type": "markdown",
      "source": [
        "Thực hành 4: Xử lý ngoại lệ với cơ chế try .. except .. else .. finally"
      ],
      "metadata": {
        "id": "_aiVMU_F2i9b"
      }
    },
    {
      "cell_type": "markdown",
      "source": [
        "Thưc hành 5: Tạo hàm phát sinh trên dãy số thực hiện đều"
      ],
      "metadata": {
        "id": "V5FdfoXo2jVl"
      }
    },
    {
      "cell_type": "markdown",
      "source": [
        "Thực hành 6: Vẽ quỹ đạo bay của vật được ném lên"
      ],
      "metadata": {
        "id": "m51zILx-2jha"
      }
    },
    {
      "cell_type": "markdown",
      "source": [
        "Thực hành 7: Vẽ nhiều quỹ đạo trên cùng 1 đồ thị"
      ],
      "metadata": {
        "id": "BcoYWZ3r2j4O"
      }
    },
    {
      "cell_type": "markdown",
      "source": [
        "Thực hành 8: Xây dựng chương trình tính đạo hàm"
      ],
      "metadata": {
        "id": "btBW76WD2kHR"
      }
    },
    {
      "cell_type": "markdown",
      "source": [
        "Thực hành 9: Vẽ đồ thị hàm R để thấy được khoảng cách bay của \"đạn\" theo góc bắn."
      ],
      "metadata": {
        "id": "eWHv0MHz4TRI"
      }
    },
    {
      "cell_type": "markdown",
      "source": [
        "Thực hành 10: Tìm giá trị cực đại của hàm bằng phương pháp Gradient Ascent"
      ],
      "metadata": {
        "id": "tLx_jk4B4s3X"
      }
    }
  ]
}
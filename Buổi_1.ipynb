{
  "nbformat": 4,
  "nbformat_minor": 0,
  "metadata": {
    "colab": {
      "name": "Buổi 1.ipynb",
      "provenance": [],
      "collapsed_sections": [],
      "authorship_tag": "ABX9TyNcLJ5pWLkT8htNh19BRDlX",
      "include_colab_link": true
    },
    "kernelspec": {
      "name": "python3",
      "display_name": "Python 3"
    },
    "language_info": {
      "name": "python"
    }
  },
  "cells": [
    {
      "cell_type": "markdown",
      "metadata": {
        "id": "view-in-github",
        "colab_type": "text"
      },
      "source": [
        "<a href=\"https://colab.research.google.com/github/gnasche-2003/thuchanhtoancp/blob/main/Bu%E1%BB%95i_1.ipynb\" target=\"_parent\"><img src=\"https://colab.research.google.com/assets/colab-badge.svg\" alt=\"Open In Colab\"/></a>"
      ]
    },
    {
      "cell_type": "code",
      "execution_count": null,
      "metadata": {
        "colab": {
          "base_uri": "https://localhost:8080/"
        },
        "id": "2KkXbSMi4x1Q",
        "outputId": "36209b6c-9049-430d-a45b-54a420c907e8"
      },
      "outputs": [
        {
          "output_type": "stream",
          "name": "stdout",
          "text": [
            "Hello World!\n"
          ]
        }
      ],
      "source": [
        "print(\"Hello World!\")"
      ]
    },
    {
      "cell_type": "code",
      "source": [
        "#thực hành 1:\n",
        "blocks = 10000\n",
        "dayS = [1/2**k for k in range(0, blocks)]\n",
        "tongS = sum(dayS)\n",
        "print(tongS)"
      ],
      "metadata": {
        "colab": {
          "base_uri": "https://localhost:8080/"
        },
        "id": "sF5ttK2pAMHv",
        "outputId": "2b43c234-1ac3-469e-897d-5021c455b05e"
      },
      "execution_count": 8,
      "outputs": [
        {
          "output_type": "stream",
          "name": "stdout",
          "text": [
            "2.0\n"
          ]
        }
      ]
    },
    {
      "cell_type": "markdown",
      "source": [
        "#Thuchanh2\n"
      ],
      "metadata": {
        "id": "y98_i-XdA2fn"
      }
    },
    {
      "cell_type": "code",
      "source": [
        "n = 1000\n",
        "x = [(2 - 0)*k/n for k in range(0, n + 1)]\n",
        "S = 0\n",
        "for k in range(1, n + 1):\n",
        "  S =  S + x[k]**2 * (x[k] - x[k - 1])\n",
        "print(S)"
      ],
      "metadata": {
        "colab": {
          "base_uri": "https://localhost:8080/"
        },
        "id": "-SckChHEBCsL",
        "outputId": "b742bccc-3768-4b13-8c31-99539d5647e3"
      },
      "execution_count": 7,
      "outputs": [
        {
          "output_type": "stream",
          "name": "stdout",
          "text": [
            "2.6706680000000027\n"
          ]
        }
      ]
    }
  ]
}
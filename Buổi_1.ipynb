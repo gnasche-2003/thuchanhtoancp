{
  "nbformat": 4,
  "nbformat_minor": 0,
  "metadata": {
    "colab": {
      "name": "Buổi 1.ipynb",
      "provenance": [],
      "collapsed_sections": [],
      "authorship_tag": "ABX9TyPkKdELzn8hzLxHsgfcxp70",
      "include_colab_link": true
    },
    "kernelspec": {
      "name": "python3",
      "display_name": "Python 3"
    },
    "language_info": {
      "name": "python"
    }
  },
  "cells": [
    {
      "cell_type": "markdown",
      "metadata": {
        "id": "view-in-github",
        "colab_type": "text"
      },
      "source": [
        "<a href=\"https://colab.research.google.com/github/gnasche-2003/thuchanhtoancp/blob/main/Bu%E1%BB%95i_1.ipynb\" target=\"_parent\"><img src=\"https://colab.research.google.com/assets/colab-badge.svg\" alt=\"Open In Colab\"/></a>"
      ]
    },
    {
      "cell_type": "code",
      "execution_count": null,
      "metadata": {
        "colab": {
          "base_uri": "https://localhost:8080/"
        },
        "id": "2KkXbSMi4x1Q",
        "outputId": "36209b6c-9049-430d-a45b-54a420c907e8"
      },
      "outputs": [
        {
          "output_type": "stream",
          "name": "stdout",
          "text": [
            "Hello World!\n"
          ]
        }
      ],
      "source": [
        "print(\"Hello World!\")"
      ]
    },
    {
      "cell_type": "code",
      "source": [
        "#thực hành 1:\n",
        "blocks = 10000\n",
        "dayS = [1/2**k for k in range(0, blocks)]\n",
        "tongS = sum(dayS)\n",
        "print(tongS)"
      ],
      "metadata": {
        "colab": {
          "base_uri": "https://localhost:8080/"
        },
        "id": "sF5ttK2pAMHv",
        "outputId": "2b43c234-1ac3-469e-897d-5021c455b05e"
      },
      "execution_count": null,
      "outputs": [
        {
          "output_type": "stream",
          "name": "stdout",
          "text": [
            "2.0\n"
          ]
        }
      ]
    },
    {
      "cell_type": "markdown",
      "source": [
        "#Thuchanh2\n"
      ],
      "metadata": {
        "id": "y98_i-XdA2fn"
      }
    },
    {
      "cell_type": "code",
      "source": [
        "n = 1000\n",
        "x = [(2 - 0)*k/n for k in range(0, n + 1)]\n",
        "S = 0\n",
        "for k in range(1, n + 1):\n",
        "  S =  S + x[k]**2 * (x[k] - x[k - 1])\n",
        "print(S)"
      ],
      "metadata": {
        "colab": {
          "base_uri": "https://localhost:8080/"
        },
        "id": "-SckChHEBCsL",
        "outputId": "b742bccc-3768-4b13-8c31-99539d5647e3"
      },
      "execution_count": null,
      "outputs": [
        {
          "output_type": "stream",
          "name": "stdout",
          "text": [
            "2.6706680000000027\n"
          ]
        }
      ]
    },
    {
      "cell_type": "markdown",
      "source": [
        "#thực hành 3\n",
        "\n"
      ],
      "metadata": {
        "id": "vkboJiW4LqQj"
      }
    },
    {
      "cell_type": "code",
      "source": [
        "from sympy import *\n",
        "#Rational(1, 2) + Rational(1, 3)\n",
        "a = Rational(1, 2)\n",
        "b = Rational(1, 3)\n",
        "print(a + b)\n",
        "#Rational(1, 2) + 1\n",
        "x = Rational(1, 2)\n",
        "print(x + 1)\n",
        "#Rational(1, 3) + 1 + 1.5\n",
        "y = Rational(1, 3)\n",
        "print(y + 1 + 1.5)"
      ],
      "metadata": {
        "colab": {
          "base_uri": "https://localhost:8080/"
        },
        "id": "Zjb6upJALvTx",
        "outputId": "800f0880-6bd9-412e-f0a8-88025483ec39"
      },
      "execution_count": null,
      "outputs": [
        {
          "output_type": "stream",
          "name": "stdout",
          "text": [
            "5/6\n",
            "3/2\n",
            "2.83333333333333\n"
          ]
        }
      ]
    },
    {
      "cell_type": "markdown",
      "source": [
        "# thực hành 4\n"
      ],
      "metadata": {
        "id": "THPsaUrEQyNV"
      }
    },
    {
      "cell_type": "code",
      "source": [
        "from sympy import *\n",
        "x = Symbol(\"x\")\n",
        "y = Symbol('y')"
      ],
      "metadata": {
        "id": "4OlBzN60Q3EG"
      },
      "execution_count": null,
      "outputs": []
    },
    {
      "cell_type": "code",
      "source": [
        "x + y + x - y"
      ],
      "metadata": {
        "colab": {
          "base_uri": "https://localhost:8080/",
          "height": 38
        },
        "id": "t79sfD7nRJz4",
        "outputId": "407b79e1-0cc8-405b-af34-d8232685623e"
      },
      "execution_count": null,
      "outputs": [
        {
          "output_type": "execute_result",
          "data": {
            "text/latex": "$\\displaystyle 2 x$",
            "text/plain": [
              "2*x"
            ]
          },
          "metadata": {},
          "execution_count": 25
        }
      ]
    },
    {
      "cell_type": "code",
      "source": [
        "(x + y)**2"
      ],
      "metadata": {
        "colab": {
          "base_uri": "https://localhost:8080/",
          "height": 39
        },
        "id": "rTlxsvxmRevb",
        "outputId": "3738f4d7-ab9e-4d92-8a98-61136eba261a"
      },
      "execution_count": null,
      "outputs": [
        {
          "output_type": "execute_result",
          "data": {
            "text/latex": "$\\displaystyle \\left(x + y\\right)^{2}$",
            "text/plain": [
              "(x + y)**2"
            ]
          },
          "metadata": {},
          "execution_count": 26
        }
      ]
    },
    {
      "cell_type": "markdown",
      "source": [
        "#thực hành 5a"
      ],
      "metadata": {
        "id": "_qjEqsSwM44a"
      }
    },
    {
      "cell_type": "code",
      "source": [
        "from sympy.solvers.solvers import denoms\n",
        "from sympy import *\n",
        "x = Symbol(\"x\")\n",
        "pt = (1/x)*1/(x -3)\n",
        "dd = denoms(pt)\n",
        "print(dd)"
      ],
      "metadata": {
        "colab": {
          "base_uri": "https://localhost:8080/"
        },
        "id": "omC_biBmM-Hp",
        "outputId": "10e49a6c-6321-4f4c-f6e8-e05e38b1993c"
      },
      "execution_count": null,
      "outputs": [
        {
          "output_type": "stream",
          "name": "stdout",
          "text": [
            "{x - 3, x}\n"
          ]
        }
      ]
    },
    {
      "cell_type": "markdown",
      "source": [
        "5b\n"
      ],
      "metadata": {
        "id": "L3Rx5bL5PJL2"
      }
    },
    {
      "cell_type": "code",
      "source": [
        "from sympy import *\n",
        "x = Symbol('x')\n",
        "qq = (1+1/x)/(x-1)\n",
        "from sympy.solvers.solvers import denoms\n",
        "loai_tru = set()\n",
        "for d in denoms(qq):\n",
        "  for s in solve(d):\n",
        "    loai_tru.add(s)\n",
        "print(loai_tru)"
      ],
      "metadata": {
        "colab": {
          "base_uri": "https://localhost:8080/"
        },
        "id": "p1QADhlyPLMd",
        "outputId": "861fafbc-201a-4d8a-8758-fe63c65d20c8"
      },
      "execution_count": null,
      "outputs": [
        {
          "output_type": "stream",
          "name": "stdout",
          "text": [
            "{0, 1}\n"
          ]
        }
      ]
    },
    {
      "cell_type": "markdown",
      "source": [
        "#Thực hành 6\n"
      ],
      "metadata": {
        "id": "85D_FNh2RugX"
      }
    },
    {
      "cell_type": "code",
      "source": [
        "from sympy import Symbol\n",
        "x = Symbol(\"x\", positive = True)\n",
        "if x + 3 > 0:\n",
        "  print(\"Chắc chắn x + 3 dương!\")\n",
        "else:\n",
        "  print(\"x + 3 chưa chắc là dương\")"
      ],
      "metadata": {
        "colab": {
          "base_uri": "https://localhost:8080/"
        },
        "id": "od5EcqXU2pIl",
        "outputId": "1b6cded4-f8a8-4ffe-dafc-4e0f072206a1"
      },
      "execution_count": null,
      "outputs": [
        {
          "output_type": "stream",
          "name": "stdout",
          "text": [
            "Chắc chắn x + 3 dương!\n"
          ]
        }
      ]
    },
    {
      "cell_type": "markdown",
      "source": [
        "# thực hành 7\n"
      ],
      "metadata": {
        "id": "-6IV2tC1Y6rK"
      }
    },
    {
      "cell_type": "code",
      "source": [
        "import math\n",
        "math.sin(math.pi/2)"
      ],
      "metadata": {
        "colab": {
          "base_uri": "https://localhost:8080/"
        },
        "id": "5chOtIu_4XKC",
        "outputId": "66e810f4-04f4-40ef-b2a4-dc76ae615826"
      },
      "execution_count": null,
      "outputs": [
        {
          "output_type": "execute_result",
          "data": {
            "text/plain": [
              "1.0"
            ]
          },
          "metadata": {},
          "execution_count": 32
        }
      ]
    },
    {
      "cell_type": "code",
      "source": [
        "import sympy\n",
        "sympy.sin(math.pi/2)"
      ],
      "metadata": {
        "colab": {
          "base_uri": "https://localhost:8080/",
          "height": 37
        },
        "id": "znHpdVKu4pHN",
        "outputId": "533fe007-1ebd-4ef2-cff3-767c902c7a9e"
      },
      "execution_count": null,
      "outputs": [
        {
          "output_type": "execute_result",
          "data": {
            "text/latex": "$\\displaystyle 1.0$",
            "text/plain": [
              "1.00000000000000"
            ]
          },
          "metadata": {},
          "execution_count": 33
        }
      ]
    },
    {
      "cell_type": "code",
      "source": [
        "from sympy import Symbol\n",
        "goc_theta = Symbol(\"theta\")\n",
        "import sympy\n",
        "(2*sympy.sin(goc_theta)*sympy.cos(goc_theta)).equals(sympy.sin(2*goc_theta))"
      ],
      "metadata": {
        "colab": {
          "base_uri": "https://localhost:8080/"
        },
        "id": "BIJ3B5lI6k-7",
        "outputId": "7b4d371d-6189-44d9-8de3-a92a8b0293fc"
      },
      "execution_count": null,
      "outputs": [
        {
          "output_type": "execute_result",
          "data": {
            "text/plain": [
              "True"
            ]
          },
          "metadata": {},
          "execution_count": 42
        }
      ]
    },
    {
      "cell_type": "code",
      "source": [
        "2*sympy.sin(goc_theta) == sympy.sin(goc_theta) + sympy.sin(goc_theta)"
      ],
      "metadata": {
        "colab": {
          "base_uri": "https://localhost:8080/"
        },
        "id": "AbaRkuni-aNO",
        "outputId": "ef3e3bc3-86f0-4cda-f10f-3d272a20201a"
      },
      "execution_count": null,
      "outputs": [
        {
          "output_type": "execute_result",
          "data": {
            "text/plain": [
              "True"
            ]
          },
          "metadata": {},
          "execution_count": 44
        }
      ]
    },
    {
      "cell_type": "markdown",
      "source": [
        "#thực hành 8\n"
      ],
      "metadata": {
        "id": "fr7wXYl8ZEJA"
      }
    },
    {
      "cell_type": "code",
      "source": [
        "from sympy import sin, Symbol, solve\n",
        "u = Symbol(\"u\")\n",
        "t = Symbol(\"t\")\n",
        "g = Symbol(\"g\")\n",
        "theta = Symbol(\"theta\")\n",
        "solve(u*sin(theta) -g*t, t)"
      ],
      "metadata": {
        "colab": {
          "base_uri": "https://localhost:8080/"
        },
        "id": "YuClyyg7-1TU",
        "outputId": "c5e330c3-b741-4209-99b2-a5d03d0ea837"
      },
      "execution_count": null,
      "outputs": [
        {
          "output_type": "execute_result",
          "data": {
            "text/plain": [
              "[u*sin(theta)/g]"
            ]
          },
          "metadata": {},
          "execution_count": 45
        }
      ]
    },
    {
      "cell_type": "markdown",
      "source": [
        "# thực hành 9\n"
      ],
      "metadata": {
        "id": "1bWgTkn-ZJ_D"
      }
    },
    {
      "cell_type": "code",
      "source": [
        "from sympy import Symbol, Limit, S\n",
        "x = Symbol('x')\n",
        "limit(1/x, x, S.Infinity)\n",
        "Limit(1/x, x, oo, dir=\"-\")\n",
        "gioihan = Limit(1/x, x, S.Infinity)\n",
        "gioihan.doit()"
      ],
      "metadata": {
        "colab": {
          "base_uri": "https://localhost:8080/",
          "height": 37
        },
        "id": "stCouAbtALyf",
        "outputId": "e3f4715e-1620-4209-ab93-389d1f80f1c4"
      },
      "execution_count": null,
      "outputs": [
        {
          "output_type": "execute_result",
          "data": {
            "text/latex": "$\\displaystyle 0$",
            "text/plain": [
              "0"
            ]
          },
          "metadata": {},
          "execution_count": 51
        }
      ]
    },
    {
      "cell_type": "markdown",
      "source": [
        "# thực hành 10a\n"
      ],
      "metadata": {
        "id": "olEDV9TAUFOK"
      }
    },
    {
      "cell_type": "code",
      "source": [
        "from sympy import Limit\n",
        "x = Symbol(\"x\")\n",
        "Limit(1/x, x, 0, dir='-').doit()"
      ],
      "metadata": {
        "colab": {
          "base_uri": "https://localhost:8080/",
          "height": 37
        },
        "id": "Wj4SeaYeBQ3M",
        "outputId": "9ec4e7e6-ad02-4c93-da5f-2cd95bbc3b23"
      },
      "execution_count": null,
      "outputs": [
        {
          "output_type": "execute_result",
          "data": {
            "text/latex": "$\\displaystyle -\\infty$",
            "text/plain": [
              "-oo"
            ]
          },
          "metadata": {},
          "execution_count": 50
        }
      ]
    },
    {
      "cell_type": "code",
      "source": [
        "Limit(1/x, x, 0, dir=\"+\").doit()"
      ],
      "metadata": {
        "colab": {
          "base_uri": "https://localhost:8080/",
          "height": 37
        },
        "id": "5ytXu5JoBzD7",
        "outputId": "2e27cbe0-c784-4aa6-cd6b-4b331f6a1eeb"
      },
      "execution_count": null,
      "outputs": [
        {
          "output_type": "execute_result",
          "data": {
            "text/latex": "$\\displaystyle \\infty$",
            "text/plain": [
              "oo"
            ]
          },
          "metadata": {},
          "execution_count": 52
        }
      ]
    },
    {
      "cell_type": "markdown",
      "source": [
        "# thực hành 10b\n"
      ],
      "metadata": {
        "id": "oD-MFIUZZPhk"
      }
    },
    {
      "cell_type": "code",
      "source": [
        "from sympy import Limit, sin\n",
        "x = Symbol(\"x\")\n",
        "Limit((sin(x)/x), x, 0).doit()"
      ],
      "metadata": {
        "colab": {
          "base_uri": "https://localhost:8080/",
          "height": 37
        },
        "id": "eI7AJQYTCFfl",
        "outputId": "4fa839d9-935b-4aea-efe4-2149a3678799"
      },
      "execution_count": null,
      "outputs": [
        {
          "output_type": "execute_result",
          "data": {
            "text/latex": "$\\displaystyle 1$",
            "text/plain": [
              "1"
            ]
          },
          "metadata": {},
          "execution_count": 53
        }
      ]
    },
    {
      "cell_type": "markdown",
      "source": [
        "#thực hành 11a\n"
      ],
      "metadata": {
        "id": "1jBj98u5ZTEr"
      }
    },
    {
      "cell_type": "code",
      "source": [
        "from sympy import Limit, sin , S\n",
        "x = Symbol(\"x\")\n",
        "Limit(x*sin(1/x),x , S.Infinity).doit()"
      ],
      "metadata": {
        "colab": {
          "base_uri": "https://localhost:8080/",
          "height": 38
        },
        "id": "9xig7ur0DcUz",
        "outputId": "a2d6cc8e-4f06-4946-f501-28748b46664b"
      },
      "execution_count": null,
      "outputs": [
        {
          "output_type": "execute_result",
          "data": {
            "text/latex": "$\\displaystyle 1$",
            "text/plain": [
              "1"
            ]
          },
          "metadata": {},
          "execution_count": 60
        }
      ]
    },
    {
      "cell_type": "markdown",
      "source": [
        "#11b"
      ],
      "metadata": {
        "id": "-Gd30ffKZZko"
      }
    },
    {
      "cell_type": "code",
      "source": [
        "from sympy import Limit, sin, S\n",
        "x = Symbol(\"x\")\n",
        "Limit(x*sin(1/x), x, S.Infinity)"
      ],
      "metadata": {
        "colab": {
          "base_uri": "https://localhost:8080/",
          "height": 58
        },
        "id": "XHOxGxKZEP1W",
        "outputId": "b92080b8-0ec2-4d99-ead2-c6bef453c6a7"
      },
      "execution_count": null,
      "outputs": [
        {
          "output_type": "execute_result",
          "data": {
            "text/latex": "$\\displaystyle \\lim_{x \\to \\infty}\\left(x \\sin{\\left(\\frac{1}{x} \\right)}\\right)$",
            "text/plain": [
              "Limit(x*sin(1/x), x, oo, dir='-')"
            ]
          },
          "metadata": {},
          "execution_count": 66
        }
      ]
    },
    {
      "cell_type": "code",
      "source": [
        "Limit(x*sin(1/x), x, sympy.oo)"
      ],
      "metadata": {
        "colab": {
          "base_uri": "https://localhost:8080/",
          "height": 58
        },
        "id": "iC60HIHME5C1",
        "outputId": "362ddbf2-e326-48a6-e268-7865aff7c72f"
      },
      "execution_count": null,
      "outputs": [
        {
          "output_type": "execute_result",
          "data": {
            "text/latex": "$\\displaystyle \\lim_{x \\to \\infty}\\left(x \\sin{\\left(\\frac{1}{x} \\right)}\\right)$",
            "text/plain": [
              "Limit(x*sin(1/x), x, oo, dir='-')"
            ]
          },
          "metadata": {},
          "execution_count": 65
        }
      ]
    },
    {
      "cell_type": "markdown",
      "source": [
        "#thực hành 12\n"
      ],
      "metadata": {
        "id": "UwTTDE9rZbcn"
      }
    },
    {
      "cell_type": "code",
      "source": [
        "from sympy import Symbol, Limit, S\n",
        "n = Symbol('n', positive = True)\n",
        "p = Symbol('p', positive = True)\n",
        "r = Symbol('r', positive = True)\n",
        "t = Symbol('t', positive = True)\n",
        "Limit(p*(1+r/n)**(n*t), n, S.Infinity).doit()"
      ],
      "metadata": {
        "colab": {
          "base_uri": "https://localhost:8080/",
          "height": 39
        },
        "id": "eab3j-dtKKhC",
        "outputId": "39184ae6-dbd2-489d-f386-9b696f194795"
      },
      "execution_count": null,
      "outputs": [
        {
          "output_type": "execute_result",
          "data": {
            "text/latex": "$\\displaystyle p e^{r t}$",
            "text/plain": [
              "p*exp(r*t)"
            ]
          },
          "metadata": {},
          "execution_count": 74
        }
      ]
    },
    {
      "cell_type": "markdown",
      "source": [
        "#thực hành 13\n"
      ],
      "metadata": {
        "id": "f_efpFNPZfsH"
      }
    },
    {
      "cell_type": "code",
      "source": [
        "from sympy import Symbol, Limit\n",
        "t = Symbol(\"t\")\n",
        "st = 5*t**2 + 2*t + 8\n",
        "\n",
        "t1 = Symbol(\"t1\")\n",
        "delta_t = Symbol(\"delta_t\")\n",
        "st1 = st.subs({t:t1})\n",
        "st1_delta = st.subs({t:t1 + delta_t})\n",
        "Limit((st1_delta-st1)/delta_t, delta_t, 0).doit()"
      ],
      "metadata": {
        "id": "l6kY4rYOGu7p",
        "colab": {
          "base_uri": "https://localhost:8080/",
          "height": 39
        },
        "outputId": "ccf77124-1b52-4dbd-d30e-179984686da4"
      },
      "execution_count": 1,
      "outputs": [
        {
          "output_type": "execute_result",
          "data": {
            "text/latex": "$\\displaystyle 10 t_{1} + 2$",
            "text/plain": [
              "10*t1 + 2"
            ]
          },
          "metadata": {},
          "execution_count": 1
        }
      ]
    }
  ]
}
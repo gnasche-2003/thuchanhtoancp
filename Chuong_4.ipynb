{
  "nbformat": 4,
  "nbformat_minor": 0,
  "metadata": {
    "colab": {
      "name": "Buoi_4.ipynb",
      "provenance": [],
      "authorship_tag": "ABX9TyMDTZFUAQv8qeeW7ha0cMr8",
      "include_colab_link": true
    },
    "kernelspec": {
      "name": "python3",
      "display_name": "Python 3"
    },
    "language_info": {
      "name": "python"
    }
  },
  "cells": [
    {
      "cell_type": "markdown",
      "metadata": {
        "id": "view-in-github",
        "colab_type": "text"
      },
      "source": [
        "<a href=\"https://colab.research.google.com/github/gnasche-2003/thuchanhtoancp/blob/main/Chuong_4.ipynb\" target=\"_parent\"><img src=\"https://colab.research.google.com/assets/colab-badge.svg\" alt=\"Open In Colab\"/></a>"
      ]
    },
    {
      "cell_type": "markdown",
      "source": [
        "#CHƯƠNG 4: TÍNH PHÂN HÀM SỐ"
      ],
      "metadata": {
        "id": "UrnHfzUK5NRu"
      }
    },
    {
      "cell_type": "markdown",
      "source": [
        "#Thực hành 1: Chia khoảng dữ liệu"
      ],
      "metadata": {
        "id": "Od-Wkovf5gNW"
      }
    },
    {
      "cell_type": "code",
      "source": [
        "import numpy as np\n",
        "mienchia = np.linspace(0,2,11)\n",
        "mienchia"
      ],
      "metadata": {
        "id": "xbjl5MJ31qFv",
        "outputId": "09671e2f-fa6e-4e0b-afaa-a58e442adbcd",
        "colab": {
          "base_uri": "https://localhost:8080/"
        }
      },
      "execution_count": 46,
      "outputs": [
        {
          "output_type": "execute_result",
          "data": {
            "text/plain": [
              "array([0. , 0.2, 0.4, 0.6, 0.8, 1. , 1.2, 1.4, 1.6, 1.8, 2. ])"
            ]
          },
          "metadata": {},
          "execution_count": 46
        }
      ]
    },
    {
      "cell_type": "markdown",
      "source": [
        "#Thực hành 2:Vẽ các đồ thị"
      ],
      "metadata": {
        "id": "Gikvvo1q5gk-"
      }
    },
    {
      "cell_type": "code",
      "source": [
        "import numpy as np\n",
        "import matplotlib.pyplot as plt"
      ],
      "metadata": {
        "id": "IHe_XrUK3BEM"
      },
      "execution_count": 1,
      "outputs": []
    },
    {
      "cell_type": "code",
      "source": [
        "fs = [1,2,4]\n",
        "all_time = np.linspace(0,2,200)\n",
        "t = all_time[:100]"
      ],
      "metadata": {
        "id": "LoxRrT-nmiHp"
      },
      "execution_count": 2,
      "outputs": []
    },
    {
      "cell_type": "markdown",
      "source": [
        "#Thực hành 3: Xây dựng chương trình hướng đối tượng"
      ],
      "metadata": {
        "id": "7iuuXPTi5g5P"
      }
    },
    {
      "cell_type": "markdown",
      "source": [
        "#Thực hành 4: Minh hoạt cơ bản về hàm Lambda"
      ],
      "metadata": {
        "id": "GRWam5w05hGX"
      }
    },
    {
      "cell_type": "code",
      "source": [
        "def f (x): return x**2\n",
        "print (f(8))"
      ],
      "metadata": {
        "id": "tfW63wTC5CDl",
        "outputId": "a034eef2-b439-4899-c582-1806241cd244",
        "colab": {
          "base_uri": "https://localhost:8080/"
        }
      },
      "execution_count": 44,
      "outputs": [
        {
          "output_type": "stream",
          "name": "stdout",
          "text": [
            "64\n"
          ]
        }
      ]
    },
    {
      "cell_type": "code",
      "source": [
        "g = lambda x: x**2\n",
        "print (f(8))"
      ],
      "metadata": {
        "id": "EEys-dJY5R-Z",
        "outputId": "23905165-eb9f-477b-df1f-8cc55845f185",
        "colab": {
          "base_uri": "https://localhost:8080/"
        }
      },
      "execution_count": 45,
      "outputs": [
        {
          "output_type": "stream",
          "name": "stdout",
          "text": [
            "64\n"
          ]
        }
      ]
    },
    {
      "cell_type": "markdown",
      "source": [
        "#Thực hành 5: Tính thuế theo từng khu vực"
      ],
      "metadata": {
        "id": "3vItn9lz5hSY"
      }
    },
    {
      "cell_type": "code",
      "source": [
        "def thue(phan_tram): return lambda x: x * phan_tram"
      ],
      "metadata": {
        "id": "L35LVDk44K10"
      },
      "execution_count": 41,
      "outputs": []
    },
    {
      "cell_type": "code",
      "source": [
        "hcm = thue(0.012)\n",
        "hn = thue(0.01)"
      ],
      "metadata": {
        "id": "Zdq5RoT84pQm"
      },
      "execution_count": 40,
      "outputs": []
    },
    {
      "cell_type": "code",
      "source": [
        "hcm(1000000)"
      ],
      "metadata": {
        "id": "AJiQdn7d4w7h",
        "outputId": "d4ec7414-9721-4aa6-c15e-79afbc60163a",
        "colab": {
          "base_uri": "https://localhost:8080/"
        }
      },
      "execution_count": 42,
      "outputs": [
        {
          "output_type": "execute_result",
          "data": {
            "text/plain": [
              "12000.0"
            ]
          },
          "metadata": {},
          "execution_count": 42
        }
      ]
    },
    {
      "cell_type": "code",
      "source": [
        "hn(1000000)"
      ],
      "metadata": {
        "id": "wWnVxPUJ44_j",
        "outputId": "c3bfe6b2-d2f4-4b81-dcbc-e648386422fb",
        "colab": {
          "base_uri": "https://localhost:8080/"
        }
      },
      "execution_count": 43,
      "outputs": [
        {
          "output_type": "execute_result",
          "data": {
            "text/plain": [
              "10000.0"
            ]
          },
          "metadata": {},
          "execution_count": 43
        }
      ]
    },
    {
      "cell_type": "markdown",
      "source": [
        "#Thực hành 6: Biểu diễn cài đặt phương pháp hình thang với hàm Lambda"
      ],
      "metadata": {
        "id": "fz6HvKYz5hd3"
      }
    },
    {
      "cell_type": "code",
      "source": [
        "hinhthang = lambda f, a, b: (b-a)*(f(a)+f(b))/2\n",
        "from math import exp\n",
        "hinhthang(exp, 0, 1)"
      ],
      "metadata": {
        "id": "9p5MCRh43dC1",
        "outputId": "fe72862c-60b3-470d-97ee-6dff6091ffcb",
        "colab": {
          "base_uri": "https://localhost:8080/"
        }
      },
      "execution_count": 36,
      "outputs": [
        {
          "output_type": "execute_result",
          "data": {
            "text/plain": [
              "1.8591409142295225"
            ]
          },
          "metadata": {},
          "execution_count": 36
        }
      ]
    },
    {
      "cell_type": "code",
      "source": [
        "def hai_x(x):\n",
        "  return 2*x"
      ],
      "metadata": {
        "id": "yVZBdiC7349w"
      },
      "execution_count": 37,
      "outputs": []
    },
    {
      "cell_type": "code",
      "source": [
        "hinhthang(hai_x, 1, 2)"
      ],
      "metadata": {
        "id": "mRj4C9bb3_4m",
        "outputId": "f5362adf-94cd-4713-b4c8-594c360e46e1",
        "colab": {
          "base_uri": "https://localhost:8080/"
        }
      },
      "execution_count": 38,
      "outputs": [
        {
          "output_type": "execute_result",
          "data": {
            "text/plain": [
              "3.0"
            ]
          },
          "metadata": {},
          "execution_count": 38
        }
      ]
    },
    {
      "cell_type": "markdown",
      "source": [
        "#Thực hành 7: Xây dựng hàm tính tích phân cho (e mũ x) bằng phương pháp hình thang"
      ],
      "metadata": {
        "id": "LlJngJNC5hpf"
      }
    },
    {
      "cell_type": "code",
      "source": [
        "def traprule(ham, trai, phai):\n",
        "  return(phai-trai)*(ham(trai) + ham(phai))/2"
      ],
      "metadata": {
        "id": "OPsZDAv70Pol"
      },
      "execution_count": 33,
      "outputs": []
    },
    {
      "cell_type": "code",
      "source": [
        "import math\n",
        "S = \"Bieu thuc can tinh tich phan la e^x: \"\n",
        "print(S + '[a,b]')\n",
        "\n",
        "A = float(input(\"Nhap a: \"))\n",
        "B = float(input(\"Nhap b: \"))\n",
        "Y = traprule(math.exp, A, B)\n",
        "print(S + \"[%.1E, %.1E]:\"%(A, B))\n",
        "print(\"Gia tri xap xi: %.15E\"%Y)\n",
        "E = math.exp(B) - math.exp(A)\n",
        "print('Gia tri chinh xac: %.15E'%E)"
      ],
      "metadata": {
        "id": "qdstRSUA1T3t",
        "outputId": "a2718c2c-944e-49e0-9ef0-7913872c4379",
        "colab": {
          "base_uri": "https://localhost:8080/"
        }
      },
      "execution_count": 35,
      "outputs": [
        {
          "output_type": "stream",
          "name": "stdout",
          "text": [
            "Bieu thuc can tinh tich phan la e^x: [a,b]\n",
            "Nhap a: 0\n",
            "Nhap b: 1\n",
            "Bieu thuc can tinh tich phan la e^x: [0.0E+00, 1.0E+00]:\n",
            "Gia tri xap xi: 1.859140914229523E+00\n",
            "Gia tri chinh xac: 1.718281828459045E+00\n"
          ]
        }
      ]
    },
    {
      "cell_type": "markdown",
      "source": [
        "#Thực hành 8: Viết các lệnh sau và thực thi cùng lúc trong tập tin scipy_in.py\n",
        " "
      ],
      "metadata": {
        "id": "tgjnNhM05hzp"
      }
    },
    {
      "cell_type": "code",
      "source": [
        "import scipy\n",
        "from sympy import *\n",
        "import sys"
      ],
      "metadata": {
        "id": "u9ZTndkJx5ku"
      },
      "execution_count": 28,
      "outputs": []
    },
    {
      "cell_type": "code",
      "source": [
        "sys.displayhook = pprint\n",
        "x = Symbol('x')"
      ],
      "metadata": {
        "id": "apidKWKUyGuZ"
      },
      "execution_count": 27,
      "outputs": []
    },
    {
      "cell_type": "code",
      "source": [
        "bt1 = integrate(x**2 + x + 1, x)\n",
        "pprint(bt1)"
      ],
      "metadata": {
        "id": "oZOli7x7yQN3",
        "outputId": "d640ed07-40c4-494f-b473-30ecc97caa00",
        "colab": {
          "base_uri": "https://localhost:8080/"
        }
      },
      "execution_count": 29,
      "outputs": [
        {
          "output_type": "stream",
          "name": "stdout",
          "text": [
            " 3    2    \n",
            "x    x     \n",
            "── + ── + x\n",
            "3    2     \n"
          ]
        }
      ]
    },
    {
      "cell_type": "code",
      "source": [
        "bt2 = integrate(x/(x**2 + 2*x + 1), x)\n",
        "pprint(bt2)"
      ],
      "metadata": {
        "id": "DZZsuMlZzJYF",
        "outputId": "84673796-05c8-4be1-b27e-eb628fbbdcae",
        "colab": {
          "base_uri": "https://localhost:8080/"
        }
      },
      "execution_count": 30,
      "outputs": [
        {
          "output_type": "stream",
          "name": "stdout",
          "text": [
            "               1  \n",
            "log(x + 1) + ─────\n",
            "             x + 1\n"
          ]
        }
      ]
    },
    {
      "cell_type": "code",
      "source": [
        "bt3 = integrate(x**2 * exp(x) * cos(x), x)\n",
        "pprint(bt3)"
      ],
      "metadata": {
        "id": "e6HL1SFizio7",
        "outputId": "57a6e303-d373-4e09-ede1-07ad66c304c2",
        "colab": {
          "base_uri": "https://localhost:8080/"
        }
      },
      "execution_count": 31,
      "outputs": [
        {
          "output_type": "stream",
          "name": "stdout",
          "text": [
            " 2  x           2  x                         x           x       \n",
            "x ⋅ℯ ⋅sin(x)   x ⋅ℯ ⋅cos(x)      x          ℯ ⋅sin(x)   ℯ ⋅cos(x)\n",
            "──────────── + ──────────── - x⋅ℯ ⋅sin(x) + ───────── - ─────────\n",
            "     2              2                           2           2    \n"
          ]
        }
      ]
    },
    {
      "cell_type": "code",
      "source": [
        "bt4 = integrate(exp(-x**2)*erf(x), x)\n",
        "pprint(bt4)"
      ],
      "metadata": {
        "id": "mT36bSbLzvAw",
        "outputId": "d935a3bc-0f97-4376-d933-d7cc8bb07544",
        "colab": {
          "base_uri": "https://localhost:8080/"
        }
      },
      "execution_count": 32,
      "outputs": [
        {
          "output_type": "stream",
          "name": "stdout",
          "text": [
            "      2   \n",
            "√π⋅erf (x)\n",
            "──────────\n",
            "    4     \n"
          ]
        }
      ]
    },
    {
      "cell_type": "markdown",
      "source": [
        "#Thực hành 9: Tính tích phân đơn giản"
      ],
      "metadata": {
        "id": "qbVVU-4_5iBw"
      }
    },
    {
      "cell_type": "code",
      "source": [
        "from sympy import Symbol, Integral\n",
        "x = Symbol('x')\n",
        "k = Symbol('k')\n",
        "Integral(k*x, x)"
      ],
      "metadata": {
        "id": "BKBScJ3NxWYr",
        "outputId": "9109bdf5-da66-48bc-8adc-7e4b1fb27281",
        "colab": {
          "base_uri": "https://localhost:8080/",
          "height": 54
        }
      },
      "execution_count": 24,
      "outputs": [
        {
          "output_type": "execute_result",
          "data": {
            "text/latex": "$\\displaystyle \\int k x\\, dx$",
            "text/plain": [
              "Integral(k*x, x)"
            ]
          },
          "metadata": {},
          "execution_count": 24
        }
      ]
    },
    {
      "cell_type": "code",
      "source": [
        "Integral(k*x,x).doit()"
      ],
      "metadata": {
        "id": "lbL7SlcFxyAE",
        "outputId": "4c6ef754-7527-48e1-9db5-bfd6f196ecbb",
        "colab": {
          "base_uri": "https://localhost:8080/",
          "height": 54
        }
      },
      "execution_count": 25,
      "outputs": [
        {
          "output_type": "execute_result",
          "data": {
            "text/latex": "$\\displaystyle \\frac{k x^{2}}{2}$",
            "text/plain": [
              "k*x**2/2"
            ]
          },
          "metadata": {},
          "execution_count": 25
        }
      ]
    },
    {
      "cell_type": "markdown",
      "source": [
        "#Thực hành 10: Tính tích phân đơn giản"
      ],
      "metadata": {
        "id": "-KqzhtDV5iMQ"
      }
    },
    {
      "cell_type": "code",
      "source": [
        "from sympy import pprint, Symbol, Integral\n",
        "x = Symbol('x')\n",
        "k = Symbol('k')\n",
        "F = Integral(k*x,x).doit()\n",
        "pprint(F)"
      ],
      "metadata": {
        "id": "jGBUanpdw4_Z",
        "outputId": "43322f5c-e31b-480e-ee8e-8c49b885a943",
        "colab": {
          "base_uri": "https://localhost:8080/"
        }
      },
      "execution_count": 23,
      "outputs": [
        {
          "output_type": "stream",
          "name": "stdout",
          "text": [
            "   2\n",
            "k⋅x \n",
            "────\n",
            " 2  \n"
          ]
        }
      ]
    },
    {
      "cell_type": "markdown",
      "source": [
        "#Thực hành 11: Tính tích phân đơn giản\n"
      ],
      "metadata": {
        "id": "ZHZsonz55iX0"
      }
    },
    {
      "cell_type": "code",
      "source": [
        "from sympy import Symbol, Integral\n",
        "x = Symbol('x')\n",
        "k = Symbol('k')\n",
        "Integral(k*x, (x,0,2)).doit()"
      ],
      "metadata": {
        "id": "y_n66ntWwXRQ",
        "outputId": "2b8f90e5-e5b5-497e-991b-988e782e1c8a",
        "colab": {
          "base_uri": "https://localhost:8080/",
          "height": 39
        }
      },
      "execution_count": 22,
      "outputs": [
        {
          "output_type": "execute_result",
          "data": {
            "text/latex": "$\\displaystyle 2 k$",
            "text/plain": [
              "2*k"
            ]
          },
          "metadata": {},
          "execution_count": 22
        }
      ]
    },
    {
      "cell_type": "markdown",
      "source": [
        "#Thực hành 12: Tính tích phân đơn giản"
      ],
      "metadata": {
        "id": "A8wq5DUX5ij-"
      }
    },
    {
      "cell_type": "code",
      "source": [
        "from sympy import Integral, Symbol\n",
        "x = Symbol('x')\n",
        "Integral(x, (x,2,4)).doit()"
      ],
      "metadata": {
        "id": "gDUq9iP5v4iJ",
        "outputId": "3109dd4e-5202-4eb5-ed7e-ee5489479f9f",
        "colab": {
          "base_uri": "https://localhost:8080/",
          "height": 38
        }
      },
      "execution_count": 18,
      "outputs": [
        {
          "output_type": "execute_result",
          "data": {
            "text/latex": "$\\displaystyle 6$",
            "text/plain": [
              "6"
            ]
          },
          "metadata": {},
          "execution_count": 18
        }
      ]
    },
    {
      "cell_type": "markdown",
      "source": [
        "#Thực hành 13: Tính tích phân hàm mật độ xác xuất"
      ],
      "metadata": {
        "id": "TB2SzwXS5ixb"
      }
    }
  ]
}
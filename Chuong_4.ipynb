{
  "nbformat": 4,
  "nbformat_minor": 0,
  "metadata": {
    "colab": {
      "name": "Buoi_4.ipynb",
      "provenance": [],
      "authorship_tag": "ABX9TyPEDf1NKgAZNXn3G1j2plUM",
      "include_colab_link": true
    },
    "kernelspec": {
      "name": "python3",
      "display_name": "Python 3"
    },
    "language_info": {
      "name": "python"
    }
  },
  "cells": [
    {
      "cell_type": "markdown",
      "metadata": {
        "id": "view-in-github",
        "colab_type": "text"
      },
      "source": [
        "<a href=\"https://colab.research.google.com/github/gnasche-2003/thuchanhtoancp/blob/main/Chuong_4.ipynb\" target=\"_parent\"><img src=\"https://colab.research.google.com/assets/colab-badge.svg\" alt=\"Open In Colab\"/></a>"
      ]
    },
    {
      "cell_type": "markdown",
      "source": [
        "CHƯƠNG 4: TÍNH PHÂN HÀM SỐ"
      ],
      "metadata": {
        "id": "UrnHfzUK5NRu"
      }
    },
    {
      "cell_type": "markdown",
      "source": [
        "Thực hành 1: Chia khoảng dữ liệu"
      ],
      "metadata": {
        "id": "Od-Wkovf5gNW"
      }
    },
    {
      "cell_type": "markdown",
      "source": [
        "Thực hành 2:Vẽ các đồ thị"
      ],
      "metadata": {
        "id": "Gikvvo1q5gk-"
      }
    },
    {
      "cell_type": "markdown",
      "source": [
        "Thực hành 3: Xây dựng chương trình hướng đối tượng"
      ],
      "metadata": {
        "id": "7iuuXPTi5g5P"
      }
    },
    {
      "cell_type": "markdown",
      "source": [
        "Thực hành 4: Minh hoạt cơ bản về hàm Lambda"
      ],
      "metadata": {
        "id": "GRWam5w05hGX"
      }
    },
    {
      "cell_type": "markdown",
      "source": [
        "Thực hành 5: Tính thuế theo từng khu vực"
      ],
      "metadata": {
        "id": "3vItn9lz5hSY"
      }
    },
    {
      "cell_type": "markdown",
      "source": [
        "Thực hành 6: Biểu diễn cài đặt phương pháp hình thang với hàm Lambda"
      ],
      "metadata": {
        "id": "fz6HvKYz5hd3"
      }
    },
    {
      "cell_type": "markdown",
      "source": [
        "Thực hành 7: Xây dựng hàm tính tích phân cho (e mũ x) bằng phương pháp hình thang"
      ],
      "metadata": {
        "id": "LlJngJNC5hpf"
      }
    },
    {
      "cell_type": "markdown",
      "source": [
        "Thực hành 8: Viết các lệnh sau và thực thi cùng lúc trong tập tin scipy_in.py\n",
        " "
      ],
      "metadata": {
        "id": "tgjnNhM05hzp"
      }
    },
    {
      "cell_type": "markdown",
      "source": [
        "Thực hành 9: Tính tích phân đơn giản"
      ],
      "metadata": {
        "id": "qbVVU-4_5iBw"
      }
    },
    {
      "cell_type": "markdown",
      "source": [
        "Thực hành 10: Tính tích phân đơn giản"
      ],
      "metadata": {
        "id": "-KqzhtDV5iMQ"
      }
    },
    {
      "cell_type": "markdown",
      "source": [
        "Thực hành 11: Tính tích phân đơn giản\n"
      ],
      "metadata": {
        "id": "ZHZsonz55iX0"
      }
    },
    {
      "cell_type": "markdown",
      "source": [
        "Thực hành 12: Tính tích phân đơn giản"
      ],
      "metadata": {
        "id": "A8wq5DUX5ij-"
      }
    },
    {
      "cell_type": "markdown",
      "source": [
        "Thực hành 13: Tính tích phân hàm mật độ xác xuất"
      ],
      "metadata": {
        "id": "TB2SzwXS5ixb"
      }
    }
  ]
}
{
  "nbformat": 4,
  "nbformat_minor": 0,
  "metadata": {
    "colab": {
      "name": "Chương 6.ipynb",
      "private_outputs": true,
      "provenance": [],
      "authorship_tag": "ABX9TyPE01GrmkiYrRtr6jIeFhMS",
      "include_colab_link": true
    },
    "kernelspec": {
      "name": "python3",
      "display_name": "Python 3"
    },
    "language_info": {
      "name": "python"
    }
  },
  "cells": [
    {
      "cell_type": "markdown",
      "metadata": {
        "id": "view-in-github",
        "colab_type": "text"
      },
      "source": [
        "<a href=\"https://colab.research.google.com/github/gnasche-2003/thuchanhtoancp/blob/main/Ch%C6%B0%C6%A1ng_6.ipynb\" target=\"_parent\"><img src=\"https://colab.research.google.com/assets/colab-badge.svg\" alt=\"Open In Colab\"/></a>"
      ]
    },
    {
      "cell_type": "markdown",
      "source": [
        "# CHƯƠNG 6: HÀM SỐ, DÃY VÀ MỘT SỐ ỨNG DỤNG"
      ],
      "metadata": {
        "id": "Gn9_99Za7hVH"
      }
    },
    {
      "cell_type": "markdown",
      "source": [
        "# Thực hành 1: Viết hàm đệ quy tính n!"
      ],
      "metadata": {
        "id": "-D4jIja478x-"
      }
    },
    {
      "cell_type": "code",
      "source": [
        "import math\n",
        "def giaithua(n):\n",
        "  if n == 0:\n",
        "      return 1\n",
        "  else:\n",
        "      return n*giaithua(n - 1)"
      ],
      "metadata": {
        "id": "TOodrknm74iR"
      },
      "execution_count": null,
      "outputs": []
    },
    {
      "cell_type": "code",
      "source": [
        "giaithua(3)"
      ],
      "metadata": {
        "id": "Z9Akw2Rq9zzD"
      },
      "execution_count": null,
      "outputs": []
    },
    {
      "cell_type": "code",
      "source": [
        "giaithua(4)"
      ],
      "metadata": {
        "id": "eU2jeg5X-eA1"
      },
      "execution_count": null,
      "outputs": []
    },
    {
      "cell_type": "markdown",
      "source": [
        "# Thực hành 2: Viết hàm đệ quy tính dãy số Fibonacci"
      ],
      "metadata": {
        "id": "09TLagmU-krG"
      }
    },
    {
      "cell_type": "code",
      "source": [
        "def fibo(n):\n",
        "  if n == 0:\n",
        "    return 0\n",
        "  if n == 1:\n",
        "    return 1\n",
        "  return fibo(n - 1) + fibo(n - 2)"
      ],
      "metadata": {
        "id": "Fl3TAXCM-vWP"
      },
      "execution_count": null,
      "outputs": []
    },
    {
      "cell_type": "code",
      "source": [
        "fibo(4)"
      ],
      "metadata": {
        "id": "vdfQtlsq-4RQ"
      },
      "execution_count": null,
      "outputs": []
    },
    {
      "cell_type": "code",
      "source": [
        "fibo(5)"
      ],
      "metadata": {
        "id": "26SR_niZ_OBm"
      },
      "execution_count": null,
      "outputs": []
    },
    {
      "cell_type": "code",
      "source": [
        "fibo(6)"
      ],
      "metadata": {
        "id": "3WNxVGsH_PY-"
      },
      "execution_count": null,
      "outputs": []
    },
    {
      "cell_type": "markdown",
      "source": [
        "# Thực hành 3: Chứng minh dãy có giới hạn và tìm giới hạn của dãy"
      ],
      "metadata": {
        "id": "jcXchtOi_Saq"
      }
    },
    {
      "cell_type": "markdown",
      "source": [
        "+ Xây dựng chương trình đệ quy:"
      ],
      "metadata": {
        "id": "axUASUO5_iz3"
      }
    },
    {
      "cell_type": "code",
      "source": [
        "def an_exp_an(n):\n",
        "  if n == 1:\n",
        "     return 1.0/2\n",
        "  else:\n",
        "     return an_exp_an(n-1)**an_exp_an(n-1)"
      ],
      "metadata": {
        "id": "JXQtf-yV_tjz"
      },
      "execution_count": null,
      "outputs": []
    },
    {
      "cell_type": "code",
      "source": [
        "an_exp_an(1)"
      ],
      "metadata": {
        "id": "VAxzhl5J_gjo"
      },
      "execution_count": null,
      "outputs": []
    },
    {
      "cell_type": "code",
      "source": [
        "an_exp_an(2)"
      ],
      "metadata": {
        "id": "dsr9hrFBAKZ2"
      },
      "execution_count": null,
      "outputs": []
    },
    {
      "cell_type": "code",
      "source": [
        "an_exp_an(3)"
      ],
      "metadata": {
        "id": "YjO8nnfwAPrM"
      },
      "execution_count": null,
      "outputs": []
    },
    {
      "cell_type": "code",
      "source": [
        "an_exp_an(4)"
      ],
      "metadata": {
        "id": "FZacnQ6tAQud"
      },
      "execution_count": null,
      "outputs": []
    },
    {
      "cell_type": "code",
      "source": [
        "an_exp_an(5)"
      ],
      "metadata": {
        "id": "xclL9HHyAR-q"
      },
      "execution_count": null,
      "outputs": []
    },
    {
      "cell_type": "code",
      "source": [
        "an_exp_an(10)"
      ],
      "metadata": {
        "id": "afw9ghYhATU1"
      },
      "execution_count": null,
      "outputs": []
    },
    {
      "cell_type": "markdown",
      "source": [
        "+ Dựa vào các kết quả thực hiện trên đây là dãy tăng"
      ],
      "metadata": {
        "id": "QtdtxZmsAbdc"
      }
    },
    {
      "cell_type": "markdown",
      "source": [
        "# Thực hành 4: Chứng minh dãy có giới hạn và tìm giới hạn của dãy"
      ],
      "metadata": {
        "id": "2cJonu8lFIwH"
      }
    },
    {
      "cell_type": "markdown",
      "source": [
        "+ Xây dựng chương trình đệ quy và xét một số giá trị:"
      ],
      "metadata": {
        "id": "M3V4mA-vFig_"
      }
    },
    {
      "cell_type": "code",
      "source": [
        "def bai4(n):\n",
        "  if n == 1:\n",
        "    return 4\n",
        "  else: \n",
        "    return 5.0/(6-bai4(n-1))"
      ],
      "metadata": {
        "id": "vxlQqCRpFg9a"
      },
      "execution_count": null,
      "outputs": []
    },
    {
      "cell_type": "code",
      "source": [
        "bai4(5)"
      ],
      "metadata": {
        "id": "ILdk9ew3F4kg"
      },
      "execution_count": null,
      "outputs": []
    },
    {
      "cell_type": "code",
      "source": [
        "bai4(6)"
      ],
      "metadata": {
        "id": "dq7or8XMF756"
      },
      "execution_count": null,
      "outputs": []
    },
    {
      "cell_type": "code",
      "source": [
        "bai4(7)"
      ],
      "metadata": {
        "id": "_7kL-c2SGALn"
      },
      "execution_count": null,
      "outputs": []
    },
    {
      "cell_type": "code",
      "source": [
        "bai4(10)"
      ],
      "metadata": {
        "id": "lxEspqDqGB-e"
      },
      "execution_count": null,
      "outputs": []
    },
    {
      "cell_type": "code",
      "source": [
        "bai4(100)"
      ],
      "metadata": {
        "id": "p1nZW5ZdGEZb"
      },
      "execution_count": null,
      "outputs": []
    },
    {
      "cell_type": "markdown",
      "source": [
        "+ Dãy giảm"
      ],
      "metadata": {
        "id": "87PjZUHIGHhI"
      }
    },
    {
      "cell_type": "markdown",
      "source": [
        "# Thực hành 5: Xét giới hạn của dãy an = (F(n + 1)) / Fn biết dãy Fibonacci được định nghĩa như sau:"
      ],
      "metadata": {
        "id": "82K2EF7hH2jw"
      }
    },
    {
      "cell_type": "markdown",
      "source": [
        "+ Chương trình đệ quy để tính các giá trị:"
      ],
      "metadata": {
        "id": "DgoDz6WCIS1v"
      }
    },
    {
      "cell_type": "code",
      "source": [
        "def tisoFibo(n):\n",
        "  if n == 1:\n",
        "    return 1\n",
        "  else:\n",
        "    return 1.0 + 1.0/tisoFibo(n - 1)\n",
        "for i in range(1, 11):\n",
        "  print(i, tisoFibo(i))"
      ],
      "metadata": {
        "id": "n678Rz_lIKvx"
      },
      "execution_count": null,
      "outputs": []
    },
    {
      "cell_type": "markdown",
      "source": [
        "+ 10 số hạng đầu tiên là dãy không đơn điệu\n",
        "+ Dãy số a1,a3,a5,a7,a9 có đơn điệu tăng\n",
        "+ Dãy số a2,a4,a6,a8,a10 không có đơn điệu tăng (đơn điệu giảm)"
      ],
      "metadata": {
        "id": "iGVTFTeYI8qI"
      }
    },
    {
      "cell_type": "markdown",
      "source": [
        "Vẽ đồ thị của hàm số f(x) trong khoảng ((1 - căn5)/2, 10)"
      ],
      "metadata": {
        "id": "LrkqmTMQJ4Fu"
      }
    },
    {
      "cell_type": "code",
      "source": [
        "from sympy import *\n",
        "x = Symbol('x')\n",
        "f = (2*x + 1) / (x + 1)\n",
        "sympy.plot(f, (x, -0.6, 10))"
      ],
      "metadata": {
        "id": "-ipF9JknKEg7"
      },
      "execution_count": null,
      "outputs": []
    },
    {
      "cell_type": "markdown",
      "source": [
        "#"
      ],
      "metadata": {
        "id": "jBKcDC3yatDu"
      }
    }
  ]
}
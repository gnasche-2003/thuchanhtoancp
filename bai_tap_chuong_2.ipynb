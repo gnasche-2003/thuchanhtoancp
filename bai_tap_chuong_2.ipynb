{
  "nbformat": 4,
  "nbformat_minor": 0,
  "metadata": {
    "colab": {
      "name": "bai_tap_chuong_2.ipynb",
      "provenance": [],
      "authorship_tag": "ABX9TyMPdgejXVvj2nR75IeZF3yr",
      "include_colab_link": true
    },
    "kernelspec": {
      "name": "python3",
      "display_name": "Python 3"
    },
    "language_info": {
      "name": "python"
    }
  },
  "cells": [
    {
      "cell_type": "markdown",
      "metadata": {
        "id": "view-in-github",
        "colab_type": "text"
      },
      "source": [
        "<a href=\"https://colab.research.google.com/github/gnasche-2003/thuchanhtoancp/blob/main/bai_tap_chuong_2.ipynb\" target=\"_parent\"><img src=\"https://colab.research.google.com/assets/colab-badge.svg\" alt=\"Open In Colab\"/></a>"
      ]
    },
    {
      "cell_type": "markdown",
      "source": [
        "#Bài tập 1: Vẽ biểu đồ"
      ],
      "metadata": {
        "id": "7TqSgd3xegR6"
      }
    },
    {
      "cell_type": "markdown",
      "source": [
        "Số ngày mưa trung bình của TpHCM"
      ],
      "metadata": {
        "id": "kRduJMlPeoCX"
      }
    },
    {
      "cell_type": "code",
      "source": [
        "from pylab import plot, show"
      ],
      "metadata": {
        "id": "4oO0Qm0BewzI"
      },
      "execution_count": null,
      "outputs": []
    },
    {
      "cell_type": "code",
      "source": [
        "rain_day = [2.4, 1.0, 1.9, 5.4, 17.8, 19.0, 22.9, 22.4, 23.1, 20.9, 12.1, 6.7]\n",
        "months = range(1,13)\n",
        "plot(months, rain_day, marker='o', color='r')\n",
        "show()"
      ],
      "metadata": {
        "colab": {
          "base_uri": "https://localhost:8080/",
          "height": 265
        },
        "id": "MmWSrVHAfem7",
        "outputId": "f6de406c-dcaf-4a12-e24a-6f35f8966d53"
      },
      "execution_count": null,
      "outputs": [
        {
          "output_type": "display_data",
          "data": {
            "image/png": "[encoded data removed]",
            "text/plain": [
              "<Figure size 432x288 with 1 Axes>"
            ]
          },
          "metadata": {
            "needs_background": "light"
          }
        }
      ]
    },
    {
      "cell_type": "markdown",
      "source": [
        "Số giờ nắng trung bình hàng tháng của TpHCM"
      ],
      "metadata": {
        "id": "wyG42t3hh6K4"
      }
    },
    {
      "cell_type": "code",
      "source": [
        "Average_hours_of_sunshine = [245, 246, 272, 239, 195, 171, 180, 172, 162, 182, 200, 226]\n",
        "months = range(1,13)\n",
        "plot(months, Average_hours_of_sunshine, marker='o', color='g')\n",
        "show()"
      ],
      "metadata": {
        "colab": {
          "base_uri": "https://localhost:8080/",
          "height": 265
        },
        "id": "HmgiEXLph8oX",
        "outputId": "e7d68dca-5a9c-49d8-ff48-af6a02ea2e93"
      },
      "execution_count": null,
      "outputs": [
        {
          "output_type": "display_data",
          "data": {
            "image/png": "[encoded data removed]",
            "text/plain": [
              "<Figure size 432x288 with 1 Axes>"
            ]
          },
          "metadata": {
            "needs_background": "light"
          }
        }
      ]
    },
    {
      "cell_type": "markdown",
      "source": [
        "#Bài tập 2: Tính đạo hàm\n"
      ],
      "metadata": {
        "id": "M5l9eOWtqsMZ"
      }
    },
    {
      "cell_type": "markdown",
      "source": [
        "2.1 f(x) = x**3 – 4x**2 + x – 1 "
      ],
      "metadata": {
        "id": "XgTnymqLq5XA"
      }
    },
    {
      "cell_type": "code",
      "source": [
        "from sympy import Symbol, Derivative\n",
        "x = Symbol('x')\n",
        "st = x**3 - 4*x**2 + x - 1\n",
        "Derivative(st,x).doit()"
      ],
      "metadata": {
        "id": "2xMxbrJUU2p2",
        "outputId": "64c907c2-6625-4adb-aea5-1245f7954d4b",
        "colab": {
          "base_uri": "https://localhost:8080/",
          "height": 39
        }
      },
      "execution_count": null,
      "outputs": [
        {
          "output_type": "execute_result",
          "data": {
            "text/latex": "$\\displaystyle 3 x^{2} - 8 x + 1$",
            "text/plain": [
              "3*x**2 - 8*x + 1"
            ]
          },
          "metadata": {},
          "execution_count": 4
        }
      ]
    },
    {
      "cell_type": "markdown",
      "source": [
        "2.2 f(t) = 5t**2 + 2t + 8\n"
      ],
      "metadata": {
        "id": "-43Va9XUMqiY"
      }
    },
    {
      "cell_type": "code",
      "source": [
        "from sympy import Symbol, Derivative\n",
        "t = Symbol('t')\n",
        "st = 5*t**2 + 2*t + 8\n",
        "Derivative(st,t).doit()"
      ],
      "metadata": {
        "id": "UWJvt7N9Vd4D",
        "outputId": "3aff2dc9-fe0b-4d20-f7fa-0a805409e94b",
        "colab": {
          "base_uri": "https://localhost:8080/",
          "height": 39
        }
      },
      "execution_count": null,
      "outputs": [
        {
          "output_type": "execute_result",
          "data": {
            "text/latex": "$\\displaystyle 10 t + 2$",
            "text/plain": [
              "10*t + 2"
            ]
          },
          "metadata": {},
          "execution_count": 5
        }
      ]
    },
    {
      "cell_type": "markdown",
      "source": [
        "2.3\n",
        "f(x) = sin(x)cos(x)"
      ],
      "metadata": {
        "id": "WNlJ1BivMqwv"
      }
    },
    {
      "cell_type": "code",
      "source": [
        "from sympy import Symbol, Derivative\n",
        "import sympy\n",
        "x = Symbol('x')\n",
        "f = sympy.sin(x)*sympy.cos(x)\n",
        "Derivative(f,x).doit()"
      ],
      "metadata": {
        "id": "SNvElX6jWEbo",
        "outputId": "794af2f8-d3c3-4538-cba2-a7d2c85b1a69",
        "colab": {
          "base_uri": "https://localhost:8080/",
          "height": 39
        }
      },
      "execution_count": null,
      "outputs": [
        {
          "output_type": "execute_result",
          "data": {
            "text/latex": "$\\displaystyle - \\sin^{2}{\\left(x \\right)} + \\cos^{2}{\\left(x \\right)}$",
            "text/plain": [
              "-sin(x)**2 + cos(x)**2"
            ]
          },
          "metadata": {},
          "execution_count": 6
        }
      ]
    },
    {
      "cell_type": "markdown",
      "source": [
        "2.4 f(x) = (9 - x**2)**1/2"
      ],
      "metadata": {
        "id": "vt5FmjQdMq7d"
      }
    },
    {
      "cell_type": "code",
      "source": [
        "from sympy import Symbol, Derivative\n",
        "x = Symbol('x')\n",
        "f = (9 - x**2) ** 1/2\n",
        "Derivative(f,x).doit()"
      ],
      "metadata": {
        "id": "ScwxRuSGw8xJ",
        "outputId": "19c62aae-13b3-4af9-92ae-5f56b1b94842",
        "colab": {
          "base_uri": "https://localhost:8080/",
          "height": 39
        }
      },
      "execution_count": null,
      "outputs": [
        {
          "output_type": "execute_result",
          "data": {
            "text/latex": "$\\displaystyle - x$",
            "text/plain": [
              "-x"
            ]
          },
          "metadata": {},
          "execution_count": 7
        }
      ]
    },
    {
      "cell_type": "markdown",
      "source": [
        "2.5 f(x) = x**2 -8x + 9"
      ],
      "metadata": {
        "id": "K5R2nYo_MrAg"
      }
    },
    {
      "cell_type": "code",
      "source": [
        "from sympy import Symbol, Derivative\n",
        "x = Symbol('x')\n",
        "f = x**2 - 8*x + 9\n",
        "Derivative(f,x).doit()"
      ],
      "metadata": {
        "id": "M1nCMPYc0eaI",
        "outputId": "f4bbb2d0-eff5-46f3-d1fe-218ad9368253",
        "colab": {
          "base_uri": "https://localhost:8080/",
          "height": 39
        }
      },
      "execution_count": null,
      "outputs": [
        {
          "output_type": "execute_result",
          "data": {
            "text/latex": "$\\displaystyle 2 x - 8$",
            "text/plain": [
              "2*x - 8"
            ]
          },
          "metadata": {},
          "execution_count": 8
        }
      ]
    },
    {
      "cell_type": "markdown",
      "source": [
        "2.6 f(x) = (1 - x)/(2 + x)\n"
      ],
      "metadata": {
        "id": "OYhLWZUnMrFs"
      }
    },
    {
      "cell_type": "code",
      "source": [
        "from sympy import Symbol, Derivative\n",
        "x = Symbol('x')\n",
        "f = (1 - x) / (2 + x)\n",
        "Derivative(f,x).doit()"
      ],
      "metadata": {
        "id": "mr8uDFyp2L90",
        "outputId": "e6f2617a-cd2d-4c82-eb28-40a3a9616e97",
        "colab": {
          "base_uri": "https://localhost:8080/",
          "height": 58
        }
      },
      "execution_count": null,
      "outputs": [
        {
          "output_type": "execute_result",
          "data": {
            "text/latex": "$\\displaystyle - \\frac{1 - x}{\\left(x + 2\\right)^{2}} - \\frac{1}{x + 2}$",
            "text/plain": [
              "-(1 - x)/(x + 2)**2 - 1/(x + 2)"
            ]
          },
          "metadata": {},
          "execution_count": 9
        }
      ]
    },
    {
      "cell_type": "markdown",
      "source": [
        "2.7 f(x) = x**3 - x"
      ],
      "metadata": {
        "id": "fBWIzvGVMrmW"
      }
    },
    {
      "cell_type": "code",
      "source": [
        "from sympy import Symbol, Derivative\n",
        "x = Symbol(\"x\")\n",
        "f = x**3 - x\n",
        "Derivative(f,x).doit()"
      ],
      "metadata": {
        "id": "vjU3K70vQCWC",
        "outputId": "bba3bce5-e1ec-42f1-8cd4-f470184d7808",
        "colab": {
          "base_uri": "https://localhost:8080/",
          "height": 39
        }
      },
      "execution_count": null,
      "outputs": [
        {
          "output_type": "execute_result",
          "data": {
            "text/latex": "$\\displaystyle 3 x^{2} - 1$",
            "text/plain": [
              "3*x**2 - 1"
            ]
          },
          "metadata": {},
          "execution_count": 10
        }
      ]
    },
    {
      "cell_type": "markdown",
      "source": [
        "2.8 f(x) = 3 / (x**2 + 2x -1)**3\n",
        "\n",
        "\n",
        "\n",
        "\n"
      ],
      "metadata": {
        "id": "unKEyrDVMrxF"
      }
    },
    {
      "cell_type": "code",
      "source": [
        "from sympy import Symbol, Derivative\n",
        "x = Symbol(\"x\")\n",
        "f = 3 / (x**2 + 2*x -1)**3\n",
        "Derivative(f,x).doit()"
      ],
      "metadata": {
        "id": "lAAYG0aHRjf0",
        "outputId": "4a3d4f9c-ba31-45c3-a8fe-116d064b0501",
        "colab": {
          "base_uri": "https://localhost:8080/",
          "height": 60
        }
      },
      "execution_count": null,
      "outputs": [
        {
          "output_type": "execute_result",
          "data": {
            "text/latex": "$\\displaystyle \\frac{3 \\left(- 6 x - 6\\right)}{\\left(x^{2} + 2 x - 1\\right)^{4}}$",
            "text/plain": [
              "3*(-6*x - 6)/(x**2 + 2*x - 1)**4"
            ]
          },
          "metadata": {},
          "execution_count": 11
        }
      ]
    },
    {
      "cell_type": "markdown",
      "source": [
        "2.9 f(x) = x**8 + 12x**5 - 4x**4 + 10x**3 - 6x + 5\n"
      ],
      "metadata": {
        "id": "jIrVH0KAM5Cp"
      }
    },
    {
      "cell_type": "code",
      "source": [
        "from sympy import Symbol, Derivative\n",
        "x = Symbol('x')\n",
        "f = x**8 + 12*x**5 - 4*x**4 + 10*x**3 + 6*x + 5\n",
        "Derivative(f,x).doit()"
      ],
      "metadata": {
        "id": "EMWv0B-XRkHl",
        "outputId": "3c4334a7-86c1-4693-a1a9-af4d1177da7e",
        "colab": {
          "base_uri": "https://localhost:8080/",
          "height": 39
        }
      },
      "execution_count": null,
      "outputs": [
        {
          "output_type": "execute_result",
          "data": {
            "text/latex": "$\\displaystyle 8 x^{7} + 60 x^{4} - 16 x^{3} + 30 x^{2} + 6$",
            "text/plain": [
              "8*x**7 + 60*x**4 - 16*x**3 + 30*x**2 + 6"
            ]
          },
          "metadata": {},
          "execution_count": 12
        }
      ]
    },
    {
      "cell_type": "markdown",
      "source": [
        "2.10 f(x) = (x**4 - 3*x**2 + 2)(x**2 - 3x)\n",
        "\n",
        "\n"
      ],
      "metadata": {
        "id": "4nMfyeygMr8h"
      }
    },
    {
      "cell_type": "code",
      "source": [
        "from sympy import Symbol, Derivative\n",
        "x = Symbol('x')\n",
        "f = (x**4 -3*x**2 + 2)*(x**2 -3*x)\n",
        "Derivative(f,x).doit()"
      ],
      "metadata": {
        "id": "01gaHseCR0rK",
        "outputId": "2c86ef18-8bd7-4991-b047-18cdb35420c1",
        "colab": {
          "base_uri": "https://localhost:8080/",
          "height": 39
        }
      },
      "execution_count": null,
      "outputs": [
        {
          "output_type": "execute_result",
          "data": {
            "text/latex": "$\\displaystyle \\left(2 x - 3\\right) \\left(x^{4} - 3 x^{2} + 2\\right) + \\left(x^{2} - 3 x\\right) \\left(4 x^{3} - 6 x\\right)$",
            "text/plain": [
              "(2*x - 3)*(x**4 - 3*x**2 + 2) + (x**2 - 3*x)*(4*x**3 - 6*x)"
            ]
          },
          "metadata": {},
          "execution_count": 13
        }
      ]
    }
  ]
}
{
  "nbformat": 4,
  "nbformat_minor": 0,
  "metadata": {
    "colab": {
      "name": "bai_tap_chuong_3.ipynb",
      "provenance": [],
      "authorship_tag": "ABX9TyODWNsCUMaWMlfn71xuFJL4",
      "include_colab_link": true
    },
    "kernelspec": {
      "name": "python3",
      "display_name": "Python 3"
    },
    "language_info": {
      "name": "python"
    }
  },
  "cells": [
    {
      "cell_type": "markdown",
      "metadata": {
        "id": "view-in-github",
        "colab_type": "text"
      },
      "source": [
        "<a href=\"https://colab.research.google.com/github/gnasche-2003/thuchanhtoancp/blob/main/bai_tap_chuong_3.ipynb\" target=\"_parent\"><img src=\"https://colab.research.google.com/assets/colab-badge.svg\" alt=\"Open In Colab\"/></a>"
      ]
    },
    {
      "cell_type": "markdown",
      "source": [
        "#  bai tap 1:'Vẽ đồ thị ném vật thể với các góc ban đầu khác nhau, vận tốc không đổi."
      ],
      "metadata": {
        "id": "Zvtbd07fHrb2"
      }
    },
    {
      "cell_type": "code",
      "source": [
        "from matplotlib import pyplot as plt\n",
        "import math"
      ],
      "metadata": {
        "id": "gZVSqnBDIbmi"
      },
      "execution_count": 60,
      "outputs": []
    },
    {
      "cell_type": "code",
      "source": [
        "def draw_graph(x,y):\n",
        "  plt.plot(x,y)\n",
        "  plt.xlabel(\"Truc X\")\n",
        "  plt.ylabel('Truc Y')\n",
        "  plt.title('Do thi nem vat the voi cac goc ban ban dau khac nhau, van toc khong doi')"
      ],
      "metadata": {
        "id": "UsxqlPCnIiya"
      },
      "execution_count": 61,
      "outputs": []
    },
    {
      "cell_type": "code",
      "source": [
        "def frange(start, final, interval):\n",
        "  numbers = []\n",
        "  while start < final:\n",
        "    numbers.append(start)\n",
        "    start += interval\n",
        "  return numbers"
      ],
      "metadata": {
        "id": "JCAo8UXzJSi6"
      },
      "execution_count": 62,
      "outputs": []
    },
    {
      "cell_type": "code",
      "source": [
        "def draw_trajectory(u, theta):\n",
        "  # Gia toc trong truong\n",
        "  g = 9.8\n",
        "  # Goc bay:\n",
        "  theta = math.radians(theta)\n",
        "  # Thoi gian bay:\n",
        "  t_flight = 2*u*math.sin(theta)/g\n",
        "  # Tinh toan khoang cach thoi gian\n",
        "  intervals = frange(0, t_flight, 0.001)\n",
        "  # Danh sach toa do x va y\n",
        "  x = []\n",
        "  y = []\n",
        "  for t in intervals:\n",
        "    x.append(u*math.cos(theta)*t)\n",
        "    y.append(u*math.sin(theta)*t - 0.5*g*t*t)\n",
        "  draw_graph(x, y)"
      ],
      "metadata": {
        "id": "tqtmjKiyZalR"
      },
      "execution_count": 63,
      "outputs": []
    },
    {
      "cell_type": "code",
      "source": [
        "try:\n",
        "  u = float(input('Nhap van toc ban dau (m/s): '))\n",
        "  theta = float(input('nhap goc ban dau: '))\n",
        "except ValueError:\n",
        "  print (' Nhap cac gia tri sai! ')\n",
        "else:\n",
        "  draw_trajectory(u, theta)\n",
        "  plt.show()\n",
        "finally:\n",
        "  print ('Hoan thanh chuong trinh!')"
      ],
      "metadata": {
        "id": "GLsgZfKicoRc",
        "outputId": "02b98fda-63fc-452e-a646-f332a8de409a",
        "colab": {
          "base_uri": "https://localhost:8080/",
          "height": 347
        }
      },
      "execution_count": 68,
      "outputs": [
        {
          "name": "stdout",
          "output_type": "stream",
          "text": [
            "Nhap van toc ban dau (m/s): 25\n",
            "nhap goc ban dau: 60\n"
          ]
        },
        {
          "output_type": "display_data",
          "data": {
            "image/png": "[encoded data removed]",
            "text/plain": [
              "<Figure size 432x288 with 1 Axes>"
            ]
          },
          "metadata": {
            "needs_background": "light"
          }
        },
        {
          "output_type": "stream",
          "name": "stdout",
          "text": [
            "Hoan thanh chuong trinh!\n"
          ]
        }
      ]
    },
    {
      "cell_type": "markdown",
      "source": [
        "# bai tap 2: Vẽ đồ thị định luật hấp dẫn Newton giữa hai vật thể"
      ],
      "metadata": {
        "id": "0a5suhmc5MQ3"
      }
    },
    {
      "cell_type": "code",
      "source": [
        "from matplotlib import pyplot as plt\n",
        "import math"
      ],
      "metadata": {
        "id": "Eksi2JMR5V0H"
      },
      "execution_count": 75,
      "outputs": []
    },
    {
      "cell_type": "code",
      "source": [
        "def draw_graph(x,y):\n",
        "  plt.plot(x,y)\n",
        "  plt.xlabel('Trục X')\n",
        "  plt.ylabel('Trục Y')\n",
        "  plt.title('Do thi dinh luat hap dan Newton giua hai vat the')"
      ],
      "metadata": {
        "id": "Y4ddlgyX5epl"
      },
      "execution_count": 77,
      "outputs": []
    },
    {
      "cell_type": "code",
      "source": [
        "def frange(begin, end, inter):\n",
        "  number = []\n",
        "  while begin < end:\n",
        "    number.append(begin)\n",
        "    begin += inter\n",
        "  return number"
      ],
      "metadata": {
        "id": "9SFXoy-R5svu"
      },
      "execution_count": 71,
      "outputs": []
    },
    {
      "cell_type": "code",
      "source": [
        "def draw_trajectory(r,F):\n",
        "  inter = frange(100, 1001, 50)\n",
        "  x = []\n",
        "  y = []\n",
        "  for c in inter:\n",
        "    r += 50\n",
        "    x.append(r)\n",
        "    y.append(G*m1*m2/(r**2))\n",
        "  draw_graph(x,y)\n",
        "try:\n",
        "  r = float(input('nhap khoang cach r: '))\n",
        "  G = 6.674e-11\n",
        "  m1 = float(input('nhap gia m1: '))\n",
        "  m2 = float(input('nhap gia m2: '))\n",
        "  F = (G*m1*m2)/(r*r)\n",
        "except ValueError:\n",
        "  print('Nhap cac gia tri sai! ')\n",
        "else:\n",
        "  draw_trajectory(r,F)\n",
        "  plt.show()\n",
        "finally:\n",
        "  print('Hoan thanh chuong trinh!')"
      ],
      "metadata": {
        "id": "hNrMqRHu6LE-",
        "outputId": "07dcb12b-417a-4adc-b977-cf2bcb829e98",
        "colab": {
          "base_uri": "https://localhost:8080/",
          "height": 365
        }
      },
      "execution_count": 83,
      "outputs": [
        {
          "name": "stdout",
          "output_type": "stream",
          "text": [
            "nhap khoang cach r: 100\n",
            "nhap gia m1: 0.5\n",
            "nhap gia m2: 1.5\n"
          ]
        },
        {
          "output_type": "display_data",
          "data": {
            "image/png": "[encoded data removed]",
            "text/plain": [
              "<Figure size 432x288 with 1 Axes>"
            ]
          },
          "metadata": {
            "needs_background": "light"
          }
        },
        {
          "output_type": "stream",
          "name": "stdout",
          "text": [
            "Hoan thanh chuong trinh!\n"
          ]
        }
      ]
    }
  ]
}
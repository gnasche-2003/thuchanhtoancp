{
  "nbformat": 4,
  "nbformat_minor": 0,
  "metadata": {
    "colab": {
      "name": "2174802010113 -  Phạm Quốc Chương",
      "private_outputs": true,
      "provenance": [],
      "authorship_tag": "ABX9TyPZ6dGpPyXVctrfuJAM2Kq3",
      "include_colab_link": true
    },
    "kernelspec": {
      "name": "python3",
      "display_name": "Python 3"
    },
    "language_info": {
      "name": "python"
    }
  },
  "cells": [
    {
      "cell_type": "markdown",
      "metadata": {
        "id": "view-in-github",
        "colab_type": "text"
      },
      "source": [
        "<a href=\"https://colab.research.google.com/github/gnasche-2003/thuchanhtoancp/blob/main/2174802010113_Ph%E1%BA%A1m_Qu%E1%BB%91c_Ch%C6%B0%C6%A1ng.ipynb\" target=\"_parent\"><img src=\"https://colab.research.google.com/assets/colab-badge.svg\" alt=\"Open In Colab\"/></a>"
      ]
    },
    {
      "cell_type": "code",
      "execution_count": null,
      "metadata": {
        "id": "TaOKlye3jqpF"
      },
      "outputs": [],
      "source": [
        "from sympy import Symbol, Integral"
      ]
    },
    {
      "cell_type": "code",
      "source": [
        "x = Symbol('x')\n",
        "f = (2*x-1)/(x+1)\n",
        "f"
      ],
      "metadata": {
        "id": "NwgsCG9FoD4q"
      },
      "execution_count": null,
      "outputs": []
    },
    {
      "cell_type": "code",
      "source": [
        "Integral(f,(x,0,1))"
      ],
      "metadata": {
        "id": "9vdVziXWoVcC"
      },
      "execution_count": null,
      "outputs": []
    },
    {
      "cell_type": "code",
      "source": [
        "Integral(f,(x,0,1)).doit()"
      ],
      "metadata": {
        "id": "YQWzVvNloaSL"
      },
      "execution_count": null,
      "outputs": []
    },
    {
      "cell_type": "code",
      "source": [
        "from sympy import Symbol, Integral, exp"
      ],
      "metadata": {
        "id": "rV-V2pzVofWB"
      },
      "execution_count": null,
      "outputs": []
    },
    {
      "cell_type": "code",
      "source": [
        "x = Symbol('x')\n",
        "y = (exp(-2**x) + x)*exp(x)\n",
        "y"
      ],
      "metadata": {
        "id": "HWC4wr_aoyg-"
      },
      "execution_count": null,
      "outputs": []
    },
    {
      "cell_type": "code",
      "source": [
        "Integral(y, (x,0,1))"
      ],
      "metadata": {
        "id": "5_GmaVNZpBCD"
      },
      "execution_count": null,
      "outputs": []
    },
    {
      "cell_type": "code",
      "source": [
        "Integral(y,(x,0,1)).doit()"
      ],
      "metadata": {
        "id": "i9og6Rxnpgsa"
      },
      "execution_count": null,
      "outputs": []
    },
    {
      "cell_type": "code",
      "source": [
        "from sympy import Symbol, Derivative"
      ],
      "metadata": {
        "id": "eQYX2e6NpkrU"
      },
      "execution_count": null,
      "outputs": []
    },
    {
      "cell_type": "code",
      "source": [
        "x = Symbol('x')\n",
        "f = (2*x-1)/(x+2)\n",
        "f"
      ],
      "metadata": {
        "id": "J1P-QLpEpvDS"
      },
      "execution_count": null,
      "outputs": []
    },
    {
      "cell_type": "code",
      "source": [
        "Derivative(f,x).doit()"
      ],
      "metadata": {
        "id": "LGYxgruQp0uG"
      },
      "execution_count": null,
      "outputs": []
    },
    {
      "cell_type": "code",
      "source": [
        "from sympy import Symbol, Derivative"
      ],
      "metadata": {
        "id": "Ffp8E0SOp3Tn"
      },
      "execution_count": null,
      "outputs": []
    },
    {
      "cell_type": "code",
      "source": [
        "x = Symbol('x')\n",
        "f = x**4 -5*x**2 + 4\n",
        "f"
      ],
      "metadata": {
        "id": "oJB2XCFyqC5_"
      },
      "execution_count": null,
      "outputs": []
    },
    {
      "cell_type": "code",
      "source": [
        "f1 = Derivative(f,x).doit()\n",
        "f1"
      ],
      "metadata": {
        "id": "R7yK00LeqNB3"
      },
      "execution_count": null,
      "outputs": []
    },
    {
      "cell_type": "code",
      "source": [
        "f1.subs({x:2}).doit()"
      ],
      "metadata": {
        "id": "Bc6IgHGnqS-E"
      },
      "execution_count": null,
      "outputs": []
    },
    {
      "cell_type": "code",
      "source": [
        "from sympy import Symbol, Limit, sqrt"
      ],
      "metadata": {
        "id": "J-WYEjpvqZNE"
      },
      "execution_count": null,
      "outputs": []
    },
    {
      "cell_type": "code",
      "source": [
        "x = Symbol('x')\n",
        "f = sqrt(x*x-x+1)/(x-1)\n",
        "f"
      ],
      "metadata": {
        "id": "phPX-uQ7qnN3"
      },
      "execution_count": null,
      "outputs": []
    },
    {
      "cell_type": "code",
      "source": [
        "Limit(f,x,2)"
      ],
      "metadata": {
        "id": "ldh4s5-nqxTe"
      },
      "execution_count": null,
      "outputs": []
    },
    {
      "cell_type": "code",
      "source": [
        "Limit(f,x,2).doit()"
      ],
      "metadata": {
        "id": "7LDc_8MOq4QD"
      },
      "execution_count": null,
      "outputs": []
    },
    {
      "cell_type": "code",
      "source": [
        "from sympy import Symbol, Limit, sqrt"
      ],
      "metadata": {
        "id": "2hbeOf1Tq9IZ"
      },
      "execution_count": null,
      "outputs": []
    },
    {
      "cell_type": "code",
      "source": [
        "x = Symbol('x')\n",
        "f = sqrt(x*x-x+1)/(x-1)\n",
        "f"
      ],
      "metadata": {
        "id": "xgQbJmBwrDoB"
      },
      "execution_count": null,
      "outputs": []
    },
    {
      "cell_type": "code",
      "source": [
        "Limit(f,x,2,dir='-')"
      ],
      "metadata": {
        "id": "v_PUqJQzrMeD"
      },
      "execution_count": null,
      "outputs": []
    },
    {
      "cell_type": "code",
      "source": [
        "Limit(f,x,2,dir='-').doit()"
      ],
      "metadata": {
        "id": "xQOlqrWsrQ3p"
      },
      "execution_count": null,
      "outputs": []
    }
  ]
}
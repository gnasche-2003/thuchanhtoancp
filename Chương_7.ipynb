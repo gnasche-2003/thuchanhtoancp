{
  "nbformat": 4,
  "nbformat_minor": 0,
  "metadata": {
    "colab": {
      "name": "Chương 7.ipynb",
      "private_outputs": true,
      "provenance": [],
      "authorship_tag": "ABX9TyOxOyLa3gWX1l0qAsHw92AR",
      "include_colab_link": true
    },
    "kernelspec": {
      "name": "python3",
      "display_name": "Python 3"
    },
    "language_info": {
      "name": "python"
    }
  },
  "cells": [
    {
      "cell_type": "markdown",
      "metadata": {
        "id": "view-in-github",
        "colab_type": "text"
      },
      "source": [
        "<a href=\"https://colab.research.google.com/github/gnasche-2003/thuchanhtoancp/blob/main/Ch%C6%B0%C6%A1ng_7.ipynb\" target=\"_parent\"><img src=\"https://colab.research.google.com/assets/colab-badge.svg\" alt=\"Open In Colab\"/></a>"
      ]
    },
    {
      "cell_type": "markdown",
      "source": [
        "# CHƯƠNG 7: DÃY, CHUỖI SỐ VÀ ỨNG DỤNGDỤNG"
      ],
      "metadata": {
        "id": "-1ZmiaG4-tPq"
      }
    },
    {
      "cell_type": "markdown",
      "source": [
        ""
      ],
      "metadata": {
        "id": "KzAauh0U-y4j"
      }
    },
    {
      "cell_type": "code",
      "source": [
        ""
      ],
      "metadata": {
        "id": "YstNxddT-6XF"
      },
      "execution_count": null,
      "outputs": []
    }
  ]
}
{
  "nbformat": 4,
  "nbformat_minor": 0,
  "metadata": {
    "colab": {
      "name": "Chương 7.ipynb",
      "private_outputs": true,
      "provenance": [],
      "authorship_tag": "ABX9TyP4CptSbTGKtkOLXNgGRwYt",
      "include_colab_link": true
    },
    "kernelspec": {
      "name": "python3",
      "display_name": "Python 3"
    },
    "language_info": {
      "name": "python"
    }
  },
  "cells": [
    {
      "cell_type": "markdown",
      "metadata": {
        "id": "view-in-github",
        "colab_type": "text"
      },
      "source": [
        "<a href=\"https://colab.research.google.com/github/gnasche-2003/thuchanhtoancp/blob/main/Ch%C6%B0%C6%A1ng_7.ipynb\" target=\"_parent\"><img src=\"https://colab.research.google.com/assets/colab-badge.svg\" alt=\"Open In Colab\"/></a>"
      ]
    },
    {
      "cell_type": "markdown",
      "source": [
        "# CHƯƠNG 7: DÃY, CHUỖI SỐ VÀ ỨNG DỤNG"
      ],
      "metadata": {
        "id": "-1ZmiaG4-tPq"
      }
    },
    {
      "cell_type": "markdown",
      "source": [
        "# Thực hành 1: Tích phân không xác định loại 1"
      ],
      "metadata": {
        "id": "KzAauh0U-y4j"
      }
    },
    {
      "cell_type": "code",
      "source": [
        "from sympy import Symbol, Integral\n",
        "x = Symbol('x')\n",
        "f = 1.0/x\n",
        "unbound1 = Integral(f, (x, 0, 2))\n",
        "unbound1.doit()"
      ],
      "metadata": {
        "id": "XBK0FxqEx6oL"
      },
      "execution_count": null,
      "outputs": []
    },
    {
      "cell_type": "markdown",
      "source": [
        "# Thực hành 2: Tích phân không xác định loại 2:\n"
      ],
      "metadata": {
        "id": "oWtlC5bG0uJ4"
      }
    },
    {
      "cell_type": "code",
      "source": [
        "from sympy import Symbol, Integral\n",
        "x = Symbol('x')\n",
        "f = 1.0/x**2\n",
        "unbound2 = Integral(f, (x, -1, 1))\n",
        "unbound2.doit()"
      ],
      "metadata": {
        "id": "1jg700vE01Ba"
      },
      "execution_count": null,
      "outputs": []
    },
    {
      "cell_type": "code",
      "source": [
        "unbound2"
      ],
      "metadata": {
        "id": "T9dNUBcKW9YT"
      },
      "execution_count": null,
      "outputs": []
    },
    {
      "cell_type": "markdown",
      "source": [
        "# Thực hành 3: Tích phân không liên tục\n"
      ],
      "metadata": {
        "id": "9g-Y1Csn3e8L"
      }
    },
    {
      "cell_type": "code",
      "source": [
        "from sympy import Symbol, Integral, Abs\n",
        "x = Symbol('x')\n",
        "f = Abs(x)\n",
        "discontinous1 = Integral(f, (x, -1, 2))\n",
        "discontinous1.doit()"
      ],
      "metadata": {
        "id": "cKzmGijb3Tdm"
      },
      "execution_count": null,
      "outputs": []
    },
    {
      "cell_type": "markdown",
      "source": [
        "# Thực hành 4: Tích phân có hàm thỏa không tồn tại trong miền xác định(thực)\n"
      ],
      "metadata": {
        "id": "e8AE6V5h5Hpz"
      }
    },
    {
      "cell_type": "code",
      "source": [
        "from sympy import Symbol, Integral\n",
        "x = Symbol('x')\n",
        "f = x**(0.5)\n",
        "undef1 = Integral(f, (x, -1, 1))\n",
        "undef1.doit()"
      ],
      "metadata": {
        "id": "l-JJWykD5mFN"
      },
      "execution_count": null,
      "outputs": []
    },
    {
      "cell_type": "markdown",
      "source": [
        "# Thực hành 5: Một máy đo đo được lượng thuốc nhuộm trong máu với số liệu như sau:"
      ],
      "metadata": {
        "id": "nw7C-L62AdaS"
      }
    },
    {
      "cell_type": "code",
      "source": [
        "from scipy import integrate\n",
        "import numpy as np\n",
        "y = np.array([0.0, 4.1, 8.9, 8.5, 6.7, 4.3, 2.5, 1.2, 0.2])\n",
        "x = np.arange(0,9)\n",
        "integrate.simps(y,x)"
      ],
      "metadata": {
        "id": "FzSqPAkd7Tgy"
      },
      "execution_count": null,
      "outputs": []
    },
    {
      "cell_type": "code",
      "source": [
        "x"
      ],
      "metadata": {
        "id": "VucIXVcRd_l5"
      },
      "execution_count": null,
      "outputs": []
    },
    {
      "cell_type": "code",
      "source": [
        "S = 2*integrate.simps(y,x)\n",
        "S"
      ],
      "metadata": {
        "id": "KELZnsGPBZid"
      },
      "execution_count": null,
      "outputs": []
    },
    {
      "cell_type": "code",
      "source": [
        "A = 5.5\n",
        "F = A/S * 60"
      ],
      "metadata": {
        "id": "5SkrE9apBkma"
      },
      "execution_count": null,
      "outputs": []
    },
    {
      "cell_type": "code",
      "source": [
        "A"
      ],
      "metadata": {
        "id": "znG-A9wQB1m4"
      },
      "execution_count": null,
      "outputs": []
    },
    {
      "cell_type": "code",
      "source": [
        "F"
      ],
      "metadata": {
        "id": "_31mbJTYCFaY"
      },
      "execution_count": null,
      "outputs": []
    },
    {
      "cell_type": "markdown",
      "source": [
        "# Thực hành 6: Hãy viết các câu lệnh Python để tìm độ dài của đường cong như sau:"
      ],
      "metadata": {
        "id": "-WuFxuvGCo3P"
      }
    },
    {
      "cell_type": "code",
      "source": [
        "from sympy import Symbol, Derivative, solve, Integral"
      ],
      "metadata": {
        "id": "ujQDDLuoV9VV"
      },
      "execution_count": null,
      "outputs": []
    },
    {
      "cell_type": "code",
      "source": [
        "x = Symbol('x')\n",
        "f = x**(3/2)"
      ],
      "metadata": {
        "id": "hmPMdkXpWlsk"
      },
      "execution_count": null,
      "outputs": []
    },
    {
      "cell_type": "code",
      "source": [
        "d1 = Derivative(f,x).doit()\n",
        "d1"
      ],
      "metadata": {
        "id": "C0oLcig7W1bN"
      },
      "execution_count": null,
      "outputs": []
    },
    {
      "cell_type": "code",
      "source": [
        "ketqua = Integral(f**1/2, (x,0,2)).doit()\n",
        "ketqua"
      ],
      "metadata": {
        "id": "AP7iMuURX8xL"
      },
      "execution_count": null,
      "outputs": []
    },
    {
      "cell_type": "markdown",
      "source": [
        "# Thực hành 7: Hãy vẽ 3 đoạn đường tắt sau khi thiết kế xong đoạn nối (với [-2, 2])\n"
      ],
      "metadata": {
        "id": "UL8mmP-YDAW9"
      }
    },
    {
      "cell_type": "code",
      "source": [
        "from sympy import Symbol, Derivative, solve, Integral"
      ],
      "metadata": {
        "id": "6YeNEMYNZpm5"
      },
      "execution_count": null,
      "outputs": []
    },
    {
      "cell_type": "code",
      "source": [
        "x = Symbol('x')\n",
        "# dua vao ket qua cua dai so tuyet tinh ta duoc\n",
        "D = E = -8\n",
        "F = 3\n",
        "f = D*x**3 + E*x**4 + F*x**5\n",
        "f"
      ],
      "metadata": {
        "id": "a4qOap0Ka2Dd"
      },
      "execution_count": null,
      "outputs": []
    },
    {
      "cell_type": "code",
      "source": [
        "d1 = Derivative(f,x).doit()\n",
        "d1"
      ],
      "metadata": {
        "id": "OyOK6Hc2bsTD"
      },
      "execution_count": null,
      "outputs": []
    },
    {
      "cell_type": "code",
      "source": [
        "cuctri = solve(d1)\n",
        "cuctri"
      ],
      "metadata": {
        "id": "pqvdylUYb5mj"
      },
      "execution_count": null,
      "outputs": []
    },
    {
      "cell_type": "markdown",
      "source": [
        "# Thực hành 8: Xử lý dãy số (sequence) trong sympysympy"
      ],
      "metadata": {
        "id": "pGe7cKRXDaz1"
      }
    },
    {
      "cell_type": "code",
      "source": [
        "from sympy import difference_delta as dd\n",
        "from sympy.abc import n\n",
        "dd(n*(n+1), n)"
      ],
      "metadata": {
        "id": "jqO-DbYYDm2e"
      },
      "execution_count": null,
      "outputs": []
    },
    {
      "cell_type": "code",
      "source": [
        "dd(n*(n+1), n , 2)"
      ],
      "metadata": {
        "id": "T1IvqHyYEAAG"
      },
      "execution_count": null,
      "outputs": []
    },
    {
      "cell_type": "markdown",
      "source": [
        "# Giới hạn dãy số: bằng hàm limit_seq vói hai tham số: hàm và giá trị biến chạy\n"
      ],
      "metadata": {
        "id": "grQvUbnlEU1N"
      }
    },
    {
      "cell_type": "code",
      "source": [
        "from sympy.abc import n, k\n",
        "from sympy import limit_seq\n",
        "limit_seq((3*n**3 + 5*n**2 + 4) / (5*n**3 + 200*n**2 + 400), n)"
      ],
      "metadata": {
        "id": "Wn1VvOP6EOIA"
      },
      "execution_count": null,
      "outputs": []
    },
    {
      "cell_type": "code",
      "source": [
        "from sympy.abc import n, k, m\n",
        "from sympy import Sum\n",
        "limit_seq(Sum(k**2 * Sum(2**m/m,(m,1,k)),(k,1,n))/(2**n*n), n)"
      ],
      "metadata": {
        "id": "ZY6tv5u9FA-v"
      },
      "execution_count": null,
      "outputs": []
    },
    {
      "cell_type": "code",
      "source": [
        "from sympy import series\n",
        "from sympy import Sum\n",
        "from sympy.series.limitseq import dominant\n",
        "from sympy.abc import n, k\n",
        "dominant(n**3 + 100*n**2 + 200*n + 1, n)"
      ],
      "metadata": {
        "id": "2rxZrkULGN1l"
      },
      "execution_count": null,
      "outputs": []
    },
    {
      "cell_type": "code",
      "source": [
        "dominant(2**n + Sum(k, (k,0, n)), n)"
      ],
      "metadata": {
        "id": "mKKPRZaLHZet"
      },
      "execution_count": null,
      "outputs": []
    },
    {
      "cell_type": "code",
      "source": [
        "dominant(n**2 + Sum(k, (k,0,n)), n)"
      ],
      "metadata": {
        "id": "xrq6KISLHndl"
      },
      "execution_count": null,
      "outputs": []
    },
    {
      "cell_type": "code",
      "source": [
        "dominant(2*n**2 + Sum(k, (k,0,n)), n)"
      ],
      "metadata": {
        "id": "9TW8pwfsIAKl"
      },
      "execution_count": null,
      "outputs": []
    },
    {
      "cell_type": "code",
      "source": [
        "dominant(n**3 + Sum(k, (k,0,n)), n)"
      ],
      "metadata": {
        "id": "0zDvgD49IIiF"
      },
      "execution_count": null,
      "outputs": []
    },
    {
      "cell_type": "code",
      "source": [
        "dominant(n*3 + Sum(k, (k,0,n)), n)"
      ],
      "metadata": {
        "id": "bP4lpS-hIXiC"
      },
      "execution_count": null,
      "outputs": []
    },
    {
      "cell_type": "code",
      "source": [
        "dominant(2*n*3 + Sum(k, (k,0,n)), n)"
      ],
      "metadata": {
        "id": "mOe3HXrWIZ6W"
      },
      "execution_count": null,
      "outputs": []
    },
    {
      "cell_type": "code",
      "source": [
        "dominant(2*n**3 + Sum(k, (k,0,n)), n)"
      ],
      "metadata": {
        "id": "QfwRMZngIfQs"
      },
      "execution_count": null,
      "outputs": []
    },
    {
      "cell_type": "markdown",
      "source": [
        "# Thực hành 9: Xử lý chuỗi số (series) trong sympy\n"
      ],
      "metadata": {
        "id": "zbL4WJB_I8pm"
      }
    },
    {
      "cell_type": "markdown",
      "source": [
        "+ Khai báo chuỗi số:\n"
      ],
      "metadata": {
        "id": "lozuloU2JIUe"
      }
    },
    {
      "cell_type": "code",
      "source": [
        "from sympy import Sum\n",
        "from sympy.abc import n,k\n",
        "S = Sum(k, (k,0,n))\n",
        "S"
      ],
      "metadata": {
        "id": "RtXvgO4DK66Z"
      },
      "execution_count": null,
      "outputs": []
    },
    {
      "cell_type": "markdown",
      "source": [
        "+ Giới hạn chuỗi số:"
      ],
      "metadata": {
        "id": "X7sC-yfloXFp"
      }
    },
    {
      "cell_type": "code",
      "source": [
        "from sympy import limit_seq\n",
        "limit_seq(S,n)"
      ],
      "metadata": {
        "id": "aTJbMoXrofmF"
      },
      "execution_count": null,
      "outputs": []
    },
    {
      "cell_type": "markdown",
      "source": [
        "+ \"Chuỗi hóa\" 1 hàm số"
      ],
      "metadata": {
        "id": "V1eDrmZCKvcs"
      }
    },
    {
      "cell_type": "code",
      "source": [
        "from sympy import Symbol, cos, series\n",
        "x = Symbol('x')\n",
        "S1 = series(cos(x), x)\n",
        "S1"
      ],
      "metadata": {
        "id": "jMQExGb4LH-m"
      },
      "execution_count": null,
      "outputs": []
    },
    {
      "cell_type": "markdown",
      "source": [
        "+ Tính toán chuỗi:"
      ],
      "metadata": {
        "id": "7Y-bs0_hK0_l"
      }
    },
    {
      "cell_type": "code",
      "source": [
        "from sympy.abc import n\n",
        "e = (1 + 1/n)**n\n",
        "print(round(e.subs(n, 100).evalf(), 10))"
      ],
      "metadata": {
        "id": "u_w3-fiALbjV"
      },
      "execution_count": null,
      "outputs": []
    }
  ]
}
{
  "nbformat": 4,
  "nbformat_minor": 0,
  "metadata": {
    "colab": {
      "name": "Chuong9.ipynb",
      "private_outputs": true,
      "provenance": [],
      "authorship_tag": "ABX9TyOwRYI6Zs+FKLOxxdL4QdRR",
      "include_colab_link": true
    },
    "kernelspec": {
      "name": "python3",
      "display_name": "Python 3"
    },
    "language_info": {
      "name": "python"
    }
  },
  "cells": [
    {
      "cell_type": "markdown",
      "metadata": {
        "id": "view-in-github",
        "colab_type": "text"
      },
      "source": [
        "<a href=\"https://colab.research.google.com/github/gnasche-2003/thuchanhtoancp/blob/main/Chuong9.ipynb\" target=\"_parent\"><img src=\"https://colab.research.google.com/assets/colab-badge.svg\" alt=\"Open In Colab\"/></a>"
      ]
    },
    {
      "cell_type": "markdown",
      "source": [
        "# CHƯƠNG 9: ỨNG DỤNG CỦA ĐẠO HÀM VÀ TÍCH PHÂN - TÍCH PHÂN HAI LỚP"
      ],
      "metadata": {
        "id": "-jqYoL_Sp77G"
      }
    },
    {
      "cell_type": "markdown",
      "source": [
        "# Thực hành 1: Hãy viết các đoạn lệnh Python để minh họa các tính toán bên trên"
      ],
      "metadata": {
        "id": "1u9KKqyNqTg2"
      }
    },
    {
      "cell_type": "markdown",
      "source": [
        "# Thực hành 2: Tính toán các giá trị của thủy triều."
      ],
      "metadata": {
        "id": "ihCC5t4TqeoU"
      }
    },
    {
      "cell_type": "code",
      "source": [
        "#A\n",
        "from sympy import sin\n",
        "dD3 = -2.515*sin(0.503*3 - 3.39525)\n",
        "print(dD3)"
      ],
      "metadata": {
        "id": "mz7GhIB-qn1h"
      },
      "execution_count": null,
      "outputs": []
    },
    {
      "cell_type": "code",
      "source": [
        "#B\n",
        "from sympy import sin \n",
        "dD6 = -2.515*sin(0.503*6 - 3.3952)\n",
        "print(dD6)"
      ],
      "metadata": {
        "id": "-PnBWK2RrEyp"
      },
      "execution_count": null,
      "outputs": []
    },
    {
      "cell_type": "code",
      "source": [
        "#C\n",
        "from sympy import sin\n",
        "dD9 = -2.515*sin(0.503*9 - 3.39525)\n",
        "print(dD9)"
      ],
      "metadata": {
        "id": "0cur9IK5rYN2"
      },
      "execution_count": null,
      "outputs": []
    },
    {
      "cell_type": "code",
      "source": [
        "#D\n",
        "from sympy import sin\n",
        "dD12 = -2.515*sin(0.503*12 - 3.39525)\n",
        "print(dD12)"
      ],
      "metadata": {
        "id": "nQeX0YCFrmpP"
      },
      "execution_count": null,
      "outputs": []
    },
    {
      "cell_type": "markdown",
      "source": [
        "# Thực hành 3: Bài toán Sức Khỏe cộng đồng (public health) - Khớp đường cong hàm bậc 1"
      ],
      "metadata": {
        "id": "3z-Ihk0Wr_rA"
      }
    },
    {
      "cell_type": "code",
      "source": [
        "from scipy.optimize import curve_fit\n",
        "import numpy as np\n",
        "x_data = np.array([3.4, 4.6, 5.2, 8.0, 10.7])\n",
        "y_data = np.array([48, 52, 58, 76, 96])\n",
        "import matplotlib.pyplot as plt\n",
        "plt.plot(x_data, y_data, 'b-', label='data')\n",
        "def ham_bac_1(x, a, b):\n",
        "  return a*x + b\n",
        "\n",
        "duongcong, saiso = curve_fit(ham_bac_1, x_data, y_data)\n",
        "duongcong\n",
        "gia_tri_73 = ham_bac_1(7.3, *duongcong)\n",
        "print(gia_tri_73)\n",
        "plt.plot(x_data, ham_bac_1(x_data, *duongcong), 'r-', label='fit')\n",
        "plt.xlabel('Truc X')\n",
        "plt.ylabel('Truc Y')\n",
        "plt.legend()\n",
        "plt.show()"
      ],
      "metadata": {
        "id": "dlUJW4ZzsOL2"
      },
      "execution_count": null,
      "outputs": []
    },
    {
      "cell_type": "markdown",
      "source": [
        "# Thực hành 4: Bài toán Sức Khỏe cộng đồng (public health) - Khớp đường cong hàm bậc 2"
      ],
      "metadata": {
        "id": "iCUQOMJYuIcX"
      }
    },
    {
      "cell_type": "code",
      "source": [
        "from scipy.optimize import curve_fit\n",
        "import numpy as np\n",
        "x_data = np.array([3.4, 4.6, 5.2, 8.0, 10.7])\n",
        "y_data = np.array([ 48, 52, 58, 76, 96 ])\n",
        "import matplotlib.pyplot as plt\n",
        "plt.plot(x_data, y_data, 'b-', label='data')\n",
        "def ham_bac_2(x, a, b, c):\n",
        "  return a*x**2 + b*x + c\n",
        "\n",
        "duong_cong, saiso = curve_fit(ham_bac_2, x_data, y_data)\n",
        "duong_cong\n",
        "gia_tri_73 = ham_bac_2(7.3, *duong_cong)\n",
        "print (gia_tri_73)\n",
        "plt.plot(x_data, ham_bac_2(x_data, *duong_cong), 'r-', label='fit')\n",
        "plt.xlabel('Truc X')\n",
        "plt.ylabel('Truc Y')\n",
        "plt.legend()\n",
        "plt.show()"
      ],
      "metadata": {
        "id": "DRDexS2Wuxcl"
      },
      "execution_count": null,
      "outputs": []
    },
    {
      "cell_type": "markdown",
      "source": [
        "# Thực hành 5: Tính tích phân bội/képkép"
      ],
      "metadata": {
        "id": "ZfC5KUJsuYJW"
      }
    },
    {
      "cell_type": "code",
      "source": [
        "from sympy import *\n",
        "x, y = symbols(\"x y\")\n",
        "f = (3*x ** 2 - y)\n",
        "tp = integrate(f, (y,0,3), (x,0,2))\n",
        "tp"
      ],
      "metadata": {
        "id": "AU1giH_LwKKg"
      },
      "execution_count": null,
      "outputs": []
    },
    {
      "cell_type": "code",
      "source": [
        "tp = integrate(f, (x,0,2), (y,0,3))\n",
        "tp"
      ],
      "metadata": {
        "id": "x7NKj_bfwrDX"
      },
      "execution_count": null,
      "outputs": []
    },
    {
      "cell_type": "markdown",
      "source": [
        "# Thực hành: Tính tích phân bội/képkép"
      ],
      "metadata": {
        "id": "BOjJQuFCue4X"
      }
    },
    {
      "cell_type": "code",
      "source": [
        "from sympy import *\n",
        "x, y = symbols(\"x y\")\n",
        "f = x*y\n",
        "tp = integrate(f, (y, x, 2-x*x), (x, -2, 1))\n",
        "tp"
      ],
      "metadata": {
        "id": "OkQcXYh5w0zF"
      },
      "execution_count": null,
      "outputs": []
    },
    {
      "cell_type": "markdown",
      "source": [
        "# Thực hành 7: Hãy viết chương trình tính toán lượng mưa trung bình  khi biết các thông số."
      ],
      "metadata": {
        "id": "4qsw-BXiukYF"
      }
    }
  ]
}
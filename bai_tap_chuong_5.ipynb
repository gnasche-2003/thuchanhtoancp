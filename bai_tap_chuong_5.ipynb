{
  "nbformat": 4,
  "nbformat_minor": 0,
  "metadata": {
    "colab": {
      "name": "bai_tap_chuong_5",
      "private_outputs": true,
      "provenance": [],
      "authorship_tag": "ABX9TyPbqzl/5air6RlnTqIg7DmP",
      "include_colab_link": true
    },
    "kernelspec": {
      "name": "python3",
      "display_name": "Python 3"
    },
    "language_info": {
      "name": "python"
    }
  },
  "cells": [
    {
      "cell_type": "markdown",
      "metadata": {
        "id": "view-in-github",
        "colab_type": "text"
      },
      "source": [
        "<a href=\"https://colab.research.google.com/github/gnasche-2003/thuchanhtoancp/blob/main/bai_tap_chuong_5.ipynb\" target=\"_parent\"><img src=\"https://colab.research.google.com/assets/colab-badge.svg\" alt=\"Open In Colab\"/></a>"
      ]
    },
    {
      "cell_type": "markdown",
      "source": [
        "# bai tap 1: Trong tất cả các hình chữ nhật có diện tích 100m2, hình nào có chu vi nhỏ nhất?"
      ],
      "metadata": {
        "id": "9T5-Y3B22fG2"
      }
    },
    {
      "cell_type": "code",
      "execution_count": null,
      "metadata": {
        "id": "vMTqWGbdubJE"
      },
      "outputs": [],
      "source": [
        "from sympy import Symbol, Derivative, solve"
      ]
    },
    {
      "cell_type": "code",
      "source": [
        "x = Symbol('x') # chieu rong hinh chu nhat\n",
        "y = Symbol('y') # chieu dai hinh chu nhat\n",
        "# S = 100(bd)\n",
        "S = x*y\n",
        "y = 100/x"
      ],
      "metadata": {
        "id": "KyfBpvlm2sYQ"
      },
      "execution_count": null,
      "outputs": []
    },
    {
      "cell_type": "code",
      "source": [
        "P = 2*(x+ y)\n",
        "P"
      ],
      "metadata": {
        "id": "X5jeajU34C-h"
      },
      "execution_count": null,
      "outputs": []
    },
    {
      "cell_type": "code",
      "source": [
        "d1 = Derivative(P, x).doit()\n",
        "d1"
      ],
      "metadata": {
        "id": "rB-XS7Rs4YWs"
      },
      "execution_count": null,
      "outputs": []
    },
    {
      "cell_type": "code",
      "source": [
        "A = solve(d1)\n",
        "A"
      ],
      "metadata": {
        "id": "hX5-DTWo4sv4"
      },
      "execution_count": null,
      "outputs": []
    },
    {
      "cell_type": "markdown",
      "source": [
        "+ Vì = f(x) xác định trên khoảng (0, ∞) nên không có giá trị tới hạn nào khác và cũng không có các\n",
        "điểm đầu mút. Liệu có cực tiểu, cực đại địa phương hay không tại x = 10."
      ],
      "metadata": {
        "id": "wmDzLewk4zGx"
      }
    },
    {
      "cell_type": "code",
      "source": [
        "nghiem = A[1]\n",
        "nghiem"
      ],
      "metadata": {
        "id": "ge7bhgFh4vnJ"
      },
      "execution_count": null,
      "outputs": []
    },
    {
      "cell_type": "code",
      "source": [
        "d2 = Derivative(d1,x).doit()\n",
        "d2"
      ],
      "metadata": {
        "id": "g7KWu-Wb5ABx"
      },
      "execution_count": null,
      "outputs": []
    },
    {
      "cell_type": "code",
      "source": [
        "d2.subs({x:10}).evalf()"
      ],
      "metadata": {
        "id": "iJ3650Ek5Vhb"
      },
      "execution_count": null,
      "outputs": []
    },
    {
      "cell_type": "markdown",
      "source": [
        "+ d2 > 0. Do đó, có một giá trị cực tiểu địa phương. Do chỉ\n",
        "có một giá trị tới hạn duy nhất, nên đây cũng là cực tiểu toàn cục. "
      ],
      "metadata": {
        "id": "H84NPvot5g9q"
      }
    },
    {
      "cell_type": "markdown",
      "source": [
        "+ Như vậy, hình chữ nhật có diện tích 100m2 thì hình vuông 10x10 là hình có chu vi nhỏ nhất."
      ],
      "metadata": {
        "id": "y6ImIz1g5y2O"
      }
    },
    {
      "cell_type": "code",
      "source": [
        "P_min_v = P\n",
        "P_min_v.subs({x:10}).evalf()"
      ],
      "metadata": {
        "id": "EzCHxJMK5_SE"
      },
      "execution_count": null,
      "outputs": []
    },
    {
      "cell_type": "markdown",
      "source": [
        "# Bai tap 2: Giả sử bạn muốn đến một điểm A (nằm trên cát) từ một con đường gần đó (xem hình 6.1.5). Giả sử đường đi thẳng và b là khoảng cách từ A đến điểm C (C là điểm gần nhất tính từ A đến con đường). Đặt & là tốc độ của bạn trên đường và u, nhỏ hơn &, là tốc độ của bạn trên cát. Hiện tại bạn đang ở điểm D, cách C một khoảng . Tại điểm B nào (B là điểm giữa D và C) bạn nên tách đường để băng qua cát sao cho thời gian đến được A là ít nhất?"
      ],
      "metadata": {
        "id": "18LXJKrL7fZp"
      }
    },
    {
      "cell_type": "code",
      "source": [
        "from sympy import Symbol, Derivative, solve"
      ],
      "metadata": {
        "id": "UIgEPZNZ7nBo"
      },
      "execution_count": null,
      "outputs": []
    },
    {
      "cell_type": "code",
      "source": [
        "x = Symbol('x') \n",
        "y = Symbol('y')\n",
        "w = Symbol('w')\n",
        "v = Symbol('v')"
      ],
      "metadata": {
        "id": "lXi7kNz171ew"
      },
      "execution_count": null,
      "outputs": []
    },
    {
      "cell_type": "code",
      "source": [
        ""
      ],
      "metadata": {
        "id": "PLtWG1lu8Ayq"
      },
      "execution_count": null,
      "outputs": []
    }
  ]
}
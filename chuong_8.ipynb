{
  "nbformat": 4,
  "nbformat_minor": 0,
  "metadata": {
    "colab": {
      "name": "chuong_8.ipynb",
      "private_outputs": true,
      "provenance": [],
      "authorship_tag": "ABX9TyMdsUjjEub7TQLNtW5NO1uG",
      "include_colab_link": true
    },
    "kernelspec": {
      "name": "python3",
      "display_name": "Python 3"
    },
    "language_info": {
      "name": "python"
    }
  },
  "cells": [
    {
      "cell_type": "markdown",
      "metadata": {
        "id": "view-in-github",
        "colab_type": "text"
      },
      "source": [
        "<a href=\"https://colab.research.google.com/github/gnasche-2003/thuchanhtoancp/blob/main/chuong_8.ipynb\" target=\"_parent\"><img src=\"https://colab.research.google.com/assets/colab-badge.svg\" alt=\"Open In Colab\"/></a>"
      ]
    },
    {
      "cell_type": "markdown",
      "source": [
        "# CHƯƠNG 8: HÀM NHIỀU BIẾN VÀ ỨNG DỤNG(TIẾP THEO)\n"
      ],
      "metadata": {
        "id": "TriUq_y9Vhii"
      }
    },
    {
      "cell_type": "markdown",
      "source": [
        "# Thực hành 1a: Minh họa về sử dụng Tuple"
      ],
      "metadata": {
        "id": "3lhT8yN_V7tU"
      }
    },
    {
      "cell_type": "code",
      "source": [
        "y = (3,5,7)\n",
        "y"
      ],
      "metadata": {
        "id": "IytJHf37VmVk"
      },
      "execution_count": null,
      "outputs": []
    },
    {
      "cell_type": "code",
      "source": [
        "y[1]"
      ],
      "metadata": {
        "id": "5DggxwGXWHFl"
      },
      "execution_count": null,
      "outputs": []
    },
    {
      "cell_type": "code",
      "source": [
        "y[1] = 4"
      ],
      "metadata": {
        "id": "_ILg6alLWLgX"
      },
      "execution_count": null,
      "outputs": []
    },
    {
      "cell_type": "markdown",
      "source": [
        "'tuple' không hỗ trợ gán dữ liểu"
      ],
      "metadata": {
        "id": "6uZxQ2NIWWeI"
      }
    },
    {
      "cell_type": "markdown",
      "source": [
        "# Thực hành 1b:"
      ],
      "metadata": {
        "id": "rwvGqI_VW1Aw"
      }
    },
    {
      "cell_type": "code",
      "source": [
        "from __future__ import division\n",
        "10/3"
      ],
      "metadata": {
        "id": "EBoHoS_uXC6z"
      },
      "execution_count": null,
      "outputs": []
    },
    {
      "cell_type": "markdown",
      "source": [
        "# Thực hành 1c:"
      ],
      "metadata": {
        "id": "rZS-HPzjXaE9"
      }
    },
    {
      "cell_type": "code",
      "source": [
        "import sympy \n",
        "from sympy import Symbol\n",
        "x = Symbol('x')\n",
        "y = x + 1\n",
        "y.subs(x,14)"
      ],
      "metadata": {
        "id": "wTjkbDRMXhNJ"
      },
      "execution_count": null,
      "outputs": []
    },
    {
      "cell_type": "markdown",
      "source": [
        "# Thực hành 1d:"
      ],
      "metadata": {
        "id": "oqp9jhyLetW8"
      }
    },
    {
      "cell_type": "code",
      "source": [
        "import sympy \n",
        "from sympy import Symbol\n",
        "x = Symbol('x')\n",
        "from sympy import pi\n",
        "z = pi - 18*x\n",
        "z.subs(x,y)"
      ],
      "metadata": {
        "id": "PZ89F3zNex33"
      },
      "execution_count": null,
      "outputs": []
    },
    {
      "cell_type": "code",
      "source": [
        "t = Symbol('t')\n",
        "z = pi - 18*x\n",
        "z.subs(x,t)"
      ],
      "metadata": {
        "id": "j2VhMkhlfAr0"
      },
      "execution_count": null,
      "outputs": []
    },
    {
      "cell_type": "markdown",
      "source": [
        "# Thực hành 2:\n"
      ],
      "metadata": {
        "id": "mQhdAqmkfUlM"
      }
    },
    {
      "cell_type": "code",
      "source": [
        "from sympy import solve, sin\n",
        "x = Symbol('x')\n",
        "y = Symbol('y')\n",
        "solve(x-1,x)"
      ],
      "metadata": {
        "id": "eabfyZGajwpq"
      },
      "execution_count": null,
      "outputs": []
    },
    {
      "cell_type": "code",
      "source": [
        "solve(x**2-1,x)"
      ],
      "metadata": {
        "id": "MK9vQprwkB_d"
      },
      "execution_count": null,
      "outputs": []
    },
    {
      "cell_type": "code",
      "source": [
        "solve(x**2+1,x)"
      ],
      "metadata": {
        "id": "1GbG15Y1kLlU"
      },
      "execution_count": null,
      "outputs": []
    },
    {
      "cell_type": "code",
      "source": [
        "solve(sin(x), x)"
      ],
      "metadata": {
        "id": "cblOlr6EkPpg"
      },
      "execution_count": null,
      "outputs": []
    },
    {
      "cell_type": "markdown",
      "source": [
        "# Thực hành 3: Thử nghiệm solveset"
      ],
      "metadata": {
        "id": "TymgnBDGkaH_"
      }
    },
    {
      "cell_type": "code",
      "source": [
        "from sympy import solveset\n",
        "solveset(sin(x),x)"
      ],
      "metadata": {
        "id": "aXW9gE5skg-o"
      },
      "execution_count": null,
      "outputs": []
    },
    {
      "cell_type": "markdown",
      "source": [
        "# Thực hành 4:"
      ],
      "metadata": {
        "id": "N3Xc9aJFksr4"
      }
    },
    {
      "cell_type": "code",
      "source": [
        "from sympy import solveset, S\n",
        "from sympy.abc import x,y,z\n",
        "solveset(x**2 + 1, x) # mac dinh la mien so phuc: domain = S.Complexes"
      ],
      "metadata": {
        "id": "DlwChvfTkvUk"
      },
      "execution_count": null,
      "outputs": []
    },
    {
      "cell_type": "code",
      "source": [
        "solveset(x**2 + 1, x, domain = S.Reals) # mien so thuc"
      ],
      "metadata": {
        "id": "1UKPbnQ1lBto"
      },
      "execution_count": null,
      "outputs": []
    },
    {
      "cell_type": "markdown",
      "source": [
        "# Thực hành 5:\n"
      ],
      "metadata": {
        "id": "Ta7DbM2NlN5U"
      }
    },
    {
      "cell_type": "code",
      "source": [
        "from sympy import solveset, S\n",
        "from sympy.abc import x,y,z\n",
        "from sympy import E\n",
        "solveset(e**x-1, x) # mac dinh la mien so phuc: domain = S.Complexes"
      ],
      "metadata": {
        "id": "JoBDeaQHlUoo"
      },
      "execution_count": null,
      "outputs": []
    },
    {
      "cell_type": "markdown",
      "source": [
        "lỗi font chữ (e -> E)"
      ],
      "metadata": {
        "id": "M1iqAJUolq2V"
      }
    },
    {
      "cell_type": "code",
      "source": [
        "solveset(E**x-1, x)"
      ],
      "metadata": {
        "id": "NPD8I1rYlmpQ"
      },
      "execution_count": null,
      "outputs": []
    },
    {
      "cell_type": "code",
      "source": [
        "solveset(E**x-1, x, domain = S.Reals)"
      ],
      "metadata": {
        "id": "rd3gbiAel-pz"
      },
      "execution_count": null,
      "outputs": []
    },
    {
      "cell_type": "markdown",
      "source": [
        "# Thực hành 6: Phương trình phức hợp"
      ],
      "metadata": {
        "id": "159nYK01mjut"
      }
    },
    {
      "cell_type": "code",
      "source": [
        "solveset((sin(x)+x)*(x**2-9), x, domain = S.Reals)"
      ],
      "metadata": {
        "id": "a0FRVFXAmnPh"
      },
      "execution_count": null,
      "outputs": []
    },
    {
      "cell_type": "markdown",
      "source": [
        "# Thực hành 7: Một số thực hành khác với Solveset:"
      ],
      "metadata": {
        "id": "AvqWglMum7Yg"
      }
    },
    {
      "cell_type": "code",
      "source": [
        "from sympy import exp, S\n",
        "solveset(exp(x) > 1, x, domain = S.Reals)"
      ],
      "metadata": {
        "id": "dN48pRjnnFXC"
      },
      "execution_count": null,
      "outputs": []
    },
    {
      "cell_type": "code",
      "source": [
        "solveset(E**x > 1, x, domain = S.Reals)"
      ],
      "metadata": {
        "id": "GEweIkKTnUdc"
      },
      "execution_count": null,
      "outputs": []
    },
    {
      "cell_type": "code",
      "source": [
        "solveset(E**x > E, x, domain = S.Reals)"
      ],
      "metadata": {
        "id": "INk5JPkLncU-"
      },
      "execution_count": null,
      "outputs": []
    },
    {
      "cell_type": "code",
      "source": [
        "R = S.Reals\n",
        "solveset(E**x > E, x, R)"
      ],
      "metadata": {
        "id": "Cl0NZTHnnk80"
      },
      "execution_count": null,
      "outputs": []
    },
    {
      "cell_type": "code",
      "source": [
        "R"
      ],
      "metadata": {
        "id": "l9hCAkrXKs5q"
      },
      "execution_count": null,
      "outputs": []
    },
    {
      "cell_type": "markdown",
      "source": [
        "# Thực hành 8:\n"
      ],
      "metadata": {
        "id": "OZLVqQuyoP8-"
      }
    },
    {
      "cell_type": "code",
      "source": [
        "from sympy import Derivative, Symbol, solve\n",
        "x = Symbol('x')\n",
        "y = Symbol('y')\n",
        "z = Symbol('z')\n",
        "f = 4*x*y - 8*x - 5 + z*(x+y-50)\n",
        "f"
      ],
      "metadata": {
        "id": "U6teHttAoXkQ"
      },
      "execution_count": null,
      "outputs": []
    },
    {
      "cell_type": "markdown",
      "source": [
        "+ Tính các đạo hàm riêng theo các biến x, y và z:"
      ],
      "metadata": {
        "id": "YlflIHCwou1i"
      }
    },
    {
      "cell_type": "code",
      "source": [
        "dx = Derivative(f,x).doit()\n",
        "dx"
      ],
      "metadata": {
        "id": "EzNxtobrottK"
      },
      "execution_count": null,
      "outputs": []
    },
    {
      "cell_type": "code",
      "source": [
        "dy = Derivative(f,y).doit()\n",
        "dy"
      ],
      "metadata": {
        "id": "dh24NL1Po_XW"
      },
      "execution_count": null,
      "outputs": []
    },
    {
      "cell_type": "code",
      "source": [
        "dz = Derivative(f,z).doit()\n",
        "dz"
      ],
      "metadata": {
        "id": "M25venC5pDuM"
      },
      "execution_count": null,
      "outputs": []
    },
    {
      "cell_type": "code",
      "source": [
        "nghiem = solve([dx,dy,dz], (x,y,z))\n",
        "print(nghiem)"
      ],
      "metadata": {
        "id": "WHZWKbN4pH8V"
      },
      "execution_count": null,
      "outputs": []
    },
    {
      "cell_type": "code",
      "source": [
        "xx = nghiem[x]\n",
        "yy = nghiem[y]\n",
        "4*xx*yy - 8*xx-5"
      ],
      "metadata": {
        "id": "jSU8IBRLpRRf"
      },
      "execution_count": null,
      "outputs": []
    },
    {
      "cell_type": "code",
      "source": [
        "ketqua = 4*nghiem[x]*nghiem[y]-8*nghiem[x]-5\n",
        "print(ketqua)"
      ],
      "metadata": {
        "id": "PE8VcC_VpU-A"
      },
      "execution_count": null,
      "outputs": []
    }
  ]
}
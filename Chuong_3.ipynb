{
  "nbformat": 4,
  "nbformat_minor": 0,
  "metadata": {
    "colab": {
      "name": "buoi_3.ipynb",
      "provenance": [],
      "authorship_tag": "ABX9TyOl+2ISdKkHaOLi1KzKvJlE",
      "include_colab_link": true
    },
    "kernelspec": {
      "name": "python3",
      "display_name": "Python 3"
    },
    "language_info": {
      "name": "python"
    }
  },
  "cells": [
    {
      "cell_type": "markdown",
      "metadata": {
        "id": "view-in-github",
        "colab_type": "text"
      },
      "source": [
        "<a href=\"https://colab.research.google.com/github/gnasche-2003/thuchanhtoancp/blob/main/Chuong_3.ipynb\" target=\"_parent\"><img src=\"https://colab.research.google.com/assets/colab-badge.svg\" alt=\"Open In Colab\"/></a>"
      ]
    },
    {
      "cell_type": "markdown",
      "source": [
        "#CHƯƠNG 3: ĐẠO HÀM VÀ ỨNG DỤNG"
      ],
      "metadata": {
        "id": "i_lRlR5g2LHt"
      }
    },
    {
      "cell_type": "markdown",
      "source": [
        "#Thực hành 1: Viết hàm"
      ],
      "metadata": {
        "id": "Cbffyayb2iUj"
      }
    },
    {
      "cell_type": "code",
      "source": [
        "def luythua(x,n):\n",
        "  ketqua = 1\n",
        "  for i in range(n):\n",
        "    ketqua *= x\n",
        "  return ketqua"
      ],
      "metadata": {
        "id": "PiaHr-YkLCZA"
      },
      "execution_count": null,
      "outputs": []
    },
    {
      "cell_type": "code",
      "source": [
        "luythua(2,1)"
      ],
      "metadata": {
        "id": "iHxHN0ftMWyZ",
        "outputId": "db137f86-c759-4456-e66a-61974103df70",
        "colab": {
          "base_uri": "https://localhost:8080/"
        }
      },
      "execution_count": null,
      "outputs": [
        {
          "output_type": "execute_result",
          "data": {
            "text/plain": [
              "2"
            ]
          },
          "metadata": {},
          "execution_count": 2
        }
      ]
    },
    {
      "cell_type": "code",
      "source": [
        "luythua(2,0)"
      ],
      "metadata": {
        "id": "lVq9tWsjMXJE",
        "outputId": "7f31aba5-af28-4a0d-ca2f-d2c3536be5ee",
        "colab": {
          "base_uri": "https://localhost:8080/"
        }
      },
      "execution_count": null,
      "outputs": [
        {
          "output_type": "execute_result",
          "data": {
            "text/plain": [
              "1"
            ]
          },
          "metadata": {},
          "execution_count": 3
        }
      ]
    },
    {
      "cell_type": "markdown",
      "source": [
        "#Thực hành 2: Lỗi và cơ chế bắt lỗi"
      ],
      "metadata": {
        "id": "A5slfdXF2iiS"
      }
    },
    {
      "cell_type": "code",
      "source": [
        "while 1 = 2:"
      ],
      "metadata": {
        "id": "rq1B_hn8M7qa",
        "outputId": "f404adb7-2e1d-42e8-eb3c-41b25e90534d",
        "colab": {
          "base_uri": "https://localhost:8080/",
          "height": 130
        }
      },
      "execution_count": null,
      "outputs": [
        {
          "output_type": "error",
          "ename": "SyntaxError",
          "evalue": "ignored",
          "traceback": [
            "\u001b[0;36m  File \u001b[0;32m\"<ipython-input-4-03efd44ee389>\"\u001b[0;36m, line \u001b[0;32m1\u001b[0m\n\u001b[0;31m    while 1 = 2:\u001b[0m\n\u001b[0m            ^\u001b[0m\n\u001b[0;31mSyntaxError\u001b[0m\u001b[0;31m:\u001b[0m invalid syntax\n"
          ]
        }
      ]
    },
    {
      "cell_type": "markdown",
      "source": [
        "Lỗi cú pháp, chuyển '=' thành '=='"
      ],
      "metadata": {
        "id": "R8T3lLuWNCSg"
      }
    },
    {
      "cell_type": "code",
      "source": [
        "10 * (1/0)"
      ],
      "metadata": {
        "id": "YQp6xrKrNTXZ",
        "outputId": "51084a72-3400-4759-8e40-98be84441000",
        "colab": {
          "base_uri": "https://localhost:8080/",
          "height": 165
        }
      },
      "execution_count": null,
      "outputs": [
        {
          "output_type": "error",
          "ename": "ZeroDivisionError",
          "evalue": "ignored",
          "traceback": [
            "\u001b[0;31m---------------------------------------------------------------------------\u001b[0m",
            "\u001b[0;31mZeroDivisionError\u001b[0m                         Traceback (most recent call last)",
            "\u001b[0;32m<ipython-input-5-0b280f36835c>\u001b[0m in \u001b[0;36m<module>\u001b[0;34m()\u001b[0m\n\u001b[0;32m----> 1\u001b[0;31m \u001b[0;36m10\u001b[0m \u001b[0;34m*\u001b[0m \u001b[0;34m(\u001b[0m\u001b[0;36m1\u001b[0m\u001b[0;34m/\u001b[0m\u001b[0;36m0\u001b[0m\u001b[0;34m)\u001b[0m\u001b[0;34m\u001b[0m\u001b[0;34m\u001b[0m\u001b[0m\n\u001b[0m",
            "\u001b[0;31mZeroDivisionError\u001b[0m: division by zero"
          ]
        }
      ]
    },
    {
      "cell_type": "markdown",
      "source": [
        "lỗi phép tính (1/0)"
      ],
      "metadata": {
        "id": "J7LIttS4Nsih"
      }
    },
    {
      "cell_type": "code",
      "source": [
        "3 * bien_chua_khai_bao / 4"
      ],
      "metadata": {
        "id": "AJy40tl5N3Jl",
        "outputId": "12b502a8-0f20-4acc-c414-8bf32ecc275d",
        "colab": {
          "base_uri": "https://localhost:8080/",
          "height": 165
        }
      },
      "execution_count": null,
      "outputs": [
        {
          "output_type": "error",
          "ename": "NameError",
          "evalue": "ignored",
          "traceback": [
            "\u001b[0;31m---------------------------------------------------------------------------\u001b[0m",
            "\u001b[0;31mNameError\u001b[0m                                 Traceback (most recent call last)",
            "\u001b[0;32m<ipython-input-6-a849e0ab995e>\u001b[0m in \u001b[0;36m<module>\u001b[0;34m()\u001b[0m\n\u001b[0;32m----> 1\u001b[0;31m \u001b[0;36m3\u001b[0m \u001b[0;34m*\u001b[0m \u001b[0mbien_chua_khai_bao\u001b[0m \u001b[0;34m/\u001b[0m \u001b[0;36m4\u001b[0m\u001b[0;34m\u001b[0m\u001b[0;34m\u001b[0m\u001b[0m\n\u001b[0m",
            "\u001b[0;31mNameError\u001b[0m: name 'bien_chua_khai_bao' is not defined"
          ]
        }
      ]
    },
    {
      "cell_type": "markdown",
      "source": [
        "Lỗi chưa khai báo biến"
      ],
      "metadata": {
        "id": "ZbTkH7S6O3E5"
      }
    },
    {
      "cell_type": "code",
      "source": [
        "\"ba\" + 7"
      ],
      "metadata": {
        "id": "9inmz94bO8Zf",
        "outputId": "d0b661fc-55c6-4813-94bc-852c25a3e4b0",
        "colab": {
          "base_uri": "https://localhost:8080/",
          "height": 165
        }
      },
      "execution_count": null,
      "outputs": [
        {
          "output_type": "error",
          "ename": "TypeError",
          "evalue": "ignored",
          "traceback": [
            "\u001b[0;31m---------------------------------------------------------------------------\u001b[0m",
            "\u001b[0;31mTypeError\u001b[0m                                 Traceback (most recent call last)",
            "\u001b[0;32m<ipython-input-7-af4ae7e09f61>\u001b[0m in \u001b[0;36m<module>\u001b[0;34m()\u001b[0m\n\u001b[0;32m----> 1\u001b[0;31m \u001b[0;34m\"ba\"\u001b[0m \u001b[0;34m+\u001b[0m \u001b[0;36m7\u001b[0m\u001b[0;34m\u001b[0m\u001b[0;34m\u001b[0m\u001b[0m\n\u001b[0m",
            "\u001b[0;31mTypeError\u001b[0m: can only concatenate str (not \"int\") to str"
          ]
        }
      ]
    },
    {
      "cell_type": "markdown",
      "source": [
        "Lỗi hai biến không cùng 1 kiểu dữ kiệu, nó chỉ thực hiện được khi chúng cùng kiểu dữ liệu với nhau"
      ],
      "metadata": {
        "id": "5hg9kzrWPCMm"
      }
    },
    {
      "cell_type": "code",
      "source": [
        "'ba' + (1/0)"
      ],
      "metadata": {
        "id": "D-cjA8yYPYMf",
        "outputId": "d61de9b1-3433-43e1-92f5-723dd09cd9f7",
        "colab": {
          "base_uri": "https://localhost:8080/",
          "height": 165
        }
      },
      "execution_count": null,
      "outputs": [
        {
          "output_type": "error",
          "ename": "ZeroDivisionError",
          "evalue": "ignored",
          "traceback": [
            "\u001b[0;31m---------------------------------------------------------------------------\u001b[0m",
            "\u001b[0;31mZeroDivisionError\u001b[0m                         Traceback (most recent call last)",
            "\u001b[0;32m<ipython-input-8-98f7ce08daf8>\u001b[0m in \u001b[0;36m<module>\u001b[0;34m()\u001b[0m\n\u001b[0;32m----> 1\u001b[0;31m \u001b[0;34m'ba'\u001b[0m \u001b[0;34m+\u001b[0m \u001b[0;34m(\u001b[0m\u001b[0;36m1\u001b[0m\u001b[0;34m/\u001b[0m\u001b[0;36m0\u001b[0m\u001b[0;34m)\u001b[0m\u001b[0;34m\u001b[0m\u001b[0;34m\u001b[0m\u001b[0m\n\u001b[0m",
            "\u001b[0;31mZeroDivisionError\u001b[0m: division by zero"
          ]
        }
      ]
    },
    {
      "cell_type": "markdown",
      "source": [
        "Lỗi phép tính (1/0)"
      ],
      "metadata": {
        "id": "lXbVH4ojRAqy"
      }
    },
    {
      "cell_type": "code",
      "source": [
        "'ba' + 7 + (1/0)"
      ],
      "metadata": {
        "id": "QW29n6Z2Qyx6",
        "outputId": "e705a7f7-b5e1-4ad1-fe9f-a94fc8c09287",
        "colab": {
          "base_uri": "https://localhost:8080/",
          "height": 165
        }
      },
      "execution_count": null,
      "outputs": [
        {
          "output_type": "error",
          "ename": "TypeError",
          "evalue": "ignored",
          "traceback": [
            "\u001b[0;31m---------------------------------------------------------------------------\u001b[0m",
            "\u001b[0;31mTypeError\u001b[0m                                 Traceback (most recent call last)",
            "\u001b[0;32m<ipython-input-9-0baa66ecc6d5>\u001b[0m in \u001b[0;36m<module>\u001b[0;34m()\u001b[0m\n\u001b[0;32m----> 1\u001b[0;31m \u001b[0;34m'ba'\u001b[0m \u001b[0;34m+\u001b[0m \u001b[0;36m7\u001b[0m \u001b[0;34m+\u001b[0m \u001b[0;34m(\u001b[0m\u001b[0;36m1\u001b[0m\u001b[0;34m/\u001b[0m\u001b[0;36m0\u001b[0m\u001b[0;34m)\u001b[0m\u001b[0;34m\u001b[0m\u001b[0;34m\u001b[0m\u001b[0m\n\u001b[0m",
            "\u001b[0;31mTypeError\u001b[0m: can only concatenate str (not \"int\") to str"
          ]
        }
      ]
    },
    {
      "cell_type": "markdown",
      "source": [
        "Do tính toán trong Python là từ trái qua phải và có ưu tiên các phép toán. Nên khi tính bỏ qua phần tử (1/0) nhưng 2 phần tử lại không cùng 1 kiểu dữ liệu"
      ],
      "metadata": {
        "id": "r4LJ3YhsRHKc"
      }
    },
    {
      "cell_type": "markdown",
      "source": [
        "#Thực hành 3: Xử lý ngoại lệ với cơ chế try .. except"
      ],
      "metadata": {
        "id": "e6nqwufc2ix6"
      }
    },
    {
      "cell_type": "code",
      "source": [
        "x = int(input(\"Vui long nhap so: \"))"
      ],
      "metadata": {
        "id": "Foa_qg28VnQi",
        "outputId": "9638abb4-6573-4555-f5f6-707116496d99",
        "colab": {
          "base_uri": "https://localhost:8080/",
          "height": 182
        }
      },
      "execution_count": null,
      "outputs": [
        {
          "name": "stdout",
          "output_type": "stream",
          "text": [
            "Vui long nhap so: a\n"
          ]
        },
        {
          "output_type": "error",
          "ename": "ValueError",
          "evalue": "ignored",
          "traceback": [
            "\u001b[0;31m---------------------------------------------------------------------------\u001b[0m",
            "\u001b[0;31mValueError\u001b[0m                                Traceback (most recent call last)",
            "\u001b[0;32m<ipython-input-10-ef90143849cd>\u001b[0m in \u001b[0;36m<module>\u001b[0;34m()\u001b[0m\n\u001b[0;32m----> 1\u001b[0;31m \u001b[0mx\u001b[0m \u001b[0;34m=\u001b[0m \u001b[0mint\u001b[0m\u001b[0;34m(\u001b[0m\u001b[0minput\u001b[0m\u001b[0;34m(\u001b[0m\u001b[0;34m\"Vui long nhap so: \"\u001b[0m\u001b[0;34m)\u001b[0m\u001b[0;34m)\u001b[0m\u001b[0;34m\u001b[0m\u001b[0;34m\u001b[0m\u001b[0m\n\u001b[0m",
            "\u001b[0;31mValueError\u001b[0m: invalid literal for int() with base 10: 'a'"
          ]
        }
      ]
    },
    {
      "cell_type": "code",
      "source": [
        "while True:\n",
        "    try:\n",
        "      x = int(input(\"Vui long nhap so: \"))\n",
        "      break\n",
        "    except:\n",
        "      print(\"Vui long nhap so. Khong nhap chu!\")"
      ],
      "metadata": {
        "id": "shsgV5TTV8ta",
        "outputId": "d58feb7b-b312-4281-e769-60ca27158e47",
        "colab": {
          "base_uri": "https://localhost:8080/"
        }
      },
      "execution_count": null,
      "outputs": [
        {
          "name": "stdout",
          "output_type": "stream",
          "text": [
            "Vui long nhap so: a\n",
            "Vui long nhap so. Khong nhap chu!\n",
            "Vui long nhap so: 10\n"
          ]
        }
      ]
    },
    {
      "cell_type": "markdown",
      "source": [
        "#Thực hành 4: Xử lý ngoại lệ với cơ chế try .. except .. else .. finally"
      ],
      "metadata": {
        "id": "_aiVMU_F2i9b"
      }
    },
    {
      "cell_type": "code",
      "source": [
        "while True:\n",
        "  try: \n",
        "      x = int(input(\"Vui long nhap so: \"))\n",
        "  except:\n",
        "      print(\"So vua nhap sai\")\n",
        "  else:\n",
        "      print(\"so vua nhap la: \" + str(x))\n",
        "      break\n",
        "  finally:\n",
        "      print(\"Da hoan thanh chuong trinh\")"
      ],
      "metadata": {
        "id": "4rbrOyqTrIGq",
        "outputId": "50f07397-0802-4df5-9c19-7dbeb7895c77",
        "colab": {
          "base_uri": "https://localhost:8080/"
        }
      },
      "execution_count": null,
      "outputs": [
        {
          "output_type": "stream",
          "name": "stdout",
          "text": [
            "Vui long nhap so: a\n",
            "So vua nhap sai\n",
            "Da hoan thanh chuong trinh\n",
            "Vui long nhap so: 10\n",
            "so vua nhap la: 10\n",
            "Da hoan thanh chuong trinh\n"
          ]
        }
      ]
    },
    {
      "cell_type": "markdown",
      "source": [
        "#Thực hành 5: Tạo hàm phát sinh trên dãy số thực hiện đều"
      ],
      "metadata": {
        "id": "V5FdfoXo2jVl"
      }
    },
    {
      "cell_type": "code",
      "source": [
        "def frange(batdau,ketthuc,buocnhay):\n",
        "  day_ketqua =[]\n",
        "  while batdau < ketthuc:\n",
        "    day_ketqua.append(batdau)\n",
        "    batdau += buocnhay\n",
        "  return day_ketqua"
      ],
      "metadata": {
        "id": "lfdqoZN4vLpf"
      },
      "execution_count": 1,
      "outputs": []
    },
    {
      "cell_type": "code",
      "source": [
        "tu0den2 = frange(0,2,0.2)\n",
        "tu0den2"
      ],
      "metadata": {
        "id": "XpsiQZE8yB4x",
        "outputId": "2c066cb8-5bdf-4cbd-bc1f-618c07459423",
        "colab": {
          "base_uri": "https://localhost:8080/"
        }
      },
      "execution_count": 2,
      "outputs": [
        {
          "output_type": "execute_result",
          "data": {
            "text/plain": [
              "[0,\n",
              " 0.2,\n",
              " 0.4,\n",
              " 0.6000000000000001,\n",
              " 0.8,\n",
              " 1.0,\n",
              " 1.2,\n",
              " 1.4,\n",
              " 1.5999999999999999,\n",
              " 1.7999999999999998,\n",
              " 1.9999999999999998]"
            ]
          },
          "metadata": {},
          "execution_count": 2
        }
      ]
    },
    {
      "cell_type": "code",
      "source": [
        "tu0den2 = frange(0,2,0.5)\n",
        "tu0den2"
      ],
      "metadata": {
        "id": "-DM2-hwuyO10",
        "outputId": "e293a81c-f6d5-470a-9382-87cd3f28f2bb",
        "colab": {
          "base_uri": "https://localhost:8080/"
        }
      },
      "execution_count": 3,
      "outputs": [
        {
          "output_type": "execute_result",
          "data": {
            "text/plain": [
              "[0, 0.5, 1.0, 1.5]"
            ]
          },
          "metadata": {},
          "execution_count": 3
        }
      ]
    },
    {
      "cell_type": "code",
      "source": [
        "x = frange(0,5,0.25)\n",
        "x"
      ],
      "metadata": {
        "id": "b8FOpINUyaVE",
        "outputId": "4c32b9f4-b11b-47e0-a640-ac995d3cc791",
        "colab": {
          "base_uri": "https://localhost:8080/"
        }
      },
      "execution_count": null,
      "outputs": [
        {
          "output_type": "execute_result",
          "data": {
            "text/plain": [
              "[0,\n",
              " 0.25,\n",
              " 0.5,\n",
              " 0.75,\n",
              " 1.0,\n",
              " 1.25,\n",
              " 1.5,\n",
              " 1.75,\n",
              " 2.0,\n",
              " 2.25,\n",
              " 2.5,\n",
              " 2.75,\n",
              " 3.0,\n",
              " 3.25,\n",
              " 3.5,\n",
              " 3.75,\n",
              " 4.0,\n",
              " 4.25,\n",
              " 4.5,\n",
              " 4.75]"
            ]
          },
          "metadata": {},
          "execution_count": 16
        }
      ]
    },
    {
      "cell_type": "markdown",
      "source": [
        "#Thực hành 6: Vẽ quỹ đạo bay của vật được ném lên"
      ],
      "metadata": {
        "id": "m51zILx-2jha"
      }
    },
    {
      "cell_type": "markdown",
      "source": [
        "Phân đoạn 1: Nhập các thư viện quản lý"
      ],
      "metadata": {
        "id": "NgOgaHxoyzFN"
      }
    },
    {
      "cell_type": "code",
      "source": [
        "from matplotlib import pyplot as plt\n",
        "import math"
      ],
      "metadata": {
        "id": "NztHuqg_zB5K"
      },
      "execution_count": null,
      "outputs": []
    },
    {
      "cell_type": "markdown",
      "source": [
        "Phân đoạn 2: Xây dựng các hàm xử lý"
      ],
      "metadata": {
        "id": "g4DnPWl3y6Jd"
      }
    },
    {
      "cell_type": "markdown",
      "source": [
        "+ Hàm 1: Hàm vẽ đồ thị"
      ],
      "metadata": {
        "id": "VN8bzu5gzezd"
      }
    },
    {
      "cell_type": "code",
      "source": [
        "def draw_graph(x,y):\n",
        "  plt.plot(x,y)\n",
        "  plt.xlabel('Truc X')\n",
        "  plt.ylabel('Truc Y')\n",
        "  plt.title('Do thi bai toan nem bong')"
      ],
      "metadata": {
        "id": "6KCA7Wl5znCb"
      },
      "execution_count": null,
      "outputs": []
    },
    {
      "cell_type": "markdown",
      "source": [
        "+ Hàm 2: Hàm xử lý về tạo các khoảng số thực đều nhau"
      ],
      "metadata": {
        "id": "Wexl76030S2q"
      }
    },
    {
      "cell_type": "code",
      "source": [
        "def frange(start,final,interval):\n",
        "    numbers = []\n",
        "    while start < final:\n",
        "      numbers.append(start)\n",
        "      start += interval\n",
        "    return numbers"
      ],
      "metadata": {
        "id": "ExuPtXvv6bby"
      },
      "execution_count": null,
      "outputs": []
    },
    {
      "cell_type": "markdown",
      "source": [
        "+ Hàm 3: Hàm tính toán các dãy X,Y để vẽ đồ thị tương ứng với hàm đạn đạo"
      ],
      "metadata": {
        "id": "9Xh8PrwJ0gdL"
      }
    },
    {
      "cell_type": "code",
      "source": [
        "def draw_trajectory(u,theta):\n",
        "  #gia toc trong tuong\n",
        "  g = 9.8\n",
        "  #Goc bay \n",
        "  theta = math.radians(theta)\n",
        "  #Thoi gian bay\n",
        "  t_flight = 2*u*math.sin(theta)/g\n",
        "  #Tinh khoang cach thoi gian \n",
        "  intervals = frange(0, t_flight, 0.001)\n",
        "  #Danh sach toa do x, y\n",
        "  x = []\n",
        "  y = []\n",
        "  for t in intervals:\n",
        "   x.append(u*math.cos(theta)*t)\n",
        "   y.append(u*math.sin(theta)*t - 0.5*g*t*t)\n",
        "  draw_graph(x,y)"
      ],
      "metadata": {
        "id": "gryJ6tuQoWx_"
      },
      "execution_count": null,
      "outputs": []
    },
    {
      "cell_type": "markdown",
      "source": [
        "Phân đoạn 3: Xây dựng hàm main"
      ],
      "metadata": {
        "id": "NKhLMb-y0zgM"
      }
    },
    {
      "cell_type": "code",
      "source": [
        "if __name__ == \"__main__\":\n",
        "  try:\n",
        "    u = float(input(\"Nhap van toc ban dau (m/s): \"))\n",
        "    theta = float(input(\"Nhap goc bay (degrees): \"))\n",
        "  except ValueError:\n",
        "    print(\"Nhap cac gia tri sai!\")\n",
        "  else:\n",
        "    draw_trajectory(u,theta)\n",
        "    plt.show()\n",
        "  finally:\n",
        "    print(\"Hoan thanh chuong trinh!\")"
      ],
      "metadata": {
        "id": "OWXy7uiFqs_F",
        "outputId": "9d496314-65eb-4994-db22-8bae6ad37336",
        "colab": {
          "base_uri": "https://localhost:8080/",
          "height": 347
        }
      },
      "execution_count": null,
      "outputs": [
        {
          "name": "stdout",
          "output_type": "stream",
          "text": [
            "Nhap van toc ban dau (m/s): 36\n",
            "Nhap goc bay (degrees): 60\n"
          ]
        },
        {
          "output_type": "display_data",
          "data": {
            "image/png": "[encoded data removed]",
            "text/plain": [
              "<Figure size 432x288 with 1 Axes>"
            ]
          },
          "metadata": {
            "needs_background": "light"
          }
        },
        {
          "output_type": "stream",
          "name": "stdout",
          "text": [
            "Hoan thanh chuong trinh!\n"
          ]
        }
      ]
    },
    {
      "cell_type": "markdown",
      "source": [
        "#Thực hành 7: Vẽ nhiều quỹ đạo trên cùng 1 đồ thị"
      ],
      "metadata": {
        "id": "BcoYWZ3r2j4O"
      }
    },
    {
      "cell_type": "code",
      "source": [
        "if __name__ == \"__main__\":\n",
        "  #Danh sach cac toc do ban dau khac nhau\n",
        "  ds_vantoc = [20,40,60]\n",
        "  goc_bandau = 45 # 45 do\n",
        "  for v in ds_vantoc:\n",
        "    draw_trajectory(v, goc_bandau)\n",
        "\n",
        "\n",
        "  \n",
        "  #Tao chu dan trong do thi\n",
        "  chudan = []\n",
        "  for i in ds_vantoc:\n",
        "    chudan.append(str(i))\n",
        "  #Xem chu dan duoc tao\n",
        "  print(\"Chu dan duoc tao la!\")\n",
        "  print(\"Chu dan\")\n",
        "  #Them chu dan vao do thi\n",
        "  plt.legend(chudan)\n",
        "  #Hien thi do thi\n",
        "  plt.show()"
      ],
      "metadata": {
        "id": "CVbIf1G_ZBrL",
        "outputId": "97dc8abb-6e95-43b5-a3b1-e3aa60e86435",
        "colab": {
          "base_uri": "https://localhost:8080/",
          "height": 330
        }
      },
      "execution_count": null,
      "outputs": [
        {
          "output_type": "stream",
          "name": "stdout",
          "text": [
            "Chu dan duoc tao la!\n",
            "Chu dan\n"
          ]
        },
        {
          "output_type": "display_data",
          "data": {
            "image/png": "[encoded data removed]",
            "text/plain": [
              "<Figure size 432x288 with 1 Axes>"
            ]
          },
          "metadata": {
            "needs_background": "light"
          }
        }
      ]
    },
    {
      "cell_type": "markdown",
      "source": [
        "#Thực hành 8: Xây dựng chương trình tính đạo hàm"
      ],
      "metadata": {
        "id": "btBW76WD2kHR"
      }
    },
    {
      "cell_type": "markdown",
      "source": [
        "\"Chuong trinh tinh toan dao ham\""
      ],
      "metadata": {
        "id": "zj3rVGGmcRDY"
      }
    },
    {
      "cell_type": "code",
      "source": [
        "from sympy import Symbol, Derivative, sympify, pprint"
      ],
      "metadata": {
        "id": "vSr38clycTvx"
      },
      "execution_count": null,
      "outputs": []
    },
    {
      "cell_type": "code",
      "source": [
        "def tinh_daoham(ham_f, bien):\n",
        "  bien = Symbol('bien')\n",
        "  d = Derivative(ham_f, bien).doit()\n",
        "  pprint(d)\n"
      ],
      "metadata": {
        "id": "clBdTd1ydaZO"
      },
      "execution_count": null,
      "outputs": []
    },
    {
      "cell_type": "code",
      "source": [
        "tinh_daoham('x**3+x**2+x', 'x')"
      ],
      "metadata": {
        "id": "Jh5fQDNNd4Q1",
        "outputId": "616b61a5-d81d-42ba-9895-f168dec50790",
        "colab": {
          "base_uri": "https://localhost:8080/"
        }
      },
      "execution_count": null,
      "outputs": [
        {
          "output_type": "stream",
          "name": "stdout",
          "text": [
            "0\n"
          ]
        }
      ]
    },
    {
      "cell_type": "code",
      "source": [
        "tinh_daoham('x**3 + x**2 + r', 'x')"
      ],
      "metadata": {
        "id": "GFLWQ_GMf8j4",
        "outputId": "329b65b8-fad9-4ecc-8786-9d418e5a8c32",
        "colab": {
          "base_uri": "https://localhost:8080/"
        }
      },
      "execution_count": null,
      "outputs": [
        {
          "output_type": "stream",
          "name": "stdout",
          "text": [
            "0\n"
          ]
        }
      ]
    },
    {
      "cell_type": "code",
      "source": [
        "from sympy import Symbol, Derivative, sympify, pprint\n",
        "from sympy.core.sympify import SympifyError"
      ],
      "metadata": {
        "id": "0fYORWnKgtRF"
      },
      "execution_count": null,
      "outputs": []
    },
    {
      "cell_type": "code",
      "source": [
        "def tinh_daoham(ham_f, bien):\n",
        "  bien = Symbol(\"bien\")\n",
        "  d = Derivative(ham_f, bien).doit()\n",
        "  pprint(d)"
      ],
      "metadata": {
        "id": "LmGJLlsImEwy"
      },
      "execution_count": null,
      "outputs": []
    },
    {
      "cell_type": "code",
      "source": [
        "if __name__ == '__main__':\n",
        "  ham_input = input(\"Nhap 1 ham so: \")\n",
        "  bien = input(\"Nhap 1 bien so: \")\n",
        "  try:\n",
        "    ham_sympy = sympify(ham_input)\n",
        "  except SympifyError:\n",
        "    print(\"Ham nhap bi loi!\")\n",
        "  else:\n",
        "    tinh_daoham(ham_input, bien)"
      ],
      "metadata": {
        "id": "J2gDmft-mLM3",
        "outputId": "cba14260-4418-429e-f0c8-8860aa8f74c1",
        "colab": {
          "base_uri": "https://localhost:8080/"
        }
      },
      "execution_count": null,
      "outputs": [
        {
          "output_type": "stream",
          "name": "stdout",
          "text": [
            "Nhap 1 ham so: x**3 + 3*x\n",
            "Nhap 1 bien so: x\n",
            "0\n"
          ]
        }
      ]
    },
    {
      "cell_type": "markdown",
      "source": [
        "#Thực hành 9: Vẽ đồ thị hàm R để thấy được khoảng cách bay của \"đạn\" theo góc bắn."
      ],
      "metadata": {
        "id": "llaYXSZE2IPq"
      }
    },
    {
      "cell_type": "code",
      "source": [
        "from sympy import Symbol, sin, pi\n",
        "import pylab\n",
        "u = Symbol('u')\n",
        "u = 30.0 # van toc 30m/s\n",
        "g = 9.81 # hs gia toc trong truong \n",
        "theta = Symbol('theta')\n",
        "R = (u**2)*sin(2.0*theta)/g\n",
        "R"
      ],
      "metadata": {
        "id": "4ZF8ZfCQ2JKW",
        "outputId": "9e4e7c03-9ea6-41e5-e907-98979b0945bb",
        "colab": {
          "base_uri": "https://localhost:8080/",
          "height": 39
        }
      },
      "execution_count": null,
      "outputs": [
        {
          "output_type": "execute_result",
          "data": {
            "text/latex": "$\\displaystyle 91.743119266055 \\sin{\\left(2.0 \\theta \\right)}$",
            "text/plain": [
              "91.743119266055*sin(2.0*theta)"
            ]
          },
          "metadata": {},
          "execution_count": 32
        }
      ]
    },
    {
      "cell_type": "code",
      "source": [
        "plot(R,(theta, 0, pi/2))  #xet goc ban tu 90(do), tuong ung tu 0 den pi/2(radiant)"
      ],
      "metadata": {
        "id": "Qpqwa9iS3l06",
        "outputId": "1eb6833e-75b4-4c2e-9fe4-5d9ebfbf87f0",
        "colab": {
          "base_uri": "https://localhost:8080/",
          "height": 562
        }
      },
      "execution_count": null,
      "outputs": [
        {
          "output_type": "error",
          "ename": "ValueError",
          "evalue": "ignored",
          "traceback": [
            "\u001b[0;31m---------------------------------------------------------------------------\u001b[0m",
            "\u001b[0;31mValueError\u001b[0m                                Traceback (most recent call last)",
            "\u001b[0;32m<ipython-input-43-4ffe85ffc976>\u001b[0m in \u001b[0;36m<module>\u001b[0;34m()\u001b[0m\n\u001b[0;32m----> 1\u001b[0;31m \u001b[0mplot\u001b[0m\u001b[0;34m(\u001b[0m\u001b[0mR\u001b[0m\u001b[0;34m,\u001b[0m\u001b[0;34m(\u001b[0m\u001b[0mtheta\u001b[0m\u001b[0;34m,\u001b[0m \u001b[0;36m0\u001b[0m\u001b[0;34m,\u001b[0m \u001b[0mpi\u001b[0m\u001b[0;34m/\u001b[0m\u001b[0;36m2\u001b[0m\u001b[0;34m)\u001b[0m\u001b[0;34m)\u001b[0m  \u001b[0;31m#xet goc ban tu 90(do), tuong ung tu 0 den pi/2(radiant)\u001b[0m\u001b[0;34m\u001b[0m\u001b[0;34m\u001b[0m\u001b[0m\n\u001b[0m",
            "\u001b[0;32m/usr/local/lib/python3.7/dist-packages/matplotlib/pyplot.py\u001b[0m in \u001b[0;36mplot\u001b[0;34m(scalex, scaley, data, *args, **kwargs)\u001b[0m\n\u001b[1;32m   2761\u001b[0m     return gca().plot(\n\u001b[1;32m   2762\u001b[0m         *args, scalex=scalex, scaley=scaley, **({\"data\": data} if data\n\u001b[0;32m-> 2763\u001b[0;31m         is not None else {}), **kwargs)\n\u001b[0m\u001b[1;32m   2764\u001b[0m \u001b[0;34m\u001b[0m\u001b[0m\n\u001b[1;32m   2765\u001b[0m \u001b[0;34m\u001b[0m\u001b[0m\n",
            "\u001b[0;32m/usr/local/lib/python3.7/dist-packages/matplotlib/axes/_axes.py\u001b[0m in \u001b[0;36mplot\u001b[0;34m(self, scalex, scaley, data, *args, **kwargs)\u001b[0m\n\u001b[1;32m   1645\u001b[0m         \"\"\"\n\u001b[1;32m   1646\u001b[0m         \u001b[0mkwargs\u001b[0m \u001b[0;34m=\u001b[0m \u001b[0mcbook\u001b[0m\u001b[0;34m.\u001b[0m\u001b[0mnormalize_kwargs\u001b[0m\u001b[0;34m(\u001b[0m\u001b[0mkwargs\u001b[0m\u001b[0;34m,\u001b[0m \u001b[0mmlines\u001b[0m\u001b[0;34m.\u001b[0m\u001b[0mLine2D\u001b[0m\u001b[0;34m)\u001b[0m\u001b[0;34m\u001b[0m\u001b[0;34m\u001b[0m\u001b[0m\n\u001b[0;32m-> 1647\u001b[0;31m         \u001b[0mlines\u001b[0m \u001b[0;34m=\u001b[0m \u001b[0;34m[\u001b[0m\u001b[0;34m*\u001b[0m\u001b[0mself\u001b[0m\u001b[0;34m.\u001b[0m\u001b[0m_get_lines\u001b[0m\u001b[0;34m(\u001b[0m\u001b[0;34m*\u001b[0m\u001b[0margs\u001b[0m\u001b[0;34m,\u001b[0m \u001b[0mdata\u001b[0m\u001b[0;34m=\u001b[0m\u001b[0mdata\u001b[0m\u001b[0;34m,\u001b[0m \u001b[0;34m**\u001b[0m\u001b[0mkwargs\u001b[0m\u001b[0;34m)\u001b[0m\u001b[0;34m]\u001b[0m\u001b[0;34m\u001b[0m\u001b[0;34m\u001b[0m\u001b[0m\n\u001b[0m\u001b[1;32m   1648\u001b[0m         \u001b[0;32mfor\u001b[0m \u001b[0mline\u001b[0m \u001b[0;32min\u001b[0m \u001b[0mlines\u001b[0m\u001b[0;34m:\u001b[0m\u001b[0;34m\u001b[0m\u001b[0;34m\u001b[0m\u001b[0m\n\u001b[1;32m   1649\u001b[0m             \u001b[0mself\u001b[0m\u001b[0;34m.\u001b[0m\u001b[0madd_line\u001b[0m\u001b[0;34m(\u001b[0m\u001b[0mline\u001b[0m\u001b[0;34m)\u001b[0m\u001b[0;34m\u001b[0m\u001b[0;34m\u001b[0m\u001b[0m\n",
            "\u001b[0;32m/usr/local/lib/python3.7/dist-packages/matplotlib/axes/_base.py\u001b[0m in \u001b[0;36m__call__\u001b[0;34m(self, *args, **kwargs)\u001b[0m\n\u001b[1;32m    214\u001b[0m                 \u001b[0mthis\u001b[0m \u001b[0;34m+=\u001b[0m \u001b[0margs\u001b[0m\u001b[0;34m[\u001b[0m\u001b[0;36m0\u001b[0m\u001b[0;34m]\u001b[0m\u001b[0;34m,\u001b[0m\u001b[0;34m\u001b[0m\u001b[0;34m\u001b[0m\u001b[0m\n\u001b[1;32m    215\u001b[0m                 \u001b[0margs\u001b[0m \u001b[0;34m=\u001b[0m \u001b[0margs\u001b[0m\u001b[0;34m[\u001b[0m\u001b[0;36m1\u001b[0m\u001b[0;34m:\u001b[0m\u001b[0;34m]\u001b[0m\u001b[0;34m\u001b[0m\u001b[0;34m\u001b[0m\u001b[0m\n\u001b[0;32m--> 216\u001b[0;31m             \u001b[0;32myield\u001b[0m \u001b[0;32mfrom\u001b[0m \u001b[0mself\u001b[0m\u001b[0;34m.\u001b[0m\u001b[0m_plot_args\u001b[0m\u001b[0;34m(\u001b[0m\u001b[0mthis\u001b[0m\u001b[0;34m,\u001b[0m \u001b[0mkwargs\u001b[0m\u001b[0;34m)\u001b[0m\u001b[0;34m\u001b[0m\u001b[0;34m\u001b[0m\u001b[0m\n\u001b[0m\u001b[1;32m    217\u001b[0m \u001b[0;34m\u001b[0m\u001b[0m\n\u001b[1;32m    218\u001b[0m     \u001b[0;32mdef\u001b[0m \u001b[0mget_next_color\u001b[0m\u001b[0;34m(\u001b[0m\u001b[0mself\u001b[0m\u001b[0;34m)\u001b[0m\u001b[0;34m:\u001b[0m\u001b[0;34m\u001b[0m\u001b[0;34m\u001b[0m\u001b[0m\n",
            "\u001b[0;32m/usr/local/lib/python3.7/dist-packages/matplotlib/axes/_base.py\u001b[0m in \u001b[0;36m_plot_args\u001b[0;34m(self, tup, kwargs)\u001b[0m\n\u001b[1;32m    340\u001b[0m \u001b[0;34m\u001b[0m\u001b[0m\n\u001b[1;32m    341\u001b[0m         \u001b[0;32mif\u001b[0m \u001b[0mx\u001b[0m\u001b[0;34m.\u001b[0m\u001b[0mshape\u001b[0m\u001b[0;34m[\u001b[0m\u001b[0;36m0\u001b[0m\u001b[0;34m]\u001b[0m \u001b[0;34m!=\u001b[0m \u001b[0my\u001b[0m\u001b[0;34m.\u001b[0m\u001b[0mshape\u001b[0m\u001b[0;34m[\u001b[0m\u001b[0;36m0\u001b[0m\u001b[0;34m]\u001b[0m\u001b[0;34m:\u001b[0m\u001b[0;34m\u001b[0m\u001b[0;34m\u001b[0m\u001b[0m\n\u001b[0;32m--> 342\u001b[0;31m             raise ValueError(f\"x and y must have same first dimension, but \"\n\u001b[0m\u001b[1;32m    343\u001b[0m                              f\"have shapes {x.shape} and {y.shape}\")\n\u001b[1;32m    344\u001b[0m         \u001b[0;32mif\u001b[0m \u001b[0mx\u001b[0m\u001b[0;34m.\u001b[0m\u001b[0mndim\u001b[0m \u001b[0;34m>\u001b[0m \u001b[0;36m2\u001b[0m \u001b[0;32mor\u001b[0m \u001b[0my\u001b[0m\u001b[0;34m.\u001b[0m\u001b[0mndim\u001b[0m \u001b[0;34m>\u001b[0m \u001b[0;36m2\u001b[0m\u001b[0;34m:\u001b[0m\u001b[0;34m\u001b[0m\u001b[0;34m\u001b[0m\u001b[0m\n",
            "\u001b[0;31mValueError\u001b[0m: x and y must have same first dimension, but have shapes (1,) and (3,)"
          ]
        },
        {
          "output_type": "display_data",
          "data": {
            "image/png": "[encoded data removed]",
            "text/plain": [
              "<Figure size 432x288 with 1 Axes>"
            ]
          },
          "metadata": {
            "needs_background": "light"
          }
        }
      ]
    },
    {
      "cell_type": "markdown",
      "source": [
        "#Thực hành 10: Tìm giá trị cực đại của hàm bằng phương pháp Gradiant Ascent"
      ],
      "metadata": {
        "id": "-0hDDeAf2CS7"
      }
    },
    {
      "cell_type": "code",
      "source": [
        "import math\n",
        "from sympy import Derivative, Symbol, sin\n",
        "def grad_ascent(x0, f1x, x):\n",
        "  epsilon = 1e-6\n",
        "  step_size = 1e-4\n",
        "  x_cu = x0\n",
        "  x_moi = x_cu + step_size * f1x.subs({x : x_cu}).evalf()\n",
        "  while abs(x_cu - x_moi) > epsilon:\n",
        "    x_cu = x_moi\n",
        "    x_moi = x_cu + step_size * f1x.subs({x : x_cu}).evalf()\n",
        "  return x_moi"
      ],
      "metadata": {
        "id": "cs5UmhqvfG1_"
      },
      "execution_count": null,
      "outputs": []
    },
    {
      "cell_type": "code",
      "source": [
        "def tim_max_theta(R,theta):\n",
        "  R1theta = Derivative(R,theta).doit()\n",
        "  theta_0 = 1e-3\n",
        "  theta_max = grad_ascent(theta_0,R1theta,theta)\n",
        "  return theta_max"
      ],
      "metadata": {
        "id": "ZBxuhuGzlViF"
      },
      "execution_count": null,
      "outputs": []
    },
    {
      "cell_type": "code",
      "source": [
        "g = 9.8\n",
        "u = 30\n",
        "theta = Symbol(\"theta\")\n",
        "R = (u**2)*sin(2*theta)/g"
      ],
      "metadata": {
        "id": "4GdeqEVjmdBK"
      },
      "execution_count": null,
      "outputs": []
    },
    {
      "cell_type": "code",
      "source": [
        "theta_max = tim_max_theta(R,theta)\n",
        "print(\"Goc theta: {0}\".format(math.degrees(theta_max)))"
      ],
      "metadata": {
        "id": "M5UMgxQJmzBN",
        "outputId": "dfac025e-6872-4e7d-b6e9-777f4de48db8",
        "colab": {
          "base_uri": "https://localhost:8080/"
        }
      },
      "execution_count": null,
      "outputs": [
        {
          "output_type": "stream",
          "name": "stdout",
          "text": [
            "Goc theta: 44.99854431510696\n"
          ]
        }
      ]
    },
    {
      "cell_type": "code",
      "source": [
        "print(\"Khoang cach vat bay xa: {0}\".format(R.subs({theta:theta_max})))"
      ],
      "metadata": {
        "id": "ALqcCbnCnOMd",
        "outputId": "1d4f37bd-aa2b-43a6-a5f8-a1d0d3993b76",
        "colab": {
          "base_uri": "https://localhost:8080/"
        }
      },
      "execution_count": null,
      "outputs": [
        {
          "output_type": "stream",
          "name": "stdout",
          "text": [
            "Khoang cach vat bay xa: 91.8367345753182\n"
          ]
        }
      ]
    }
  ]
}
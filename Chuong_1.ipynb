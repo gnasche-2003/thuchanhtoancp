{
  "nbformat": 4,
  "nbformat_minor": 0,
  "metadata": {
    "colab": {
      "name": "Chuong_1.ipynb",
      "provenance": [],
      "collapsed_sections": [],
      "authorship_tag": "ABX9TyOO7veBi9y3UySrZzHesrl2",
      "include_colab_link": true
    },
    "kernelspec": {
      "name": "python3",
      "display_name": "Python 3"
    },
    "language_info": {
      "name": "python"
    }
  },
  "cells": [
    {
      "cell_type": "markdown",
      "metadata": {
        "id": "view-in-github",
        "colab_type": "text"
      },
      "source": [
        "<a href=\"https://colab.research.google.com/github/gnasche-2003/thuchanhtoancp/blob/main/Chuong_1.ipynb\" target=\"_parent\"><img src=\"https://colab.research.google.com/assets/colab-badge.svg\" alt=\"Open In Colab\"/></a>"
      ]
    },
    {
      "cell_type": "code",
      "execution_count": 52,
      "metadata": {
        "colab": {
          "base_uri": "https://localhost:8080/"
        },
        "id": "2KkXbSMi4x1Q",
        "outputId": "09f5faad-b72b-4ed6-b839-d8a6c687260c"
      },
      "outputs": [
        {
          "output_type": "stream",
          "name": "stdout",
          "text": [
            "Hello World!\n"
          ]
        }
      ],
      "source": [
        "print(\"Hello World!\")"
      ]
    },
    {
      "cell_type": "markdown",
      "source": [
        "#Thực hành 1: Hãy viết lệnh tính tổng chuỗi sau\n"
      ],
      "metadata": {
        "id": "DA9r1LMn1gKT"
      }
    },
    {
      "cell_type": "code",
      "source": [
        "blocks = 10000\n",
        "dayS = [1/2**k for k in range(0, blocks)]\n",
        "tongS = sum(dayS)\n",
        "print(tongS)"
      ],
      "metadata": {
        "colab": {
          "base_uri": "https://localhost:8080/"
        },
        "id": "sF5ttK2pAMHv",
        "outputId": "caaefc00-4a45-4b50-d28f-c2fecaba368c"
      },
      "execution_count": 53,
      "outputs": [
        {
          "output_type": "stream",
          "name": "stdout",
          "text": [
            "2.0\n"
          ]
        }
      ]
    },
    {
      "cell_type": "markdown",
      "source": [
        "#Thuchanh2: Tính tích phân sau theo định nghĩa\n"
      ],
      "metadata": {
        "id": "y98_i-XdA2fn"
      }
    },
    {
      "cell_type": "code",
      "source": [
        "n = 1000\n",
        "x = [(2 - 0)*k/n for k in range(0, n + 1)]\n",
        "S = 0\n",
        "for k in range(1, n + 1):\n",
        "  S =  S + x[k]**2 * (x[k] - x[k - 1])\n",
        "print(S)"
      ],
      "metadata": {
        "colab": {
          "base_uri": "https://localhost:8080/"
        },
        "id": "-SckChHEBCsL",
        "outputId": "aef148bc-e9bf-42d5-e7b8-0eec129b26e1"
      },
      "execution_count": 54,
      "outputs": [
        {
          "output_type": "stream",
          "name": "stdout",
          "text": [
            "2.6706680000000027\n"
          ]
        }
      ]
    },
    {
      "cell_type": "markdown",
      "source": [
        "#thực hành 3: Thử nghiệm tính toán sau: \n",
        "\n"
      ],
      "metadata": {
        "id": "vkboJiW4LqQj"
      }
    },
    {
      "cell_type": "code",
      "source": [
        "from sympy import *\n",
        "#Rational(1, 2) + Rational(1, 3)\n",
        "a = Rational(1, 2)\n",
        "b = Rational(1, 3)\n",
        "print(a + b)\n",
        "#Rational(1, 2) + 1\n",
        "x = Rational(1, 2)\n",
        "print(x + 1)\n",
        "#Rational(1, 3) + 1 + 1.5\n",
        "y = Rational(1, 3)\n",
        "print(y + 1 + 1.5)"
      ],
      "metadata": {
        "colab": {
          "base_uri": "https://localhost:8080/"
        },
        "id": "Zjb6upJALvTx",
        "outputId": "92162d46-d677-4b8e-da00-2295e2288601"
      },
      "execution_count": 55,
      "outputs": [
        {
          "output_type": "stream",
          "name": "stdout",
          "text": [
            "5/6\n",
            "3/2\n",
            "2.83333333333333\n"
          ]
        }
      ]
    },
    {
      "cell_type": "markdown",
      "source": [
        "# thực hành 4: Về khai báo biến trong Sympy\n"
      ],
      "metadata": {
        "id": "THPsaUrEQyNV"
      }
    },
    {
      "cell_type": "code",
      "source": [
        "from sympy import *\n",
        "x = Symbol(\"x\")\n",
        "y = Symbol('y')"
      ],
      "metadata": {
        "id": "4OlBzN60Q3EG"
      },
      "execution_count": 56,
      "outputs": []
    },
    {
      "cell_type": "code",
      "source": [
        "x + y + x - y"
      ],
      "metadata": {
        "colab": {
          "base_uri": "https://localhost:8080/",
          "height": 39
        },
        "id": "t79sfD7nRJz4",
        "outputId": "04e28ae6-8ea5-46f4-99d4-56f7c1195c5c"
      },
      "execution_count": 33,
      "outputs": [
        {
          "output_type": "execute_result",
          "data": {
            "text/latex": "$\\displaystyle 2 x$",
            "text/plain": [
              "2*x"
            ]
          },
          "metadata": {},
          "execution_count": 33
        }
      ]
    },
    {
      "cell_type": "code",
      "source": [
        "(x + y)**2"
      ],
      "metadata": {
        "colab": {
          "base_uri": "https://localhost:8080/",
          "height": 40
        },
        "id": "rTlxsvxmRevb",
        "outputId": "7ceb4df2-3e13-411d-ed0d-fdc234f84883"
      },
      "execution_count": 34,
      "outputs": [
        {
          "output_type": "execute_result",
          "data": {
            "text/latex": "$\\displaystyle \\left(x + y\\right)^{2}$",
            "text/plain": [
              "(x + y)**2"
            ]
          },
          "metadata": {},
          "execution_count": 34
        }
      ]
    },
    {
      "cell_type": "markdown",
      "source": [
        "#thực hành 5a: Tìm các hàm ở mẫu số của biểu thức sau: (1/x) * (1/x-3) "
      ],
      "metadata": {
        "id": "_qjEqsSwM44a"
      }
    },
    {
      "cell_type": "code",
      "source": [
        "from sympy.solvers.solvers import denoms\n",
        "from sympy import *\n",
        "x = Symbol(\"x\")\n",
        "pt = (1/x)*1/(x -3)\n",
        "dd = denoms(pt)\n",
        "print(dd)"
      ],
      "metadata": {
        "colab": {
          "base_uri": "https://localhost:8080/"
        },
        "id": "omC_biBmM-Hp",
        "outputId": "0e5e5107-0161-4f71-e43b-c1c70704ba03"
      },
      "execution_count": 57,
      "outputs": [
        {
          "output_type": "stream",
          "name": "stdout",
          "text": [
            "{x - 3, x}\n"
          ]
        }
      ]
    },
    {
      "cell_type": "markdown",
      "source": [
        "#thuc hanh 5b: Với f = (1 + 1/x) / (x - 1)\n"
      ],
      "metadata": {
        "id": "L3Rx5bL5PJL2"
      }
    },
    {
      "cell_type": "code",
      "source": [
        "from sympy import *\n",
        "x = Symbol('x')\n",
        "qq = (1+1/x)/(x-1)\n",
        "from sympy.solvers.solvers import denoms\n",
        "loai_tru = set()\n",
        "for d in denoms(qq):\n",
        "  for s in solve(d):\n",
        "    loai_tru.add(s)\n",
        "print(loai_tru)"
      ],
      "metadata": {
        "colab": {
          "base_uri": "https://localhost:8080/"
        },
        "id": "p1QADhlyPLMd",
        "outputId": "a086bcb7-b438-4407-e13a-3043784c900d"
      },
      "execution_count": 58,
      "outputs": [
        {
          "output_type": "stream",
          "name": "stdout",
          "text": [
            "{0, 1}\n"
          ]
        }
      ]
    },
    {
      "cell_type": "markdown",
      "source": [
        "#Thực hành 6: Lập “giả thuyết” trong Sympy\n"
      ],
      "metadata": {
        "id": "85D_FNh2RugX"
      }
    },
    {
      "cell_type": "code",
      "source": [
        "from sympy import Symbol\n",
        "x = Symbol(\"x\", positive = True)\n",
        "if x + 3 > 0:\n",
        "  print(\"Chắc chắn x + 3 dương!\")\n",
        "else:\n",
        "  print(\"x + 3 chưa chắc là dương\")"
      ],
      "metadata": {
        "colab": {
          "base_uri": "https://localhost:8080/"
        },
        "id": "od5EcqXU2pIl",
        "outputId": "98941d27-1f27-4a40-a4e6-eaeb2f709e6d"
      },
      "execution_count": 59,
      "outputs": [
        {
          "output_type": "stream",
          "name": "stdout",
          "text": [
            "Chắc chắn x + 3 dương!\n"
          ]
        }
      ]
    },
    {
      "cell_type": "markdown",
      "source": [
        "# thực hành 7: Xử lý biến trong Sympy\n"
      ],
      "metadata": {
        "id": "-6IV2tC1Y6rK"
      }
    },
    {
      "cell_type": "code",
      "source": [
        "import math\n",
        "math.sin(math.pi/2)"
      ],
      "metadata": {
        "colab": {
          "base_uri": "https://localhost:8080/"
        },
        "id": "5chOtIu_4XKC",
        "outputId": "acfc7aa9-80d8-4e36-b17e-da9ac37e3726"
      },
      "execution_count": 60,
      "outputs": [
        {
          "output_type": "execute_result",
          "data": {
            "text/plain": [
              "1.0"
            ]
          },
          "metadata": {},
          "execution_count": 60
        }
      ]
    },
    {
      "cell_type": "code",
      "source": [
        "import sympy\n",
        "sympy.sin(math.pi/2)"
      ],
      "metadata": {
        "colab": {
          "base_uri": "https://localhost:8080/",
          "height": 38
        },
        "id": "znHpdVKu4pHN",
        "outputId": "1d3d24eb-67ca-46dc-9534-8f6bc0630285"
      },
      "execution_count": 39,
      "outputs": [
        {
          "output_type": "execute_result",
          "data": {
            "text/latex": "$\\displaystyle 1.0$",
            "text/plain": [
              "1.00000000000000"
            ]
          },
          "metadata": {},
          "execution_count": 39
        }
      ]
    },
    {
      "cell_type": "code",
      "source": [
        "from sympy import Symbol\n",
        "goc_theta = Symbol(\"theta\")\n",
        "import sympy\n",
        "(2*sympy.sin(goc_theta)*sympy.cos(goc_theta)).equals(sympy.sin(2*goc_theta))"
      ],
      "metadata": {
        "colab": {
          "base_uri": "https://localhost:8080/"
        },
        "id": "BIJ3B5lI6k-7",
        "outputId": "00b3bc7e-55f7-4347-d56c-d864afb35f34"
      },
      "execution_count": 61,
      "outputs": [
        {
          "output_type": "execute_result",
          "data": {
            "text/plain": [
              "True"
            ]
          },
          "metadata": {},
          "execution_count": 61
        }
      ]
    },
    {
      "cell_type": "code",
      "source": [
        "2*sympy.sin(goc_theta) == sympy.sin(goc_theta) + sympy.sin(goc_theta)"
      ],
      "metadata": {
        "colab": {
          "base_uri": "https://localhost:8080/"
        },
        "id": "AbaRkuni-aNO",
        "outputId": "017c6cbe-1b29-4d84-8389-883e8f73ee47"
      },
      "execution_count": 62,
      "outputs": [
        {
          "output_type": "execute_result",
          "data": {
            "text/plain": [
              "True"
            ]
          },
          "metadata": {},
          "execution_count": 62
        }
      ]
    },
    {
      "cell_type": "markdown",
      "source": [
        "#thực hành 8: Giải phương trình đơn giản bằng sympy\n"
      ],
      "metadata": {
        "id": "fr7wXYl8ZEJA"
      }
    },
    {
      "cell_type": "code",
      "source": [
        "from sympy import sin, Symbol, solve\n",
        "u = Symbol(\"u\")\n",
        "t = Symbol(\"t\")\n",
        "g = Symbol(\"g\")\n",
        "theta = Symbol(\"theta\")\n",
        "solve(u*sin(theta) -g*t, t)"
      ],
      "metadata": {
        "colab": {
          "base_uri": "https://localhost:8080/"
        },
        "id": "YuClyyg7-1TU",
        "outputId": "ab9cd465-7c65-40bb-92ec-64475aa4679f"
      },
      "execution_count": 63,
      "outputs": [
        {
          "output_type": "execute_result",
          "data": {
            "text/plain": [
              "[u*sin(theta)/g]"
            ]
          },
          "metadata": {},
          "execution_count": 63
        }
      ]
    },
    {
      "cell_type": "markdown",
      "source": [
        "# thực hành 9: Tìm giới hạn của hàm số bằng Sympy\n"
      ],
      "metadata": {
        "id": "1bWgTkn-ZJ_D"
      }
    },
    {
      "cell_type": "code",
      "source": [
        "from sympy import Symbol, Limit, S\n",
        "x = Symbol('x')\n",
        "limit(1/x, x, S.Infinity)\n",
        "Limit(1/x, x, oo, dir=\"-\")\n",
        "gioihan = Limit(1/x, x, S.Infinity)\n",
        "gioihan.doit()"
      ],
      "metadata": {
        "colab": {
          "base_uri": "https://localhost:8080/",
          "height": 38
        },
        "id": "stCouAbtALyf",
        "outputId": "296362e0-31bc-437a-b211-c4b1c8dc6924"
      },
      "execution_count": 43,
      "outputs": [
        {
          "output_type": "execute_result",
          "data": {
            "text/latex": "$\\displaystyle 0$",
            "text/plain": [
              "0"
            ]
          },
          "metadata": {},
          "execution_count": 43
        }
      ]
    },
    {
      "cell_type": "markdown",
      "source": [
        "# thực hành 10a: Tính toán giới hạn trái phải\n"
      ],
      "metadata": {
        "id": "olEDV9TAUFOK"
      }
    },
    {
      "cell_type": "code",
      "source": [
        "from sympy import Limit\n",
        "x = Symbol(\"x\")\n",
        "Limit(1/x, x, 0, dir='-').doit()"
      ],
      "metadata": {
        "colab": {
          "base_uri": "https://localhost:8080/",
          "height": 38
        },
        "id": "Wj4SeaYeBQ3M",
        "outputId": "f5b0e053-ca94-4c43-eadb-7605a330c6e0"
      },
      "execution_count": 44,
      "outputs": [
        {
          "output_type": "execute_result",
          "data": {
            "text/latex": "$\\displaystyle -\\infty$",
            "text/plain": [
              "-oo"
            ]
          },
          "metadata": {},
          "execution_count": 44
        }
      ]
    },
    {
      "cell_type": "code",
      "source": [
        "Limit(1/x, x, 0, dir=\"+\").doit()"
      ],
      "metadata": {
        "colab": {
          "base_uri": "https://localhost:8080/",
          "height": 38
        },
        "id": "5ytXu5JoBzD7",
        "outputId": "71d4cd30-a775-4af4-89b4-4e195718f504"
      },
      "execution_count": 45,
      "outputs": [
        {
          "output_type": "execute_result",
          "data": {
            "text/latex": "$\\displaystyle \\infty$",
            "text/plain": [
              "oo"
            ]
          },
          "metadata": {},
          "execution_count": 45
        }
      ]
    },
    {
      "cell_type": "markdown",
      "source": [
        "# thực hành 10b: Tính toán giới hạn dạng vô cùng/vô cùng\n"
      ],
      "metadata": {
        "id": "oD-MFIUZZPhk"
      }
    },
    {
      "cell_type": "code",
      "source": [
        "from sympy import Limit, sin\n",
        "x = Symbol(\"x\")\n",
        "Limit((sin(x)/x), x, 0).doit()"
      ],
      "metadata": {
        "colab": {
          "base_uri": "https://localhost:8080/",
          "height": 38
        },
        "id": "eI7AJQYTCFfl",
        "outputId": "f209b5de-6b11-4418-999b-16248222b464"
      },
      "execution_count": 46,
      "outputs": [
        {
          "output_type": "execute_result",
          "data": {
            "text/latex": "$\\displaystyle 1$",
            "text/plain": [
              "1"
            ]
          },
          "metadata": {},
          "execution_count": 46
        }
      ]
    },
    {
      "cell_type": "markdown",
      "source": [
        "#thực hành 11a: Tính giá trị của giới hạn sau khi x tiến đến vô cực:\n"
      ],
      "metadata": {
        "id": "1jBj98u5ZTEr"
      }
    },
    {
      "cell_type": "code",
      "source": [
        "from sympy import Limit, sin , S\n",
        "x = Symbol(\"x\")\n",
        "Limit(x*sin(1/x),x , S.Infinity).doit()"
      ],
      "metadata": {
        "colab": {
          "base_uri": "https://localhost:8080/",
          "height": 38
        },
        "id": "9xig7ur0DcUz",
        "outputId": "82c808fd-52b8-42b7-8ee0-4989827cfecc"
      },
      "execution_count": 47,
      "outputs": [
        {
          "output_type": "execute_result",
          "data": {
            "text/latex": "$\\displaystyle 1$",
            "text/plain": [
              "1"
            ]
          },
          "metadata": {},
          "execution_count": 47
        }
      ]
    },
    {
      "cell_type": "markdown",
      "source": [
        "#Thuc hanh 11b: Tính toán giới hạn"
      ],
      "metadata": {
        "id": "-Gd30ffKZZko"
      }
    },
    {
      "cell_type": "code",
      "source": [
        "from sympy import Limit, sin, S\n",
        "x = Symbol(\"x\")\n",
        "Limit(x*sin(1/x), x, S.Infinity)"
      ],
      "metadata": {
        "colab": {
          "base_uri": "https://localhost:8080/",
          "height": 58
        },
        "id": "XHOxGxKZEP1W",
        "outputId": "887139f8-1070-4d0e-8281-470c6533eb37"
      },
      "execution_count": 48,
      "outputs": [
        {
          "output_type": "execute_result",
          "data": {
            "text/latex": "$\\displaystyle \\lim_{x \\to \\infty}\\left(x \\sin{\\left(\\frac{1}{x} \\right)}\\right)$",
            "text/plain": [
              "Limit(x*sin(1/x), x, oo, dir='-')"
            ]
          },
          "metadata": {},
          "execution_count": 48
        }
      ]
    },
    {
      "cell_type": "code",
      "source": [
        "Limit(x*sin(1/x), x, sympy.oo)"
      ],
      "metadata": {
        "colab": {
          "base_uri": "https://localhost:8080/",
          "height": 58
        },
        "id": "iC60HIHME5C1",
        "outputId": "8c91fa66-2ab0-4495-d5ab-be64d8fff51b"
      },
      "execution_count": 49,
      "outputs": [
        {
          "output_type": "execute_result",
          "data": {
            "text/latex": "$\\displaystyle \\lim_{x \\to \\infty}\\left(x \\sin{\\left(\\frac{1}{x} \\right)}\\right)$",
            "text/plain": [
              "Limit(x*sin(1/x), x, oo, dir='-')"
            ]
          },
          "metadata": {},
          "execution_count": 49
        }
      ]
    },
    {
      "cell_type": "markdown",
      "source": [
        "#thực hành 12: Tìm công thức từ giới hạn của hàm số\n"
      ],
      "metadata": {
        "id": "UwTTDE9rZbcn"
      }
    },
    {
      "cell_type": "code",
      "source": [
        "from sympy import Symbol, Limit, S\n",
        "n = Symbol('n', positive = True)\n",
        "p = Symbol('p', positive = True)\n",
        "r = Symbol('r', positive = True)\n",
        "t = Symbol('t', positive = True)\n",
        "Limit(p*(1+r/n)**(n*t), n, S.Infinity).doit()"
      ],
      "metadata": {
        "colab": {
          "base_uri": "https://localhost:8080/",
          "height": 39
        },
        "id": "eab3j-dtKKhC",
        "outputId": "7bd5b815-5d81-4f56-fc33-01c62209d0c0"
      },
      "execution_count": 50,
      "outputs": [
        {
          "output_type": "execute_result",
          "data": {
            "text/latex": "$\\displaystyle p e^{r t}$",
            "text/plain": [
              "p*exp(r*t)"
            ]
          },
          "metadata": {},
          "execution_count": 50
        }
      ]
    },
    {
      "cell_type": "markdown",
      "source": [
        "#thực hành 13: Sử dụng lệnh subs để thay thế\n"
      ],
      "metadata": {
        "id": "f_efpFNPZfsH"
      }
    },
    {
      "cell_type": "code",
      "source": [
        "from sympy import Symbol, Limit\n",
        "t = Symbol(\"t\")\n",
        "st = 5*t**2 + 2*t + 8\n",
        "\n",
        "t1 = Symbol(\"t1\")\n",
        "delta_t = Symbol(\"delta_t\")\n",
        "st1 = st.subs({t:t1})\n",
        "st1_delta = st.subs({t:t1 + delta_t})"
      ],
      "metadata": {
        "id": "l6kY4rYOGu7p"
      },
      "execution_count": 64,
      "outputs": []
    }
  ]
}
{
  "nbformat": 4,
  "nbformat_minor": 0,
  "metadata": {
    "colab": {
      "name": "Chuong_1.ipynb",
      "provenance": [],
      "collapsed_sections": [],
      "authorship_tag": "ABX9TyOxpwY5X6wDrpTSmZnBq59P",
      "include_colab_link": true
    },
    "kernelspec": {
      "name": "python3",
      "display_name": "Python 3"
    },
    "language_info": {
      "name": "python"
    }
  },
  "cells": [
    {
      "cell_type": "markdown",
      "metadata": {
        "id": "view-in-github",
        "colab_type": "text"
      },
      "source": [
        "<a href=\"https://colab.research.google.com/github/gnasche-2003/thuchanhtoancp/blob/main/Chuong_1.ipynb\" target=\"_parent\"><img src=\"https://colab.research.google.com/assets/colab-badge.svg\" alt=\"Open In Colab\"/></a>"
      ]
    },
    {
      "cell_type": "code",
      "execution_count": 28,
      "metadata": {
        "colab": {
          "base_uri": "https://localhost:8080/",
          "height": 0
        },
        "id": "2KkXbSMi4x1Q",
        "outputId": "d2b1c343-6ebc-43e9-f9e6-283d4abe4adb"
      },
      "outputs": [
        {
          "output_type": "stream",
          "name": "stdout",
          "text": [
            "Hello World!\n"
          ]
        }
      ],
      "source": [
        "print(\"Hello World!\")"
      ]
    },
    {
      "cell_type": "markdown",
      "source": [
        "#Thực hành 1: Hãy viết lệnh tính tổng chuỗi sau\n"
      ],
      "metadata": {
        "id": "DA9r1LMn1gKT"
      }
    },
    {
      "cell_type": "code",
      "source": [
        "blocks = 10000\n",
        "dayS = [1/2**k for k in range(0, blocks)]\n",
        "tongS = sum(dayS)\n",
        "print(tongS)"
      ],
      "metadata": {
        "colab": {
          "base_uri": "https://localhost:8080/",
          "height": 0
        },
        "id": "sF5ttK2pAMHv",
        "outputId": "3e1171dc-6f12-463f-82df-69f2d8927178"
      },
      "execution_count": 29,
      "outputs": [
        {
          "output_type": "stream",
          "name": "stdout",
          "text": [
            "2.0\n"
          ]
        }
      ]
    },
    {
      "cell_type": "markdown",
      "source": [
        "#Thuchanh2: Tính tích phân sau theo định nghĩa\n"
      ],
      "metadata": {
        "id": "y98_i-XdA2fn"
      }
    },
    {
      "cell_type": "code",
      "source": [
        "n = 1000\n",
        "x = [(2 - 0)*k/n for k in range(0, n + 1)]\n",
        "S = 0\n",
        "for k in range(1, n + 1):\n",
        "  S =  S + x[k]**2 * (x[k] - x[k - 1])\n",
        "print(S)"
      ],
      "metadata": {
        "colab": {
          "base_uri": "https://localhost:8080/",
          "height": 0
        },
        "id": "-SckChHEBCsL",
        "outputId": "a78bc157-50e0-41f4-c592-82526818e9a8"
      },
      "execution_count": 30,
      "outputs": [
        {
          "output_type": "stream",
          "name": "stdout",
          "text": [
            "2.6706680000000027\n"
          ]
        }
      ]
    },
    {
      "cell_type": "markdown",
      "source": [
        "#thực hành 3: Thử nghiệm tính toán sau: \n",
        "\n"
      ],
      "metadata": {
        "id": "vkboJiW4LqQj"
      }
    },
    {
      "cell_type": "code",
      "source": [
        "from sympy import *\n",
        "#Rational(1, 2) + Rational(1, 3)\n",
        "a = Rational(1, 2)\n",
        "b = Rational(1, 3)\n",
        "print(a + b)\n",
        "#Rational(1, 2) + 1\n",
        "x = Rational(1, 2)\n",
        "print(x + 1)\n",
        "#Rational(1, 3) + 1 + 1.5\n",
        "y = Rational(1, 3)\n",
        "print(y + 1 + 1.5)"
      ],
      "metadata": {
        "colab": {
          "base_uri": "https://localhost:8080/",
          "height": 0
        },
        "id": "Zjb6upJALvTx",
        "outputId": "fd059013-a33f-483b-ffca-5c5fa195d61b"
      },
      "execution_count": 31,
      "outputs": [
        {
          "output_type": "stream",
          "name": "stdout",
          "text": [
            "5/6\n",
            "3/2\n",
            "2.83333333333333\n"
          ]
        }
      ]
    },
    {
      "cell_type": "markdown",
      "source": [
        "# thực hành 4: Về khai báo biến trong Sympy\n"
      ],
      "metadata": {
        "id": "THPsaUrEQyNV"
      }
    },
    {
      "cell_type": "code",
      "source": [
        "from sympy import *\n",
        "x = Symbol(\"x\")\n",
        "y = Symbol('y')"
      ],
      "metadata": {
        "id": "4OlBzN60Q3EG"
      },
      "execution_count": 32,
      "outputs": []
    },
    {
      "cell_type": "code",
      "source": [
        "x + y + x - y"
      ],
      "metadata": {
        "colab": {
          "base_uri": "https://localhost:8080/",
          "height": 39
        },
        "id": "t79sfD7nRJz4",
        "outputId": "71320ba2-ba1f-492a-d65c-b587a42e0621"
      },
      "execution_count": 33,
      "outputs": [
        {
          "output_type": "execute_result",
          "data": {
            "text/latex": "$\\displaystyle 2 x$",
            "text/plain": [
              "2*x"
            ]
          },
          "metadata": {},
          "execution_count": 33
        }
      ]
    },
    {
      "cell_type": "code",
      "source": [
        "(x + y)**2"
      ],
      "metadata": {
        "colab": {
          "base_uri": "https://localhost:8080/",
          "height": 40
        },
        "id": "rTlxsvxmRevb",
        "outputId": "1b11bea8-15d2-49a5-980e-4f3557b93a38"
      },
      "execution_count": 34,
      "outputs": [
        {
          "output_type": "execute_result",
          "data": {
            "text/latex": "$\\displaystyle \\left(x + y\\right)^{2}$",
            "text/plain": [
              "(x + y)**2"
            ]
          },
          "metadata": {},
          "execution_count": 34
        }
      ]
    },
    {
      "cell_type": "markdown",
      "source": [
        "#thực hành 5a: Tìm các hàm ở mẫu số của biểu thức sau: (1/x) * (1/x-3) "
      ],
      "metadata": {
        "id": "_qjEqsSwM44a"
      }
    },
    {
      "cell_type": "code",
      "source": [
        "from sympy.solvers.solvers import denoms\n",
        "from sympy import *\n",
        "x = Symbol(\"x\")\n",
        "pt = (1/x)*1/(x -3)\n",
        "dd = denoms(pt)\n",
        "print(dd)"
      ],
      "metadata": {
        "colab": {
          "base_uri": "https://localhost:8080/",
          "height": 0
        },
        "id": "omC_biBmM-Hp",
        "outputId": "784c2bd3-ea3f-4dc7-dbf1-283eba2276ea"
      },
      "execution_count": 35,
      "outputs": [
        {
          "output_type": "stream",
          "name": "stdout",
          "text": [
            "{x - 3, x}\n"
          ]
        }
      ]
    },
    {
      "cell_type": "markdown",
      "source": [
        "#thuc hanh 5b: Với f = (1 + 1/x) / (x - 1)\n"
      ],
      "metadata": {
        "id": "L3Rx5bL5PJL2"
      }
    },
    {
      "cell_type": "code",
      "source": [
        "from sympy import *\n",
        "x = Symbol('x')\n",
        "qq = (1+1/x)/(x-1)\n",
        "from sympy.solvers.solvers import denoms\n",
        "loai_tru = set()\n",
        "for d in denoms(qq):\n",
        "  for s in solve(d):\n",
        "    loai_tru.add(s)\n",
        "print(loai_tru)"
      ],
      "metadata": {
        "colab": {
          "base_uri": "https://localhost:8080/",
          "height": 0
        },
        "id": "p1QADhlyPLMd",
        "outputId": "ba385352-03e0-4827-c6fe-ce4ab6becec9"
      },
      "execution_count": 36,
      "outputs": [
        {
          "output_type": "stream",
          "name": "stdout",
          "text": [
            "{0, 1}\n"
          ]
        }
      ]
    },
    {
      "cell_type": "markdown",
      "source": [
        "#Thực hành 6: Lập “giả thuyết” trong Sympy\n"
      ],
      "metadata": {
        "id": "85D_FNh2RugX"
      }
    },
    {
      "cell_type": "code",
      "source": [
        "from sympy import Symbol\n",
        "x = Symbol(\"x\", positive = True)\n",
        "if x + 3 > 0:\n",
        "  print(\"Chắc chắn x + 3 dương!\")\n",
        "else:\n",
        "  print(\"x + 3 chưa chắc là dương\")"
      ],
      "metadata": {
        "colab": {
          "base_uri": "https://localhost:8080/",
          "height": 0
        },
        "id": "od5EcqXU2pIl",
        "outputId": "9cdcde7d-3135-4ed4-8547-8f076c87c813"
      },
      "execution_count": 37,
      "outputs": [
        {
          "output_type": "stream",
          "name": "stdout",
          "text": [
            "Chắc chắn x + 3 dương!\n"
          ]
        }
      ]
    },
    {
      "cell_type": "markdown",
      "source": [
        "# thực hành 7: Xử lý biến trong Sympy\n"
      ],
      "metadata": {
        "id": "-6IV2tC1Y6rK"
      }
    },
    {
      "cell_type": "code",
      "source": [
        "import math\n",
        "math.sin(math.pi/2)"
      ],
      "metadata": {
        "colab": {
          "base_uri": "https://localhost:8080/",
          "height": 0
        },
        "id": "5chOtIu_4XKC",
        "outputId": "1a3cced3-00b6-4fce-9ad9-c0f6010c1285"
      },
      "execution_count": 38,
      "outputs": [
        {
          "output_type": "execute_result",
          "data": {
            "text/plain": [
              "1.0"
            ]
          },
          "metadata": {},
          "execution_count": 38
        }
      ]
    },
    {
      "cell_type": "code",
      "source": [
        "import sympy\n",
        "sympy.sin(math.pi/2)"
      ],
      "metadata": {
        "colab": {
          "base_uri": "https://localhost:8080/",
          "height": 38
        },
        "id": "znHpdVKu4pHN",
        "outputId": "67c25e92-71e8-4e01-abab-0aac20fa7972"
      },
      "execution_count": 39,
      "outputs": [
        {
          "output_type": "execute_result",
          "data": {
            "text/latex": "$\\displaystyle 1.0$",
            "text/plain": [
              "1.00000000000000"
            ]
          },
          "metadata": {},
          "execution_count": 39
        }
      ]
    },
    {
      "cell_type": "code",
      "source": [
        "from sympy import Symbol\n",
        "goc_theta = Symbol(\"theta\")\n",
        "import sympy\n",
        "(2*sympy.sin(goc_theta)*sympy.cos(goc_theta)).equals(sympy.sin(2*goc_theta))"
      ],
      "metadata": {
        "colab": {
          "base_uri": "https://localhost:8080/",
          "height": 0
        },
        "id": "BIJ3B5lI6k-7",
        "outputId": "2059f9b4-8022-4eff-ff47-04972e6d34b3"
      },
      "execution_count": 40,
      "outputs": [
        {
          "output_type": "execute_result",
          "data": {
            "text/plain": [
              "True"
            ]
          },
          "metadata": {},
          "execution_count": 40
        }
      ]
    },
    {
      "cell_type": "code",
      "source": [
        "2*sympy.sin(goc_theta) == sympy.sin(goc_theta) + sympy.sin(goc_theta)"
      ],
      "metadata": {
        "colab": {
          "base_uri": "https://localhost:8080/",
          "height": 0
        },
        "id": "AbaRkuni-aNO",
        "outputId": "1da28dcb-a2fd-4236-f7b5-6604a8ef4531"
      },
      "execution_count": 41,
      "outputs": [
        {
          "output_type": "execute_result",
          "data": {
            "text/plain": [
              "True"
            ]
          },
          "metadata": {},
          "execution_count": 41
        }
      ]
    },
    {
      "cell_type": "markdown",
      "source": [
        "#thực hành 8: Giải phương trình đơn giản bằng sympy\n"
      ],
      "metadata": {
        "id": "fr7wXYl8ZEJA"
      }
    },
    {
      "cell_type": "code",
      "source": [
        "from sympy import sin, Symbol, solve\n",
        "u = Symbol(\"u\")\n",
        "t = Symbol(\"t\")\n",
        "g = Symbol(\"g\")\n",
        "theta = Symbol(\"theta\")\n",
        "solve(u*sin(theta) -g*t, t)"
      ],
      "metadata": {
        "colab": {
          "base_uri": "https://localhost:8080/",
          "height": 0
        },
        "id": "YuClyyg7-1TU",
        "outputId": "dc90658d-c55c-46d5-d0b1-b8107c6cb796"
      },
      "execution_count": 42,
      "outputs": [
        {
          "output_type": "execute_result",
          "data": {
            "text/plain": [
              "[u*sin(theta)/g]"
            ]
          },
          "metadata": {},
          "execution_count": 42
        }
      ]
    },
    {
      "cell_type": "markdown",
      "source": [
        "# thực hành 9: Tìm giới hạn của hàm số bằng Sympy\n"
      ],
      "metadata": {
        "id": "1bWgTkn-ZJ_D"
      }
    },
    {
      "cell_type": "code",
      "source": [
        "from sympy import Symbol, Limit, S\n",
        "x = Symbol('x')\n",
        "limit(1/x, x, S.Infinity)\n",
        "Limit(1/x, x, oo, dir=\"-\")\n",
        "gioihan = Limit(1/x, x, S.Infinity)\n",
        "gioihan.doit()"
      ],
      "metadata": {
        "colab": {
          "base_uri": "https://localhost:8080/",
          "height": 38
        },
        "id": "stCouAbtALyf",
        "outputId": "1227dd17-acbb-4c6a-b412-b3d41afa8681"
      },
      "execution_count": 43,
      "outputs": [
        {
          "output_type": "execute_result",
          "data": {
            "text/latex": "$\\displaystyle 0$",
            "text/plain": [
              "0"
            ]
          },
          "metadata": {},
          "execution_count": 43
        }
      ]
    },
    {
      "cell_type": "markdown",
      "source": [
        "# thực hành 10a: Tính toán giới hạn trái phải\n"
      ],
      "metadata": {
        "id": "olEDV9TAUFOK"
      }
    },
    {
      "cell_type": "code",
      "source": [
        "from sympy import Limit\n",
        "x = Symbol(\"x\")\n",
        "Limit(1/x, x, 0, dir='-').doit()"
      ],
      "metadata": {
        "colab": {
          "base_uri": "https://localhost:8080/",
          "height": 38
        },
        "id": "Wj4SeaYeBQ3M",
        "outputId": "9d7fa635-8cfc-4aa2-c508-02158cd2aa3f"
      },
      "execution_count": 44,
      "outputs": [
        {
          "output_type": "execute_result",
          "data": {
            "text/latex": "$\\displaystyle -\\infty$",
            "text/plain": [
              "-oo"
            ]
          },
          "metadata": {},
          "execution_count": 44
        }
      ]
    },
    {
      "cell_type": "code",
      "source": [
        "Limit(1/x, x, 0, dir=\"+\").doit()"
      ],
      "metadata": {
        "colab": {
          "base_uri": "https://localhost:8080/",
          "height": 38
        },
        "id": "5ytXu5JoBzD7",
        "outputId": "ba8517a4-2eca-4b1b-f5e0-ff80e48c5012"
      },
      "execution_count": 45,
      "outputs": [
        {
          "output_type": "execute_result",
          "data": {
            "text/latex": "$\\displaystyle \\infty$",
            "text/plain": [
              "oo"
            ]
          },
          "metadata": {},
          "execution_count": 45
        }
      ]
    },
    {
      "cell_type": "markdown",
      "source": [
        "# thực hành 10b: Tính toán giới hạn dạng vô cùng/vô cùng\n"
      ],
      "metadata": {
        "id": "oD-MFIUZZPhk"
      }
    },
    {
      "cell_type": "code",
      "source": [
        "from sympy import Limit, sin\n",
        "x = Symbol(\"x\")\n",
        "Limit((sin(x)/x), x, 0).doit()"
      ],
      "metadata": {
        "colab": {
          "base_uri": "https://localhost:8080/",
          "height": 38
        },
        "id": "eI7AJQYTCFfl",
        "outputId": "ae33d150-c239-4a07-811b-ed548400a527"
      },
      "execution_count": 46,
      "outputs": [
        {
          "output_type": "execute_result",
          "data": {
            "text/latex": "$\\displaystyle 1$",
            "text/plain": [
              "1"
            ]
          },
          "metadata": {},
          "execution_count": 46
        }
      ]
    },
    {
      "cell_type": "markdown",
      "source": [
        "#thực hành 11a: Tính giá trị của giới hạn sau khi x tiến đến vô cực:\n"
      ],
      "metadata": {
        "id": "1jBj98u5ZTEr"
      }
    },
    {
      "cell_type": "code",
      "source": [
        "from sympy import Limit, sin , S\n",
        "x = Symbol(\"x\")\n",
        "Limit(x*sin(1/x),x , S.Infinity).doit()"
      ],
      "metadata": {
        "colab": {
          "base_uri": "https://localhost:8080/",
          "height": 38
        },
        "id": "9xig7ur0DcUz",
        "outputId": "17ae1811-bf50-41af-f89d-6f936f2b79a5"
      },
      "execution_count": 47,
      "outputs": [
        {
          "output_type": "execute_result",
          "data": {
            "text/latex": "$\\displaystyle 1$",
            "text/plain": [
              "1"
            ]
          },
          "metadata": {},
          "execution_count": 47
        }
      ]
    },
    {
      "cell_type": "markdown",
      "source": [
        "#Thuc hanh 11b: Tính toán giới hạn"
      ],
      "metadata": {
        "id": "-Gd30ffKZZko"
      }
    },
    {
      "cell_type": "code",
      "source": [
        "from sympy import Limit, sin, S\n",
        "x = Symbol(\"x\")\n",
        "Limit(x*sin(1/x), x, S.Infinity)"
      ],
      "metadata": {
        "colab": {
          "base_uri": "https://localhost:8080/",
          "height": 58
        },
        "id": "XHOxGxKZEP1W",
        "outputId": "db31d23b-fa8f-4cf0-a7ff-fb7b9dd51a83"
      },
      "execution_count": 48,
      "outputs": [
        {
          "output_type": "execute_result",
          "data": {
            "text/latex": "$\\displaystyle \\lim_{x \\to \\infty}\\left(x \\sin{\\left(\\frac{1}{x} \\right)}\\right)$",
            "text/plain": [
              "Limit(x*sin(1/x), x, oo, dir='-')"
            ]
          },
          "metadata": {},
          "execution_count": 48
        }
      ]
    },
    {
      "cell_type": "code",
      "source": [
        "Limit(x*sin(1/x), x, sympy.oo)"
      ],
      "metadata": {
        "colab": {
          "base_uri": "https://localhost:8080/",
          "height": 58
        },
        "id": "iC60HIHME5C1",
        "outputId": "39d59c62-0219-45b8-d64f-6893944da787"
      },
      "execution_count": 49,
      "outputs": [
        {
          "output_type": "execute_result",
          "data": {
            "text/latex": "$\\displaystyle \\lim_{x \\to \\infty}\\left(x \\sin{\\left(\\frac{1}{x} \\right)}\\right)$",
            "text/plain": [
              "Limit(x*sin(1/x), x, oo, dir='-')"
            ]
          },
          "metadata": {},
          "execution_count": 49
        }
      ]
    },
    {
      "cell_type": "code",
      "source": [
        "from sympy import Limit, Symbol, S\n",
        "n = Symbol('n')\n",
        "Limit((1+1/n)**n, n, S.Infinity).doit()"
      ],
      "metadata": {
        "id": "kPemKhUIp4ag",
        "outputId": "5bcf4372-be85-4106-fc04-3837416751e3",
        "colab": {
          "base_uri": "https://localhost:8080/",
          "height": 39
        }
      },
      "execution_count": 50,
      "outputs": [
        {
          "output_type": "execute_result",
          "data": {
            "text/latex": "$\\displaystyle e$",
            "text/plain": [
              "E"
            ]
          },
          "metadata": {},
          "execution_count": 50
        }
      ]
    },
    {
      "cell_type": "markdown",
      "source": [
        "#thực hành 12: Tìm công thức từ giới hạn của hàm số\n"
      ],
      "metadata": {
        "id": "UwTTDE9rZbcn"
      }
    },
    {
      "cell_type": "code",
      "source": [
        "from sympy import Symbol, Limit, S\n",
        "n = Symbol('n', positive = True)\n",
        "p = Symbol('p', positive = True)\n",
        "r = Symbol('r', positive = True)\n",
        "t = Symbol('t', positive = True)\n",
        "Limit(p*(1+r/n)**(n*t), n, S.Infinity).doit()"
      ],
      "metadata": {
        "colab": {
          "base_uri": "https://localhost:8080/",
          "height": 39
        },
        "id": "eab3j-dtKKhC",
        "outputId": "3b8b5751-cdba-4a85-e166-3f4430542617"
      },
      "execution_count": 51,
      "outputs": [
        {
          "output_type": "execute_result",
          "data": {
            "text/latex": "$\\displaystyle p e^{r t}$",
            "text/plain": [
              "p*exp(r*t)"
            ]
          },
          "metadata": {},
          "execution_count": 51
        }
      ]
    },
    {
      "cell_type": "markdown",
      "source": [
        "#thực hành 13: Sử dụng lệnh subs để thay thế\n"
      ],
      "metadata": {
        "id": "f_efpFNPZfsH"
      }
    },
    {
      "cell_type": "code",
      "source": [
        "from sympy import Symbol, Limit\n",
        "t = Symbol(\"t\")\n",
        "st = 5*t**2 + 2*t + 8\n",
        "\n",
        "t1 = Symbol(\"t1\")\n",
        "delta_t = Symbol(\"delta_t\")\n",
        "st1 = st.subs({t:t1})\n",
        "st1_delta = st.subs({t:t1 + delta_t})\n",
        "Limit((st1_delta-st1)/delta_t, delta_t, 0).doit()"
      ],
      "metadata": {
        "id": "l6kY4rYOGu7p",
        "outputId": "5ad846d9-1359-4c44-ee33-272aee7d8497",
        "colab": {
          "base_uri": "https://localhost:8080/",
          "height": 39
        }
      },
      "execution_count": 52,
      "outputs": [
        {
          "output_type": "execute_result",
          "data": {
            "text/latex": "$\\displaystyle 10 t_{1} + 2$",
            "text/plain": [
              "10*t1 + 2"
            ]
          },
          "metadata": {},
          "execution_count": 52
        }
      ]
    }
  ]
}
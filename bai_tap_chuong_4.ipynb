{
  "nbformat": 4,
  "nbformat_minor": 0,
  "metadata": {
    "colab": {
      "name": "bai_tap_chuong_4.ipynb",
      "provenance": [],
      "authorship_tag": "ABX9TyNEgRHohvWAaNJISwlxdgUG",
      "include_colab_link": true
    },
    "kernelspec": {
      "name": "python3",
      "display_name": "Python 3"
    },
    "language_info": {
      "name": "python"
    }
  },
  "cells": [
    {
      "cell_type": "markdown",
      "metadata": {
        "id": "view-in-github",
        "colab_type": "text"
      },
      "source": [
        "<a href=\"https://colab.research.google.com/github/gnasche-2003/thuchanhtoancp/blob/main/bai_tap_chuong_4.ipynb\" target=\"_parent\"><img src=\"https://colab.research.google.com/assets/colab-badge.svg\" alt=\"Open In Colab\"/></a>"
      ]
    },
    {
      "cell_type": "markdown",
      "source": [
        "# bai tap 1: Thực hiện một biểu thức toán học f(x), giới hạn của tích phân x1, x2 Sử dụng sympy.integrate(y, x) để kiểm tra xem nó có giải pháp phân tích/tượng trưng hay không, nếu có thì trả về kết quả bằng cách sử dụng sympy.integrate(y, (x,x1,x2).evalf()) Nếu nó không có giải pháp phân tích sympy thì nó sử dụng scipy.integrate.quad hoặc các hàm số khác để tính tích phân. Với phương pháp này, nó có thể sẽ nhanh hơn và chính xác hơn vì phần lớn các biểu thức toán học tôi đang làm đều có tích phân giải tích."
      ],
      "metadata": {
        "id": "4lfsbUfJttxZ"
      }
    },
    {
      "cell_type": "markdown",
      "source": [
        "# bai tap 2: Trong logic toán học và khoa học máy tính, phép tính lambda (tiếng Anh: lambda calculus): là một hệ thống hình thức dùng trong việc định nghĩa hàm số, ứng dụng hàm số và đệ quy. Phép tính lambda được Alonzo Church đề xuất vào những năm 193x như là một phần của một nghiên cứu về các nền tảng toán học. Hệ thống nguyên thủy đã được chứng minh là xung khắc logic vào năm 1935 khi Stephen Kleene và J. B. Rosser phát triển nghịch lý Kleene–Rosser. Phép tính lambda sau đó đã được phát triển để trở thành một công cụ quan trọng trong việc nghiên cứu các vấn đề lý thuyết tính toán và lý thuyết đệ quy, và hình thành nên nền tảng cơ bản của mô hình lập trình hàm."
      ],
      "metadata": {
        "id": "OZQl0Iqhw6t4"
      }
    }
  ]
}
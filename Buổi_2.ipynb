{
  "nbformat": 4,
  "nbformat_minor": 0,
  "metadata": {
    "colab": {
      "name": "Buổi 2",
      "provenance": [],
      "authorship_tag": "ABX9TyNt6uGUL4AR8iktO2IBQVow",
      "include_colab_link": true
    },
    "kernelspec": {
      "name": "python3",
      "display_name": "Python 3"
    },
    "language_info": {
      "name": "python"
    }
  },
  "cells": [
    {
      "cell_type": "markdown",
      "metadata": {
        "id": "view-in-github",
        "colab_type": "text"
      },
      "source": [
        "<a href=\"https://colab.research.google.com/github/gnasche-2003/thuchanhtoancp/blob/main/Bu%E1%BB%95i_2.ipynb\" target=\"_parent\"><img src=\"https://colab.research.google.com/assets/colab-badge.svg\" alt=\"Open In Colab\"/></a>"
      ]
    },
    {
      "cell_type": "markdown",
      "source": [
        "Thực hành 1\n"
      ],
      "metadata": {
        "id": "ZS1WmAAp7YPb"
      }
    },
    {
      "cell_type": "markdown",
      "source": [
        "Thực hành 2\n"
      ],
      "metadata": {
        "id": "JYxwotGi7bZA"
      }
    },
    {
      "cell_type": "markdown",
      "source": [
        "Thực hành 3"
      ],
      "metadata": {
        "id": "gPkbF7Bt7ble"
      }
    },
    {
      "cell_type": "markdown",
      "source": [
        "Thực hành 4"
      ],
      "metadata": {
        "id": "b0zyIVE97bwf"
      }
    },
    {
      "cell_type": "markdown",
      "source": [
        "Thực hành 5"
      ],
      "metadata": {
        "id": "9ykAG3ZG7b2D"
      }
    },
    {
      "cell_type": "markdown",
      "source": [
        "Thực hành 6"
      ],
      "metadata": {
        "id": "Vw4wVUKa7b70"
      }
    },
    {
      "cell_type": "markdown",
      "source": [
        "Thực hành 7"
      ],
      "metadata": {
        "id": "6E4WL9pz7cBZ"
      }
    },
    {
      "cell_type": "markdown",
      "source": [
        "Thực hành 8"
      ],
      "metadata": {
        "id": "bficuzYg7cHD"
      }
    },
    {
      "cell_type": "markdown",
      "source": [
        "Thực hành 9"
      ],
      "metadata": {
        "id": "pUm38Q_K7cMw"
      }
    },
    {
      "cell_type": "markdown",
      "source": [
        "Thực hành 10"
      ],
      "metadata": {
        "id": "qPtStBCy7cU-"
      }
    },
    {
      "cell_type": "markdown",
      "source": [
        "Thực hành 11"
      ],
      "metadata": {
        "id": "smT2pbgs7zKA"
      }
    }
  ]
}